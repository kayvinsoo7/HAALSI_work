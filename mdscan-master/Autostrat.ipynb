{
 "cells": [
  {
   "cell_type": "code",
   "execution_count": 1,
   "metadata": {},
   "outputs": [],
   "source": [
    "from mdss.ScoringFunctions.Bernoulli import Bernoulli\n",
    "from mdss.MDSS import MDSS\n",
    "\n",
    "import numpy as np\n",
    "import pandas as pd\n",
    "from pandas.api.types import is_numeric_dtype\n",
    "\n",
    "import warnings\n",
    "\n",
    "warnings.filterwarnings('ignore')"
   ]
  },
  {
   "cell_type": "code",
   "execution_count": 2,
   "metadata": {},
   "outputs": [],
   "source": [
    "data = pd.read_csv('../project2_data_21_04_23.csv').drop(columns = \n",
    "       ['Unnamed: 0','study_id']).fillna(-999)\n",
    "# target_cols = ['htn_jnc7_qc', 'diabetes_status_c_qc', 'ckd_c_qc', 'cadiovascular_current']\n",
    "target_cols = ['htn_jnc7_qc', 'diabetes_status_c_qc']"
   ]
  },
  {
   "cell_type": "code",
   "execution_count": 3,
   "metadata": {},
   "outputs": [
    {
     "data": {
      "text/plain": [
       "1    2486\n",
       "3    2003\n",
       "Name: site, dtype: int64"
      ]
     },
     "execution_count": 3,
     "metadata": {},
     "output_type": "execute_result"
    }
   ],
   "source": [
    "data.site.value_counts()"
   ]
  },
  {
   "cell_type": "code",
   "execution_count": 4,
   "metadata": {},
   "outputs": [],
   "source": [
    "numeric_columns = [col for col in data.columns \\\n",
    "                     if (is_numeric_dtype(data[col])) \\\n",
    "                     & (col not in target_cols) \\\n",
    "                     & (data[col].nunique() > 10)]"
   ]
  },
  {
   "cell_type": "code",
   "execution_count": 5,
   "metadata": {},
   "outputs": [
    {
     "name": "stdout",
     "output_type": "stream",
     "text": [
      "Original size:  (1942, 25)\n",
      "Size after removing records with missing targets:  (1942, 25)\n"
     ]
    }
   ],
   "source": [
    "site_id = 3 # 1 - Agincourt, 3 - Nairobi\n",
    "\n",
    "# Choose the relevant site and age group\n",
    "dff = data[(data['site'] == site_id) & (data['age'] <= 60) & (data['age'] >= 40)].fillna(-999)\n",
    "\n",
    "print('Original size: ', dff.shape)\n",
    "dff = dff[(dff[target_cols] != -999).sum(axis = 1) == len(target_cols)].copy()\n",
    "print('Size after removing records with missing targets: ', dff.shape)"
   ]
  },
  {
   "cell_type": "code",
   "execution_count": 6,
   "metadata": {},
   "outputs": [
    {
     "data": {
      "text/plain": [
       "-999.0"
      ]
     },
     "execution_count": 6,
     "metadata": {},
     "output_type": "execute_result"
    }
   ],
   "source": [
    "dff.friedewald_ldl_c_c_qc.min()"
   ]
  },
  {
   "cell_type": "code",
   "execution_count": 7,
   "metadata": {},
   "outputs": [
    {
     "data": {
      "text/plain": [
       "2.883625128733265"
      ]
     },
     "execution_count": 7,
     "metadata": {},
     "output_type": "execute_result"
    }
   ],
   "source": [
    "dff.loc[((data['htn_jnc7_qc'] == 1) & (data['diabetes_status_c_qc'] == 1)) \n",
    "               ].shape[0]/dff.shape[0]*100"
   ]
  },
  {
   "cell_type": "code",
   "execution_count": 29,
   "metadata": {},
   "outputs": [
    {
     "data": {
      "text/plain": [
       "77.89473684210526"
      ]
     },
     "execution_count": 29,
     "metadata": {},
     "output_type": "execute_result"
    }
   ],
   "source": [
    "dff.loc[((data['htn_jnc7_qc'] == 1) & (data['diabetes_status_c_qc'] == 1)) \n",
    "               ].shape[0]/dff.loc[((data['diabetes_status_c_qc'] == 1) )].shape[0]*100"
   ]
  },
  {
   "cell_type": "code",
   "execution_count": 8,
   "metadata": {},
   "outputs": [
    {
     "data": {
      "text/plain": [
       "26.416065911431513"
      ]
     },
     "execution_count": 8,
     "metadata": {},
     "output_type": "execute_result"
    }
   ],
   "source": [
    "dff.loc[((data['htn_jnc7_qc'] == 1) )].shape[0]/dff.shape[0]*100"
   ]
  },
  {
   "cell_type": "code",
   "execution_count": 9,
   "metadata": {},
   "outputs": [
    {
     "data": {
      "text/plain": [
       "6.797116374871266"
      ]
     },
     "execution_count": 9,
     "metadata": {},
     "output_type": "execute_result"
    }
   ],
   "source": [
    "dff.loc[((data['diabetes_status_c_qc'] == 1) )].shape[0]/dff.shape[0]*100"
   ]
  },
  {
   "cell_type": "code",
   "execution_count": 10,
   "metadata": {},
   "outputs": [
    {
     "data": {
      "text/html": [
       "<div>\n",
       "<style scoped>\n",
       "    .dataframe tbody tr th:only-of-type {\n",
       "        vertical-align: middle;\n",
       "    }\n",
       "\n",
       "    .dataframe tbody tr th {\n",
       "        vertical-align: top;\n",
       "    }\n",
       "\n",
       "    .dataframe thead th {\n",
       "        text-align: right;\n",
       "    }\n",
       "</style>\n",
       "<table border=\"1\" class=\"dataframe\">\n",
       "  <thead>\n",
       "    <tr style=\"text-align: right;\">\n",
       "      <th></th>\n",
       "      <th>htn_jnc7_qc</th>\n",
       "      <th>diabetes_status_c_qc</th>\n",
       "      <th>ckd_c_qc</th>\n",
       "      <th>cadiovascular_current</th>\n",
       "      <th>bmi_c_qc</th>\n",
       "      <th>age</th>\n",
       "      <th>cimt_mean_max</th>\n",
       "      <th>cholesterol_1_qc</th>\n",
       "      <th>friedewald_ldl_c_c_qc</th>\n",
       "      <th>hdl_qc</th>\n",
       "      <th>...</th>\n",
       "      <th>site</th>\n",
       "      <th>sex</th>\n",
       "      <th>hiv_final_status_c</th>\n",
       "      <th>highest_level_of_education_qc</th>\n",
       "      <th>partnership_status_c_qc</th>\n",
       "      <th>ses_site_quintile_c_qc</th>\n",
       "      <th>occupation_qc</th>\n",
       "      <th>mvpa_cat_c</th>\n",
       "      <th>alcohol_use_status_c_qc</th>\n",
       "      <th>smoking_status_c_qc</th>\n",
       "    </tr>\n",
       "  </thead>\n",
       "  <tbody>\n",
       "    <tr>\n",
       "      <th>394</th>\n",
       "      <td>1</td>\n",
       "      <td>1</td>\n",
       "      <td>1</td>\n",
       "      <td>0.0</td>\n",
       "      <td>28.21</td>\n",
       "      <td>45</td>\n",
       "      <td>0.660</td>\n",
       "      <td>5.51</td>\n",
       "      <td>3.757273</td>\n",
       "      <td>0.98</td>\n",
       "      <td>...</td>\n",
       "      <td>3</td>\n",
       "      <td>0</td>\n",
       "      <td>0</td>\n",
       "      <td>1</td>\n",
       "      <td>1</td>\n",
       "      <td>2</td>\n",
       "      <td>0</td>\n",
       "      <td>1.0</td>\n",
       "      <td>0</td>\n",
       "      <td>0</td>\n",
       "    </tr>\n",
       "    <tr>\n",
       "      <th>434</th>\n",
       "      <td>1</td>\n",
       "      <td>1</td>\n",
       "      <td>-999</td>\n",
       "      <td>0.0</td>\n",
       "      <td>27.04</td>\n",
       "      <td>49</td>\n",
       "      <td>0.670</td>\n",
       "      <td>3.72</td>\n",
       "      <td>2.533636</td>\n",
       "      <td>0.80</td>\n",
       "      <td>...</td>\n",
       "      <td>3</td>\n",
       "      <td>0</td>\n",
       "      <td>2</td>\n",
       "      <td>1</td>\n",
       "      <td>1</td>\n",
       "      <td>2</td>\n",
       "      <td>3</td>\n",
       "      <td>1.0</td>\n",
       "      <td>0</td>\n",
       "      <td>0</td>\n",
       "    </tr>\n",
       "    <tr>\n",
       "      <th>604</th>\n",
       "      <td>1</td>\n",
       "      <td>1</td>\n",
       "      <td>0</td>\n",
       "      <td>0.0</td>\n",
       "      <td>32.40</td>\n",
       "      <td>52</td>\n",
       "      <td>0.475</td>\n",
       "      <td>6.26</td>\n",
       "      <td>4.510909</td>\n",
       "      <td>1.24</td>\n",
       "      <td>...</td>\n",
       "      <td>3</td>\n",
       "      <td>0</td>\n",
       "      <td>0</td>\n",
       "      <td>1</td>\n",
       "      <td>2</td>\n",
       "      <td>5</td>\n",
       "      <td>0</td>\n",
       "      <td>1.0</td>\n",
       "      <td>3</td>\n",
       "      <td>2</td>\n",
       "    </tr>\n",
       "    <tr>\n",
       "      <th>649</th>\n",
       "      <td>1</td>\n",
       "      <td>1</td>\n",
       "      <td>-999</td>\n",
       "      <td>0.0</td>\n",
       "      <td>25.30</td>\n",
       "      <td>56</td>\n",
       "      <td>0.820</td>\n",
       "      <td>4.67</td>\n",
       "      <td>3.225455</td>\n",
       "      <td>0.64</td>\n",
       "      <td>...</td>\n",
       "      <td>3</td>\n",
       "      <td>1</td>\n",
       "      <td>0</td>\n",
       "      <td>1</td>\n",
       "      <td>1</td>\n",
       "      <td>5</td>\n",
       "      <td>1</td>\n",
       "      <td>1.0</td>\n",
       "      <td>3</td>\n",
       "      <td>2</td>\n",
       "    </tr>\n",
       "    <tr>\n",
       "      <th>796</th>\n",
       "      <td>1</td>\n",
       "      <td>1</td>\n",
       "      <td>0</td>\n",
       "      <td>0.0</td>\n",
       "      <td>23.98</td>\n",
       "      <td>43</td>\n",
       "      <td>0.680</td>\n",
       "      <td>5.00</td>\n",
       "      <td>3.696364</td>\n",
       "      <td>0.94</td>\n",
       "      <td>...</td>\n",
       "      <td>3</td>\n",
       "      <td>1</td>\n",
       "      <td>0</td>\n",
       "      <td>2</td>\n",
       "      <td>1</td>\n",
       "      <td>1</td>\n",
       "      <td>0</td>\n",
       "      <td>1.0</td>\n",
       "      <td>1</td>\n",
       "      <td>2</td>\n",
       "    </tr>\n",
       "    <tr>\n",
       "      <th>828</th>\n",
       "      <td>1</td>\n",
       "      <td>1</td>\n",
       "      <td>1</td>\n",
       "      <td>0.0</td>\n",
       "      <td>24.11</td>\n",
       "      <td>59</td>\n",
       "      <td>0.735</td>\n",
       "      <td>4.83</td>\n",
       "      <td>3.235455</td>\n",
       "      <td>0.89</td>\n",
       "      <td>...</td>\n",
       "      <td>3</td>\n",
       "      <td>1</td>\n",
       "      <td>0</td>\n",
       "      <td>1</td>\n",
       "      <td>1</td>\n",
       "      <td>3</td>\n",
       "      <td>0</td>\n",
       "      <td>1.0</td>\n",
       "      <td>3</td>\n",
       "      <td>2</td>\n",
       "    </tr>\n",
       "    <tr>\n",
       "      <th>849</th>\n",
       "      <td>1</td>\n",
       "      <td>1</td>\n",
       "      <td>0</td>\n",
       "      <td>0.0</td>\n",
       "      <td>32.34</td>\n",
       "      <td>56</td>\n",
       "      <td>0.720</td>\n",
       "      <td>3.27</td>\n",
       "      <td>1.445455</td>\n",
       "      <td>0.82</td>\n",
       "      <td>...</td>\n",
       "      <td>3</td>\n",
       "      <td>0</td>\n",
       "      <td>0</td>\n",
       "      <td>1</td>\n",
       "      <td>2</td>\n",
       "      <td>2</td>\n",
       "      <td>0</td>\n",
       "      <td>1.0</td>\n",
       "      <td>0</td>\n",
       "      <td>0</td>\n",
       "    </tr>\n",
       "    <tr>\n",
       "      <th>954</th>\n",
       "      <td>1</td>\n",
       "      <td>1</td>\n",
       "      <td>0</td>\n",
       "      <td>0.0</td>\n",
       "      <td>29.20</td>\n",
       "      <td>53</td>\n",
       "      <td>0.620</td>\n",
       "      <td>4.30</td>\n",
       "      <td>2.647273</td>\n",
       "      <td>1.18</td>\n",
       "      <td>...</td>\n",
       "      <td>3</td>\n",
       "      <td>0</td>\n",
       "      <td>0</td>\n",
       "      <td>1</td>\n",
       "      <td>2</td>\n",
       "      <td>5</td>\n",
       "      <td>0</td>\n",
       "      <td>1.0</td>\n",
       "      <td>0</td>\n",
       "      <td>0</td>\n",
       "    </tr>\n",
       "    <tr>\n",
       "      <th>1252</th>\n",
       "      <td>1</td>\n",
       "      <td>1</td>\n",
       "      <td>0</td>\n",
       "      <td>1.0</td>\n",
       "      <td>36.06</td>\n",
       "      <td>55</td>\n",
       "      <td>0.855</td>\n",
       "      <td>4.84</td>\n",
       "      <td>3.327273</td>\n",
       "      <td>1.04</td>\n",
       "      <td>...</td>\n",
       "      <td>3</td>\n",
       "      <td>0</td>\n",
       "      <td>0</td>\n",
       "      <td>2</td>\n",
       "      <td>2</td>\n",
       "      <td>3</td>\n",
       "      <td>0</td>\n",
       "      <td>1.0</td>\n",
       "      <td>0</td>\n",
       "      <td>0</td>\n",
       "    </tr>\n",
       "    <tr>\n",
       "      <th>1253</th>\n",
       "      <td>1</td>\n",
       "      <td>1</td>\n",
       "      <td>1</td>\n",
       "      <td>0.0</td>\n",
       "      <td>27.74</td>\n",
       "      <td>44</td>\n",
       "      <td>0.660</td>\n",
       "      <td>4.66</td>\n",
       "      <td>3.064545</td>\n",
       "      <td>1.05</td>\n",
       "      <td>...</td>\n",
       "      <td>3</td>\n",
       "      <td>0</td>\n",
       "      <td>0</td>\n",
       "      <td>1</td>\n",
       "      <td>1</td>\n",
       "      <td>4</td>\n",
       "      <td>0</td>\n",
       "      <td>1.0</td>\n",
       "      <td>0</td>\n",
       "      <td>0</td>\n",
       "    </tr>\n",
       "    <tr>\n",
       "      <th>1311</th>\n",
       "      <td>1</td>\n",
       "      <td>1</td>\n",
       "      <td>1</td>\n",
       "      <td>0.0</td>\n",
       "      <td>29.56</td>\n",
       "      <td>60</td>\n",
       "      <td>0.830</td>\n",
       "      <td>6.57</td>\n",
       "      <td>4.693636</td>\n",
       "      <td>1.19</td>\n",
       "      <td>...</td>\n",
       "      <td>3</td>\n",
       "      <td>0</td>\n",
       "      <td>0</td>\n",
       "      <td>2</td>\n",
       "      <td>1</td>\n",
       "      <td>2</td>\n",
       "      <td>0</td>\n",
       "      <td>1.0</td>\n",
       "      <td>0</td>\n",
       "      <td>0</td>\n",
       "    </tr>\n",
       "    <tr>\n",
       "      <th>1327</th>\n",
       "      <td>1</td>\n",
       "      <td>1</td>\n",
       "      <td>0</td>\n",
       "      <td>0.0</td>\n",
       "      <td>28.59</td>\n",
       "      <td>51</td>\n",
       "      <td>0.720</td>\n",
       "      <td>4.25</td>\n",
       "      <td>2.927273</td>\n",
       "      <td>1.00</td>\n",
       "      <td>...</td>\n",
       "      <td>3</td>\n",
       "      <td>0</td>\n",
       "      <td>0</td>\n",
       "      <td>2</td>\n",
       "      <td>0</td>\n",
       "      <td>3</td>\n",
       "      <td>0</td>\n",
       "      <td>0.0</td>\n",
       "      <td>0</td>\n",
       "      <td>0</td>\n",
       "    </tr>\n",
       "    <tr>\n",
       "      <th>1342</th>\n",
       "      <td>1</td>\n",
       "      <td>1</td>\n",
       "      <td>0</td>\n",
       "      <td>0.0</td>\n",
       "      <td>19.29</td>\n",
       "      <td>42</td>\n",
       "      <td>0.640</td>\n",
       "      <td>4.61</td>\n",
       "      <td>1.769091</td>\n",
       "      <td>2.50</td>\n",
       "      <td>...</td>\n",
       "      <td>3</td>\n",
       "      <td>1</td>\n",
       "      <td>0</td>\n",
       "      <td>2</td>\n",
       "      <td>1</td>\n",
       "      <td>1</td>\n",
       "      <td>3</td>\n",
       "      <td>1.0</td>\n",
       "      <td>1</td>\n",
       "      <td>1</td>\n",
       "    </tr>\n",
       "    <tr>\n",
       "      <th>1493</th>\n",
       "      <td>1</td>\n",
       "      <td>1</td>\n",
       "      <td>0</td>\n",
       "      <td>0.0</td>\n",
       "      <td>32.83</td>\n",
       "      <td>58</td>\n",
       "      <td>0.915</td>\n",
       "      <td>5.26</td>\n",
       "      <td>3.067273</td>\n",
       "      <td>1.42</td>\n",
       "      <td>...</td>\n",
       "      <td>3</td>\n",
       "      <td>0</td>\n",
       "      <td>0</td>\n",
       "      <td>1</td>\n",
       "      <td>2</td>\n",
       "      <td>2</td>\n",
       "      <td>0</td>\n",
       "      <td>1.0</td>\n",
       "      <td>0</td>\n",
       "      <td>0</td>\n",
       "    </tr>\n",
       "    <tr>\n",
       "      <th>1504</th>\n",
       "      <td>1</td>\n",
       "      <td>1</td>\n",
       "      <td>0</td>\n",
       "      <td>0.0</td>\n",
       "      <td>35.99</td>\n",
       "      <td>53</td>\n",
       "      <td>0.660</td>\n",
       "      <td>4.29</td>\n",
       "      <td>1.969091</td>\n",
       "      <td>1.68</td>\n",
       "      <td>...</td>\n",
       "      <td>3</td>\n",
       "      <td>1</td>\n",
       "      <td>0</td>\n",
       "      <td>2</td>\n",
       "      <td>2</td>\n",
       "      <td>4</td>\n",
       "      <td>1</td>\n",
       "      <td>1.0</td>\n",
       "      <td>1</td>\n",
       "      <td>1</td>\n",
       "    </tr>\n",
       "    <tr>\n",
       "      <th>1555</th>\n",
       "      <td>1</td>\n",
       "      <td>1</td>\n",
       "      <td>-999</td>\n",
       "      <td>0.0</td>\n",
       "      <td>26.08</td>\n",
       "      <td>45</td>\n",
       "      <td>0.675</td>\n",
       "      <td>4.20</td>\n",
       "      <td>2.970909</td>\n",
       "      <td>0.92</td>\n",
       "      <td>...</td>\n",
       "      <td>3</td>\n",
       "      <td>1</td>\n",
       "      <td>0</td>\n",
       "      <td>3</td>\n",
       "      <td>1</td>\n",
       "      <td>5</td>\n",
       "      <td>0</td>\n",
       "      <td>1.0</td>\n",
       "      <td>0</td>\n",
       "      <td>0</td>\n",
       "    </tr>\n",
       "    <tr>\n",
       "      <th>2009</th>\n",
       "      <td>1</td>\n",
       "      <td>1</td>\n",
       "      <td>1</td>\n",
       "      <td>0.0</td>\n",
       "      <td>22.63</td>\n",
       "      <td>58</td>\n",
       "      <td>1.255</td>\n",
       "      <td>7.78</td>\n",
       "      <td>5.865455</td>\n",
       "      <td>1.26</td>\n",
       "      <td>...</td>\n",
       "      <td>3</td>\n",
       "      <td>0</td>\n",
       "      <td>0</td>\n",
       "      <td>2</td>\n",
       "      <td>2</td>\n",
       "      <td>1</td>\n",
       "      <td>0</td>\n",
       "      <td>1.0</td>\n",
       "      <td>0</td>\n",
       "      <td>0</td>\n",
       "    </tr>\n",
       "    <tr>\n",
       "      <th>2146</th>\n",
       "      <td>1</td>\n",
       "      <td>1</td>\n",
       "      <td>0</td>\n",
       "      <td>0.0</td>\n",
       "      <td>26.71</td>\n",
       "      <td>47</td>\n",
       "      <td>0.540</td>\n",
       "      <td>4.34</td>\n",
       "      <td>1.263636</td>\n",
       "      <td>2.44</td>\n",
       "      <td>...</td>\n",
       "      <td>3</td>\n",
       "      <td>0</td>\n",
       "      <td>0</td>\n",
       "      <td>1</td>\n",
       "      <td>1</td>\n",
       "      <td>5</td>\n",
       "      <td>4</td>\n",
       "      <td>1.0</td>\n",
       "      <td>3</td>\n",
       "      <td>0</td>\n",
       "    </tr>\n",
       "    <tr>\n",
       "      <th>2191</th>\n",
       "      <td>1</td>\n",
       "      <td>1</td>\n",
       "      <td>0</td>\n",
       "      <td>0.0</td>\n",
       "      <td>23.18</td>\n",
       "      <td>52</td>\n",
       "      <td>0.675</td>\n",
       "      <td>3.11</td>\n",
       "      <td>1.736364</td>\n",
       "      <td>0.51</td>\n",
       "      <td>...</td>\n",
       "      <td>3</td>\n",
       "      <td>1</td>\n",
       "      <td>0</td>\n",
       "      <td>2</td>\n",
       "      <td>1</td>\n",
       "      <td>2</td>\n",
       "      <td>1</td>\n",
       "      <td>0.0</td>\n",
       "      <td>0</td>\n",
       "      <td>0</td>\n",
       "    </tr>\n",
       "    <tr>\n",
       "      <th>2230</th>\n",
       "      <td>1</td>\n",
       "      <td>1</td>\n",
       "      <td>1</td>\n",
       "      <td>0.0</td>\n",
       "      <td>25.51</td>\n",
       "      <td>44</td>\n",
       "      <td>0.750</td>\n",
       "      <td>4.31</td>\n",
       "      <td>2.070909</td>\n",
       "      <td>0.78</td>\n",
       "      <td>...</td>\n",
       "      <td>3</td>\n",
       "      <td>0</td>\n",
       "      <td>1</td>\n",
       "      <td>1</td>\n",
       "      <td>2</td>\n",
       "      <td>2</td>\n",
       "      <td>3</td>\n",
       "      <td>1.0</td>\n",
       "      <td>3</td>\n",
       "      <td>0</td>\n",
       "    </tr>\n",
       "    <tr>\n",
       "      <th>2265</th>\n",
       "      <td>1</td>\n",
       "      <td>1</td>\n",
       "      <td>0</td>\n",
       "      <td>0.0</td>\n",
       "      <td>28.50</td>\n",
       "      <td>52</td>\n",
       "      <td>0.600</td>\n",
       "      <td>5.86</td>\n",
       "      <td>3.852727</td>\n",
       "      <td>1.18</td>\n",
       "      <td>...</td>\n",
       "      <td>3</td>\n",
       "      <td>0</td>\n",
       "      <td>0</td>\n",
       "      <td>2</td>\n",
       "      <td>1</td>\n",
       "      <td>3</td>\n",
       "      <td>0</td>\n",
       "      <td>1.0</td>\n",
       "      <td>0</td>\n",
       "      <td>0</td>\n",
       "    </tr>\n",
       "    <tr>\n",
       "      <th>2340</th>\n",
       "      <td>1</td>\n",
       "      <td>1</td>\n",
       "      <td>0</td>\n",
       "      <td>0.0</td>\n",
       "      <td>25.62</td>\n",
       "      <td>58</td>\n",
       "      <td>0.510</td>\n",
       "      <td>6.63</td>\n",
       "      <td>-999.000000</td>\n",
       "      <td>0.81</td>\n",
       "      <td>...</td>\n",
       "      <td>3</td>\n",
       "      <td>1</td>\n",
       "      <td>0</td>\n",
       "      <td>2</td>\n",
       "      <td>1</td>\n",
       "      <td>4</td>\n",
       "      <td>1</td>\n",
       "      <td>1.0</td>\n",
       "      <td>0</td>\n",
       "      <td>0</td>\n",
       "    </tr>\n",
       "    <tr>\n",
       "      <th>2477</th>\n",
       "      <td>1</td>\n",
       "      <td>1</td>\n",
       "      <td>0</td>\n",
       "      <td>0.0</td>\n",
       "      <td>26.61</td>\n",
       "      <td>49</td>\n",
       "      <td>0.740</td>\n",
       "      <td>4.29</td>\n",
       "      <td>2.769091</td>\n",
       "      <td>0.88</td>\n",
       "      <td>...</td>\n",
       "      <td>3</td>\n",
       "      <td>1</td>\n",
       "      <td>0</td>\n",
       "      <td>1</td>\n",
       "      <td>1</td>\n",
       "      <td>4</td>\n",
       "      <td>0</td>\n",
       "      <td>1.0</td>\n",
       "      <td>3</td>\n",
       "      <td>2</td>\n",
       "    </tr>\n",
       "    <tr>\n",
       "      <th>2532</th>\n",
       "      <td>1</td>\n",
       "      <td>1</td>\n",
       "      <td>-999</td>\n",
       "      <td>0.0</td>\n",
       "      <td>34.56</td>\n",
       "      <td>60</td>\n",
       "      <td>0.575</td>\n",
       "      <td>3.79</td>\n",
       "      <td>1.448182</td>\n",
       "      <td>1.56</td>\n",
       "      <td>...</td>\n",
       "      <td>3</td>\n",
       "      <td>0</td>\n",
       "      <td>0</td>\n",
       "      <td>0</td>\n",
       "      <td>2</td>\n",
       "      <td>1</td>\n",
       "      <td>0</td>\n",
       "      <td>1.0</td>\n",
       "      <td>0</td>\n",
       "      <td>0</td>\n",
       "    </tr>\n",
       "    <tr>\n",
       "      <th>2633</th>\n",
       "      <td>1</td>\n",
       "      <td>1</td>\n",
       "      <td>1</td>\n",
       "      <td>0.0</td>\n",
       "      <td>23.31</td>\n",
       "      <td>59</td>\n",
       "      <td>0.900</td>\n",
       "      <td>3.27</td>\n",
       "      <td>1.690000</td>\n",
       "      <td>1.38</td>\n",
       "      <td>...</td>\n",
       "      <td>3</td>\n",
       "      <td>1</td>\n",
       "      <td>0</td>\n",
       "      <td>2</td>\n",
       "      <td>2</td>\n",
       "      <td>2</td>\n",
       "      <td>4</td>\n",
       "      <td>1.0</td>\n",
       "      <td>0</td>\n",
       "      <td>2</td>\n",
       "    </tr>\n",
       "    <tr>\n",
       "      <th>2651</th>\n",
       "      <td>1</td>\n",
       "      <td>1</td>\n",
       "      <td>0</td>\n",
       "      <td>0.0</td>\n",
       "      <td>30.38</td>\n",
       "      <td>57</td>\n",
       "      <td>0.740</td>\n",
       "      <td>4.12</td>\n",
       "      <td>2.657273</td>\n",
       "      <td>0.94</td>\n",
       "      <td>...</td>\n",
       "      <td>3</td>\n",
       "      <td>1</td>\n",
       "      <td>0</td>\n",
       "      <td>1</td>\n",
       "      <td>1</td>\n",
       "      <td>4</td>\n",
       "      <td>1</td>\n",
       "      <td>1.0</td>\n",
       "      <td>3</td>\n",
       "      <td>2</td>\n",
       "    </tr>\n",
       "    <tr>\n",
       "      <th>2733</th>\n",
       "      <td>1</td>\n",
       "      <td>1</td>\n",
       "      <td>1</td>\n",
       "      <td>0.0</td>\n",
       "      <td>48.24</td>\n",
       "      <td>51</td>\n",
       "      <td>0.710</td>\n",
       "      <td>3.40</td>\n",
       "      <td>1.537273</td>\n",
       "      <td>0.89</td>\n",
       "      <td>...</td>\n",
       "      <td>3</td>\n",
       "      <td>0</td>\n",
       "      <td>0</td>\n",
       "      <td>2</td>\n",
       "      <td>2</td>\n",
       "      <td>2</td>\n",
       "      <td>0</td>\n",
       "      <td>1.0</td>\n",
       "      <td>3</td>\n",
       "      <td>0</td>\n",
       "    </tr>\n",
       "    <tr>\n",
       "      <th>2891</th>\n",
       "      <td>1</td>\n",
       "      <td>1</td>\n",
       "      <td>1</td>\n",
       "      <td>0.0</td>\n",
       "      <td>17.83</td>\n",
       "      <td>47</td>\n",
       "      <td>0.720</td>\n",
       "      <td>5.63</td>\n",
       "      <td>2.482727</td>\n",
       "      <td>2.62</td>\n",
       "      <td>...</td>\n",
       "      <td>3</td>\n",
       "      <td>0</td>\n",
       "      <td>0</td>\n",
       "      <td>1</td>\n",
       "      <td>1</td>\n",
       "      <td>1</td>\n",
       "      <td>3</td>\n",
       "      <td>1.0</td>\n",
       "      <td>1</td>\n",
       "      <td>1</td>\n",
       "    </tr>\n",
       "    <tr>\n",
       "      <th>2914</th>\n",
       "      <td>1</td>\n",
       "      <td>1</td>\n",
       "      <td>0</td>\n",
       "      <td>0.0</td>\n",
       "      <td>62.80</td>\n",
       "      <td>44</td>\n",
       "      <td>0.840</td>\n",
       "      <td>4.23</td>\n",
       "      <td>2.466364</td>\n",
       "      <td>0.95</td>\n",
       "      <td>...</td>\n",
       "      <td>3</td>\n",
       "      <td>0</td>\n",
       "      <td>0</td>\n",
       "      <td>1</td>\n",
       "      <td>2</td>\n",
       "      <td>3</td>\n",
       "      <td>0</td>\n",
       "      <td>1.0</td>\n",
       "      <td>0</td>\n",
       "      <td>0</td>\n",
       "    </tr>\n",
       "    <tr>\n",
       "      <th>2984</th>\n",
       "      <td>1</td>\n",
       "      <td>1</td>\n",
       "      <td>0</td>\n",
       "      <td>0.0</td>\n",
       "      <td>31.60</td>\n",
       "      <td>45</td>\n",
       "      <td>0.735</td>\n",
       "      <td>5.80</td>\n",
       "      <td>4.100000</td>\n",
       "      <td>0.95</td>\n",
       "      <td>...</td>\n",
       "      <td>3</td>\n",
       "      <td>0</td>\n",
       "      <td>0</td>\n",
       "      <td>2</td>\n",
       "      <td>2</td>\n",
       "      <td>2</td>\n",
       "      <td>4</td>\n",
       "      <td>0.0</td>\n",
       "      <td>1</td>\n",
       "      <td>2</td>\n",
       "    </tr>\n",
       "    <tr>\n",
       "      <th>2987</th>\n",
       "      <td>1</td>\n",
       "      <td>1</td>\n",
       "      <td>1</td>\n",
       "      <td>1.0</td>\n",
       "      <td>21.71</td>\n",
       "      <td>50</td>\n",
       "      <td>1.050</td>\n",
       "      <td>4.79</td>\n",
       "      <td>3.207273</td>\n",
       "      <td>1.16</td>\n",
       "      <td>...</td>\n",
       "      <td>3</td>\n",
       "      <td>0</td>\n",
       "      <td>0</td>\n",
       "      <td>1</td>\n",
       "      <td>2</td>\n",
       "      <td>2</td>\n",
       "      <td>4</td>\n",
       "      <td>0.0</td>\n",
       "      <td>0</td>\n",
       "      <td>0</td>\n",
       "    </tr>\n",
       "    <tr>\n",
       "      <th>3093</th>\n",
       "      <td>1</td>\n",
       "      <td>1</td>\n",
       "      <td>0</td>\n",
       "      <td>0.0</td>\n",
       "      <td>31.48</td>\n",
       "      <td>56</td>\n",
       "      <td>0.740</td>\n",
       "      <td>3.81</td>\n",
       "      <td>2.096364</td>\n",
       "      <td>0.80</td>\n",
       "      <td>...</td>\n",
       "      <td>3</td>\n",
       "      <td>0</td>\n",
       "      <td>0</td>\n",
       "      <td>1</td>\n",
       "      <td>2</td>\n",
       "      <td>1</td>\n",
       "      <td>3</td>\n",
       "      <td>1.0</td>\n",
       "      <td>0</td>\n",
       "      <td>0</td>\n",
       "    </tr>\n",
       "    <tr>\n",
       "      <th>3122</th>\n",
       "      <td>1</td>\n",
       "      <td>1</td>\n",
       "      <td>1</td>\n",
       "      <td>0.0</td>\n",
       "      <td>24.94</td>\n",
       "      <td>45</td>\n",
       "      <td>0.660</td>\n",
       "      <td>5.77</td>\n",
       "      <td>3.403636</td>\n",
       "      <td>1.48</td>\n",
       "      <td>...</td>\n",
       "      <td>3</td>\n",
       "      <td>1</td>\n",
       "      <td>0</td>\n",
       "      <td>2</td>\n",
       "      <td>1</td>\n",
       "      <td>4</td>\n",
       "      <td>0</td>\n",
       "      <td>1.0</td>\n",
       "      <td>3</td>\n",
       "      <td>2</td>\n",
       "    </tr>\n",
       "    <tr>\n",
       "      <th>3269</th>\n",
       "      <td>1</td>\n",
       "      <td>1</td>\n",
       "      <td>1</td>\n",
       "      <td>0.0</td>\n",
       "      <td>27.41</td>\n",
       "      <td>50</td>\n",
       "      <td>0.820</td>\n",
       "      <td>4.39</td>\n",
       "      <td>3.005455</td>\n",
       "      <td>0.83</td>\n",
       "      <td>...</td>\n",
       "      <td>3</td>\n",
       "      <td>0</td>\n",
       "      <td>0</td>\n",
       "      <td>1</td>\n",
       "      <td>2</td>\n",
       "      <td>4</td>\n",
       "      <td>0</td>\n",
       "      <td>1.0</td>\n",
       "      <td>0</td>\n",
       "      <td>0</td>\n",
       "    </tr>\n",
       "    <tr>\n",
       "      <th>3282</th>\n",
       "      <td>1</td>\n",
       "      <td>1</td>\n",
       "      <td>0</td>\n",
       "      <td>0.0</td>\n",
       "      <td>36.48</td>\n",
       "      <td>50</td>\n",
       "      <td>0.755</td>\n",
       "      <td>3.22</td>\n",
       "      <td>1.591818</td>\n",
       "      <td>1.16</td>\n",
       "      <td>...</td>\n",
       "      <td>3</td>\n",
       "      <td>0</td>\n",
       "      <td>0</td>\n",
       "      <td>1</td>\n",
       "      <td>2</td>\n",
       "      <td>4</td>\n",
       "      <td>3</td>\n",
       "      <td>1.0</td>\n",
       "      <td>0</td>\n",
       "      <td>0</td>\n",
       "    </tr>\n",
       "    <tr>\n",
       "      <th>3318</th>\n",
       "      <td>1</td>\n",
       "      <td>1</td>\n",
       "      <td>1</td>\n",
       "      <td>0.0</td>\n",
       "      <td>29.99</td>\n",
       "      <td>50</td>\n",
       "      <td>0.640</td>\n",
       "      <td>2.90</td>\n",
       "      <td>1.716364</td>\n",
       "      <td>0.82</td>\n",
       "      <td>...</td>\n",
       "      <td>3</td>\n",
       "      <td>0</td>\n",
       "      <td>0</td>\n",
       "      <td>2</td>\n",
       "      <td>2</td>\n",
       "      <td>4</td>\n",
       "      <td>0</td>\n",
       "      <td>1.0</td>\n",
       "      <td>0</td>\n",
       "      <td>0</td>\n",
       "    </tr>\n",
       "    <tr>\n",
       "      <th>3323</th>\n",
       "      <td>1</td>\n",
       "      <td>1</td>\n",
       "      <td>0</td>\n",
       "      <td>1.0</td>\n",
       "      <td>32.95</td>\n",
       "      <td>52</td>\n",
       "      <td>0.640</td>\n",
       "      <td>5.20</td>\n",
       "      <td>3.175455</td>\n",
       "      <td>1.22</td>\n",
       "      <td>...</td>\n",
       "      <td>3</td>\n",
       "      <td>0</td>\n",
       "      <td>0</td>\n",
       "      <td>0</td>\n",
       "      <td>2</td>\n",
       "      <td>4</td>\n",
       "      <td>0</td>\n",
       "      <td>1.0</td>\n",
       "      <td>0</td>\n",
       "      <td>0</td>\n",
       "    </tr>\n",
       "    <tr>\n",
       "      <th>3464</th>\n",
       "      <td>1</td>\n",
       "      <td>1</td>\n",
       "      <td>-999</td>\n",
       "      <td>0.0</td>\n",
       "      <td>40.23</td>\n",
       "      <td>58</td>\n",
       "      <td>0.750</td>\n",
       "      <td>6.42</td>\n",
       "      <td>4.875455</td>\n",
       "      <td>0.99</td>\n",
       "      <td>...</td>\n",
       "      <td>3</td>\n",
       "      <td>0</td>\n",
       "      <td>0</td>\n",
       "      <td>1</td>\n",
       "      <td>1</td>\n",
       "      <td>2</td>\n",
       "      <td>0</td>\n",
       "      <td>1.0</td>\n",
       "      <td>3</td>\n",
       "      <td>0</td>\n",
       "    </tr>\n",
       "    <tr>\n",
       "      <th>3485</th>\n",
       "      <td>1</td>\n",
       "      <td>1</td>\n",
       "      <td>0</td>\n",
       "      <td>0.0</td>\n",
       "      <td>31.88</td>\n",
       "      <td>44</td>\n",
       "      <td>0.540</td>\n",
       "      <td>4.22</td>\n",
       "      <td>2.455455</td>\n",
       "      <td>1.16</td>\n",
       "      <td>...</td>\n",
       "      <td>3</td>\n",
       "      <td>0</td>\n",
       "      <td>0</td>\n",
       "      <td>2</td>\n",
       "      <td>0</td>\n",
       "      <td>5</td>\n",
       "      <td>0</td>\n",
       "      <td>1.0</td>\n",
       "      <td>0</td>\n",
       "      <td>0</td>\n",
       "    </tr>\n",
       "    <tr>\n",
       "      <th>3513</th>\n",
       "      <td>1</td>\n",
       "      <td>1</td>\n",
       "      <td>-999</td>\n",
       "      <td>1.0</td>\n",
       "      <td>35.48</td>\n",
       "      <td>46</td>\n",
       "      <td>0.520</td>\n",
       "      <td>3.14</td>\n",
       "      <td>1.464545</td>\n",
       "      <td>1.33</td>\n",
       "      <td>...</td>\n",
       "      <td>3</td>\n",
       "      <td>0</td>\n",
       "      <td>0</td>\n",
       "      <td>1</td>\n",
       "      <td>2</td>\n",
       "      <td>4</td>\n",
       "      <td>1</td>\n",
       "      <td>1.0</td>\n",
       "      <td>0</td>\n",
       "      <td>0</td>\n",
       "    </tr>\n",
       "    <tr>\n",
       "      <th>3567</th>\n",
       "      <td>1</td>\n",
       "      <td>1</td>\n",
       "      <td>0</td>\n",
       "      <td>0.0</td>\n",
       "      <td>29.28</td>\n",
       "      <td>55</td>\n",
       "      <td>0.675</td>\n",
       "      <td>6.11</td>\n",
       "      <td>-999.000000</td>\n",
       "      <td>1.05</td>\n",
       "      <td>...</td>\n",
       "      <td>3</td>\n",
       "      <td>0</td>\n",
       "      <td>1</td>\n",
       "      <td>2</td>\n",
       "      <td>2</td>\n",
       "      <td>5</td>\n",
       "      <td>1</td>\n",
       "      <td>1.0</td>\n",
       "      <td>3</td>\n",
       "      <td>0</td>\n",
       "    </tr>\n",
       "    <tr>\n",
       "      <th>3603</th>\n",
       "      <td>1</td>\n",
       "      <td>1</td>\n",
       "      <td>1</td>\n",
       "      <td>0.0</td>\n",
       "      <td>30.14</td>\n",
       "      <td>55</td>\n",
       "      <td>0.720</td>\n",
       "      <td>4.61</td>\n",
       "      <td>2.756364</td>\n",
       "      <td>1.04</td>\n",
       "      <td>...</td>\n",
       "      <td>3</td>\n",
       "      <td>0</td>\n",
       "      <td>0</td>\n",
       "      <td>2</td>\n",
       "      <td>1</td>\n",
       "      <td>5</td>\n",
       "      <td>0</td>\n",
       "      <td>1.0</td>\n",
       "      <td>0</td>\n",
       "      <td>0</td>\n",
       "    </tr>\n",
       "    <tr>\n",
       "      <th>3631</th>\n",
       "      <td>1</td>\n",
       "      <td>1</td>\n",
       "      <td>0</td>\n",
       "      <td>0.0</td>\n",
       "      <td>28.66</td>\n",
       "      <td>55</td>\n",
       "      <td>0.830</td>\n",
       "      <td>4.10</td>\n",
       "      <td>2.411818</td>\n",
       "      <td>1.27</td>\n",
       "      <td>...</td>\n",
       "      <td>3</td>\n",
       "      <td>0</td>\n",
       "      <td>0</td>\n",
       "      <td>1</td>\n",
       "      <td>2</td>\n",
       "      <td>5</td>\n",
       "      <td>0</td>\n",
       "      <td>1.0</td>\n",
       "      <td>0</td>\n",
       "      <td>0</td>\n",
       "    </tr>\n",
       "    <tr>\n",
       "      <th>3668</th>\n",
       "      <td>1</td>\n",
       "      <td>1</td>\n",
       "      <td>0</td>\n",
       "      <td>0.0</td>\n",
       "      <td>32.82</td>\n",
       "      <td>55</td>\n",
       "      <td>0.740</td>\n",
       "      <td>5.25</td>\n",
       "      <td>3.423636</td>\n",
       "      <td>0.94</td>\n",
       "      <td>...</td>\n",
       "      <td>3</td>\n",
       "      <td>0</td>\n",
       "      <td>0</td>\n",
       "      <td>1</td>\n",
       "      <td>1</td>\n",
       "      <td>5</td>\n",
       "      <td>4</td>\n",
       "      <td>1.0</td>\n",
       "      <td>0</td>\n",
       "      <td>0</td>\n",
       "    </tr>\n",
       "    <tr>\n",
       "      <th>3724</th>\n",
       "      <td>1</td>\n",
       "      <td>1</td>\n",
       "      <td>1</td>\n",
       "      <td>0.0</td>\n",
       "      <td>27.11</td>\n",
       "      <td>56</td>\n",
       "      <td>0.720</td>\n",
       "      <td>4.47</td>\n",
       "      <td>2.543636</td>\n",
       "      <td>1.39</td>\n",
       "      <td>...</td>\n",
       "      <td>3</td>\n",
       "      <td>0</td>\n",
       "      <td>0</td>\n",
       "      <td>1</td>\n",
       "      <td>2</td>\n",
       "      <td>5</td>\n",
       "      <td>0</td>\n",
       "      <td>0.0</td>\n",
       "      <td>0</td>\n",
       "      <td>0</td>\n",
       "    </tr>\n",
       "    <tr>\n",
       "      <th>3758</th>\n",
       "      <td>1</td>\n",
       "      <td>1</td>\n",
       "      <td>0</td>\n",
       "      <td>0.0</td>\n",
       "      <td>22.62</td>\n",
       "      <td>59</td>\n",
       "      <td>0.705</td>\n",
       "      <td>4.55</td>\n",
       "      <td>2.454545</td>\n",
       "      <td>1.15</td>\n",
       "      <td>...</td>\n",
       "      <td>3</td>\n",
       "      <td>0</td>\n",
       "      <td>0</td>\n",
       "      <td>1</td>\n",
       "      <td>1</td>\n",
       "      <td>1</td>\n",
       "      <td>4</td>\n",
       "      <td>1.0</td>\n",
       "      <td>3</td>\n",
       "      <td>0</td>\n",
       "    </tr>\n",
       "    <tr>\n",
       "      <th>4042</th>\n",
       "      <td>1</td>\n",
       "      <td>1</td>\n",
       "      <td>1</td>\n",
       "      <td>0.0</td>\n",
       "      <td>24.42</td>\n",
       "      <td>56</td>\n",
       "      <td>0.920</td>\n",
       "      <td>3.74</td>\n",
       "      <td>1.957273</td>\n",
       "      <td>0.96</td>\n",
       "      <td>...</td>\n",
       "      <td>3</td>\n",
       "      <td>0</td>\n",
       "      <td>1</td>\n",
       "      <td>1</td>\n",
       "      <td>2</td>\n",
       "      <td>5</td>\n",
       "      <td>0</td>\n",
       "      <td>1.0</td>\n",
       "      <td>3</td>\n",
       "      <td>0</td>\n",
       "    </tr>\n",
       "    <tr>\n",
       "      <th>4048</th>\n",
       "      <td>1</td>\n",
       "      <td>1</td>\n",
       "      <td>0</td>\n",
       "      <td>0.0</td>\n",
       "      <td>34.19</td>\n",
       "      <td>42</td>\n",
       "      <td>0.990</td>\n",
       "      <td>4.94</td>\n",
       "      <td>3.041818</td>\n",
       "      <td>1.18</td>\n",
       "      <td>...</td>\n",
       "      <td>3</td>\n",
       "      <td>0</td>\n",
       "      <td>0</td>\n",
       "      <td>1</td>\n",
       "      <td>2</td>\n",
       "      <td>2</td>\n",
       "      <td>3</td>\n",
       "      <td>1.0</td>\n",
       "      <td>3</td>\n",
       "      <td>0</td>\n",
       "    </tr>\n",
       "    <tr>\n",
       "      <th>4053</th>\n",
       "      <td>1</td>\n",
       "      <td>1</td>\n",
       "      <td>0</td>\n",
       "      <td>0.0</td>\n",
       "      <td>29.02</td>\n",
       "      <td>55</td>\n",
       "      <td>0.660</td>\n",
       "      <td>5.26</td>\n",
       "      <td>3.157273</td>\n",
       "      <td>1.28</td>\n",
       "      <td>...</td>\n",
       "      <td>3</td>\n",
       "      <td>0</td>\n",
       "      <td>0</td>\n",
       "      <td>1</td>\n",
       "      <td>2</td>\n",
       "      <td>3</td>\n",
       "      <td>4</td>\n",
       "      <td>1.0</td>\n",
       "      <td>0</td>\n",
       "      <td>0</td>\n",
       "    </tr>\n",
       "    <tr>\n",
       "      <th>4083</th>\n",
       "      <td>1</td>\n",
       "      <td>1</td>\n",
       "      <td>0</td>\n",
       "      <td>0.0</td>\n",
       "      <td>36.32</td>\n",
       "      <td>49</td>\n",
       "      <td>0.735</td>\n",
       "      <td>5.19</td>\n",
       "      <td>3.567273</td>\n",
       "      <td>1.00</td>\n",
       "      <td>...</td>\n",
       "      <td>3</td>\n",
       "      <td>0</td>\n",
       "      <td>0</td>\n",
       "      <td>2</td>\n",
       "      <td>1</td>\n",
       "      <td>4</td>\n",
       "      <td>4</td>\n",
       "      <td>1.0</td>\n",
       "      <td>0</td>\n",
       "      <td>0</td>\n",
       "    </tr>\n",
       "    <tr>\n",
       "      <th>4084</th>\n",
       "      <td>1</td>\n",
       "      <td>1</td>\n",
       "      <td>0</td>\n",
       "      <td>0.0</td>\n",
       "      <td>41.87</td>\n",
       "      <td>57</td>\n",
       "      <td>0.495</td>\n",
       "      <td>5.85</td>\n",
       "      <td>4.270000</td>\n",
       "      <td>0.98</td>\n",
       "      <td>...</td>\n",
       "      <td>3</td>\n",
       "      <td>0</td>\n",
       "      <td>0</td>\n",
       "      <td>1</td>\n",
       "      <td>1</td>\n",
       "      <td>4</td>\n",
       "      <td>0</td>\n",
       "      <td>1.0</td>\n",
       "      <td>3</td>\n",
       "      <td>0</td>\n",
       "    </tr>\n",
       "    <tr>\n",
       "      <th>4112</th>\n",
       "      <td>1</td>\n",
       "      <td>1</td>\n",
       "      <td>1</td>\n",
       "      <td>0.0</td>\n",
       "      <td>29.02</td>\n",
       "      <td>56</td>\n",
       "      <td>1.265</td>\n",
       "      <td>4.83</td>\n",
       "      <td>3.161818</td>\n",
       "      <td>1.10</td>\n",
       "      <td>...</td>\n",
       "      <td>3</td>\n",
       "      <td>0</td>\n",
       "      <td>0</td>\n",
       "      <td>2</td>\n",
       "      <td>2</td>\n",
       "      <td>5</td>\n",
       "      <td>4</td>\n",
       "      <td>1.0</td>\n",
       "      <td>0</td>\n",
       "      <td>0</td>\n",
       "    </tr>\n",
       "    <tr>\n",
       "      <th>4170</th>\n",
       "      <td>1</td>\n",
       "      <td>1</td>\n",
       "      <td>0</td>\n",
       "      <td>0.0</td>\n",
       "      <td>27.19</td>\n",
       "      <td>53</td>\n",
       "      <td>0.620</td>\n",
       "      <td>3.82</td>\n",
       "      <td>1.520909</td>\n",
       "      <td>1.89</td>\n",
       "      <td>...</td>\n",
       "      <td>3</td>\n",
       "      <td>1</td>\n",
       "      <td>0</td>\n",
       "      <td>2</td>\n",
       "      <td>1</td>\n",
       "      <td>2</td>\n",
       "      <td>3</td>\n",
       "      <td>1.0</td>\n",
       "      <td>3</td>\n",
       "      <td>0</td>\n",
       "    </tr>\n",
       "    <tr>\n",
       "      <th>4220</th>\n",
       "      <td>1</td>\n",
       "      <td>1</td>\n",
       "      <td>1</td>\n",
       "      <td>0.0</td>\n",
       "      <td>29.56</td>\n",
       "      <td>53</td>\n",
       "      <td>0.580</td>\n",
       "      <td>6.13</td>\n",
       "      <td>3.952727</td>\n",
       "      <td>1.25</td>\n",
       "      <td>...</td>\n",
       "      <td>3</td>\n",
       "      <td>0</td>\n",
       "      <td>0</td>\n",
       "      <td>0</td>\n",
       "      <td>2</td>\n",
       "      <td>3</td>\n",
       "      <td>0</td>\n",
       "      <td>1.0</td>\n",
       "      <td>3</td>\n",
       "      <td>0</td>\n",
       "    </tr>\n",
       "    <tr>\n",
       "      <th>4346</th>\n",
       "      <td>1</td>\n",
       "      <td>1</td>\n",
       "      <td>1</td>\n",
       "      <td>0.0</td>\n",
       "      <td>36.52</td>\n",
       "      <td>56</td>\n",
       "      <td>1.040</td>\n",
       "      <td>9.93</td>\n",
       "      <td>-999.000000</td>\n",
       "      <td>2.81</td>\n",
       "      <td>...</td>\n",
       "      <td>3</td>\n",
       "      <td>0</td>\n",
       "      <td>0</td>\n",
       "      <td>0</td>\n",
       "      <td>2</td>\n",
       "      <td>5</td>\n",
       "      <td>0</td>\n",
       "      <td>1.0</td>\n",
       "      <td>3</td>\n",
       "      <td>0</td>\n",
       "    </tr>\n",
       "    <tr>\n",
       "      <th>4385</th>\n",
       "      <td>1</td>\n",
       "      <td>1</td>\n",
       "      <td>1</td>\n",
       "      <td>0.0</td>\n",
       "      <td>39.75</td>\n",
       "      <td>58</td>\n",
       "      <td>0.740</td>\n",
       "      <td>5.22</td>\n",
       "      <td>3.665455</td>\n",
       "      <td>0.95</td>\n",
       "      <td>...</td>\n",
       "      <td>3</td>\n",
       "      <td>0</td>\n",
       "      <td>0</td>\n",
       "      <td>1</td>\n",
       "      <td>1</td>\n",
       "      <td>3</td>\n",
       "      <td>3</td>\n",
       "      <td>1.0</td>\n",
       "      <td>0</td>\n",
       "      <td>0</td>\n",
       "    </tr>\n",
       "  </tbody>\n",
       "</table>\n",
       "<p>56 rows × 25 columns</p>\n",
       "</div>"
      ],
      "text/plain": [
       "      htn_jnc7_qc  diabetes_status_c_qc  ckd_c_qc  cadiovascular_current  \\\n",
       "394             1                     1         1                    0.0   \n",
       "434             1                     1      -999                    0.0   \n",
       "604             1                     1         0                    0.0   \n",
       "649             1                     1      -999                    0.0   \n",
       "796             1                     1         0                    0.0   \n",
       "828             1                     1         1                    0.0   \n",
       "849             1                     1         0                    0.0   \n",
       "954             1                     1         0                    0.0   \n",
       "1252            1                     1         0                    1.0   \n",
       "1253            1                     1         1                    0.0   \n",
       "1311            1                     1         1                    0.0   \n",
       "1327            1                     1         0                    0.0   \n",
       "1342            1                     1         0                    0.0   \n",
       "1493            1                     1         0                    0.0   \n",
       "1504            1                     1         0                    0.0   \n",
       "1555            1                     1      -999                    0.0   \n",
       "2009            1                     1         1                    0.0   \n",
       "2146            1                     1         0                    0.0   \n",
       "2191            1                     1         0                    0.0   \n",
       "2230            1                     1         1                    0.0   \n",
       "2265            1                     1         0                    0.0   \n",
       "2340            1                     1         0                    0.0   \n",
       "2477            1                     1         0                    0.0   \n",
       "2532            1                     1      -999                    0.0   \n",
       "2633            1                     1         1                    0.0   \n",
       "2651            1                     1         0                    0.0   \n",
       "2733            1                     1         1                    0.0   \n",
       "2891            1                     1         1                    0.0   \n",
       "2914            1                     1         0                    0.0   \n",
       "2984            1                     1         0                    0.0   \n",
       "2987            1                     1         1                    1.0   \n",
       "3093            1                     1         0                    0.0   \n",
       "3122            1                     1         1                    0.0   \n",
       "3269            1                     1         1                    0.0   \n",
       "3282            1                     1         0                    0.0   \n",
       "3318            1                     1         1                    0.0   \n",
       "3323            1                     1         0                    1.0   \n",
       "3464            1                     1      -999                    0.0   \n",
       "3485            1                     1         0                    0.0   \n",
       "3513            1                     1      -999                    1.0   \n",
       "3567            1                     1         0                    0.0   \n",
       "3603            1                     1         1                    0.0   \n",
       "3631            1                     1         0                    0.0   \n",
       "3668            1                     1         0                    0.0   \n",
       "3724            1                     1         1                    0.0   \n",
       "3758            1                     1         0                    0.0   \n",
       "4042            1                     1         1                    0.0   \n",
       "4048            1                     1         0                    0.0   \n",
       "4053            1                     1         0                    0.0   \n",
       "4083            1                     1         0                    0.0   \n",
       "4084            1                     1         0                    0.0   \n",
       "4112            1                     1         1                    0.0   \n",
       "4170            1                     1         0                    0.0   \n",
       "4220            1                     1         1                    0.0   \n",
       "4346            1                     1         1                    0.0   \n",
       "4385            1                     1         1                    0.0   \n",
       "\n",
       "      bmi_c_qc  age  cimt_mean_max  cholesterol_1_qc  friedewald_ldl_c_c_qc  \\\n",
       "394      28.21   45          0.660              5.51               3.757273   \n",
       "434      27.04   49          0.670              3.72               2.533636   \n",
       "604      32.40   52          0.475              6.26               4.510909   \n",
       "649      25.30   56          0.820              4.67               3.225455   \n",
       "796      23.98   43          0.680              5.00               3.696364   \n",
       "828      24.11   59          0.735              4.83               3.235455   \n",
       "849      32.34   56          0.720              3.27               1.445455   \n",
       "954      29.20   53          0.620              4.30               2.647273   \n",
       "1252     36.06   55          0.855              4.84               3.327273   \n",
       "1253     27.74   44          0.660              4.66               3.064545   \n",
       "1311     29.56   60          0.830              6.57               4.693636   \n",
       "1327     28.59   51          0.720              4.25               2.927273   \n",
       "1342     19.29   42          0.640              4.61               1.769091   \n",
       "1493     32.83   58          0.915              5.26               3.067273   \n",
       "1504     35.99   53          0.660              4.29               1.969091   \n",
       "1555     26.08   45          0.675              4.20               2.970909   \n",
       "2009     22.63   58          1.255              7.78               5.865455   \n",
       "2146     26.71   47          0.540              4.34               1.263636   \n",
       "2191     23.18   52          0.675              3.11               1.736364   \n",
       "2230     25.51   44          0.750              4.31               2.070909   \n",
       "2265     28.50   52          0.600              5.86               3.852727   \n",
       "2340     25.62   58          0.510              6.63            -999.000000   \n",
       "2477     26.61   49          0.740              4.29               2.769091   \n",
       "2532     34.56   60          0.575              3.79               1.448182   \n",
       "2633     23.31   59          0.900              3.27               1.690000   \n",
       "2651     30.38   57          0.740              4.12               2.657273   \n",
       "2733     48.24   51          0.710              3.40               1.537273   \n",
       "2891     17.83   47          0.720              5.63               2.482727   \n",
       "2914     62.80   44          0.840              4.23               2.466364   \n",
       "2984     31.60   45          0.735              5.80               4.100000   \n",
       "2987     21.71   50          1.050              4.79               3.207273   \n",
       "3093     31.48   56          0.740              3.81               2.096364   \n",
       "3122     24.94   45          0.660              5.77               3.403636   \n",
       "3269     27.41   50          0.820              4.39               3.005455   \n",
       "3282     36.48   50          0.755              3.22               1.591818   \n",
       "3318     29.99   50          0.640              2.90               1.716364   \n",
       "3323     32.95   52          0.640              5.20               3.175455   \n",
       "3464     40.23   58          0.750              6.42               4.875455   \n",
       "3485     31.88   44          0.540              4.22               2.455455   \n",
       "3513     35.48   46          0.520              3.14               1.464545   \n",
       "3567     29.28   55          0.675              6.11            -999.000000   \n",
       "3603     30.14   55          0.720              4.61               2.756364   \n",
       "3631     28.66   55          0.830              4.10               2.411818   \n",
       "3668     32.82   55          0.740              5.25               3.423636   \n",
       "3724     27.11   56          0.720              4.47               2.543636   \n",
       "3758     22.62   59          0.705              4.55               2.454545   \n",
       "4042     24.42   56          0.920              3.74               1.957273   \n",
       "4048     34.19   42          0.990              4.94               3.041818   \n",
       "4053     29.02   55          0.660              5.26               3.157273   \n",
       "4083     36.32   49          0.735              5.19               3.567273   \n",
       "4084     41.87   57          0.495              5.85               4.270000   \n",
       "4112     29.02   56          1.265              4.83               3.161818   \n",
       "4170     27.19   53          0.620              3.82               1.520909   \n",
       "4220     29.56   53          0.580              6.13               3.952727   \n",
       "4346     36.52   56          1.040              9.93            -999.000000   \n",
       "4385     39.75   58          0.740              5.22               3.665455   \n",
       "\n",
       "      hdl_qc  ...  site  sex  hiv_final_status_c  \\\n",
       "394     0.98  ...     3    0                   0   \n",
       "434     0.80  ...     3    0                   2   \n",
       "604     1.24  ...     3    0                   0   \n",
       "649     0.64  ...     3    1                   0   \n",
       "796     0.94  ...     3    1                   0   \n",
       "828     0.89  ...     3    1                   0   \n",
       "849     0.82  ...     3    0                   0   \n",
       "954     1.18  ...     3    0                   0   \n",
       "1252    1.04  ...     3    0                   0   \n",
       "1253    1.05  ...     3    0                   0   \n",
       "1311    1.19  ...     3    0                   0   \n",
       "1327    1.00  ...     3    0                   0   \n",
       "1342    2.50  ...     3    1                   0   \n",
       "1493    1.42  ...     3    0                   0   \n",
       "1504    1.68  ...     3    1                   0   \n",
       "1555    0.92  ...     3    1                   0   \n",
       "2009    1.26  ...     3    0                   0   \n",
       "2146    2.44  ...     3    0                   0   \n",
       "2191    0.51  ...     3    1                   0   \n",
       "2230    0.78  ...     3    0                   1   \n",
       "2265    1.18  ...     3    0                   0   \n",
       "2340    0.81  ...     3    1                   0   \n",
       "2477    0.88  ...     3    1                   0   \n",
       "2532    1.56  ...     3    0                   0   \n",
       "2633    1.38  ...     3    1                   0   \n",
       "2651    0.94  ...     3    1                   0   \n",
       "2733    0.89  ...     3    0                   0   \n",
       "2891    2.62  ...     3    0                   0   \n",
       "2914    0.95  ...     3    0                   0   \n",
       "2984    0.95  ...     3    0                   0   \n",
       "2987    1.16  ...     3    0                   0   \n",
       "3093    0.80  ...     3    0                   0   \n",
       "3122    1.48  ...     3    1                   0   \n",
       "3269    0.83  ...     3    0                   0   \n",
       "3282    1.16  ...     3    0                   0   \n",
       "3318    0.82  ...     3    0                   0   \n",
       "3323    1.22  ...     3    0                   0   \n",
       "3464    0.99  ...     3    0                   0   \n",
       "3485    1.16  ...     3    0                   0   \n",
       "3513    1.33  ...     3    0                   0   \n",
       "3567    1.05  ...     3    0                   1   \n",
       "3603    1.04  ...     3    0                   0   \n",
       "3631    1.27  ...     3    0                   0   \n",
       "3668    0.94  ...     3    0                   0   \n",
       "3724    1.39  ...     3    0                   0   \n",
       "3758    1.15  ...     3    0                   0   \n",
       "4042    0.96  ...     3    0                   1   \n",
       "4048    1.18  ...     3    0                   0   \n",
       "4053    1.28  ...     3    0                   0   \n",
       "4083    1.00  ...     3    0                   0   \n",
       "4084    0.98  ...     3    0                   0   \n",
       "4112    1.10  ...     3    0                   0   \n",
       "4170    1.89  ...     3    1                   0   \n",
       "4220    1.25  ...     3    0                   0   \n",
       "4346    2.81  ...     3    0                   0   \n",
       "4385    0.95  ...     3    0                   0   \n",
       "\n",
       "      highest_level_of_education_qc  partnership_status_c_qc  \\\n",
       "394                               1                        1   \n",
       "434                               1                        1   \n",
       "604                               1                        2   \n",
       "649                               1                        1   \n",
       "796                               2                        1   \n",
       "828                               1                        1   \n",
       "849                               1                        2   \n",
       "954                               1                        2   \n",
       "1252                              2                        2   \n",
       "1253                              1                        1   \n",
       "1311                              2                        1   \n",
       "1327                              2                        0   \n",
       "1342                              2                        1   \n",
       "1493                              1                        2   \n",
       "1504                              2                        2   \n",
       "1555                              3                        1   \n",
       "2009                              2                        2   \n",
       "2146                              1                        1   \n",
       "2191                              2                        1   \n",
       "2230                              1                        2   \n",
       "2265                              2                        1   \n",
       "2340                              2                        1   \n",
       "2477                              1                        1   \n",
       "2532                              0                        2   \n",
       "2633                              2                        2   \n",
       "2651                              1                        1   \n",
       "2733                              2                        2   \n",
       "2891                              1                        1   \n",
       "2914                              1                        2   \n",
       "2984                              2                        2   \n",
       "2987                              1                        2   \n",
       "3093                              1                        2   \n",
       "3122                              2                        1   \n",
       "3269                              1                        2   \n",
       "3282                              1                        2   \n",
       "3318                              2                        2   \n",
       "3323                              0                        2   \n",
       "3464                              1                        1   \n",
       "3485                              2                        0   \n",
       "3513                              1                        2   \n",
       "3567                              2                        2   \n",
       "3603                              2                        1   \n",
       "3631                              1                        2   \n",
       "3668                              1                        1   \n",
       "3724                              1                        2   \n",
       "3758                              1                        1   \n",
       "4042                              1                        2   \n",
       "4048                              1                        2   \n",
       "4053                              1                        2   \n",
       "4083                              2                        1   \n",
       "4084                              1                        1   \n",
       "4112                              2                        2   \n",
       "4170                              2                        1   \n",
       "4220                              0                        2   \n",
       "4346                              0                        2   \n",
       "4385                              1                        1   \n",
       "\n",
       "      ses_site_quintile_c_qc  occupation_qc  mvpa_cat_c  \\\n",
       "394                        2              0         1.0   \n",
       "434                        2              3         1.0   \n",
       "604                        5              0         1.0   \n",
       "649                        5              1         1.0   \n",
       "796                        1              0         1.0   \n",
       "828                        3              0         1.0   \n",
       "849                        2              0         1.0   \n",
       "954                        5              0         1.0   \n",
       "1252                       3              0         1.0   \n",
       "1253                       4              0         1.0   \n",
       "1311                       2              0         1.0   \n",
       "1327                       3              0         0.0   \n",
       "1342                       1              3         1.0   \n",
       "1493                       2              0         1.0   \n",
       "1504                       4              1         1.0   \n",
       "1555                       5              0         1.0   \n",
       "2009                       1              0         1.0   \n",
       "2146                       5              4         1.0   \n",
       "2191                       2              1         0.0   \n",
       "2230                       2              3         1.0   \n",
       "2265                       3              0         1.0   \n",
       "2340                       4              1         1.0   \n",
       "2477                       4              0         1.0   \n",
       "2532                       1              0         1.0   \n",
       "2633                       2              4         1.0   \n",
       "2651                       4              1         1.0   \n",
       "2733                       2              0         1.0   \n",
       "2891                       1              3         1.0   \n",
       "2914                       3              0         1.0   \n",
       "2984                       2              4         0.0   \n",
       "2987                       2              4         0.0   \n",
       "3093                       1              3         1.0   \n",
       "3122                       4              0         1.0   \n",
       "3269                       4              0         1.0   \n",
       "3282                       4              3         1.0   \n",
       "3318                       4              0         1.0   \n",
       "3323                       4              0         1.0   \n",
       "3464                       2              0         1.0   \n",
       "3485                       5              0         1.0   \n",
       "3513                       4              1         1.0   \n",
       "3567                       5              1         1.0   \n",
       "3603                       5              0         1.0   \n",
       "3631                       5              0         1.0   \n",
       "3668                       5              4         1.0   \n",
       "3724                       5              0         0.0   \n",
       "3758                       1              4         1.0   \n",
       "4042                       5              0         1.0   \n",
       "4048                       2              3         1.0   \n",
       "4053                       3              4         1.0   \n",
       "4083                       4              4         1.0   \n",
       "4084                       4              0         1.0   \n",
       "4112                       5              4         1.0   \n",
       "4170                       2              3         1.0   \n",
       "4220                       3              0         1.0   \n",
       "4346                       5              0         1.0   \n",
       "4385                       3              3         1.0   \n",
       "\n",
       "      alcohol_use_status_c_qc  smoking_status_c_qc  \n",
       "394                         0                    0  \n",
       "434                         0                    0  \n",
       "604                         3                    2  \n",
       "649                         3                    2  \n",
       "796                         1                    2  \n",
       "828                         3                    2  \n",
       "849                         0                    0  \n",
       "954                         0                    0  \n",
       "1252                        0                    0  \n",
       "1253                        0                    0  \n",
       "1311                        0                    0  \n",
       "1327                        0                    0  \n",
       "1342                        1                    1  \n",
       "1493                        0                    0  \n",
       "1504                        1                    1  \n",
       "1555                        0                    0  \n",
       "2009                        0                    0  \n",
       "2146                        3                    0  \n",
       "2191                        0                    0  \n",
       "2230                        3                    0  \n",
       "2265                        0                    0  \n",
       "2340                        0                    0  \n",
       "2477                        3                    2  \n",
       "2532                        0                    0  \n",
       "2633                        0                    2  \n",
       "2651                        3                    2  \n",
       "2733                        3                    0  \n",
       "2891                        1                    1  \n",
       "2914                        0                    0  \n",
       "2984                        1                    2  \n",
       "2987                        0                    0  \n",
       "3093                        0                    0  \n",
       "3122                        3                    2  \n",
       "3269                        0                    0  \n",
       "3282                        0                    0  \n",
       "3318                        0                    0  \n",
       "3323                        0                    0  \n",
       "3464                        3                    0  \n",
       "3485                        0                    0  \n",
       "3513                        0                    0  \n",
       "3567                        3                    0  \n",
       "3603                        0                    0  \n",
       "3631                        0                    0  \n",
       "3668                        0                    0  \n",
       "3724                        0                    0  \n",
       "3758                        3                    0  \n",
       "4042                        3                    0  \n",
       "4048                        3                    0  \n",
       "4053                        0                    0  \n",
       "4083                        0                    0  \n",
       "4084                        3                    0  \n",
       "4112                        0                    0  \n",
       "4170                        3                    0  \n",
       "4220                        3                    0  \n",
       "4346                        3                    0  \n",
       "4385                        0                    0  \n",
       "\n",
       "[56 rows x 25 columns]"
      ]
     },
     "execution_count": 10,
     "metadata": {},
     "output_type": "execute_result"
    }
   ],
   "source": [
    "dff.loc[((data['htn_jnc7_qc'] == 1) & (data['diabetes_status_c_qc'] == 1)) ]"
   ]
  },
  {
   "cell_type": "code",
   "execution_count": 11,
   "metadata": {},
   "outputs": [
    {
     "name": "stdout",
     "output_type": "stream",
     "text": [
      "Original size:  (1465, 25)\n",
      "Size after removing records with missing targets:  (1465, 25)\n"
     ]
    }
   ],
   "source": [
    "dff1 = dff.replace([-999, -222, -111, 999], np.nan).copy()\n",
    "\n",
    "site_id = 1 # 1 - Agincourt, 3 - Nairobi\n",
    "\n",
    "# Choose the relevant site and age group\n",
    "dff = data[(data['site'] == site_id) & (data['age'] <= 60) & (data['age'] >= 40)].fillna(-999)\n",
    "\n",
    "print('Original size: ', dff.shape)\n",
    "dff = dff[(dff[target_cols] != -999).sum(axis = 1) == len(target_cols)]\n",
    "print('Size after removing records with missing targets: ', dff.shape)"
   ]
  },
  {
   "cell_type": "code",
   "execution_count": 12,
   "metadata": {},
   "outputs": [],
   "source": [
    "dff1 = dff.replace([-999, -222, -111, 999], np.nan).copy()"
   ]
  },
  {
   "cell_type": "code",
   "execution_count": 13,
   "metadata": {},
   "outputs": [
    {
     "data": {
      "text/plain": [
       "<Axes: ylabel='Density'>"
      ]
     },
     "execution_count": 13,
     "metadata": {},
     "output_type": "execute_result"
    },
    {
     "data": {
      "image/png": "[encoded data removed]",
      "text/plain": [
       "<Figure size 640x480 with 1 Axes>"
      ]
     },
     "metadata": {},
     "output_type": "display_data"
    }
   ],
   "source": [
    "from sklearn.linear_model import BayesianRidge\n",
    "from sklearn.experimental import enable_iterative_imputer\n",
    "from sklearn.impute import IterativeImputer\n",
    "import matplotlib.pyplot as plt\n",
    "imputer_bayes = IterativeImputer(\n",
    "    estimator=BayesianRidge(),\n",
    "    max_iter=10,\n",
    "    random_state=42)\n",
    "\n",
    "# let's create a MICE imputer using Bayes as estimator\n",
    "\n",
    "imputer = IterativeImputer(\n",
    "    estimator=BayesianRidge(), # the estimator to predict the NA\n",
    "    initial_strategy='mean', # how will NA be imputed in step 1\n",
    "    max_iter=10, # number of cycles\n",
    "    imputation_order='ascending', # the order in which to impute the variables\n",
    "    n_nearest_features=None, # whether to limit the number of predictors\n",
    "    skip_complete=True, # whether to ignore variables without NA\n",
    "    random_state=0,\n",
    ")\n",
    "imputer.fit(dff1)\n",
    "train_t = imputer.transform(dff1)\n",
    "# train_x = imputer.transform(data.iloc[:,2:])\n",
    "treated = pd.DataFrame(train_t, columns=dff1.columns)\n",
    "# treated = treated.apply(np.ceil)\n",
    "treated.loc[:,['highest_level_of_education_qc','occupation_qc','smoking_status_c_qc']]\\\n",
    "      = np.round(treated.loc[:,['highest_level_of_education_qc','occupation_qc','smoking_status_c_qc']], decimals=0)\n",
    "\n",
    "fig = plt.figure()\n",
    "ax = fig.add_subplot(111)\n",
    "dff1['cimt_mean_max'].plot(kind='kde', ax=ax, color='blue')\n",
    "treated['cimt_mean_max'].plot(kind='kde', ax=ax, color='green')"
   ]
  },
  {
   "cell_type": "code",
   "execution_count": 14,
   "metadata": {},
   "outputs": [
    {
     "data": {
      "text/plain": [
       "197"
      ]
     },
     "execution_count": 14,
     "metadata": {},
     "output_type": "execute_result"
    }
   ],
   "source": [
    "dff1['cimt_mean_max'].isnull().sum()"
   ]
  },
  {
   "cell_type": "code",
   "execution_count": 15,
   "metadata": {},
   "outputs": [
    {
     "data": {
      "text/html": [
       "<div>\n",
       "<style scoped>\n",
       "    .dataframe tbody tr th:only-of-type {\n",
       "        vertical-align: middle;\n",
       "    }\n",
       "\n",
       "    .dataframe tbody tr th {\n",
       "        vertical-align: top;\n",
       "    }\n",
       "\n",
       "    .dataframe thead th {\n",
       "        text-align: right;\n",
       "    }\n",
       "</style>\n",
       "<table border=\"1\" class=\"dataframe\">\n",
       "  <thead>\n",
       "    <tr style=\"text-align: right;\">\n",
       "      <th></th>\n",
       "      <th>occupation_qc</th>\n",
       "    </tr>\n",
       "  </thead>\n",
       "  <tbody>\n",
       "    <tr>\n",
       "      <th>0</th>\n",
       "      <td>2.0</td>\n",
       "    </tr>\n",
       "    <tr>\n",
       "      <th>1</th>\n",
       "      <td>4.0</td>\n",
       "    </tr>\n",
       "    <tr>\n",
       "      <th>2</th>\n",
       "      <td>4.0</td>\n",
       "    </tr>\n",
       "    <tr>\n",
       "      <th>3</th>\n",
       "      <td>2.0</td>\n",
       "    </tr>\n",
       "    <tr>\n",
       "      <th>4</th>\n",
       "      <td>4.0</td>\n",
       "    </tr>\n",
       "    <tr>\n",
       "      <th>...</th>\n",
       "      <td>...</td>\n",
       "    </tr>\n",
       "    <tr>\n",
       "      <th>1460</th>\n",
       "      <td>4.0</td>\n",
       "    </tr>\n",
       "    <tr>\n",
       "      <th>1461</th>\n",
       "      <td>3.0</td>\n",
       "    </tr>\n",
       "    <tr>\n",
       "      <th>1462</th>\n",
       "      <td>4.0</td>\n",
       "    </tr>\n",
       "    <tr>\n",
       "      <th>1463</th>\n",
       "      <td>4.0</td>\n",
       "    </tr>\n",
       "    <tr>\n",
       "      <th>1464</th>\n",
       "      <td>2.0</td>\n",
       "    </tr>\n",
       "  </tbody>\n",
       "</table>\n",
       "<p>1465 rows × 1 columns</p>\n",
       "</div>"
      ],
      "text/plain": [
       "      occupation_qc\n",
       "0               2.0\n",
       "1               4.0\n",
       "2               4.0\n",
       "3               2.0\n",
       "4               4.0\n",
       "...             ...\n",
       "1460            4.0\n",
       "1461            3.0\n",
       "1462            4.0\n",
       "1463            4.0\n",
       "1464            2.0\n",
       "\n",
       "[1465 rows x 1 columns]"
      ]
     },
     "execution_count": 15,
     "metadata": {},
     "output_type": "execute_result"
    }
   ],
   "source": [
    "# treated.loc[:,['highest_level_of_education_qc']].apply(np.ceil).value_counts()\n",
    "np.round(treated.loc[:,['occupation_qc']], decimals=0)"
   ]
  },
  {
   "cell_type": "code",
   "execution_count": 120,
   "metadata": {},
   "outputs": [
    {
     "data": {
      "text/plain": [
       "2.0    4\n",
       "3.0    3\n",
       "dtype: int64"
      ]
     },
     "execution_count": 120,
     "metadata": {},
     "output_type": "execute_result"
    }
   ],
   "source": [
    "np.round(pd.DataFrame([2.3,2.5,2.1,2.7,2.9,2.15,2.58]), decimals=0).value_counts()"
   ]
  },
  {
   "cell_type": "code",
   "execution_count": 16,
   "metadata": {},
   "outputs": [],
   "source": [
    "target_col = 'diab_hyp'\n",
    "\n",
    "# defining the target column to be a column where the sum of the target values >= 2\n",
    "dff[target_col] = (dff[target_cols] == 1).sum(axis = 1) == 2\n",
    "\n",
    "# defining the expectations as mean of the target\n",
    "dff['expectation'] = dff[target_col].mean()\n",
    "# dff['expectation'].head()\n",
    "\n",
    "# target_col = 'diab_hyp'\n",
    "\n",
    "# defining the target column to be a column where the sum of the target values >= 2\n",
    "treated[target_col] = (treated[target_cols] == 1).sum(axis = 1) == 2\n",
    "\n",
    "# defining the expectations as mean of the target\n",
    "treated['expectation'] = treated[target_col].mean()"
   ]
  },
  {
   "cell_type": "code",
   "execution_count": 17,
   "metadata": {},
   "outputs": [
    {
     "data": {
      "text/html": [
       "<div>\n",
       "<style scoped>\n",
       "    .dataframe tbody tr th:only-of-type {\n",
       "        vertical-align: middle;\n",
       "    }\n",
       "\n",
       "    .dataframe tbody tr th {\n",
       "        vertical-align: top;\n",
       "    }\n",
       "\n",
       "    .dataframe thead th {\n",
       "        text-align: right;\n",
       "    }\n",
       "</style>\n",
       "<table border=\"1\" class=\"dataframe\">\n",
       "  <thead>\n",
       "    <tr style=\"text-align: right;\">\n",
       "      <th></th>\n",
       "      <th>diab_hyp</th>\n",
       "      <th>htn_jnc7_qc</th>\n",
       "      <th>diabetes_status_c_qc</th>\n",
       "    </tr>\n",
       "  </thead>\n",
       "  <tbody>\n",
       "    <tr>\n",
       "      <th>0</th>\n",
       "      <td>False</td>\n",
       "      <td>0.0</td>\n",
       "      <td>0.0</td>\n",
       "    </tr>\n",
       "    <tr>\n",
       "      <th>1</th>\n",
       "      <td>False</td>\n",
       "      <td>1.0</td>\n",
       "      <td>0.0</td>\n",
       "    </tr>\n",
       "    <tr>\n",
       "      <th>2</th>\n",
       "      <td>False</td>\n",
       "      <td>0.0</td>\n",
       "      <td>0.0</td>\n",
       "    </tr>\n",
       "    <tr>\n",
       "      <th>3</th>\n",
       "      <td>False</td>\n",
       "      <td>0.0</td>\n",
       "      <td>0.0</td>\n",
       "    </tr>\n",
       "    <tr>\n",
       "      <th>4</th>\n",
       "      <td>False</td>\n",
       "      <td>0.0</td>\n",
       "      <td>0.0</td>\n",
       "    </tr>\n",
       "    <tr>\n",
       "      <th>...</th>\n",
       "      <td>...</td>\n",
       "      <td>...</td>\n",
       "      <td>...</td>\n",
       "    </tr>\n",
       "    <tr>\n",
       "      <th>1460</th>\n",
       "      <td>False</td>\n",
       "      <td>1.0</td>\n",
       "      <td>0.0</td>\n",
       "    </tr>\n",
       "    <tr>\n",
       "      <th>1461</th>\n",
       "      <td>True</td>\n",
       "      <td>1.0</td>\n",
       "      <td>1.0</td>\n",
       "    </tr>\n",
       "    <tr>\n",
       "      <th>1462</th>\n",
       "      <td>False</td>\n",
       "      <td>0.0</td>\n",
       "      <td>0.0</td>\n",
       "    </tr>\n",
       "    <tr>\n",
       "      <th>1463</th>\n",
       "      <td>False</td>\n",
       "      <td>0.0</td>\n",
       "      <td>0.0</td>\n",
       "    </tr>\n",
       "    <tr>\n",
       "      <th>1464</th>\n",
       "      <td>False</td>\n",
       "      <td>0.0</td>\n",
       "      <td>0.0</td>\n",
       "    </tr>\n",
       "  </tbody>\n",
       "</table>\n",
       "<p>1465 rows × 3 columns</p>\n",
       "</div>"
      ],
      "text/plain": [
       "      diab_hyp  htn_jnc7_qc  diabetes_status_c_qc\n",
       "0        False          0.0                   0.0\n",
       "1        False          1.0                   0.0\n",
       "2        False          0.0                   0.0\n",
       "3        False          0.0                   0.0\n",
       "4        False          0.0                   0.0\n",
       "...        ...          ...                   ...\n",
       "1460     False          1.0                   0.0\n",
       "1461      True          1.0                   1.0\n",
       "1462     False          0.0                   0.0\n",
       "1463     False          0.0                   0.0\n",
       "1464     False          0.0                   0.0\n",
       "\n",
       "[1465 rows x 3 columns]"
      ]
     },
     "execution_count": 17,
     "metadata": {},
     "output_type": "execute_result"
    }
   ],
   "source": [
    "treated.loc[:,['diab_hyp','htn_jnc7_qc', 'diabetes_status_c_qc']]"
   ]
  },
  {
   "cell_type": "code",
   "execution_count": 18,
   "metadata": {},
   "outputs": [],
   "source": [
    "# Defining the search space to be all the features except site, study_id, \n",
    "# and our created target_col and expectations columns\n",
    "\n",
    "search_space = [col for col in dff.columns \\\n",
    "                if col not in \\\n",
    "                [target_col, 'site', 'study_id', 'expectation', \\\n",
    "                'htn_jnc7_qc', 'diabetes_status_c_qc', 'ckd_c_qc', 'cadiovascular_current']]"
   ]
  },
  {
   "cell_type": "code",
   "execution_count": 19,
   "metadata": {},
   "outputs": [
    {
     "data": {
      "text/plain": [
       "361     False\n",
       "366     False\n",
       "367     False\n",
       "371     False\n",
       "375     False\n",
       "        ...  \n",
       "4475    False\n",
       "4477     True\n",
       "4478    False\n",
       "4484    False\n",
       "4485    False\n",
       "Name: diab_hyp, Length: 1465, dtype: bool"
      ]
     },
     "execution_count": 19,
     "metadata": {},
     "output_type": "execute_result"
    }
   ],
   "source": [
    "dff.diab_hyp"
   ]
  },
  {
   "cell_type": "code",
   "execution_count": 17,
   "metadata": {},
   "outputs": [
    {
     "data": {
      "text/plain": [
       "['bmi_c_qc',\n",
       " 'age',\n",
       " 'cimt_mean_max',\n",
       " 'cholesterol_1_qc',\n",
       " 'friedewald_ldl_c_c_qc',\n",
       " 'hdl_qc',\n",
       " 'triglycerides_qc',\n",
       " 'waist_hip_r_c_qc',\n",
       " 'waist_circumference_qc',\n",
       " 'visceral_fat_qc',\n",
       " 'subcutaneous_fat_qc',\n",
       " 'sex',\n",
       " 'hiv_final_status_c',\n",
       " 'highest_level_of_education_qc',\n",
       " 'partnership_status_c_qc',\n",
       " 'ses_site_quintile_c_qc',\n",
       " 'occupation_qc',\n",
       " 'mvpa_cat_c',\n",
       " 'alcohol_use_status_c_qc',\n",
       " 'smoking_status_c_qc']"
      ]
     },
     "execution_count": 17,
     "metadata": {},
     "output_type": "execute_result"
    }
   ],
   "source": [
    "search_space"
   ]
  },
  {
   "cell_type": "code",
   "execution_count": 21,
   "metadata": {},
   "outputs": [
    {
     "data": {
      "text/plain": [
       "20"
      ]
     },
     "execution_count": 21,
     "metadata": {},
     "output_type": "execute_result"
    }
   ],
   "source": [
    "len(search_space)"
   ]
  },
  {
   "cell_type": "code",
   "execution_count": 302,
   "metadata": {},
   "outputs": [
    {
     "data": {
      "image/png": "[encoded data removed]",
      "text/plain": [
       "<Figure size 1200x800 with 1 Axes>"
      ]
     },
     "metadata": {},
     "output_type": "display_data"
    }
   ],
   "source": [
    "import matplotlib.pyplot as plt\n",
    "import pandas as pd\n",
    "import numpy as np\n",
    "\n",
    "# Sample data\n",
    "data = {\n",
    "    'Penalty': [0.5, 1.0, 1.5, 2.0, 2.5, 3.0, 3.5, 4.0, 4.5, 5.0],\n",
    "    'score_Bernoulli': [19.38, 13.89, 12.63, 10.68, 10.18, 8.36, 7.36, 6.85, 6.35, 5.85],\n",
    "    'Size_Bernoulli': [8, 7, 64, 48, 220, 224, 130, 130, 130, 130],\n",
    "    'score_Poisson': [15.73, 12.98, 12.33, 10.33, 8.77, 7.27, 6.48, 5.98, 5.48, 4.98],\n",
    "    'Size_Poisson': [40, 73, 163, 163, 220, 220, 130, 130, 130, 130],\n",
    "    'Literals_Bernoulli': [9, 7, 5, 3, 3, 3, 1, 1, 1, 1],\n",
    "    'Literals_Poisson': [11, 8, 4, 4, 3, 3, 1, 1, 1, 1]\n",
    "}\n",
    "\n",
    "df = pd.DataFrame(data)\n",
    "\n",
    "# Plotting\n",
    "plt.figure(figsize=(12, 8))\n",
    "\n",
    "# Plot Odds for Bernoulli\n",
    "plt.scatter(df['Penalty'], df['score_Bernoulli'], s=df['Size_Bernoulli']*10, label='Bernoulli', alpha=0.7)\n",
    "\n",
    "# Plot Odds for Poisson\n",
    "plt.scatter(df['Penalty'], df['score_Poisson'], s=df['Size_Poisson']*10, label='Poisson', alpha=0.7)\n",
    "\n",
    "# Annotate the size values for Bernoulli\n",
    "for i, txt in enumerate(df['Size_Bernoulli']):\n",
    "    plt.annotate(txt, (df['Penalty'][i], df['score_Bernoulli'][i]), textcoords=\"offset points\", xytext=(0,10), ha='center', fontname=\"Times\")\n",
    "\n",
    "# Annotate the size values for Poisson\n",
    "for i, txt in enumerate(df['Size_Poisson']):\n",
    "    plt.annotate(txt, (df['Penalty'][i], df['score_Poisson'][i]), textcoords=\"offset points\", xytext=(0,-10), ha='center', fontname=\"Times\")\n",
    "\n",
    "hfont = {'fontname':'Comic Sans MS'}\n",
    "# Add labels and title\n",
    "plt.xlabel('Penalty', fontsize=14, fontname=\"Times\")\n",
    "plt.ylabel('Score', fontsize=14, fontname=\"Times\")\n",
    "plt.title('Score for Bernoulli and Poisson Methods', fontname=\"Times\")\n",
    "plt.legend(fontsize=\"14\")\n",
    "\n",
    "# Show the plot\n",
    "plt.show()\n"
   ]
  },
  {
   "cell_type": "code",
   "execution_count": 218,
   "metadata": {},
   "outputs": [
    {
     "data": {
      "image/png": "[encoded data removed]",
      "text/plain": [
       "<Figure size 1200x800 with 1 Axes>"
      ]
     },
     "metadata": {},
     "output_type": "display_data"
    }
   ],
   "source": [
    "import matplotlib.pyplot as plt\n",
    "import pandas as pd\n",
    "import numpy as np\n",
    "\n",
    "# Sample data\n",
    "data = {\n",
    "    'Penalty': [0.2, 0.5, 1.0, 1.5],\n",
    "    'Odds_Bernoulli': [26.32, 100, 100, 7.94],\n",
    "    'Size_Bernoulli': [24, 19, 8, 7],\n",
    "    'Odds_Poisson': [28.19, 13.89, 8.11, 4.42],\n",
    "    'Size_Poisson': [25, 40, 8, 4],\n",
    "    'Literals_Bernoulli': [17, 11, 7, 5],\n",
    "    'Literals_Poisson': [16, 11, 8, 4]\n",
    "}\n",
    "\n",
    "df = pd.DataFrame(data)\n",
    "\n",
    "# Plotting\n",
    "plt.figure(figsize=(12, 8))\n",
    "\n",
    "# Plot Odds for Bernoulli\n",
    "plt.scatter(df['Penalty'], df['Odds_Bernoulli'], s=df['Size_Bernoulli']*10, label='Bernoulli', alpha=0.7)\n",
    "\n",
    "# Plot Odds for Poisson\n",
    "plt.scatter(df['Penalty'], df['Odds_Poisson'], s=df['Size_Poisson']*10, label='Poisson', alpha=0.7)\n",
    "\n",
    "# Annotate the size and number of literals values for Bernoulli\n",
    "for i, (size, literals) in enumerate(zip(df['Size_Bernoulli'], df['Literals_Bernoulli'])):\n",
    "    plt.annotate(f\"{size}\\n{literals}\", (df['Penalty'][i], df['Odds_Bernoulli'][i]),\n",
    "                 textcoords=\"offset points\", xytext=(0,10), ha='center')\n",
    "\n",
    "# Annotate the size and number of literals values for Poisson\n",
    "for i, (size, literals) in enumerate(zip(df['Size_Poisson'], df['Literals_Poisson'])):\n",
    "    plt.annotate(f\"{size}\\n{literals}\", (df['Penalty'][i], df['Odds_Poisson'][i]),\n",
    "                 textcoords=\"offset points\", xytext=(0,10), ha='center')\n",
    "\n",
    "# Add labels and title\n",
    "plt.xlabel('Penalty')\n",
    "plt.ylabel('Odds')\n",
    "plt.title('Odds for Bernoulli and Poisson Methods')\n",
    "plt.legend()\n",
    "\n",
    "# Show the plot\n",
    "plt.show()\n"
   ]
  },
  {
   "cell_type": "code",
   "execution_count": 247,
   "metadata": {},
   "outputs": [
    {
     "data": {
      "image/png": "[encoded data removed]",
      "text/plain": [
       "<Figure size 1200x800 with 1 Axes>"
      ]
     },
     "metadata": {},
     "output_type": "display_data"
    }
   ],
   "source": [
    "import matplotlib.pyplot as plt\n",
    "import pandas as pd\n",
    "import numpy as np\n",
    "\n",
    "# Sample data\n",
    "data = {\n",
    "    'Penalty': [0.2, 0.5, 1.0, 1.5],\n",
    "    'Odds_Bernoulli': [26.32, 100, 100, 7.94],\n",
    "    'Size_Bernoulli': [24, 19, 8, 7],\n",
    "    'Odds_Poisson': [28.19, 13.89, 8.11, 4.42],\n",
    "    'Size_Poisson': [25, 40, 8, 4],\n",
    "    'Literals_Bernoulli': [17, 11, 7, 5],\n",
    "    'Literals_Poisson': [16, 11, 8, 4]\n",
    "}\n",
    "\n",
    "df = pd.DataFrame(data)\n",
    "\n",
    "# Plotting as a line chart\n",
    "plt.figure(figsize=(12, 8))\n",
    "\n",
    "# Plot Odds for Bernoulli\n",
    "plt.plot(df['Penalty'], df['Odds_Bernoulli'], marker='o', label='Bernoulli')\n",
    "\n",
    "# Plot Odds for Poisson\n",
    "plt.plot(df['Penalty'], df['Odds_Poisson'], marker='o', label='Poisson')\n",
    "\n",
    "# Annotate the size and number of literals values for Bernoulli\n",
    "for i, (size, literals) in enumerate(zip(df['Size_Bernoulli'], df['Literals_Bernoulli'])):\n",
    "    plt.annotate(f\"Size: {size}\\nLiterals: {literals}\", (df['Penalty'][i], df['Odds_Bernoulli'][i]),\n",
    "                 textcoords=\"offset points\", xytext=(0,10), ha='left')\n",
    "\n",
    "# Annotate the size and number of literals values for Poisson\n",
    "for i, (size, literals) in enumerate(zip(df['Size_Poisson'], df['Literals_Poisson'])):\n",
    "    plt.annotate(f\"Size: {size}\\nLiterals: {literals}\", (df['Penalty'][i], df['Odds_Poisson'][i]),\n",
    "                 textcoords=\"offset points\", xytext=(0,10), ha='left')\n",
    "\n",
    "# Add labels and title\n",
    "plt.xlabel('Penalty')\n",
    "plt.ylabel('Odds')\n",
    "plt.title('Odds for Bernoulli and Poisson Methods')\n",
    "plt.legend()\n",
    "\n",
    "# Show the plot\n",
    "plt.grid(True)\n",
    "plt.show()\n"
   ]
  },
  {
   "cell_type": "code",
   "execution_count": 305,
   "metadata": {},
   "outputs": [
    {
     "data": {
      "image/png": "[encoded data removed]",
      "text/plain": [
       "<Figure size 1200x800 with 1 Axes>"
      ]
     },
     "metadata": {},
     "output_type": "display_data"
    }
   ],
   "source": [
    "import matplotlib.pyplot as plt\n",
    "import pandas as pd\n",
    "import numpy as np\n",
    "\n",
    "# Sample data\n",
    "data = {\n",
    "    'Penalty': [0.5, 1.0, 1.5, 2.0, 2.5, 3.0, 3.5, 4.0, 4.5, 5.0],\n",
    "    'Odds_Bernoulli': [20, 20, 7.94, 8.54, 3.56, 3.36, 3.62, 3.62, 3.62, 3.62],\n",
    "    'Size_Bernoulli': [8, 7, 64, 48, 220, 224, 130, 130, 130, 130],\n",
    "    'Odds_Poisson': [13.89, 8.11, 4.42, 4.42, 3.56, 3.56, 3.62, 3.62, 3.62, 3.62],\n",
    "    'Size_Poisson': [40, 73, 163, 163, 220, 220, 130, 130, 130, 130],\n",
    "    'Literals_Bernoulli': [9, 7, 5, 3, 3, 3, 1, 1, 1, 1],\n",
    "    'Literals_Poisson': [11, 8, 4, 4, 3, 3, 1, 1, 1, 1]\n",
    "}\n",
    "\n",
    "df = pd.DataFrame(data)\n",
    "\n",
    "# Plotting as a line chart\n",
    "plt.figure(figsize=(12, 8))\n",
    "\n",
    "# Plot Odds for Bernoulli\n",
    "plt.plot(df['Penalty'], df['Odds_Bernoulli'], marker='*', label='Bernoulli')\n",
    "\n",
    "# Plot Odds for Poisson\n",
    "plt.plot(df['Penalty'], df['Odds_Poisson'], marker='o', label='Poisson')\n",
    "    \n",
    "# Annotate the size values for Bernoulli\n",
    "for i, txt in enumerate(df['Literals_Bernoulli']):\n",
    "    plt.annotate(txt, (df['Penalty'][i], df['Odds_Bernoulli'][i]), textcoords=\"offset points\", xytext=(0,10), ha='center', fontname=\"Times\")\n",
    "\n",
    "# Annotate the size values for Poisson\n",
    "for i, txt in enumerate(df['Literals_Poisson']):\n",
    "    plt.annotate(txt, (df['Penalty'][i], df['Odds_Poisson'][i]), textcoords=\"offset points\", xytext=(0,-15), ha='center', fontname=\"Times\")\n",
    "\n",
    "# Add labels and title\n",
    "plt.xlabel('Penalty values', fontname=\"Times\", fontsize=14)\n",
    "plt.ylabel('Odds ratio', fontname=\"Times\", fontsize=14)\n",
    "plt.title('Odds ratio for Bernoulli and Poisson Scoring Methods', fontname=\"Times\", fontsize=14)\n",
    "plt.legend()\n",
    "\n",
    "# Show the plot\n",
    "# plt.grid(True)\n",
    "plt.show()\n"
   ]
  },
  {
   "cell_type": "code",
   "execution_count": 240,
   "metadata": {},
   "outputs": [
    {
     "data": {
      "image/png": "[encoded data removed]",
      "text/plain": [
       "<Figure size 1200x800 with 1 Axes>"
      ]
     },
     "metadata": {},
     "output_type": "display_data"
    }
   ],
   "source": [
    "import matplotlib.pyplot as plt\n",
    "import pandas as pd\n",
    "import numpy as np\n",
    "\n",
    "# Sample data\n",
    "data = {\n",
    "    'Penalty': [0.5, 1.0, 1.5, 2.0, 2.5, 3.0, 3.5, 4.0, 4.5, 5.0],\n",
    "    'Odds_Bernoulli': [100, 100, 7.94, 8.54, 3.56, 3.36, 3.62, 3.62, 3.62, 3.62],\n",
    "    'Size_Bernoulli': [11, 8, 4, 4, 3, 3, 1, 1, 1, 1],\n",
    "    'Literals_Bernoulli': [9, 7, 5, 4, 3, 3, 1, 1, 1, 1],\n",
    "    'Odds_Poisson': [13.89, 8.11, 4.42, 4.42, 3.56, 3.56, 3.62, 3.62, 3.62, 3.62],\n",
    "    'Size_Poisson': [40, 8, 4, 4, 3, 3, 3, 1, 1, 1],\n",
    "    'Literals_Poisson': [19, 8, 4, 4, 3, 3, 4, 1, 1, 1],\n",
    "}\n",
    "\n",
    "df = pd.DataFrame(data)\n",
    "\n",
    "# Plotting as a line chart\n",
    "plt.figure(figsize=(12, 8))\n",
    "\n",
    "# Plot Odds for Bernoulli with annotations\n",
    "plt.plot(df['Penalty'], df['Odds_Bernoulli'], marker='o', label='Bernoulli')\n",
    "\n",
    "for i, (size, literals) in enumerate(zip(df['Size_Bernoulli'], df['Literals_Bernoulli'])):\n",
    "    plt.annotate(f\"Size: {size}\\nLiterals: {literals}\", (df['Penalty'][i], df['Odds_Bernoulli'][i]),\n",
    "                 textcoords=\"offset points\", xytext=(0,10), ha='center')\n",
    "\n",
    "# Plot Odds for Poisson with annotations\n",
    "plt.plot(df['Penalty'], df['Odds_Poisson'], marker='o', label='Poisson')\n",
    "\n",
    "for i, (size, literals) in enumerate(zip(df['Size_Poisson'], df['Literals_Poisson'])):\n",
    "    plt.annotate(f\"Size: {size}\\nLiterals: {literals}\", (df['Penalty'][i], df['Odds_Poisson'][i]),\n",
    "                 textcoords=\"offset points\", xytext=(0,10), ha='center')\n",
    "\n",
    "# Add labels and title\n",
    "plt.xlabel('Penalty')\n",
    "plt.ylabel('Odds')\n",
    "plt.title('Odds for Bernoulli and Poisson Methods')\n",
    "plt.legend()\n",
    "\n",
    "# Show the plot\n",
    "plt.grid(True)\n",
    "plt.show()\n"
   ]
  },
  {
   "cell_type": "code",
   "execution_count": 40,
   "metadata": {},
   "outputs": [],
   "source": [
    "def get_str(x):\n",
    "    # This function turns a pandas bin to a meaningful string\n",
    "    s = str(round(x.left, 2)) + ' - ' + str(round(x.right,2))\n",
    "    return s\n",
    "\n",
    "def custom_qcut(ser, contiguous = True):\n",
    "    # Get the rows that are actual numbers\n",
    "    sub_ser = ser[(ser != -111) \\\n",
    "                     & (ser != -222) \\\n",
    "                     & (ser != -555) \\\n",
    "                     & (ser != -999)]\n",
    "    \n",
    "    if contiguous:\n",
    "        # if contiguous, treat all the special numbers the same\n",
    "        ser = ser.replace(-111 , -999)\n",
    "        ser = ser.replace(-222 , -999)\n",
    "        ser = ser.replace(-555 , -999)\n",
    "\n",
    "    # Bin the actual numbers into 10 bins for scanning\n",
    "    sub_ser = pd.qcut(sub_ser, 10, duplicates='drop')\n",
    "    sub_ser = sub_ser.apply(get_str).astype(str)\n",
    "    ser[list(sub_ser.index)] = sub_ser\n",
    "    return ser\n",
    "            "
   ]
  },
  {
   "cell_type": "code",
   "execution_count": 41,
   "metadata": {},
   "outputs": [],
   "source": [
    "contiguous = {}\n",
    "dff_2 = dff.copy()\n",
    "\n",
    "# Create a new dataframe with the numeric columns bins     \n",
    "for col in numeric_columns:\n",
    "    if col in search_space:\n",
    "        dff_2[col] = custom_qcut(dff_2[col].copy())\n",
    "        \n",
    "        bins = list(dff_2[col].unique())\n",
    "        \n",
    "        if -999 in bins:\n",
    "            bins.remove(-999)\n",
    "        \n",
    "        bins = sorted(bins, key=lambda x : float(x.split(' - ')[0]))\n",
    "        \n",
    "        contiguous[col] = bins"
   ]
  },
  {
   "cell_type": "markdown",
   "metadata": {},
   "source": [
    "#### For treated missingness\n",
    "Rerun the next cells and jump to next markdown cell"
   ]
  },
  {
   "cell_type": "code",
   "execution_count": 34,
   "metadata": {},
   "outputs": [],
   "source": [
    "contiguous = {}\n",
    "dff_2 = treated.copy()\n",
    "\n",
    "# Create a new dataframe with the numeric columns bins     \n",
    "for col in numeric_columns:\n",
    "    if col in search_space:\n",
    "        dff_2[col] = custom_qcut(dff_2[col].copy())\n",
    "        \n",
    "        bins = list(dff_2[col].unique())\n",
    "        \n",
    "        if -999 in bins:\n",
    "            bins.remove(-999)\n",
    "        \n",
    "        bins = sorted(bins, key=lambda x : float(x.split(' - ')[0]))\n",
    "        \n",
    "        contiguous[col] = bins"
   ]
  },
  {
   "cell_type": "code",
   "execution_count": 42,
   "metadata": {},
   "outputs": [],
   "source": [
    "def compress_contiguous(subset, contiguous):\n",
    "    # Shorten a contiguous list e.g [0-9, 10-19] is converted to [0 - 19] \n",
    "    new = {}\n",
    "    \n",
    "    for col in subset:\n",
    "        if col in contiguous:\n",
    "            if isinstance(subset[col][0], (float,int)):\n",
    "                new[col] = [str(c) for c in subset[col]]\n",
    "                continue\n",
    "            i = -1 if isinstance(subset[col][-1], str) else -2\n",
    "            new[col] = [subset[col][0].split(' - ')[0] + ' - ' + subset[col][i].split(' - ')[-1]]\n",
    "            new[col] = new[col] if i == -1 else new[col] + [str(subset[col][-1])]\n",
    "        else:\n",
    "            new[col] = [str(c) for c in subset[col]]\n",
    "    return new\n",
    "\n",
    "def translate_subset_to_rule(subset):\n",
    "    # Print the subset as a rule for easier understanding\n",
    "    desc = ''\n",
    "    for key, value in subset.items():\n",
    "        desc += key + ' = {' + ' OR '.join(value) + '} AND' + '\\n'\n",
    "\n",
    "    return desc[:-5].replace('_',' ').replace('{', '(').replace('}', ')')"
   ]
  },
  {
   "cell_type": "code",
   "execution_count": 23,
   "metadata": {},
   "outputs": [
    {
     "name": "stdout",
     "output_type": "stream",
     "text": [
      "Penalty = 1: Subset = {'cholesterol_1_qc': ['0.3 - 2.78', '2.78 - 3.16', '3.16 - 3.47', '3.47 - 3.71', '3.71 - 3.99', '3.99 - 4.15', '4.15 - 4.46', '4.46 - 4.78'], 'bmi_c_qc': ['27.97 - 30.09', '30.09 - 32.59', '32.59 - 35.92', '35.92 - 68.02'], 'subcutaneous_fat_qc': ['1.54 - 1.82', '1.82 - 2.17', '2.17 - 2.54', '2.54 - 2.95', '2.95 - 4.28', '4.28 - 10.41'], 'ses_site_quintile_c_qc': [5.0], 'visceral_fat_qc': ['-0.74 - 2.82', '2.82 - 4.16', '4.16 - 4.87', '4.87 - 5.42', '5.42 - 5.91', '5.91 - 6.36', '6.36 - 6.85', '6.85 - 7.63', '7.63 - 8.64'], 'cimt_mean_max': ['0.62 - 0.64', '0.64 - 0.66', '0.66 - 0.68', '0.68 - 0.71', '0.71 - 0.74', '0.74 - 0.77', '0.77 - 0.83', '0.83 - 1.7'], 'waist_hip_r_c_qc': ['0.94 - 0.97', '0.97 - 1.0', '1.0 - 1.16'], 'age': ['42.0 - 44.0', '44.0 - 47.0', '47.0 - 50.0', '50.0 - 51.0', '51.0 - 53.0', '53.0 - 55.0', '55.0 - 57.0', '57.0 - 58.0']}, Score = 11.813000759857985\n",
      "Penalty = 2: Subset = {'friedewald_ldl_c_c_qc': ['-3.31 - 1.37', '1.37 - 1.69', '1.69 - 1.92', '1.92 - 2.14', '2.14 - 2.37', '2.37 - 2.49', '2.49 - 2.79', '2.79 - 3.06', '3.06 - 3.54'], 'waist_hip_r_c_qc': ['1.0 - 1.16'], 'cimt_mean_max': ['0.74 - 0.77', '0.77 - 0.83', '0.83 - 1.7']}, Score = 14.378834027066976\n",
      "Penalty = 3: Subset = {'cimt_mean_max': ['0.74 - 0.77', '0.77 - 0.83', '0.83 - 1.7'], 'waist_hip_r_c_qc': ['1.0 - 1.16']}, Score = 12.187553177273294\n",
      "Penalty = 4: Subset = {'cimt_mean_max': ['0.74 - 0.77', '0.77 - 0.83', '0.83 - 1.7'], 'waist_hip_r_c_qc': ['1.0 - 1.16']}, Score = 10.187553177273294\n",
      "Penalty = 5: Subset = {'cimt_mean_max': ['0.74 - 0.77', '0.77 - 0.83', '0.83 - 1.7'], 'waist_hip_r_c_qc': ['1.0 - 1.16']}, Score = 8.187553177273294\n",
      "Penalty = 6: Subset = {'cimt_mean_max': ['0.74 - 0.77', '0.77 - 0.83', '0.83 - 1.7'], 'waist_hip_r_c_qc': ['1.0 - 1.16']}, Score = 6.187553177273294\n",
      "Penalty = 7: Subset = {'cimt_mean_max': ['0.74 - 0.77', '0.77 - 0.83', '0.83 - 1.7'], 'waist_hip_r_c_qc': ['1.0 - 1.16']}, Score = 4.187553177273294\n"
     ]
    }
   ],
   "source": [
    "# %%time\n",
    "# Scan in the positive direction using defined penalties and num iters\n",
    "\n",
    "scoring_function = Bernoulli(direction='positive')\n",
    "scanner = MDSS(scoring_function)\n",
    "# Define a list of penalty values to loop through\n",
    "penalty_values = [1, 2, 3, 4, 5, 6, 7]\n",
    "num_iters = 10\n",
    "# Initialize empty lists to store results\n",
    "subset_results = []\n",
    "score_results = []\n",
    "\n",
    "# Loop through each penalty value\n",
    "for penalty in penalty_values:\n",
    "    # Perform the scan with the current penalty value\n",
    "    subset, score = scanner.scan(dff_2[search_space], dff_2[target_col], dff_2['expectation'], cpu=0.95,\n",
    "                                 penalty=penalty, num_iters=num_iters, contiguous=contiguous.copy())\n",
    "    \n",
    "    # Append the results to the respective lists\n",
    "    subset_results.append(subset)\n",
    "    score_results.append(score)\n",
    "\n",
    "# Display the results for each penalty value\n",
    "for i, penalty in enumerate(penalty_values):\n",
    "    print(f\"Penalty = {penalty}: Subset = {subset_results[i]}, Score = {score_results[i]}\")"
   ]
  },
  {
   "cell_type": "code",
   "execution_count": 175,
   "metadata": {},
   "outputs": [
    {
     "name": "stdout",
     "output_type": "stream",
     "text": [
      "CPU times: user 235 ms, sys: 69.4 ms, total: 304 ms\n",
      "Wall time: 4.58 s\n"
     ]
    },
    {
     "data": {
      "text/plain": [
       "({'waist_hip_r_c_qc': ['1.0 - 1.16']}, 7.358589707651763)"
      ]
     },
     "execution_count": 175,
     "metadata": {},
     "output_type": "execute_result"
    }
   ],
   "source": [
    "%%time\n",
    "# Scan in the positive direction using defined penalties and num iters\n",
    "\n",
    "scoring_function = Bernoulli(direction='positive')\n",
    "scanner = MDSS(scoring_function)\n",
    "\n",
    "penalty = 3.5\n",
    "num_iters = 10\n",
    "\n",
    "subset, score = scanner.scan(dff_2[search_space], dff_2[target_col], dff_2['expectation'],cpu = .95,\n",
    "                             penalty = penalty, num_iters = num_iters, contiguous = contiguous.copy())\n",
    "subset, score"
   ]
  },
  {
   "cell_type": "code",
   "execution_count": 176,
   "metadata": {},
   "outputs": [
    {
     "name": "stdout",
     "output_type": "stream",
     "text": [
      "waist hip r c qc = (1.0 - 1.16)\n"
     ]
    }
   ],
   "source": [
    "print(translate_subset_to_rule(compress_contiguous(subset, contiguous)))"
   ]
  },
  {
   "cell_type": "code",
   "execution_count": 177,
   "metadata": {},
   "outputs": [
    {
     "name": "stdout",
     "output_type": "stream",
     "text": [
      "Our detected subgroup has a size of 130 \n",
      "Recall that our population average is 0.05051194539249147      \n",
      "In this subgroup, we observe a mean outcome of 0.162\n",
      "With 21 individuals in the group above average       \n",
      "This is a multiplicative factor in the odds (i.e q) of 3.621\n"
     ]
    }
   ],
   "source": [
    "# print some information about the subset\n",
    "to_choose = dff_2[subset.keys()].isin(subset).all(axis=1)\n",
    "temp_df = dff_2.loc[to_choose]\n",
    "\n",
    "size = len(temp_df)\n",
    "observed_income = np.round(temp_df[target_col].mean(), 3)\n",
    "positive_class_count = temp_df[target_col].sum()\n",
    "\n",
    "group_obs = temp_df[target_col].mean()\n",
    "group_prob = temp_df['expectation'].mean()\n",
    "odds_mul = (group_obs / (1 - group_obs)) / (group_prob /(1 - group_prob))\n",
    "\n",
    "print(\"Our detected subgroup has a size of {} \\nRecall that our population average is {}\\\n",
    "      \\nIn this subgroup, we observe a mean outcome of {}\\nWith {} individuals in the group above average \\\n",
    "      \\nThis is a multiplicative factor in the odds (i.e q) of {}\".\\\n",
    "      format(size, group_prob , observed_income, positive_class_count, np.round(odds_mul, 3)))"
   ]
  },
  {
   "cell_type": "code",
   "execution_count": 178,
   "metadata": {},
   "outputs": [],
   "source": [
    "pen7 = temp_df"
   ]
  },
  {
   "cell_type": "code",
   "execution_count": 185,
   "metadata": {},
   "outputs": [
    {
     "data": {
      "text/plain": [
       "(1465, 27)"
      ]
     },
     "execution_count": 185,
     "metadata": {},
     "output_type": "execute_result"
    }
   ],
   "source": [
    "dff_2.shape"
   ]
  },
  {
   "cell_type": "code",
   "execution_count": 206,
   "metadata": {},
   "outputs": [],
   "source": [
    "del final_df"
   ]
  },
  {
   "cell_type": "code",
   "execution_count": 207,
   "metadata": {},
   "outputs": [
    {
     "name": "stdout",
     "output_type": "stream",
     "text": [
      "      Baseline  5_literals  3_literals  1_literal  1_literal\n",
      "361          1           0           0        NaN          0\n",
      "366          1           0           0        NaN          0\n",
      "367          1           0           0        NaN          0\n",
      "371          1           0           0        NaN          0\n",
      "375          1           0           0        NaN          0\n",
      "...        ...         ...         ...        ...        ...\n",
      "4475         1           0           0        NaN          0\n",
      "4477         1           0           0        NaN          0\n",
      "4478         1           0           0        NaN          0\n",
      "4484         1           0           0        NaN          0\n",
      "4485         1           0           0        NaN          0\n",
      "\n",
      "[1465 rows x 5 columns]\n"
     ]
    }
   ],
   "source": [
    "# Identify unique observations from the datasets\n",
    "unique_ids = np.unique(np.concatenate([dff_2.index, pen3.index, pen4.index, pen7.index]))\n",
    "\n",
    "# Create a DataFrame with values of 1 in the baseline column and 0 or 1 in the other columns\n",
    "final_df = pd.DataFrame(index=unique_ids, columns=['Baseline', '5_literals', '3_literals', ' 1_literal'])\n",
    "\n",
    "# Set values based on the presence of IDs in the datasets\n",
    "final_df['Baseline'] = 1\n",
    "final_df['5_literals'] = final_df.index.isin(pen3.index).astype(int)\n",
    "final_df['3_literals'] = final_df.index.isin(pen4.index).astype(int)\n",
    "final_df['1_literal'] = final_df.index.isin(pen7.index).astype(int)\n",
    "\n",
    "# Display the final DataFrame\n",
    "print(final_df)"
   ]
  },
  {
   "cell_type": "code",
   "execution_count": 208,
   "metadata": {},
   "outputs": [
    {
     "data": {
      "text/plain": [
       "rows\n",
       "1460    [0]\n",
       "1461    [0]\n",
       "1462    [0]\n",
       "1463    [0]\n",
       "1464    [0]\n",
       "dtype: object"
      ]
     },
     "execution_count": 208,
     "metadata": {},
     "output_type": "execute_result"
    }
   ],
   "source": [
    "# get coordinates where event occurs (value=1)\n",
    "row_paths, col_paths = np.where(final_df.eq(1))\n",
    "mask = pd.DataFrame(data= {'rows':row_paths, 'cols':col_paths})\n",
    "\n",
    "# aggregate by row to get application's path\n",
    "agg_mask = mask.groupby('rows').apply(lambda x: [x for x in x.cols])\n",
    "agg_mask.tail()"
   ]
  },
  {
   "cell_type": "code",
   "execution_count": 209,
   "metadata": {},
   "outputs": [
    {
     "data": {
      "text/html": [
       "<div>\n",
       "<style scoped>\n",
       "    .dataframe tbody tr th:only-of-type {\n",
       "        vertical-align: middle;\n",
       "    }\n",
       "\n",
       "    .dataframe tbody tr th {\n",
       "        vertical-align: top;\n",
       "    }\n",
       "\n",
       "    .dataframe thead th {\n",
       "        text-align: right;\n",
       "    }\n",
       "</style>\n",
       "<table border=\"1\" class=\"dataframe\">\n",
       "  <thead>\n",
       "    <tr style=\"text-align: right;\">\n",
       "      <th></th>\n",
       "      <th>source</th>\n",
       "      <th>target</th>\n",
       "      <th>value</th>\n",
       "    </tr>\n",
       "  </thead>\n",
       "  <tbody>\n",
       "    <tr>\n",
       "      <th>0</th>\n",
       "      <td>0</td>\n",
       "      <td>4</td>\n",
       "      <td>65</td>\n",
       "    </tr>\n",
       "    <tr>\n",
       "      <th>1</th>\n",
       "      <td>0</td>\n",
       "      <td>1</td>\n",
       "      <td>64</td>\n",
       "    </tr>\n",
       "    <tr>\n",
       "      <th>2</th>\n",
       "      <td>2</td>\n",
       "      <td>4</td>\n",
       "      <td>48</td>\n",
       "    </tr>\n",
       "    <tr>\n",
       "      <th>3</th>\n",
       "      <td>0</td>\n",
       "      <td>2</td>\n",
       "      <td>33</td>\n",
       "    </tr>\n",
       "    <tr>\n",
       "      <th>4</th>\n",
       "      <td>1</td>\n",
       "      <td>4</td>\n",
       "      <td>17</td>\n",
       "    </tr>\n",
       "  </tbody>\n",
       "</table>\n",
       "</div>"
      ],
      "text/plain": [
       "   source  target  value\n",
       "0       0       4     65\n",
       "1       0       1     64\n",
       "2       2       4     48\n",
       "3       0       2     33\n",
       "4       1       4     17"
      ]
     },
     "execution_count": 209,
     "metadata": {},
     "output_type": "execute_result"
    }
   ],
   "source": [
    "all_events = []\n",
    "\n",
    "# get pair of source and target\n",
    "for row in agg_mask:\n",
    "    for index in range(len(row)-1):\n",
    "        all_events.append([row[index], row[index+1]])\n",
    "        \n",
    "# create df for aggregation        \n",
    "sankey_ST = pd.DataFrame(data=all_events)\n",
    "sankey_ST = sankey_ST.rename(columns={0:'source', 1:'target'})\n",
    "sankey_ST = sankey_ST.value_counts().reset_index()\n",
    "sankey_ST = sankey_ST.rename(columns={0:'value'})\n",
    "\n",
    "sankey_ST.head()"
   ]
  },
  {
   "cell_type": "code",
   "execution_count": 306,
   "metadata": {},
   "outputs": [
    {
     "data": {
      "application/vnd.plotly.v1+json": {
       "config": {
        "plotlyServerURL": "https://plot.ly"
       },
       "data": [
        {
         "link": {
          "source": [
           0,
           0,
           2,
           0,
           1,
           1
          ],
          "target": [
           4,
           1,
           4,
           2,
           4,
           2
          ],
          "value": [
           65,
           64,
           48,
           33,
           17,
           15
          ]
         },
         "node": {
          "label": [
           "Baseline: 1465",
           "5_literals: 64",
           "3_literals: 48",
           " 1_literal: 0",
           "1_literal: 130"
          ],
          "pad": 15,
          "thickness": 20
         },
         "textfont": {
          "size": 12
         },
         "type": "sankey"
        }
       ],
       "layout": {
        "font": {
         "size": 10
        },
        "template": {
         "data": {
          "bar": [
           {
            "error_x": {
             "color": "#2a3f5f"
            },
            "error_y": {
             "color": "#2a3f5f"
            },
            "marker": {
             "line": {
              "color": "#E5ECF6",
              "width": 0.5
             },
             "pattern": {
              "fillmode": "overlay",
              "size": 10,
              "solidity": 0.2
             }
            },
            "type": "bar"
           }
          ],
          "barpolar": [
           {
            "marker": {
             "line": {
              "color": "#E5ECF6",
              "width": 0.5
             },
             "pattern": {
              "fillmode": "overlay",
              "size": 10,
              "solidity": 0.2
             }
            },
            "type": "barpolar"
           }
          ],
          "carpet": [
           {
            "aaxis": {
             "endlinecolor": "#2a3f5f",
             "gridcolor": "white",
             "linecolor": "white",
             "minorgridcolor": "white",
             "startlinecolor": "#2a3f5f"
            },
            "baxis": {
             "endlinecolor": "#2a3f5f",
             "gridcolor": "white",
             "linecolor": "white",
             "minorgridcolor": "white",
             "startlinecolor": "#2a3f5f"
            },
            "type": "carpet"
           }
          ],
          "choropleth": [
           {
            "colorbar": {
             "outlinewidth": 0,
             "ticks": ""
            },
            "type": "choropleth"
           }
          ],
          "contour": [
           {
            "colorbar": {
             "outlinewidth": 0,
             "ticks": ""
            },
            "colorscale": [
             [
              0,
              "#0d0887"
             ],
             [
              0.1111111111111111,
              "#46039f"
             ],
             [
              0.2222222222222222,
              "#7201a8"
             ],
             [
              0.3333333333333333,
              "#9c179e"
             ],
             [
              0.4444444444444444,
              "#bd3786"
             ],
             [
              0.5555555555555556,
              "#d8576b"
             ],
             [
              0.6666666666666666,
              "#ed7953"
             ],
             [
              0.7777777777777778,
              "#fb9f3a"
             ],
             [
              0.8888888888888888,
              "#fdca26"
             ],
             [
              1,
              "#f0f921"
             ]
            ],
            "type": "contour"
           }
          ],
          "contourcarpet": [
           {
            "colorbar": {
             "outlinewidth": 0,
             "ticks": ""
            },
            "type": "contourcarpet"
           }
          ],
          "heatmap": [
           {
            "colorbar": {
             "outlinewidth": 0,
             "ticks": ""
            },
            "colorscale": [
             [
              0,
              "#0d0887"
             ],
             [
              0.1111111111111111,
              "#46039f"
             ],
             [
              0.2222222222222222,
              "#7201a8"
             ],
             [
              0.3333333333333333,
              "#9c179e"
             ],
             [
              0.4444444444444444,
              "#bd3786"
             ],
             [
              0.5555555555555556,
              "#d8576b"
             ],
             [
              0.6666666666666666,
              "#ed7953"
             ],
             [
              0.7777777777777778,
              "#fb9f3a"
             ],
             [
              0.8888888888888888,
              "#fdca26"
             ],
             [
              1,
              "#f0f921"
             ]
            ],
            "type": "heatmap"
           }
          ],
          "heatmapgl": [
           {
            "colorbar": {
             "outlinewidth": 0,
             "ticks": ""
            },
            "colorscale": [
             [
              0,
              "#0d0887"
             ],
             [
              0.1111111111111111,
              "#46039f"
             ],
             [
              0.2222222222222222,
              "#7201a8"
             ],
             [
              0.3333333333333333,
              "#9c179e"
             ],
             [
              0.4444444444444444,
              "#bd3786"
             ],
             [
              0.5555555555555556,
              "#d8576b"
             ],
             [
              0.6666666666666666,
              "#ed7953"
             ],
             [
              0.7777777777777778,
              "#fb9f3a"
             ],
             [
              0.8888888888888888,
              "#fdca26"
             ],
             [
              1,
              "#f0f921"
             ]
            ],
            "type": "heatmapgl"
           }
          ],
          "histogram": [
           {
            "marker": {
             "pattern": {
              "fillmode": "overlay",
              "size": 10,
              "solidity": 0.2
             }
            },
            "type": "histogram"
           }
          ],
          "histogram2d": [
           {
            "colorbar": {
             "outlinewidth": 0,
             "ticks": ""
            },
            "colorscale": [
             [
              0,
              "#0d0887"
             ],
             [
              0.1111111111111111,
              "#46039f"
             ],
             [
              0.2222222222222222,
              "#7201a8"
             ],
             [
              0.3333333333333333,
              "#9c179e"
             ],
             [
              0.4444444444444444,
              "#bd3786"
             ],
             [
              0.5555555555555556,
              "#d8576b"
             ],
             [
              0.6666666666666666,
              "#ed7953"
             ],
             [
              0.7777777777777778,
              "#fb9f3a"
             ],
             [
              0.8888888888888888,
              "#fdca26"
             ],
             [
              1,
              "#f0f921"
             ]
            ],
            "type": "histogram2d"
           }
          ],
          "histogram2dcontour": [
           {
            "colorbar": {
             "outlinewidth": 0,
             "ticks": ""
            },
            "colorscale": [
             [
              0,
              "#0d0887"
             ],
             [
              0.1111111111111111,
              "#46039f"
             ],
             [
              0.2222222222222222,
              "#7201a8"
             ],
             [
              0.3333333333333333,
              "#9c179e"
             ],
             [
              0.4444444444444444,
              "#bd3786"
             ],
             [
              0.5555555555555556,
              "#d8576b"
             ],
             [
              0.6666666666666666,
              "#ed7953"
             ],
             [
              0.7777777777777778,
              "#fb9f3a"
             ],
             [
              0.8888888888888888,
              "#fdca26"
             ],
             [
              1,
              "#f0f921"
             ]
            ],
            "type": "histogram2dcontour"
           }
          ],
          "mesh3d": [
           {
            "colorbar": {
             "outlinewidth": 0,
             "ticks": ""
            },
            "type": "mesh3d"
           }
          ],
          "parcoords": [
           {
            "line": {
             "colorbar": {
              "outlinewidth": 0,
              "ticks": ""
             }
            },
            "type": "parcoords"
           }
          ],
          "pie": [
           {
            "automargin": true,
            "type": "pie"
           }
          ],
          "scatter": [
           {
            "fillpattern": {
             "fillmode": "overlay",
             "size": 10,
             "solidity": 0.2
            },
            "type": "scatter"
           }
          ],
          "scatter3d": [
           {
            "line": {
             "colorbar": {
              "outlinewidth": 0,
              "ticks": ""
             }
            },
            "marker": {
             "colorbar": {
              "outlinewidth": 0,
              "ticks": ""
             }
            },
            "type": "scatter3d"
           }
          ],
          "scattercarpet": [
           {
            "marker": {
             "colorbar": {
              "outlinewidth": 0,
              "ticks": ""
             }
            },
            "type": "scattercarpet"
           }
          ],
          "scattergeo": [
           {
            "marker": {
             "colorbar": {
              "outlinewidth": 0,
              "ticks": ""
             }
            },
            "type": "scattergeo"
           }
          ],
          "scattergl": [
           {
            "marker": {
             "colorbar": {
              "outlinewidth": 0,
              "ticks": ""
             }
            },
            "type": "scattergl"
           }
          ],
          "scattermapbox": [
           {
            "marker": {
             "colorbar": {
              "outlinewidth": 0,
              "ticks": ""
             }
            },
            "type": "scattermapbox"
           }
          ],
          "scatterpolar": [
           {
            "marker": {
             "colorbar": {
              "outlinewidth": 0,
              "ticks": ""
             }
            },
            "type": "scatterpolar"
           }
          ],
          "scatterpolargl": [
           {
            "marker": {
             "colorbar": {
              "outlinewidth": 0,
              "ticks": ""
             }
            },
            "type": "scatterpolargl"
           }
          ],
          "scatterternary": [
           {
            "marker": {
             "colorbar": {
              "outlinewidth": 0,
              "ticks": ""
             }
            },
            "type": "scatterternary"
           }
          ],
          "surface": [
           {
            "colorbar": {
             "outlinewidth": 0,
             "ticks": ""
            },
            "colorscale": [
             [
              0,
              "#0d0887"
             ],
             [
              0.1111111111111111,
              "#46039f"
             ],
             [
              0.2222222222222222,
              "#7201a8"
             ],
             [
              0.3333333333333333,
              "#9c179e"
             ],
             [
              0.4444444444444444,
              "#bd3786"
             ],
             [
              0.5555555555555556,
              "#d8576b"
             ],
             [
              0.6666666666666666,
              "#ed7953"
             ],
             [
              0.7777777777777778,
              "#fb9f3a"
             ],
             [
              0.8888888888888888,
              "#fdca26"
             ],
             [
              1,
              "#f0f921"
             ]
            ],
            "type": "surface"
           }
          ],
          "table": [
           {
            "cells": {
             "fill": {
              "color": "#EBF0F8"
             },
             "line": {
              "color": "white"
             }
            },
            "header": {
             "fill": {
              "color": "#C8D4E3"
             },
             "line": {
              "color": "white"
             }
            },
            "type": "table"
           }
          ]
         },
         "layout": {
          "annotationdefaults": {
           "arrowcolor": "#2a3f5f",
           "arrowhead": 0,
           "arrowwidth": 1
          },
          "autotypenumbers": "strict",
          "coloraxis": {
           "colorbar": {
            "outlinewidth": 0,
            "ticks": ""
           }
          },
          "colorscale": {
           "diverging": [
            [
             0,
             "#8e0152"
            ],
            [
             0.1,
             "#c51b7d"
            ],
            [
             0.2,
             "#de77ae"
            ],
            [
             0.3,
             "#f1b6da"
            ],
            [
             0.4,
             "#fde0ef"
            ],
            [
             0.5,
             "#f7f7f7"
            ],
            [
             0.6,
             "#e6f5d0"
            ],
            [
             0.7,
             "#b8e186"
            ],
            [
             0.8,
             "#7fbc41"
            ],
            [
             0.9,
             "#4d9221"
            ],
            [
             1,
             "#276419"
            ]
           ],
           "sequential": [
            [
             0,
             "#0d0887"
            ],
            [
             0.1111111111111111,
             "#46039f"
            ],
            [
             0.2222222222222222,
             "#7201a8"
            ],
            [
             0.3333333333333333,
             "#9c179e"
            ],
            [
             0.4444444444444444,
             "#bd3786"
            ],
            [
             0.5555555555555556,
             "#d8576b"
            ],
            [
             0.6666666666666666,
             "#ed7953"
            ],
            [
             0.7777777777777778,
             "#fb9f3a"
            ],
            [
             0.8888888888888888,
             "#fdca26"
            ],
            [
             1,
             "#f0f921"
            ]
           ],
           "sequentialminus": [
            [
             0,
             "#0d0887"
            ],
            [
             0.1111111111111111,
             "#46039f"
            ],
            [
             0.2222222222222222,
             "#7201a8"
            ],
            [
             0.3333333333333333,
             "#9c179e"
            ],
            [
             0.4444444444444444,
             "#bd3786"
            ],
            [
             0.5555555555555556,
             "#d8576b"
            ],
            [
             0.6666666666666666,
             "#ed7953"
            ],
            [
             0.7777777777777778,
             "#fb9f3a"
            ],
            [
             0.8888888888888888,
             "#fdca26"
            ],
            [
             1,
             "#f0f921"
            ]
           ]
          },
          "colorway": [
           "#636efa",
           "#EF553B",
           "#00cc96",
           "#ab63fa",
           "#FFA15A",
           "#19d3f3",
           "#FF6692",
           "#B6E880",
           "#FF97FF",
           "#FECB52"
          ],
          "font": {
           "color": "#2a3f5f"
          },
          "geo": {
           "bgcolor": "white",
           "lakecolor": "white",
           "landcolor": "#E5ECF6",
           "showlakes": true,
           "showland": true,
           "subunitcolor": "white"
          },
          "hoverlabel": {
           "align": "left"
          },
          "hovermode": "closest",
          "mapbox": {
           "style": "light"
          },
          "paper_bgcolor": "white",
          "plot_bgcolor": "#E5ECF6",
          "polar": {
           "angularaxis": {
            "gridcolor": "white",
            "linecolor": "white",
            "ticks": ""
           },
           "bgcolor": "#E5ECF6",
           "radialaxis": {
            "gridcolor": "white",
            "linecolor": "white",
            "ticks": ""
           }
          },
          "scene": {
           "xaxis": {
            "backgroundcolor": "#E5ECF6",
            "gridcolor": "white",
            "gridwidth": 2,
            "linecolor": "white",
            "showbackground": true,
            "ticks": "",
            "zerolinecolor": "white"
           },
           "yaxis": {
            "backgroundcolor": "#E5ECF6",
            "gridcolor": "white",
            "gridwidth": 2,
            "linecolor": "white",
            "showbackground": true,
            "ticks": "",
            "zerolinecolor": "white"
           },
           "zaxis": {
            "backgroundcolor": "#E5ECF6",
            "gridcolor": "white",
            "gridwidth": 2,
            "linecolor": "white",
            "showbackground": true,
            "ticks": "",
            "zerolinecolor": "white"
           }
          },
          "shapedefaults": {
           "line": {
            "color": "#2a3f5f"
           }
          },
          "ternary": {
           "aaxis": {
            "gridcolor": "white",
            "linecolor": "white",
            "ticks": ""
           },
           "baxis": {
            "gridcolor": "white",
            "linecolor": "white",
            "ticks": ""
           },
           "bgcolor": "#E5ECF6",
           "caxis": {
            "gridcolor": "white",
            "linecolor": "white",
            "ticks": ""
           }
          },
          "title": {
           "x": 0.05
          },
          "xaxis": {
           "automargin": true,
           "gridcolor": "white",
           "linecolor": "white",
           "ticks": "",
           "title": {
            "standoff": 15
           },
           "zerolinecolor": "white",
           "zerolinewidth": 2
          },
          "yaxis": {
           "automargin": true,
           "gridcolor": "white",
           "linecolor": "white",
           "ticks": "",
           "title": {
            "standoff": 15
           },
           "zerolinecolor": "white",
           "zerolinewidth": 2
          }
         }
        },
        "title": {
         "text": "Sankey plot for flow of literals"
        }
       }
      }
     },
     "metadata": {},
     "output_type": "display_data"
    }
   ],
   "source": [
    "import plotly.graph_objects as go\n",
    "fig = go.Figure(data=[go.Sankey(\n",
    "    node = dict(\n",
    "        pad = 15,\n",
    "        thickness = 20,\n",
    "        label = [f'{x}: {final_df[x].sum()}' for x in final_df.columns]\n",
    "    ),\n",
    "    link=dict(\n",
    "        source = sankey_ST['source'],\n",
    "        target = sankey_ST['target'],\n",
    "        value = sankey_ST['value']\n",
    "    ),\n",
    ")])\n",
    "\n",
    "\n",
    "fig.update_layout(title_text='Sankey plot for flow of literals', font_size=10)\n",
    "fig.update_traces(textfont_size=12)\n",
    "fig.show()"
   ]
  },
  {
   "cell_type": "markdown",
   "metadata": {},
   "source": [
    "#### Use Poisson distribution for the scoring (utility) function"
   ]
  },
  {
   "cell_type": "code",
   "execution_count": 147,
   "metadata": {},
   "outputs": [
    {
     "name": "stdout",
     "output_type": "stream",
     "text": [
      "CPU times: user 228 ms, sys: 78.4 ms, total: 306 ms\n",
      "Wall time: 2.86 s\n"
     ]
    },
    {
     "data": {
      "text/plain": [
       "({'waist_hip_r_c_qc': ['1.0 - 1.16']}, 4.979754626835501)"
      ]
     },
     "execution_count": 147,
     "metadata": {},
     "output_type": "execute_result"
    }
   ],
   "source": [
    "%%time\n",
    "from mdss.ScoringFunctions.Poisson import Poisson\n",
    "# Scan in the positive direction using defined penalties and num iters\n",
    "\n",
    "scoring_function = Poisson(direction='positive')\n",
    "scanner = MDSS(scoring_function)\n",
    "\n",
    "penalty = 5\n",
    "num_iters = 10\n",
    "\n",
    "subset, score = scanner.scan(dff_2[search_space], dff_2[target_col], dff_2['expectation'],cpu = .95,\n",
    "                             penalty = penalty, num_iters = num_iters, contiguous = contiguous.copy())\n",
    "subset, score"
   ]
  },
  {
   "cell_type": "code",
   "execution_count": 148,
   "metadata": {},
   "outputs": [
    {
     "name": "stdout",
     "output_type": "stream",
     "text": [
      "waist hip r c qc = (1.0 - 1.16)\n"
     ]
    }
   ],
   "source": [
    "print(translate_subset_to_rule(compress_contiguous(subset, contiguous)))"
   ]
  },
  {
   "cell_type": "code",
   "execution_count": 150,
   "metadata": {},
   "outputs": [
    {
     "name": "stdout",
     "output_type": "stream",
     "text": [
      "Our detected subgroup has a size of 130 \n",
      "Recall that our population average is 0.05051194539249147      \n",
      "In this subgroup, we observe a mean outcome of 0.162\n",
      "With 21 individuals in the group above average       \n",
      "This is a multiplicative factor in the odds (i.e q) of 3.621\n"
     ]
    }
   ],
   "source": [
    "# print some information about the subset\n",
    "to_choose = dff_2[subset.keys()].isin(subset).all(axis=1)\n",
    "temp_df = dff_2.loc[to_choose]\n",
    "\n",
    "size = len(temp_df)\n",
    "observed_income = np.round(temp_df[target_col].mean(), 3)\n",
    "positive_class_count = temp_df[target_col].sum()\n",
    "\n",
    "group_obs = temp_df[target_col].mean()\n",
    "group_prob = temp_df['expectation'].mean()\n",
    "odds_mul = (group_obs / (1 - group_obs)) / (group_prob /(1 - group_prob))\n",
    "\n",
    "print(\"Our detected subgroup has a size of {} \\nRecall that our population average is {}\\\n",
    "      \\nIn this subgroup, we observe a mean outcome of {}\\nWith {} individuals in the group above average \\\n",
    "      \\nThis is a multiplicative factor in the odds (i.e q) of {}\".\\\n",
    "      format(size, group_prob , observed_income, positive_class_count, np.round(odds_mul, 3)))"
   ]
  },
  {
   "cell_type": "code",
   "execution_count": 152,
   "metadata": {},
   "outputs": [
    {
     "ename": "KeyError",
     "evalue": "0",
     "output_type": "error",
     "traceback": [
      "\u001b[0;31m---------------------------------------------------------------------------\u001b[0m",
      "\u001b[0;31mKeyError\u001b[0m                                  Traceback (most recent call last)",
      "\u001b[1;32m/Users/kayadetunji/Downloads/HAALSI_work/mdscan-master/Autostrat.ipynb Cell 36\u001b[0m in \u001b[0;36m<cell line: 18>\u001b[0;34m()\u001b[0m\n\u001b[1;32m     <a href='vscode-notebook-cell:/Users/kayadetunji/Downloads/HAALSI_work/mdscan-master/Autostrat.ipynb#X56sZmlsZQ%3D%3D?line=14'>15</a>\u001b[0m     subset_df \u001b[39m=\u001b[39m data\u001b[39m.\u001b[39mloc[to_choose]\u001b[39m.\u001b[39mreset_index(drop\u001b[39m=\u001b[39m\u001b[39mTrue\u001b[39;00m)\n\u001b[1;32m     <a href='vscode-notebook-cell:/Users/kayadetunji/Downloads/HAALSI_work/mdscan-master/Autostrat.ipynb#X56sZmlsZQ%3D%3D?line=16'>17</a>\u001b[0m     \u001b[39mreturn\u001b[39;00m subset_df\n\u001b[0;32m---> <a href='vscode-notebook-cell:/Users/kayadetunji/Downloads/HAALSI_work/mdscan-master/Autostrat.ipynb#X56sZmlsZQ%3D%3D?line=17'>18</a>\u001b[0m subset_df \u001b[39m=\u001b[39m get_subset_dataframe(subset,dff)\n\u001b[1;32m     <a href='vscode-notebook-cell:/Users/kayadetunji/Downloads/HAALSI_work/mdscan-master/Autostrat.ipynb#X56sZmlsZQ%3D%3D?line=18'>19</a>\u001b[0m subset_df\u001b[39m.\u001b[39mhead()\n",
      "\u001b[1;32m/Users/kayadetunji/Downloads/HAALSI_work/mdscan-master/Autostrat.ipynb Cell 36\u001b[0m in \u001b[0;36mget_subset_dataframe\u001b[0;34m(subset, data)\u001b[0m\n\u001b[1;32m      <a href='vscode-notebook-cell:/Users/kayadetunji/Downloads/HAALSI_work/mdscan-master/Autostrat.ipynb#X56sZmlsZQ%3D%3D?line=2'>3</a>\u001b[0m \u001b[39m\u001b[39m\u001b[39m\"\"\" \u001b[39;00m\n\u001b[1;32m      <a href='vscode-notebook-cell:/Users/kayadetunji/Downloads/HAALSI_work/mdscan-master/Autostrat.ipynb#X56sZmlsZQ%3D%3D?line=3'>4</a>\u001b[0m \u001b[39mThis function takes a subset definition and returns a dataframe of records specified in the subset.\u001b[39;00m\n\u001b[1;32m      <a href='vscode-notebook-cell:/Users/kayadetunji/Downloads/HAALSI_work/mdscan-master/Autostrat.ipynb#X56sZmlsZQ%3D%3D?line=4'>5</a>\u001b[0m \u001b[39mParameters:\u001b[39;00m\n\u001b[0;32m   (...)\u001b[0m\n\u001b[1;32m     <a href='vscode-notebook-cell:/Users/kayadetunji/Downloads/HAALSI_work/mdscan-master/Autostrat.ipynb#X56sZmlsZQ%3D%3D?line=9'>10</a>\u001b[0m \u001b[39mpd.DataFrame: A new dataframe containing only the records that match the specified subset criteria.\u001b[39;00m\n\u001b[1;32m     <a href='vscode-notebook-cell:/Users/kayadetunji/Downloads/HAALSI_work/mdscan-master/Autostrat.ipynb#X56sZmlsZQ%3D%3D?line=10'>11</a>\u001b[0m \u001b[39m\"\"\"\u001b[39;00m\n\u001b[1;32m     <a href='vscode-notebook-cell:/Users/kayadetunji/Downloads/HAALSI_work/mdscan-master/Autostrat.ipynb#X56sZmlsZQ%3D%3D?line=11'>12</a>\u001b[0m \u001b[39m# select indices of column/value pairs in the subset description from the original dataset\u001b[39;00m\n\u001b[0;32m---> <a href='vscode-notebook-cell:/Users/kayadetunji/Downloads/HAALSI_work/mdscan-master/Autostrat.ipynb#X56sZmlsZQ%3D%3D?line=12'>13</a>\u001b[0m to_choose \u001b[39m=\u001b[39m data[subset[\u001b[39m0\u001b[39;49m]\u001b[39m.\u001b[39mkeys()]\u001b[39m.\u001b[39misin(subset[\u001b[39m0\u001b[39m])\u001b[39m.\u001b[39mall(axis\u001b[39m=\u001b[39m\u001b[39m1\u001b[39m)\n\u001b[1;32m     <a href='vscode-notebook-cell:/Users/kayadetunji/Downloads/HAALSI_work/mdscan-master/Autostrat.ipynb#X56sZmlsZQ%3D%3D?line=13'>14</a>\u001b[0m \u001b[39m# slice indices from original dataset and reset the index\u001b[39;00m\n\u001b[1;32m     <a href='vscode-notebook-cell:/Users/kayadetunji/Downloads/HAALSI_work/mdscan-master/Autostrat.ipynb#X56sZmlsZQ%3D%3D?line=14'>15</a>\u001b[0m subset_df \u001b[39m=\u001b[39m data\u001b[39m.\u001b[39mloc[to_choose]\u001b[39m.\u001b[39mreset_index(drop\u001b[39m=\u001b[39m\u001b[39mTrue\u001b[39;00m)\n",
      "\u001b[0;31mKeyError\u001b[0m: 0"
     ]
    }
   ],
   "source": [
    "# function to get records of returned subset definition\n",
    "def get_subset_dataframe(subset, data):\n",
    "    \"\"\" \n",
    "    This function takes a subset definition and returns a dataframe of records specified in the subset.\n",
    "    Parameters:\n",
    "    subset (dict): A dictionary where each key-value pair represents a column name and its corresponding\n",
    "    value to filter the dataframe.\n",
    "    data (pd.DataFrame): The original pandas dataframe from which the subset is to be extracted.\n",
    "    Returns:\n",
    "    pd.DataFrame: A new dataframe containing only the records that match the specified subset criteria.\n",
    "    \"\"\"\n",
    "    # select indices of column/value pairs in the subset description from the original dataset\n",
    "    to_choose = data[subset[0].keys()].isin(subset[0]).all(axis=1)\n",
    "    # slice indices from original dataset and reset the index\n",
    "    subset_df = data.loc[to_choose].reset_index(drop=True)\n",
    "\n",
    "    return subset_df\n",
    "subset_df = get_subset_dataframe(subset,dff)\n",
    "subset_df.head()"
   ]
  },
  {
   "cell_type": "code",
   "execution_count": 154,
   "metadata": {},
   "outputs": [
    {
     "name": "stdout",
     "output_type": "stream",
     "text": [
      "Our detected subgroup has a size of 50 \n",
      "Recall that our population average is 0.05051194539249147      \n",
      "In this subgroup, we observe a mean outcome of 0.32\n",
      "With 16 individuals in the group above average       \n",
      "This is a multiplicative factor in the odds (i.e q) of 8.846\n"
     ]
    }
   ],
   "source": [
    "# print some information about the subset\n",
    "to_choose = dff_2[subset.keys()].isin(subset).all(axis=1)\n",
    "temp_df = dff_2.loc[to_choose]\n",
    "\n",
    "size = len(temp_df)\n",
    "observed_income = np.round(temp_df[target_col].mean(), 3)\n",
    "positive_class_count = temp_df[target_col].sum()\n",
    "\n",
    "group_obs = temp_df[target_col].mean()\n",
    "group_prob = temp_df['expectation'].mean()\n",
    "odds_mul = (group_obs / (1 - group_obs)) / (group_prob /(1 - group_prob))\n",
    "\n",
    "print(\"Our detected subgroup has a size of {} \\nRecall that our population average is {}\\\n",
    "      \\nIn this subgroup, we observe a mean outcome of {}\\nWith {} individuals in the group above average \\\n",
    "      \\nThis is a multiplicative factor in the odds (i.e q) of {}\".\\\n",
    "      format(size, group_prob , observed_income, positive_class_count, np.round(odds_mul, 3)))"
   ]
  },
  {
   "cell_type": "code",
   "execution_count": 28,
   "metadata": {},
   "outputs": [
    {
     "name": "stdout",
     "output_type": "stream",
     "text": [
      "Penalty = 1: Subset = {'waist_circumference_qc': ['510.0 - 740.0', '740.0 - 780.0', '780.0 - 810.0', '810.0 - 860.0', '860.0 - 900.0', '900.0 - 950.0', '950.0 - 990.0'], 'highest_level_of_education_qc': [0.0, 2.0], 'occupation_qc': [2.0, 3.0, 4.0], 'visceral_fat_qc': ['2.82 - 4.16', '4.16 - 4.87', '4.87 - 5.42', '5.42 - 5.91', '5.91 - 6.36', '6.36 - 6.85', '6.85 - 7.63'], 'triglycerides_qc': ['0.46 - 0.55', '0.55 - 0.63', '0.63 - 0.71', '0.71 - 0.8', '0.8 - 0.89', '0.89 - 0.98', '0.98 - 1.12', '1.12 - 1.47', '1.47 - 5.34']}, Score = 9.4674689699748\n",
      "Penalty = 2: Subset = {'age': ['40.0 - 42.0', '42.0 - 44.0', '44.0 - 47.0', '47.0 - 50.0', '50.0 - 51.0', '51.0 - 53.0', '53.0 - 55.0', '55.0 - 57.0'], 'waist_circumference_qc': ['510.0 - 740.0', '740.0 - 780.0']}, Score = 10.56486285033507\n",
      "Penalty = 3: Subset = {'waist_circumference_qc': ['510.0 - 740.0', '740.0 - 780.0']}, Score = 9.509913245048368\n",
      "Penalty = 4: Subset = {'waist_circumference_qc': ['510.0 - 740.0', '740.0 - 780.0']}, Score = 8.509913245048368\n",
      "Penalty = 5: Subset = {'waist_circumference_qc': ['510.0 - 740.0', '740.0 - 780.0']}, Score = 7.509913245048368\n",
      "Penalty = 6: Subset = {'waist_circumference_qc': ['510.0 - 740.0', '740.0 - 780.0']}, Score = 6.509913245048368\n",
      "Penalty = 7: Subset = {'waist_circumference_qc': ['510.0 - 740.0', '740.0 - 780.0']}, Score = 5.509913245048368\n"
     ]
    }
   ],
   "source": [
    "# %%time\n",
    "# Scan in the positive direction using defined penalties and num iters\n",
    "\n",
    "scoring_function = Bernoulli(direction='negative')\n",
    "scanner = MDSS(scoring_function)\n",
    "# Define a list of penalty values to loop through\n",
    "penalty_values = [1, 2, 3, 4, 5, 6, 7]\n",
    "\n",
    "# Initialize empty lists to store results\n",
    "subset_results = []\n",
    "score_results = []\n",
    "\n",
    "# Loop through each penalty value\n",
    "for penalty in penalty_values:\n",
    "    # Perform the scan with the current penalty value\n",
    "    subset, score = scanner.scan(dff_2[search_space], dff_2[target_col], dff_2['expectation'], cpu=0.95,\n",
    "                                 penalty=penalty, num_iters=num_iters, contiguous=contiguous.copy())\n",
    "    \n",
    "    # Append the results to the respective lists\n",
    "    subset_results.append(subset)\n",
    "    score_results.append(score)\n",
    "\n",
    "# Display the results for each penalty value\n",
    "for i, penalty in enumerate(penalty_values):\n",
    "    print(f\"Penalty = {penalty}: Subset = {subset_results[i]}, Score = {score_results[i]}\")"
   ]
  },
  {
   "cell_type": "code",
   "execution_count": 29,
   "metadata": {},
   "outputs": [
    {
     "name": "stdout",
     "output_type": "stream",
     "text": [
      "CPU times: user 317 ms, sys: 90.3 ms, total: 407 ms\n",
      "Wall time: 5.19 s\n"
     ]
    },
    {
     "data": {
      "text/plain": [
       "({'waist_circumference_qc': ['510.0 - 740.0', '740.0 - 780.0']},\n",
       " 9.509913245048368)"
      ]
     },
     "execution_count": 29,
     "metadata": {},
     "output_type": "execute_result"
    }
   ],
   "source": [
    "%%time\n",
    "# Scan in the positive direction using defined penalties and num iters\n",
    "\n",
    "scoring_function = Bernoulli(direction='negative')\n",
    "scanner = MDSS(scoring_function)\n",
    "\n",
    "penalty = 3\n",
    "num_iters = 10\n",
    "\n",
    "subset, score = scanner.scan(dff_2[search_space], dff_2[target_col], dff_2['expectation'],cpu = .95,\n",
    "                             penalty = penalty, num_iters = num_iters, contiguous = contiguous.copy())\n",
    "subset, score"
   ]
  },
  {
   "cell_type": "code",
   "execution_count": 30,
   "metadata": {},
   "outputs": [
    {
     "name": "stdout",
     "output_type": "stream",
     "text": [
      "waist circumference qc = (510.0 - 780.0)\n"
     ]
    }
   ],
   "source": [
    "print(translate_subset_to_rule(compress_contiguous(subset, contiguous)))"
   ]
  },
  {
   "cell_type": "code",
   "execution_count": 31,
   "metadata": {},
   "outputs": [
    {
     "name": "stdout",
     "output_type": "stream",
     "text": [
      "Our detected subgroup has a size of 315 \n",
      "Recall that our population average is 0.05051194539249148      \n",
      "In this subgroup, we observe a mean outcome of 0.003\n",
      "With 1 individuals in the group above average      \n",
      "This is a multiplicative factor in the odds (i.e q) of 0.06\n"
     ]
    }
   ],
   "source": [
    "to_choose = dff_2[subset.keys()].isin(subset).all(axis=1)\n",
    "temp_df = dff_2.loc[to_choose]\n",
    "\n",
    "size = len(temp_df)\n",
    "observed_income = np.round(temp_df[target_col].mean(), 3)\n",
    "positive_class_count = temp_df[target_col].sum()\n",
    "\n",
    "group_obs = temp_df[target_col].mean()\n",
    "group_prob = temp_df['expectation'].mean()\n",
    "odds_mul = (group_obs / (1 - group_obs)) / (group_prob /(1 - group_prob))\n",
    "\n",
    "print(\"Our detected subgroup has a size of {} \\nRecall that our population average is {}\\\n",
    "      \\nIn this subgroup, we observe a mean outcome of {}\\nWith {} individuals in the group above average\\\n",
    "      \\nThis is a multiplicative factor in the odds (i.e q) of {}\".\\\n",
    "      format(size, group_prob , observed_income, positive_class_count, np.round(odds_mul, 3)))"
   ]
  },
  {
   "cell_type": "markdown",
   "metadata": {},
   "source": [
    "### AS for treated missingness"
   ]
  },
  {
   "cell_type": "code",
   "execution_count": 32,
   "metadata": {},
   "outputs": [
    {
     "name": "stdout",
     "output_type": "stream",
     "text": [
      "Penalty = 1: Subset = {'cholesterol_1_qc': ['0.3 - 2.78', '2.78 - 3.16', '3.16 - 3.47', '3.47 - 3.71', '3.71 - 3.99', '3.99 - 4.15', '4.15 - 4.46', '4.46 - 4.78'], 'bmi_c_qc': ['27.97 - 30.09', '30.09 - 32.59', '32.59 - 35.92', '35.92 - 68.02'], 'subcutaneous_fat_qc': ['1.54 - 1.82', '1.82 - 2.17', '2.17 - 2.54', '2.54 - 2.95', '2.95 - 4.28', '4.28 - 10.41'], 'ses_site_quintile_c_qc': [5.0], 'visceral_fat_qc': ['-0.74 - 2.82', '2.82 - 4.16', '4.16 - 4.87', '4.87 - 5.42', '5.42 - 5.91', '5.91 - 6.36', '6.36 - 6.85', '6.85 - 7.63', '7.63 - 8.64'], 'cimt_mean_max': ['0.62 - 0.64', '0.64 - 0.66', '0.66 - 0.68', '0.68 - 0.71', '0.71 - 0.74', '0.74 - 0.77', '0.77 - 0.83', '0.83 - 1.7'], 'waist_hip_r_c_qc': ['0.94 - 0.97', '0.97 - 1.0', '1.0 - 1.16'], 'age': ['42.0 - 44.0', '44.0 - 47.0', '47.0 - 50.0', '50.0 - 51.0', '51.0 - 53.0', '53.0 - 55.0', '55.0 - 57.0', '57.0 - 58.0']}, Score = 11.813000759857985\n",
      "Penalty = 2: Subset = {'friedewald_ldl_c_c_qc': ['-3.31 - 1.37', '1.37 - 1.69', '1.69 - 1.92', '1.92 - 2.14', '2.14 - 2.37', '2.37 - 2.49', '2.49 - 2.79', '2.79 - 3.06', '3.06 - 3.54'], 'waist_hip_r_c_qc': ['1.0 - 1.16'], 'cimt_mean_max': ['0.74 - 0.77', '0.77 - 0.83', '0.83 - 1.7']}, Score = 14.378834027066976\n",
      "Penalty = 3: Subset = {'cimt_mean_max': ['0.74 - 0.77', '0.77 - 0.83', '0.83 - 1.7'], 'waist_hip_r_c_qc': ['1.0 - 1.16']}, Score = 12.187553177273294\n",
      "Penalty = 4: Subset = {'cimt_mean_max': ['0.74 - 0.77', '0.77 - 0.83', '0.83 - 1.7'], 'waist_hip_r_c_qc': ['1.0 - 1.16']}, Score = 10.187553177273294\n",
      "Penalty = 5: Subset = {'cimt_mean_max': ['0.74 - 0.77', '0.77 - 0.83', '0.83 - 1.7'], 'waist_hip_r_c_qc': ['1.0 - 1.16']}, Score = 8.187553177273294\n",
      "Penalty = 6: Subset = {'cimt_mean_max': ['0.74 - 0.77', '0.77 - 0.83', '0.83 - 1.7'], 'waist_hip_r_c_qc': ['1.0 - 1.16']}, Score = 6.187553177273294\n",
      "Penalty = 7: Subset = {'cimt_mean_max': ['0.74 - 0.77', '0.77 - 0.83', '0.83 - 1.7'], 'waist_hip_r_c_qc': ['1.0 - 1.16']}, Score = 4.187553177273294\n"
     ]
    }
   ],
   "source": [
    "# %%time\n",
    "# Scan in the positive direction using defined penalties and num iters\n",
    "\n",
    "scoring_function = Bernoulli(direction='positive')\n",
    "scanner = MDSS(scoring_function)\n",
    "# Define a list of penalty values to loop through\n",
    "penalty_values = [1, 2, 3, 4, 5, 6, 7]\n",
    "num_iters = 10\n",
    "# Initialize empty lists to store results\n",
    "subset_results = []\n",
    "score_results = []\n",
    "\n",
    "# Loop through each penalty value\n",
    "for penalty in penalty_values:\n",
    "    # Perform the scan with the current penalty value\n",
    "    subset, score = scanner.scan(dff_2[search_space], dff_2[target_col], dff_2['expectation'], cpu=0.95,\n",
    "                                 penalty=penalty, num_iters=num_iters, contiguous=contiguous.copy())\n",
    "    \n",
    "    # Append the results to the respective lists\n",
    "    subset_results.append(subset)\n",
    "    score_results.append(score)\n",
    "\n",
    "# Display the results for each penalty value\n",
    "for i, penalty in enumerate(penalty_values):\n",
    "    print(f\"Penalty = {penalty}: Subset = {subset_results[i]}, Score = {score_results[i]}\")"
   ]
  },
  {
   "cell_type": "code",
   "execution_count": 33,
   "metadata": {},
   "outputs": [
    {
     "name": "stdout",
     "output_type": "stream",
     "text": [
      "CPU times: user 275 ms, sys: 77.1 ms, total: 352 ms\n",
      "Wall time: 4.26 s\n"
     ]
    },
    {
     "data": {
      "text/plain": [
       "({'cimt_mean_max': ['0.74 - 0.77', '0.77 - 0.83', '0.83 - 1.7'],\n",
       "  'waist_hip_r_c_qc': ['1.0 - 1.16']},\n",
       " 4.187553177273294)"
      ]
     },
     "execution_count": 33,
     "metadata": {},
     "output_type": "execute_result"
    }
   ],
   "source": [
    "%%time\n",
    "# Scan in the positive direction using defined penalties and num iters\n",
    "\n",
    "scoring_function = Bernoulli(direction='positive')\n",
    "scanner = MDSS(scoring_function)\n",
    "\n",
    "penalty = 7\n",
    "num_iters = 10\n",
    "\n",
    "subset, score = scanner.scan(dff_2[search_space], dff_2[target_col], dff_2['expectation'],cpu = .95,\n",
    "                             penalty = penalty, num_iters = num_iters, contiguous = contiguous.copy())\n",
    "subset, score"
   ]
  },
  {
   "cell_type": "code",
   "execution_count": 34,
   "metadata": {},
   "outputs": [
    {
     "name": "stdout",
     "output_type": "stream",
     "text": [
      "cimt mean max = (0.74 - 1.7) AND\n",
      "waist hip r c qc = (1.0 - 1.16)\n"
     ]
    }
   ],
   "source": [
    "# print the subset we obtained as a rule\n",
    "print(translate_subset_to_rule(compress_contiguous(subset, contiguous)))"
   ]
  },
  {
   "cell_type": "code",
   "execution_count": 35,
   "metadata": {},
   "outputs": [
    {
     "name": "stdout",
     "output_type": "stream",
     "text": [
      "Our detected subgroup has a size of 50 \n",
      "Recall that our population average is 0.05051194539249147      \n",
      "In this subgroup, we observe a mean outcome of 0.32\n",
      "With 16 individuals in the group above average       \n",
      "This is a multiplicative factor in the odds (i.e q) of 8.846\n"
     ]
    }
   ],
   "source": [
    "# print some information about the subset\n",
    "to_choose = dff_2[subset.keys()].isin(subset).all(axis=1)\n",
    "temp_df = dff_2.loc[to_choose]\n",
    "\n",
    "size = len(temp_df)\n",
    "observed_income = np.round(temp_df[target_col].mean(), 3)\n",
    "positive_class_count = temp_df[target_col].sum()\n",
    "\n",
    "group_obs = temp_df[target_col].mean()\n",
    "group_prob = temp_df['expectation'].mean()\n",
    "odds_mul = (group_obs / (1 - group_obs)) / (group_prob /(1 - group_prob))\n",
    "\n",
    "print(\"Our detected subgroup has a size of {} \\nRecall that our population average is {}\\\n",
    "      \\nIn this subgroup, we observe a mean outcome of {}\\nWith {} individuals in the group above average \\\n",
    "      \\nThis is a multiplicative factor in the odds (i.e q) of {}\".\\\n",
    "      format(size, group_prob , observed_income, positive_class_count, np.round(odds_mul, 3)))"
   ]
  },
  {
   "cell_type": "code",
   "execution_count": 36,
   "metadata": {},
   "outputs": [
    {
     "name": "stdout",
     "output_type": "stream",
     "text": [
      "Penalty = 1: Subset = {'waist_circumference_qc': ['510.0 - 740.0', '740.0 - 780.0', '780.0 - 810.0', '810.0 - 860.0', '860.0 - 900.0', '900.0 - 950.0', '950.0 - 990.0'], 'highest_level_of_education_qc': [0.0, 2.0], 'occupation_qc': [2.0, 3.0, 4.0], 'visceral_fat_qc': ['2.82 - 4.16', '4.16 - 4.87', '4.87 - 5.42', '5.42 - 5.91', '5.91 - 6.36', '6.36 - 6.85', '6.85 - 7.63'], 'triglycerides_qc': ['0.46 - 0.55', '0.55 - 0.63', '0.63 - 0.71', '0.71 - 0.8', '0.8 - 0.89', '0.89 - 0.98', '0.98 - 1.12', '1.12 - 1.47', '1.47 - 5.34']}, Score = 9.4674689699748\n",
      "Penalty = 2: Subset = {'age': ['40.0 - 42.0', '42.0 - 44.0', '44.0 - 47.0', '47.0 - 50.0', '50.0 - 51.0', '51.0 - 53.0', '53.0 - 55.0', '55.0 - 57.0'], 'waist_circumference_qc': ['510.0 - 740.0', '740.0 - 780.0']}, Score = 10.56486285033507\n",
      "Penalty = 3: Subset = {'waist_circumference_qc': ['510.0 - 740.0', '740.0 - 780.0']}, Score = 9.509913245048368\n",
      "Penalty = 4: Subset = {'waist_circumference_qc': ['510.0 - 740.0', '740.0 - 780.0']}, Score = 8.509913245048368\n",
      "Penalty = 5: Subset = {'waist_circumference_qc': ['510.0 - 740.0', '740.0 - 780.0']}, Score = 7.509913245048368\n",
      "Penalty = 6: Subset = {'waist_circumference_qc': ['510.0 - 740.0', '740.0 - 780.0']}, Score = 6.509913245048368\n",
      "Penalty = 7: Subset = {'waist_circumference_qc': ['510.0 - 740.0', '740.0 - 780.0']}, Score = 5.509913245048368\n"
     ]
    }
   ],
   "source": [
    "# %%time\n",
    "# Scan in the positive direction using defined penalties and num iters\n",
    "\n",
    "scoring_function = Bernoulli(direction='negative')\n",
    "scanner = MDSS(scoring_function)\n",
    "# Define a list of penalty values to loop through\n",
    "penalty_values = [1, 2, 3, 4, 5, 6, 7]\n",
    "\n",
    "# Initialize empty lists to store results\n",
    "subset_results = []\n",
    "score_results = []\n",
    "\n",
    "# Loop through each penalty value\n",
    "for penalty in penalty_values:\n",
    "    # Perform the scan with the current penalty value\n",
    "    subset, score = scanner.scan(dff_2[search_space], dff_2[target_col], dff_2['expectation'], cpu=0.95,\n",
    "                                 penalty=penalty, num_iters=num_iters, contiguous=contiguous.copy())\n",
    "    \n",
    "    # Append the results to the respective lists\n",
    "    subset_results.append(subset)\n",
    "    score_results.append(score)\n",
    "\n",
    "# Display the results for each penalty value\n",
    "for i, penalty in enumerate(penalty_values):\n",
    "    print(f\"Penalty = {penalty}: Subset = {subset_results[i]}, Score = {score_results[i]}\")"
   ]
  },
  {
   "cell_type": "code",
   "execution_count": 37,
   "metadata": {},
   "outputs": [
    {
     "name": "stdout",
     "output_type": "stream",
     "text": [
      "CPU times: user 298 ms, sys: 80.6 ms, total: 378 ms\n",
      "Wall time: 3.36 s\n"
     ]
    },
    {
     "data": {
      "text/plain": [
       "({'waist_circumference_qc': ['510.0 - 740.0', '740.0 - 780.0']},\n",
       " 6.509913245048368)"
      ]
     },
     "execution_count": 37,
     "metadata": {},
     "output_type": "execute_result"
    }
   ],
   "source": [
    "%%time\n",
    "# Scan in the positive direction using defined penalties and num iters\n",
    "\n",
    "scoring_function = Bernoulli(direction='negative')\n",
    "scanner = MDSS(scoring_function)\n",
    "\n",
    "penalty = 6\n",
    "num_iters = 10\n",
    "\n",
    "subset, score = scanner.scan(dff_2[search_space], dff_2[target_col], dff_2['expectation'],cpu = .95,\n",
    "                             penalty = penalty, num_iters = num_iters, contiguous = contiguous.copy())\n",
    "subset, score"
   ]
  },
  {
   "cell_type": "code",
   "execution_count": 38,
   "metadata": {},
   "outputs": [
    {
     "name": "stdout",
     "output_type": "stream",
     "text": [
      "waist circumference qc = (510.0 - 780.0)\n"
     ]
    }
   ],
   "source": [
    "# print the subset we obtained as a rule\n",
    "print(translate_subset_to_rule(compress_contiguous(subset, contiguous)))"
   ]
  },
  {
   "cell_type": "code",
   "execution_count": 39,
   "metadata": {},
   "outputs": [
    {
     "name": "stdout",
     "output_type": "stream",
     "text": [
      "Our detected subgroup has a size of 315 \n",
      "Recall that our population average is 0.05051194539249148      \n",
      "In this subgroup, we observe a mean outcome of 0.003\n",
      "With 1 individuals in the group above average       \n",
      "This is a multiplicative factor in the odds (i.e q) of 0.06\n"
     ]
    }
   ],
   "source": [
    "# print some information about the subset\n",
    "to_choose = dff_2[subset.keys()].isin(subset).all(axis=1)\n",
    "temp_df = dff_2.loc[to_choose]\n",
    "\n",
    "size = len(temp_df)\n",
    "observed_income = np.round(temp_df[target_col].mean(), 3)\n",
    "positive_class_count = temp_df[target_col].sum()\n",
    "\n",
    "group_obs = temp_df[target_col].mean()\n",
    "group_prob = temp_df['expectation'].mean()\n",
    "odds_mul = (group_obs / (1 - group_obs)) / (group_prob /(1 - group_prob))\n",
    "\n",
    "print(\"Our detected subgroup has a size of {} \\nRecall that our population average is {}\\\n",
    "      \\nIn this subgroup, we observe a mean outcome of {}\\nWith {} individuals in the group above average \\\n",
    "      \\nThis is a multiplicative factor in the odds (i.e q) of {}\".\\\n",
    "      format(size, group_prob , observed_income, positive_class_count, np.round(odds_mul, 3)))"
   ]
  },
  {
   "cell_type": "code",
   "execution_count": 164,
   "metadata": {},
   "outputs": [
    {
     "data": {
      "text/html": [
       "<div>\n",
       "<style scoped>\n",
       "    .dataframe tbody tr th:only-of-type {\n",
       "        vertical-align: middle;\n",
       "    }\n",
       "\n",
       "    .dataframe tbody tr th {\n",
       "        vertical-align: top;\n",
       "    }\n",
       "\n",
       "    .dataframe thead th {\n",
       "        text-align: right;\n",
       "    }\n",
       "</style>\n",
       "<table border=\"1\" class=\"dataframe\">\n",
       "  <thead>\n",
       "    <tr style=\"text-align: right;\">\n",
       "      <th></th>\n",
       "      <th>htn_jnc7_qc</th>\n",
       "      <th>diabetes_status_c_qc</th>\n",
       "      <th>ckd_c_qc</th>\n",
       "      <th>cadiovascular_current</th>\n",
       "      <th>bmi_c_qc</th>\n",
       "      <th>age</th>\n",
       "      <th>cimt_mean_max</th>\n",
       "      <th>cholesterol_1_qc</th>\n",
       "      <th>friedewald_ldl_c_c_qc</th>\n",
       "      <th>hdl_qc</th>\n",
       "      <th>...</th>\n",
       "      <th>hiv_final_status_c</th>\n",
       "      <th>highest_level_of_education_qc</th>\n",
       "      <th>partnership_status_c_qc</th>\n",
       "      <th>ses_site_quintile_c_qc</th>\n",
       "      <th>occupation_qc</th>\n",
       "      <th>mvpa_cat_c</th>\n",
       "      <th>alcohol_use_status_c_qc</th>\n",
       "      <th>smoking_status_c_qc</th>\n",
       "      <th>diab_hyp</th>\n",
       "      <th>expectation</th>\n",
       "    </tr>\n",
       "  </thead>\n",
       "  <tbody>\n",
       "    <tr>\n",
       "      <th>361</th>\n",
       "      <td>0</td>\n",
       "      <td>0</td>\n",
       "      <td>0</td>\n",
       "      <td>0.0</td>\n",
       "      <td>23.83</td>\n",
       "      <td>57</td>\n",
       "      <td>0.640</td>\n",
       "      <td>5.71</td>\n",
       "      <td>4.070909</td>\n",
       "      <td>1.38</td>\n",
       "      <td>...</td>\n",
       "      <td>0</td>\n",
       "      <td>0</td>\n",
       "      <td>2</td>\n",
       "      <td>2</td>\n",
       "      <td>2</td>\n",
       "      <td>1.0</td>\n",
       "      <td>0</td>\n",
       "      <td>0</td>\n",
       "      <td>False</td>\n",
       "      <td>0.050512</td>\n",
       "    </tr>\n",
       "    <tr>\n",
       "      <th>366</th>\n",
       "      <td>1</td>\n",
       "      <td>0</td>\n",
       "      <td>0</td>\n",
       "      <td>0.0</td>\n",
       "      <td>27.02</td>\n",
       "      <td>56</td>\n",
       "      <td>0.870</td>\n",
       "      <td>4.45</td>\n",
       "      <td>2.694545</td>\n",
       "      <td>1.46</td>\n",
       "      <td>...</td>\n",
       "      <td>0</td>\n",
       "      <td>1</td>\n",
       "      <td>2</td>\n",
       "      <td>4</td>\n",
       "      <td>4</td>\n",
       "      <td>1.0</td>\n",
       "      <td>0</td>\n",
       "      <td>0</td>\n",
       "      <td>False</td>\n",
       "      <td>0.050512</td>\n",
       "    </tr>\n",
       "    <tr>\n",
       "      <th>367</th>\n",
       "      <td>0</td>\n",
       "      <td>0</td>\n",
       "      <td>0</td>\n",
       "      <td>0.0</td>\n",
       "      <td>20.34</td>\n",
       "      <td>56</td>\n",
       "      <td>0.760</td>\n",
       "      <td>3.72</td>\n",
       "      <td>2.255455</td>\n",
       "      <td>1.01</td>\n",
       "      <td>...</td>\n",
       "      <td>1</td>\n",
       "      <td>1</td>\n",
       "      <td>2</td>\n",
       "      <td>2</td>\n",
       "      <td>4</td>\n",
       "      <td>1.0</td>\n",
       "      <td>3</td>\n",
       "      <td>2</td>\n",
       "      <td>False</td>\n",
       "      <td>0.050512</td>\n",
       "    </tr>\n",
       "    <tr>\n",
       "      <th>371</th>\n",
       "      <td>0</td>\n",
       "      <td>0</td>\n",
       "      <td>1</td>\n",
       "      <td>0.0</td>\n",
       "      <td>37.42</td>\n",
       "      <td>45</td>\n",
       "      <td>0.640</td>\n",
       "      <td>4.05</td>\n",
       "      <td>2.310909</td>\n",
       "      <td>1.13</td>\n",
       "      <td>...</td>\n",
       "      <td>0</td>\n",
       "      <td>3</td>\n",
       "      <td>1</td>\n",
       "      <td>5</td>\n",
       "      <td>2</td>\n",
       "      <td>1.0</td>\n",
       "      <td>0</td>\n",
       "      <td>0</td>\n",
       "      <td>False</td>\n",
       "      <td>0.050512</td>\n",
       "    </tr>\n",
       "    <tr>\n",
       "      <th>375</th>\n",
       "      <td>0</td>\n",
       "      <td>0</td>\n",
       "      <td>0</td>\n",
       "      <td>0.0</td>\n",
       "      <td>16.33</td>\n",
       "      <td>43</td>\n",
       "      <td>0.635</td>\n",
       "      <td>2.03</td>\n",
       "      <td>0.787273</td>\n",
       "      <td>0.92</td>\n",
       "      <td>...</td>\n",
       "      <td>1</td>\n",
       "      <td>2</td>\n",
       "      <td>0</td>\n",
       "      <td>2</td>\n",
       "      <td>4</td>\n",
       "      <td>1.0</td>\n",
       "      <td>1</td>\n",
       "      <td>2</td>\n",
       "      <td>False</td>\n",
       "      <td>0.050512</td>\n",
       "    </tr>\n",
       "  </tbody>\n",
       "</table>\n",
       "<p>5 rows × 27 columns</p>\n",
       "</div>"
      ],
      "text/plain": [
       "     htn_jnc7_qc  diabetes_status_c_qc  ckd_c_qc  cadiovascular_current  \\\n",
       "361            0                     0         0                    0.0   \n",
       "366            1                     0         0                    0.0   \n",
       "367            0                     0         0                    0.0   \n",
       "371            0                     0         1                    0.0   \n",
       "375            0                     0         0                    0.0   \n",
       "\n",
       "     bmi_c_qc  age  cimt_mean_max  cholesterol_1_qc  friedewald_ldl_c_c_qc  \\\n",
       "361     23.83   57          0.640              5.71               4.070909   \n",
       "366     27.02   56          0.870              4.45               2.694545   \n",
       "367     20.34   56          0.760              3.72               2.255455   \n",
       "371     37.42   45          0.640              4.05               2.310909   \n",
       "375     16.33   43          0.635              2.03               0.787273   \n",
       "\n",
       "     hdl_qc  ...  hiv_final_status_c  highest_level_of_education_qc  \\\n",
       "361    1.38  ...                   0                              0   \n",
       "366    1.46  ...                   0                              1   \n",
       "367    1.01  ...                   1                              1   \n",
       "371    1.13  ...                   0                              3   \n",
       "375    0.92  ...                   1                              2   \n",
       "\n",
       "     partnership_status_c_qc  ses_site_quintile_c_qc  occupation_qc  \\\n",
       "361                        2                       2              2   \n",
       "366                        2                       4              4   \n",
       "367                        2                       2              4   \n",
       "371                        1                       5              2   \n",
       "375                        0                       2              4   \n",
       "\n",
       "     mvpa_cat_c  alcohol_use_status_c_qc  smoking_status_c_qc  diab_hyp  \\\n",
       "361         1.0                        0                    0     False   \n",
       "366         1.0                        0                    0     False   \n",
       "367         1.0                        3                    2     False   \n",
       "371         1.0                        0                    0     False   \n",
       "375         1.0                        1                    2     False   \n",
       "\n",
       "     expectation  \n",
       "361     0.050512  \n",
       "366     0.050512  \n",
       "367     0.050512  \n",
       "371     0.050512  \n",
       "375     0.050512  \n",
       "\n",
       "[5 rows x 27 columns]"
      ]
     },
     "execution_count": 164,
     "metadata": {},
     "output_type": "execute_result"
    }
   ],
   "source": [
    "dff.head()"
   ]
  },
  {
   "cell_type": "code",
   "execution_count": 165,
   "metadata": {},
   "outputs": [
    {
     "data": {
      "text/html": [
       "<div>\n",
       "<style scoped>\n",
       "    .dataframe tbody tr th:only-of-type {\n",
       "        vertical-align: middle;\n",
       "    }\n",
       "\n",
       "    .dataframe tbody tr th {\n",
       "        vertical-align: top;\n",
       "    }\n",
       "\n",
       "    .dataframe thead th {\n",
       "        text-align: right;\n",
       "    }\n",
       "</style>\n",
       "<table border=\"1\" class=\"dataframe\">\n",
       "  <thead>\n",
       "    <tr style=\"text-align: right;\">\n",
       "      <th></th>\n",
       "      <th>htn_jnc7_qc</th>\n",
       "      <th>diabetes_status_c_qc</th>\n",
       "      <th>ckd_c_qc</th>\n",
       "      <th>cadiovascular_current</th>\n",
       "      <th>bmi_c_qc</th>\n",
       "      <th>age</th>\n",
       "      <th>cimt_mean_max</th>\n",
       "      <th>cholesterol_1_qc</th>\n",
       "      <th>friedewald_ldl_c_c_qc</th>\n",
       "      <th>hdl_qc</th>\n",
       "      <th>...</th>\n",
       "      <th>hiv_final_status_c</th>\n",
       "      <th>highest_level_of_education_qc</th>\n",
       "      <th>partnership_status_c_qc</th>\n",
       "      <th>ses_site_quintile_c_qc</th>\n",
       "      <th>occupation_qc</th>\n",
       "      <th>mvpa_cat_c</th>\n",
       "      <th>alcohol_use_status_c_qc</th>\n",
       "      <th>smoking_status_c_qc</th>\n",
       "      <th>diab_hyp</th>\n",
       "      <th>expectation</th>\n",
       "    </tr>\n",
       "  </thead>\n",
       "  <tbody>\n",
       "    <tr>\n",
       "      <th>0</th>\n",
       "      <td>0.0</td>\n",
       "      <td>0.0</td>\n",
       "      <td>0.0</td>\n",
       "      <td>0.0</td>\n",
       "      <td>22.99 - 24.46</td>\n",
       "      <td>55.0 - 57.0</td>\n",
       "      <td>0.62 - 0.64</td>\n",
       "      <td>5.31 - 9.97</td>\n",
       "      <td>3.54 - 7.6</td>\n",
       "      <td>1.29 - 1.44</td>\n",
       "      <td>...</td>\n",
       "      <td>0.0</td>\n",
       "      <td>0.0</td>\n",
       "      <td>2.0</td>\n",
       "      <td>2.0</td>\n",
       "      <td>2.0</td>\n",
       "      <td>1.0</td>\n",
       "      <td>0.0</td>\n",
       "      <td>0.0</td>\n",
       "      <td>False</td>\n",
       "      <td>0.050512</td>\n",
       "    </tr>\n",
       "    <tr>\n",
       "      <th>1</th>\n",
       "      <td>1.0</td>\n",
       "      <td>0.0</td>\n",
       "      <td>0.0</td>\n",
       "      <td>0.0</td>\n",
       "      <td>26.06 - 27.97</td>\n",
       "      <td>55.0 - 57.0</td>\n",
       "      <td>0.83 - 1.7</td>\n",
       "      <td>4.15 - 4.46</td>\n",
       "      <td>2.49 - 2.79</td>\n",
       "      <td>1.44 - 1.66</td>\n",
       "      <td>...</td>\n",
       "      <td>0.0</td>\n",
       "      <td>1.0</td>\n",
       "      <td>2.0</td>\n",
       "      <td>4.0</td>\n",
       "      <td>4.0</td>\n",
       "      <td>1.0</td>\n",
       "      <td>0.0</td>\n",
       "      <td>0.0</td>\n",
       "      <td>False</td>\n",
       "      <td>0.050512</td>\n",
       "    </tr>\n",
       "    <tr>\n",
       "      <th>2</th>\n",
       "      <td>0.0</td>\n",
       "      <td>0.0</td>\n",
       "      <td>0.0</td>\n",
       "      <td>0.0</td>\n",
       "      <td>19.71 - 21.35</td>\n",
       "      <td>55.0 - 57.0</td>\n",
       "      <td>0.74 - 0.77</td>\n",
       "      <td>3.71 - 3.99</td>\n",
       "      <td>2.14 - 2.37</td>\n",
       "      <td>1.0 - 1.08</td>\n",
       "      <td>...</td>\n",
       "      <td>1.0</td>\n",
       "      <td>1.0</td>\n",
       "      <td>2.0</td>\n",
       "      <td>2.0</td>\n",
       "      <td>4.0</td>\n",
       "      <td>1.0</td>\n",
       "      <td>3.0</td>\n",
       "      <td>2.0</td>\n",
       "      <td>False</td>\n",
       "      <td>0.050512</td>\n",
       "    </tr>\n",
       "    <tr>\n",
       "      <th>3</th>\n",
       "      <td>0.0</td>\n",
       "      <td>0.0</td>\n",
       "      <td>1.0</td>\n",
       "      <td>0.0</td>\n",
       "      <td>35.92 - 68.02</td>\n",
       "      <td>44.0 - 47.0</td>\n",
       "      <td>0.62 - 0.64</td>\n",
       "      <td>3.99 - 4.15</td>\n",
       "      <td>2.14 - 2.37</td>\n",
       "      <td>1.08 - 1.17</td>\n",
       "      <td>...</td>\n",
       "      <td>0.0</td>\n",
       "      <td>3.0</td>\n",
       "      <td>1.0</td>\n",
       "      <td>5.0</td>\n",
       "      <td>2.0</td>\n",
       "      <td>1.0</td>\n",
       "      <td>0.0</td>\n",
       "      <td>0.0</td>\n",
       "      <td>False</td>\n",
       "      <td>0.050512</td>\n",
       "    </tr>\n",
       "    <tr>\n",
       "      <th>4</th>\n",
       "      <td>0.0</td>\n",
       "      <td>0.0</td>\n",
       "      <td>0.0</td>\n",
       "      <td>0.0</td>\n",
       "      <td>14.53 - 19.71</td>\n",
       "      <td>42.0 - 44.0</td>\n",
       "      <td>0.62 - 0.64</td>\n",
       "      <td>0.3 - 2.78</td>\n",
       "      <td>-3.31 - 1.37</td>\n",
       "      <td>0.81 - 0.93</td>\n",
       "      <td>...</td>\n",
       "      <td>1.0</td>\n",
       "      <td>2.0</td>\n",
       "      <td>0.0</td>\n",
       "      <td>2.0</td>\n",
       "      <td>4.0</td>\n",
       "      <td>1.0</td>\n",
       "      <td>1.0</td>\n",
       "      <td>2.0</td>\n",
       "      <td>False</td>\n",
       "      <td>0.050512</td>\n",
       "    </tr>\n",
       "  </tbody>\n",
       "</table>\n",
       "<p>5 rows × 27 columns</p>\n",
       "</div>"
      ],
      "text/plain": [
       "   htn_jnc7_qc  diabetes_status_c_qc  ckd_c_qc  cadiovascular_current  \\\n",
       "0          0.0                   0.0       0.0                    0.0   \n",
       "1          1.0                   0.0       0.0                    0.0   \n",
       "2          0.0                   0.0       0.0                    0.0   \n",
       "3          0.0                   0.0       1.0                    0.0   \n",
       "4          0.0                   0.0       0.0                    0.0   \n",
       "\n",
       "        bmi_c_qc          age cimt_mean_max cholesterol_1_qc  \\\n",
       "0  22.99 - 24.46  55.0 - 57.0   0.62 - 0.64      5.31 - 9.97   \n",
       "1  26.06 - 27.97  55.0 - 57.0    0.83 - 1.7      4.15 - 4.46   \n",
       "2  19.71 - 21.35  55.0 - 57.0   0.74 - 0.77      3.71 - 3.99   \n",
       "3  35.92 - 68.02  44.0 - 47.0   0.62 - 0.64      3.99 - 4.15   \n",
       "4  14.53 - 19.71  42.0 - 44.0   0.62 - 0.64       0.3 - 2.78   \n",
       "\n",
       "  friedewald_ldl_c_c_qc       hdl_qc  ... hiv_final_status_c  \\\n",
       "0            3.54 - 7.6  1.29 - 1.44  ...                0.0   \n",
       "1           2.49 - 2.79  1.44 - 1.66  ...                0.0   \n",
       "2           2.14 - 2.37   1.0 - 1.08  ...                1.0   \n",
       "3           2.14 - 2.37  1.08 - 1.17  ...                0.0   \n",
       "4          -3.31 - 1.37  0.81 - 0.93  ...                1.0   \n",
       "\n",
       "  highest_level_of_education_qc partnership_status_c_qc  \\\n",
       "0                           0.0                     2.0   \n",
       "1                           1.0                     2.0   \n",
       "2                           1.0                     2.0   \n",
       "3                           3.0                     1.0   \n",
       "4                           2.0                     0.0   \n",
       "\n",
       "  ses_site_quintile_c_qc occupation_qc  mvpa_cat_c  alcohol_use_status_c_qc  \\\n",
       "0                    2.0           2.0         1.0                      0.0   \n",
       "1                    4.0           4.0         1.0                      0.0   \n",
       "2                    2.0           4.0         1.0                      3.0   \n",
       "3                    5.0           2.0         1.0                      0.0   \n",
       "4                    2.0           4.0         1.0                      1.0   \n",
       "\n",
       "   smoking_status_c_qc  diab_hyp  expectation  \n",
       "0                  0.0     False     0.050512  \n",
       "1                  0.0     False     0.050512  \n",
       "2                  2.0     False     0.050512  \n",
       "3                  0.0     False     0.050512  \n",
       "4                  2.0     False     0.050512  \n",
       "\n",
       "[5 rows x 27 columns]"
      ]
     },
     "execution_count": 165,
     "metadata": {},
     "output_type": "execute_result"
    }
   ],
   "source": [
    "dff_2.head()"
   ]
  },
  {
   "cell_type": "code",
   "execution_count": 170,
   "metadata": {},
   "outputs": [
    {
     "data": {
      "text/html": [
       "<div>\n",
       "<style scoped>\n",
       "    .dataframe tbody tr th:only-of-type {\n",
       "        vertical-align: middle;\n",
       "    }\n",
       "\n",
       "    .dataframe tbody tr th {\n",
       "        vertical-align: top;\n",
       "    }\n",
       "\n",
       "    .dataframe thead th {\n",
       "        text-align: right;\n",
       "    }\n",
       "</style>\n",
       "<table border=\"1\" class=\"dataframe\">\n",
       "  <thead>\n",
       "    <tr style=\"text-align: right;\">\n",
       "      <th></th>\n",
       "      <th>htn_jnc7_qc</th>\n",
       "      <th>diabetes_status_c_qc</th>\n",
       "      <th>ckd_c_qc</th>\n",
       "      <th>cadiovascular_current</th>\n",
       "      <th>bmi_c_qc</th>\n",
       "      <th>age</th>\n",
       "      <th>cimt_mean_max</th>\n",
       "      <th>cholesterol_1_qc</th>\n",
       "      <th>friedewald_ldl_c_c_qc</th>\n",
       "      <th>hdl_qc</th>\n",
       "      <th>...</th>\n",
       "      <th>hiv_final_status_c</th>\n",
       "      <th>highest_level_of_education_qc</th>\n",
       "      <th>partnership_status_c_qc</th>\n",
       "      <th>ses_site_quintile_c_qc</th>\n",
       "      <th>occupation_qc</th>\n",
       "      <th>mvpa_cat_c</th>\n",
       "      <th>alcohol_use_status_c_qc</th>\n",
       "      <th>smoking_status_c_qc</th>\n",
       "      <th>diab_hyp</th>\n",
       "      <th>expectation</th>\n",
       "    </tr>\n",
       "  </thead>\n",
       "  <tbody>\n",
       "    <tr>\n",
       "      <th>6</th>\n",
       "      <td>1.0</td>\n",
       "      <td>0.0</td>\n",
       "      <td>0.0</td>\n",
       "      <td>0.0</td>\n",
       "      <td>22.99 - 24.46</td>\n",
       "      <td>55.0 - 57.0</td>\n",
       "      <td>0.83 - 1.7</td>\n",
       "      <td>0.3 - 2.78</td>\n",
       "      <td>-3.31 - 1.37</td>\n",
       "      <td>0.81 - 0.93</td>\n",
       "      <td>...</td>\n",
       "      <td>0.0</td>\n",
       "      <td>3.0</td>\n",
       "      <td>0.0</td>\n",
       "      <td>4.0</td>\n",
       "      <td>2.0</td>\n",
       "      <td>1.0</td>\n",
       "      <td>0.0</td>\n",
       "      <td>0.0</td>\n",
       "      <td>False</td>\n",
       "      <td>0.050512</td>\n",
       "    </tr>\n",
       "    <tr>\n",
       "      <th>10</th>\n",
       "      <td>1.0</td>\n",
       "      <td>0.0</td>\n",
       "      <td>0.0</td>\n",
       "      <td>0.0</td>\n",
       "      <td>27.97 - 30.09</td>\n",
       "      <td>51.0 - 53.0</td>\n",
       "      <td>0.74 - 0.77</td>\n",
       "      <td>3.71 - 3.99</td>\n",
       "      <td>1.92 - 2.14</td>\n",
       "      <td>0.93 - 1.0</td>\n",
       "      <td>...</td>\n",
       "      <td>0.0</td>\n",
       "      <td>0.0</td>\n",
       "      <td>1.0</td>\n",
       "      <td>2.0</td>\n",
       "      <td>2.0</td>\n",
       "      <td>1.0</td>\n",
       "      <td>3.0</td>\n",
       "      <td>0.0</td>\n",
       "      <td>False</td>\n",
       "      <td>0.050512</td>\n",
       "    </tr>\n",
       "    <tr>\n",
       "      <th>65</th>\n",
       "      <td>0.0</td>\n",
       "      <td>0.0</td>\n",
       "      <td>0.0</td>\n",
       "      <td>0.0</td>\n",
       "      <td>27.97 - 30.09</td>\n",
       "      <td>55.0 - 57.0</td>\n",
       "      <td>0.74 - 0.77</td>\n",
       "      <td>3.47 - 3.71</td>\n",
       "      <td>1.92 - 2.14</td>\n",
       "      <td>0.81 - 0.93</td>\n",
       "      <td>...</td>\n",
       "      <td>0.0</td>\n",
       "      <td>0.0</td>\n",
       "      <td>1.0</td>\n",
       "      <td>2.0</td>\n",
       "      <td>4.0</td>\n",
       "      <td>0.0</td>\n",
       "      <td>0.0</td>\n",
       "      <td>0.0</td>\n",
       "      <td>False</td>\n",
       "      <td>0.050512</td>\n",
       "    </tr>\n",
       "    <tr>\n",
       "      <th>100</th>\n",
       "      <td>1.0</td>\n",
       "      <td>0.0</td>\n",
       "      <td>0.0</td>\n",
       "      <td>0.0</td>\n",
       "      <td>35.92 - 68.02</td>\n",
       "      <td>55.0 - 57.0</td>\n",
       "      <td>0.77 - 0.83</td>\n",
       "      <td>2.78 - 3.16</td>\n",
       "      <td>-3.31 - 1.37</td>\n",
       "      <td>1.08 - 1.17</td>\n",
       "      <td>...</td>\n",
       "      <td>0.0</td>\n",
       "      <td>0.0</td>\n",
       "      <td>1.0</td>\n",
       "      <td>2.0</td>\n",
       "      <td>4.0</td>\n",
       "      <td>0.0</td>\n",
       "      <td>0.0</td>\n",
       "      <td>0.0</td>\n",
       "      <td>False</td>\n",
       "      <td>0.050512</td>\n",
       "    </tr>\n",
       "    <tr>\n",
       "      <th>172</th>\n",
       "      <td>0.0</td>\n",
       "      <td>1.0</td>\n",
       "      <td>0.0</td>\n",
       "      <td>1.0</td>\n",
       "      <td>30.09 - 32.59</td>\n",
       "      <td>58.0 - 60.0</td>\n",
       "      <td>0.77 - 0.83</td>\n",
       "      <td>4.15 - 4.46</td>\n",
       "      <td>2.37 - 2.49</td>\n",
       "      <td>1.29 - 1.44</td>\n",
       "      <td>...</td>\n",
       "      <td>0.0</td>\n",
       "      <td>0.0</td>\n",
       "      <td>2.0</td>\n",
       "      <td>5.0</td>\n",
       "      <td>3.0</td>\n",
       "      <td>1.0</td>\n",
       "      <td>0.0</td>\n",
       "      <td>0.0</td>\n",
       "      <td>False</td>\n",
       "      <td>0.050512</td>\n",
       "    </tr>\n",
       "  </tbody>\n",
       "</table>\n",
       "<p>5 rows × 27 columns</p>\n",
       "</div>"
      ],
      "text/plain": [
       "     htn_jnc7_qc  diabetes_status_c_qc  ckd_c_qc  cadiovascular_current  \\\n",
       "6            1.0                   0.0       0.0                    0.0   \n",
       "10           1.0                   0.0       0.0                    0.0   \n",
       "65           0.0                   0.0       0.0                    0.0   \n",
       "100          1.0                   0.0       0.0                    0.0   \n",
       "172          0.0                   1.0       0.0                    1.0   \n",
       "\n",
       "          bmi_c_qc          age cimt_mean_max cholesterol_1_qc  \\\n",
       "6    22.99 - 24.46  55.0 - 57.0    0.83 - 1.7       0.3 - 2.78   \n",
       "10   27.97 - 30.09  51.0 - 53.0   0.74 - 0.77      3.71 - 3.99   \n",
       "65   27.97 - 30.09  55.0 - 57.0   0.74 - 0.77      3.47 - 3.71   \n",
       "100  35.92 - 68.02  55.0 - 57.0   0.77 - 0.83      2.78 - 3.16   \n",
       "172  30.09 - 32.59  58.0 - 60.0   0.77 - 0.83      4.15 - 4.46   \n",
       "\n",
       "    friedewald_ldl_c_c_qc       hdl_qc  ... hiv_final_status_c  \\\n",
       "6            -3.31 - 1.37  0.81 - 0.93  ...                0.0   \n",
       "10            1.92 - 2.14   0.93 - 1.0  ...                0.0   \n",
       "65            1.92 - 2.14  0.81 - 0.93  ...                0.0   \n",
       "100          -3.31 - 1.37  1.08 - 1.17  ...                0.0   \n",
       "172           2.37 - 2.49  1.29 - 1.44  ...                0.0   \n",
       "\n",
       "    highest_level_of_education_qc partnership_status_c_qc  \\\n",
       "6                             3.0                     0.0   \n",
       "10                            0.0                     1.0   \n",
       "65                            0.0                     1.0   \n",
       "100                           0.0                     1.0   \n",
       "172                           0.0                     2.0   \n",
       "\n",
       "    ses_site_quintile_c_qc occupation_qc  mvpa_cat_c  alcohol_use_status_c_qc  \\\n",
       "6                      4.0           2.0         1.0                      0.0   \n",
       "10                     2.0           2.0         1.0                      3.0   \n",
       "65                     2.0           4.0         0.0                      0.0   \n",
       "100                    2.0           4.0         0.0                      0.0   \n",
       "172                    5.0           3.0         1.0                      0.0   \n",
       "\n",
       "     smoking_status_c_qc  diab_hyp  expectation  \n",
       "6                    0.0     False     0.050512  \n",
       "10                   0.0     False     0.050512  \n",
       "65                   0.0     False     0.050512  \n",
       "100                  0.0     False     0.050512  \n",
       "172                  0.0     False     0.050512  \n",
       "\n",
       "[5 rows x 27 columns]"
      ]
     },
     "execution_count": 170,
     "metadata": {},
     "output_type": "execute_result"
    }
   ],
   "source": [
    "temp_df.head()"
   ]
  },
  {
   "cell_type": "code",
   "execution_count": 168,
   "metadata": {},
   "outputs": [
    {
     "data": {
      "text/plain": [
       "[6,\n",
       " 10,\n",
       " 65,\n",
       " 100,\n",
       " 172,\n",
       " 174,\n",
       " 215,\n",
       " 220,\n",
       " 227,\n",
       " 240,\n",
       " 272,\n",
       " 328,\n",
       " 331,\n",
       " 342,\n",
       " 399,\n",
       " 412,\n",
       " 427,\n",
       " 533,\n",
       " 558,\n",
       " 575,\n",
       " 588,\n",
       " 667,\n",
       " 678,\n",
       " 730,\n",
       " 731,\n",
       " 828,\n",
       " 882,\n",
       " 884,\n",
       " 899,\n",
       " 912,\n",
       " 921,\n",
       " 979,\n",
       " 981,\n",
       " 996,\n",
       " 1048,\n",
       " 1057,\n",
       " 1184,\n",
       " 1186,\n",
       " 1246,\n",
       " 1295,\n",
       " 1297,\n",
       " 1299,\n",
       " 1302,\n",
       " 1320,\n",
       " 1322,\n",
       " 1350,\n",
       " 1396,\n",
       " 1408,\n",
       " 1439,\n",
       " 1458]"
      ]
     },
     "execution_count": 168,
     "metadata": {},
     "output_type": "execute_result"
    }
   ],
   "source": [
    "list(temp_df.index)\n"
   ]
  },
  {
   "cell_type": "code",
   "execution_count": 177,
   "metadata": {},
   "outputs": [
    {
     "data": {
      "application/vnd.plotly.v1+json": {
       "config": {
        "plotlyServerURL": "https://plot.ly"
       },
       "data": [
        {
         "link": {
          "source": [
           0,
           1,
           1,
           1,
           1,
           6,
           7,
           8,
           10,
           9,
           11,
           11,
           11,
           15,
           15,
           15,
           15,
           15,
           15,
           15,
           15,
           15,
           15,
           15,
           23,
           25,
           5,
           5,
           5,
           5,
           5,
           27,
           17,
           17,
           28,
           29,
           2,
           2,
           2,
           2,
           2,
           2,
           2,
           2,
           34,
           24,
           35,
           35,
           36,
           38,
           37,
           39,
           39,
           40,
           40,
           41,
           42,
           43,
           43,
           4,
           4,
           4,
           26,
           26,
           26,
           44,
           45,
           46,
           47,
           35,
           35
          ],
          "target": [
           1,
           2,
           3,
           4,
           5,
           2,
           4,
           9,
           9,
           4,
           12,
           13,
           14,
           16,
           14,
           17,
           12,
           18,
           19,
           13,
           3,
           20,
           21,
           22,
           24,
           24,
           13,
           3,
           26,
           19,
           12,
           15,
           28,
           3,
           18,
           15,
           12,
           30,
           18,
           31,
           32,
           19,
           33,
           20,
           1,
           5,
           26,
           26,
           37,
           37,
           2,
           4,
           1,
           14,
           13,
           15,
           14,
           42,
           41,
           19,
           26,
           12,
           15,
           3,
           11,
           15,
           1,
           15,
           15,
           26,
           26
          ],
          "value": [
           124.729,
           0.597,
           26.862,
           280.322,
           81.144,
           35,
           35,
           11.606,
           63.965,
           75.571,
           10.639,
           22.505,
           46.184,
           104.453,
           113.726,
           27.14,
           342.165,
           37.797,
           4.412,
           40.858,
           56.691,
           7.863,
           90.008,
           93.494,
           40.719,
           82.233,
           0.129,
           1.401,
           151.891,
           2.096,
           48.58,
           7.013,
           20.897,
           6.242,
           20.897,
           6.995,
           121.066,
           128.69,
           135.835,
           14.458,
           206.267,
           3.64,
           33.218,
           4.413,
           14.375,
           122.952,
           500,
           139.978,
           504.287,
           107.703,
           611.99,
           56.587,
           77.81,
           193.026,
           70.672,
           59.901,
           19.263,
           19.263,
           59.901,
           0.882,
           400.12,
           46.477,
           525.531,
           787.129,
           79.329,
           9.452,
           182.01,
           19.013,
           289.366,
           100,
           100
          ]
         },
         "type": "sankey"
        }
       ],
       "layout": {
        "template": {
         "data": {
          "bar": [
           {
            "error_x": {
             "color": "#2a3f5f"
            },
            "error_y": {
             "color": "#2a3f5f"
            },
            "marker": {
             "line": {
              "color": "#E5ECF6",
              "width": 0.5
             },
             "pattern": {
              "fillmode": "overlay",
              "size": 10,
              "solidity": 0.2
             }
            },
            "type": "bar"
           }
          ],
          "barpolar": [
           {
            "marker": {
             "line": {
              "color": "#E5ECF6",
              "width": 0.5
             },
             "pattern": {
              "fillmode": "overlay",
              "size": 10,
              "solidity": 0.2
             }
            },
            "type": "barpolar"
           }
          ],
          "carpet": [
           {
            "aaxis": {
             "endlinecolor": "#2a3f5f",
             "gridcolor": "white",
             "linecolor": "white",
             "minorgridcolor": "white",
             "startlinecolor": "#2a3f5f"
            },
            "baxis": {
             "endlinecolor": "#2a3f5f",
             "gridcolor": "white",
             "linecolor": "white",
             "minorgridcolor": "white",
             "startlinecolor": "#2a3f5f"
            },
            "type": "carpet"
           }
          ],
          "choropleth": [
           {
            "colorbar": {
             "outlinewidth": 0,
             "ticks": ""
            },
            "type": "choropleth"
           }
          ],
          "contour": [
           {
            "colorbar": {
             "outlinewidth": 0,
             "ticks": ""
            },
            "colorscale": [
             [
              0,
              "#0d0887"
             ],
             [
              0.1111111111111111,
              "#46039f"
             ],
             [
              0.2222222222222222,
              "#7201a8"
             ],
             [
              0.3333333333333333,
              "#9c179e"
             ],
             [
              0.4444444444444444,
              "#bd3786"
             ],
             [
              0.5555555555555556,
              "#d8576b"
             ],
             [
              0.6666666666666666,
              "#ed7953"
             ],
             [
              0.7777777777777778,
              "#fb9f3a"
             ],
             [
              0.8888888888888888,
              "#fdca26"
             ],
             [
              1,
              "#f0f921"
             ]
            ],
            "type": "contour"
           }
          ],
          "contourcarpet": [
           {
            "colorbar": {
             "outlinewidth": 0,
             "ticks": ""
            },
            "type": "contourcarpet"
           }
          ],
          "heatmap": [
           {
            "colorbar": {
             "outlinewidth": 0,
             "ticks": ""
            },
            "colorscale": [
             [
              0,
              "#0d0887"
             ],
             [
              0.1111111111111111,
              "#46039f"
             ],
             [
              0.2222222222222222,
              "#7201a8"
             ],
             [
              0.3333333333333333,
              "#9c179e"
             ],
             [
              0.4444444444444444,
              "#bd3786"
             ],
             [
              0.5555555555555556,
              "#d8576b"
             ],
             [
              0.6666666666666666,
              "#ed7953"
             ],
             [
              0.7777777777777778,
              "#fb9f3a"
             ],
             [
              0.8888888888888888,
              "#fdca26"
             ],
             [
              1,
              "#f0f921"
             ]
            ],
            "type": "heatmap"
           }
          ],
          "heatmapgl": [
           {
            "colorbar": {
             "outlinewidth": 0,
             "ticks": ""
            },
            "colorscale": [
             [
              0,
              "#0d0887"
             ],
             [
              0.1111111111111111,
              "#46039f"
             ],
             [
              0.2222222222222222,
              "#7201a8"
             ],
             [
              0.3333333333333333,
              "#9c179e"
             ],
             [
              0.4444444444444444,
              "#bd3786"
             ],
             [
              0.5555555555555556,
              "#d8576b"
             ],
             [
              0.6666666666666666,
              "#ed7953"
             ],
             [
              0.7777777777777778,
              "#fb9f3a"
             ],
             [
              0.8888888888888888,
              "#fdca26"
             ],
             [
              1,
              "#f0f921"
             ]
            ],
            "type": "heatmapgl"
           }
          ],
          "histogram": [
           {
            "marker": {
             "pattern": {
              "fillmode": "overlay",
              "size": 10,
              "solidity": 0.2
             }
            },
            "type": "histogram"
           }
          ],
          "histogram2d": [
           {
            "colorbar": {
             "outlinewidth": 0,
             "ticks": ""
            },
            "colorscale": [
             [
              0,
              "#0d0887"
             ],
             [
              0.1111111111111111,
              "#46039f"
             ],
             [
              0.2222222222222222,
              "#7201a8"
             ],
             [
              0.3333333333333333,
              "#9c179e"
             ],
             [
              0.4444444444444444,
              "#bd3786"
             ],
             [
              0.5555555555555556,
              "#d8576b"
             ],
             [
              0.6666666666666666,
              "#ed7953"
             ],
             [
              0.7777777777777778,
              "#fb9f3a"
             ],
             [
              0.8888888888888888,
              "#fdca26"
             ],
             [
              1,
              "#f0f921"
             ]
            ],
            "type": "histogram2d"
           }
          ],
          "histogram2dcontour": [
           {
            "colorbar": {
             "outlinewidth": 0,
             "ticks": ""
            },
            "colorscale": [
             [
              0,
              "#0d0887"
             ],
             [
              0.1111111111111111,
              "#46039f"
             ],
             [
              0.2222222222222222,
              "#7201a8"
             ],
             [
              0.3333333333333333,
              "#9c179e"
             ],
             [
              0.4444444444444444,
              "#bd3786"
             ],
             [
              0.5555555555555556,
              "#d8576b"
             ],
             [
              0.6666666666666666,
              "#ed7953"
             ],
             [
              0.7777777777777778,
              "#fb9f3a"
             ],
             [
              0.8888888888888888,
              "#fdca26"
             ],
             [
              1,
              "#f0f921"
             ]
            ],
            "type": "histogram2dcontour"
           }
          ],
          "mesh3d": [
           {
            "colorbar": {
             "outlinewidth": 0,
             "ticks": ""
            },
            "type": "mesh3d"
           }
          ],
          "parcoords": [
           {
            "line": {
             "colorbar": {
              "outlinewidth": 0,
              "ticks": ""
             }
            },
            "type": "parcoords"
           }
          ],
          "pie": [
           {
            "automargin": true,
            "type": "pie"
           }
          ],
          "scatter": [
           {
            "fillpattern": {
             "fillmode": "overlay",
             "size": 10,
             "solidity": 0.2
            },
            "type": "scatter"
           }
          ],
          "scatter3d": [
           {
            "line": {
             "colorbar": {
              "outlinewidth": 0,
              "ticks": ""
             }
            },
            "marker": {
             "colorbar": {
              "outlinewidth": 0,
              "ticks": ""
             }
            },
            "type": "scatter3d"
           }
          ],
          "scattercarpet": [
           {
            "marker": {
             "colorbar": {
              "outlinewidth": 0,
              "ticks": ""
             }
            },
            "type": "scattercarpet"
           }
          ],
          "scattergeo": [
           {
            "marker": {
             "colorbar": {
              "outlinewidth": 0,
              "ticks": ""
             }
            },
            "type": "scattergeo"
           }
          ],
          "scattergl": [
           {
            "marker": {
             "colorbar": {
              "outlinewidth": 0,
              "ticks": ""
             }
            },
            "type": "scattergl"
           }
          ],
          "scattermapbox": [
           {
            "marker": {
             "colorbar": {
              "outlinewidth": 0,
              "ticks": ""
             }
            },
            "type": "scattermapbox"
           }
          ],
          "scatterpolar": [
           {
            "marker": {
             "colorbar": {
              "outlinewidth": 0,
              "ticks": ""
             }
            },
            "type": "scatterpolar"
           }
          ],
          "scatterpolargl": [
           {
            "marker": {
             "colorbar": {
              "outlinewidth": 0,
              "ticks": ""
             }
            },
            "type": "scatterpolargl"
           }
          ],
          "scatterternary": [
           {
            "marker": {
             "colorbar": {
              "outlinewidth": 0,
              "ticks": ""
             }
            },
            "type": "scatterternary"
           }
          ],
          "surface": [
           {
            "colorbar": {
             "outlinewidth": 0,
             "ticks": ""
            },
            "colorscale": [
             [
              0,
              "#0d0887"
             ],
             [
              0.1111111111111111,
              "#46039f"
             ],
             [
              0.2222222222222222,
              "#7201a8"
             ],
             [
              0.3333333333333333,
              "#9c179e"
             ],
             [
              0.4444444444444444,
              "#bd3786"
             ],
             [
              0.5555555555555556,
              "#d8576b"
             ],
             [
              0.6666666666666666,
              "#ed7953"
             ],
             [
              0.7777777777777778,
              "#fb9f3a"
             ],
             [
              0.8888888888888888,
              "#fdca26"
             ],
             [
              1,
              "#f0f921"
             ]
            ],
            "type": "surface"
           }
          ],
          "table": [
           {
            "cells": {
             "fill": {
              "color": "#EBF0F8"
             },
             "line": {
              "color": "white"
             }
            },
            "header": {
             "fill": {
              "color": "#C8D4E3"
             },
             "line": {
              "color": "white"
             }
            },
            "type": "table"
           }
          ]
         },
         "layout": {
          "annotationdefaults": {
           "arrowcolor": "#2a3f5f",
           "arrowhead": 0,
           "arrowwidth": 1
          },
          "autotypenumbers": "strict",
          "coloraxis": {
           "colorbar": {
            "outlinewidth": 0,
            "ticks": ""
           }
          },
          "colorscale": {
           "diverging": [
            [
             0,
             "#8e0152"
            ],
            [
             0.1,
             "#c51b7d"
            ],
            [
             0.2,
             "#de77ae"
            ],
            [
             0.3,
             "#f1b6da"
            ],
            [
             0.4,
             "#fde0ef"
            ],
            [
             0.5,
             "#f7f7f7"
            ],
            [
             0.6,
             "#e6f5d0"
            ],
            [
             0.7,
             "#b8e186"
            ],
            [
             0.8,
             "#7fbc41"
            ],
            [
             0.9,
             "#4d9221"
            ],
            [
             1,
             "#276419"
            ]
           ],
           "sequential": [
            [
             0,
             "#0d0887"
            ],
            [
             0.1111111111111111,
             "#46039f"
            ],
            [
             0.2222222222222222,
             "#7201a8"
            ],
            [
             0.3333333333333333,
             "#9c179e"
            ],
            [
             0.4444444444444444,
             "#bd3786"
            ],
            [
             0.5555555555555556,
             "#d8576b"
            ],
            [
             0.6666666666666666,
             "#ed7953"
            ],
            [
             0.7777777777777778,
             "#fb9f3a"
            ],
            [
             0.8888888888888888,
             "#fdca26"
            ],
            [
             1,
             "#f0f921"
            ]
           ],
           "sequentialminus": [
            [
             0,
             "#0d0887"
            ],
            [
             0.1111111111111111,
             "#46039f"
            ],
            [
             0.2222222222222222,
             "#7201a8"
            ],
            [
             0.3333333333333333,
             "#9c179e"
            ],
            [
             0.4444444444444444,
             "#bd3786"
            ],
            [
             0.5555555555555556,
             "#d8576b"
            ],
            [
             0.6666666666666666,
             "#ed7953"
            ],
            [
             0.7777777777777778,
             "#fb9f3a"
            ],
            [
             0.8888888888888888,
             "#fdca26"
            ],
            [
             1,
             "#f0f921"
            ]
           ]
          },
          "colorway": [
           "#636efa",
           "#EF553B",
           "#00cc96",
           "#ab63fa",
           "#FFA15A",
           "#19d3f3",
           "#FF6692",
           "#B6E880",
           "#FF97FF",
           "#FECB52"
          ],
          "font": {
           "color": "#2a3f5f"
          },
          "geo": {
           "bgcolor": "white",
           "lakecolor": "white",
           "landcolor": "#E5ECF6",
           "showlakes": true,
           "showland": true,
           "subunitcolor": "white"
          },
          "hoverlabel": {
           "align": "left"
          },
          "hovermode": "closest",
          "mapbox": {
           "style": "light"
          },
          "paper_bgcolor": "white",
          "plot_bgcolor": "#E5ECF6",
          "polar": {
           "angularaxis": {
            "gridcolor": "white",
            "linecolor": "white",
            "ticks": ""
           },
           "bgcolor": "#E5ECF6",
           "radialaxis": {
            "gridcolor": "white",
            "linecolor": "white",
            "ticks": ""
           }
          },
          "scene": {
           "xaxis": {
            "backgroundcolor": "#E5ECF6",
            "gridcolor": "white",
            "gridwidth": 2,
            "linecolor": "white",
            "showbackground": true,
            "ticks": "",
            "zerolinecolor": "white"
           },
           "yaxis": {
            "backgroundcolor": "#E5ECF6",
            "gridcolor": "white",
            "gridwidth": 2,
            "linecolor": "white",
            "showbackground": true,
            "ticks": "",
            "zerolinecolor": "white"
           },
           "zaxis": {
            "backgroundcolor": "#E5ECF6",
            "gridcolor": "white",
            "gridwidth": 2,
            "linecolor": "white",
            "showbackground": true,
            "ticks": "",
            "zerolinecolor": "white"
           }
          },
          "shapedefaults": {
           "line": {
            "color": "#2a3f5f"
           }
          },
          "ternary": {
           "aaxis": {
            "gridcolor": "white",
            "linecolor": "white",
            "ticks": ""
           },
           "baxis": {
            "gridcolor": "white",
            "linecolor": "white",
            "ticks": ""
           },
           "bgcolor": "#E5ECF6",
           "caxis": {
            "gridcolor": "white",
            "linecolor": "white",
            "ticks": ""
           }
          },
          "title": {
           "x": 0.05
          },
          "xaxis": {
           "automargin": true,
           "gridcolor": "white",
           "linecolor": "white",
           "ticks": "",
           "title": {
            "standoff": 15
           },
           "zerolinecolor": "white",
           "zerolinewidth": 2
          },
          "yaxis": {
           "automargin": true,
           "gridcolor": "white",
           "linecolor": "white",
           "ticks": "",
           "title": {
            "standoff": 15
           },
           "zerolinecolor": "white",
           "zerolinewidth": 2
          }
         }
        }
       }
      }
     },
     "metadata": {},
     "output_type": "display_data"
    }
   ],
   "source": [
    "import plotly.graph_objects as go\n",
    "\n",
    "\n",
    "source = [\n",
    "                    0,\n",
    "                    1,\n",
    "                    1,\n",
    "                    1,\n",
    "                    1,\n",
    "                    6,\n",
    "                    7,\n",
    "                    8,\n",
    "                    10,\n",
    "                    9,\n",
    "                    11,\n",
    "                    11,\n",
    "                    11,\n",
    "                    15,\n",
    "                    15,\n",
    "                    15,\n",
    "                    15,\n",
    "                    15,\n",
    "                    15,\n",
    "                    15,\n",
    "                    15,\n",
    "                    15,\n",
    "                    15,\n",
    "                    15,\n",
    "                    23,\n",
    "                    25,\n",
    "                    5,\n",
    "                    5,\n",
    "                    5,\n",
    "                    5,\n",
    "                    5,\n",
    "                    27,\n",
    "                    17,\n",
    "                    17,\n",
    "                    28,\n",
    "                    29,\n",
    "                    2,\n",
    "                    2,\n",
    "                    2,\n",
    "                    2,\n",
    "                    2,\n",
    "                    2,\n",
    "                    2,\n",
    "                    2,\n",
    "                    34,\n",
    "                    24,\n",
    "                    35,\n",
    "                    35,\n",
    "                    36,\n",
    "                    38,\n",
    "                    37,\n",
    "                    39,\n",
    "                    39,\n",
    "                    40,\n",
    "                    40,\n",
    "                    41,\n",
    "                    42,\n",
    "                    43,\n",
    "                    43,\n",
    "                    4,\n",
    "                    4,\n",
    "                    4,\n",
    "                    26,\n",
    "                    26,\n",
    "                    26,\n",
    "                    44,\n",
    "                    45,\n",
    "                    46,\n",
    "                    47,\n",
    "                    35,\n",
    "                    35\n",
    "                ]\n",
    "target = [\n",
    "                    1,\n",
    "                    2,\n",
    "                    3,\n",
    "                    4,\n",
    "                    5,\n",
    "                    2,\n",
    "                    4,\n",
    "                    9,\n",
    "                    9,\n",
    "                    4,\n",
    "                    12,\n",
    "                    13,\n",
    "                    14,\n",
    "                    16,\n",
    "                    14,\n",
    "                    17,\n",
    "                    12,\n",
    "                    18,\n",
    "                    19,\n",
    "                    13,\n",
    "                    3,\n",
    "                    20,\n",
    "                    21,\n",
    "                    22,\n",
    "                    24,\n",
    "                    24,\n",
    "                    13,\n",
    "                    3,\n",
    "                    26,\n",
    "                    19,\n",
    "                    12,\n",
    "                    15,\n",
    "                    28,\n",
    "                    3,\n",
    "                    18,\n",
    "                    15,\n",
    "                    12,\n",
    "                    30,\n",
    "                    18,\n",
    "                    31,\n",
    "                    32,\n",
    "                    19,\n",
    "                    33,\n",
    "                    20,\n",
    "                    1,\n",
    "                    5,\n",
    "                    26,\n",
    "                    26,\n",
    "                    37,\n",
    "                    37,\n",
    "                    2,\n",
    "                    4,\n",
    "                    1,\n",
    "                    14,\n",
    "                    13,\n",
    "                    15,\n",
    "                    14,\n",
    "                    42,\n",
    "                    41,\n",
    "                    19,\n",
    "                    26,\n",
    "                    12,\n",
    "                    15,\n",
    "                    3,\n",
    "                    11,\n",
    "                    15,\n",
    "                    1,\n",
    "                    15,\n",
    "                    15,\n",
    "                    26,\n",
    "                    26\n",
    "                ]\n",
    "value = [\n",
    "                    124.729,\n",
    "                    0.597,\n",
    "                    26.862,\n",
    "                    280.322,\n",
    "                    81.144,\n",
    "                    35,\n",
    "                    35,\n",
    "                    11.606,\n",
    "                    63.965,\n",
    "                    75.571,\n",
    "                    10.639,\n",
    "                    22.505,\n",
    "                    46.184,\n",
    "                    104.453,\n",
    "                    113.726,\n",
    "                    27.14,\n",
    "                    342.165,\n",
    "                    37.797,\n",
    "                    4.412,\n",
    "                    40.858,\n",
    "                    56.691,\n",
    "                    7.863,\n",
    "                    90.008,\n",
    "                    93.494,\n",
    "                    40.719,\n",
    "                    82.233,\n",
    "                    0.129,\n",
    "                    1.401,\n",
    "                    151.891,\n",
    "                    2.096,\n",
    "                    48.58,\n",
    "                    7.013,\n",
    "                    20.897,\n",
    "                    6.242,\n",
    "                    20.897,\n",
    "                    6.995,\n",
    "                    121.066,\n",
    "                    128.69,\n",
    "                    135.835,\n",
    "                    14.458,\n",
    "                    206.267,\n",
    "                    3.64,\n",
    "                    33.218,\n",
    "                    4.413,\n",
    "                    14.375,\n",
    "                    122.952,\n",
    "                    500,\n",
    "                    139.978,\n",
    "                    504.287,\n",
    "                    107.703,\n",
    "                    611.99,\n",
    "                    56.587,\n",
    "                    77.81,\n",
    "                    193.026,\n",
    "                    70.672,\n",
    "                    59.901,\n",
    "                    19.263,\n",
    "                    19.263,\n",
    "                    59.901,\n",
    "                    0.882,\n",
    "                    400.12,\n",
    "                    46.477,\n",
    "                    525.531,\n",
    "                    787.129,\n",
    "                    79.329,\n",
    "                    9.452,\n",
    "                    182.01,\n",
    "                    19.013,\n",
    "                    289.366,\n",
    "                    100,\n",
    "                    100\n",
    "                ]\n",
    "\n",
    "link = dict(source = source, target = target, value = value)\n",
    "data = go.Sankey(link = link)\n",
    "\n",
    "fig = go.Figure(data)\n",
    "\n",
    "fig.show()"
   ]
  },
  {
   "cell_type": "code",
   "execution_count": 174,
   "metadata": {},
   "outputs": [
    {
     "data": {
      "text/plain": [
       "71"
      ]
     },
     "execution_count": 174,
     "metadata": {},
     "output_type": "execute_result"
    }
   ],
   "source": [
    "len(target)"
   ]
  }
 ],
 "metadata": {
  "kernelspec": {
   "display_name": "kay",
   "language": "python",
   "name": "python3"
  },
  "language_info": {
   "codemirror_mode": {
    "name": "ipython",
    "version": 3
   },
   "file_extension": ".py",
   "mimetype": "text/x-python",
   "name": "python",
   "nbconvert_exporter": "python",
   "pygments_lexer": "ipython3",
   "version": "3.9.16"
  },
  "orig_nbformat": 4
 },
 "nbformat": 4,
 "nbformat_minor": 2
}
