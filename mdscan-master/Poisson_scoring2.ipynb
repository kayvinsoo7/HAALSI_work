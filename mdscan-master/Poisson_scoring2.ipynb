{
 "cells": [
  {
   "cell_type": "code",
   "execution_count": 1,
   "metadata": {},
   "outputs": [],
   "source": [
    "from mdss.ScoringFunctions.Bernoulli import Bernoulli\n",
    "from mdss.ScoringFunctions.Poisson import Poisson\n",
    "from mdss.MDSS import MDSS\n",
    "\n",
    "import numpy as np\n",
    "import pandas as pd\n",
    "from pandas.api.types import is_numeric_dtype\n",
    "\n",
    "import warnings\n",
    "\n",
    "warnings.filterwarnings('ignore')"
   ]
  },
  {
   "cell_type": "code",
   "execution_count": 48,
   "metadata": {},
   "outputs": [],
   "source": [
    "data = pd.read_csv('../project2_data_21_04_23.csv').drop(columns = \n",
    "       ['Unnamed: 0','study_id']).fillna(-999)\n",
    "# target_cols = ['htn_jnc7_qc', 'diabetes_status_c_qc', 'ckd_c_qc', 'cadiovascular_current']\n",
    "# target_cols = ['htn_jnc7_qc', 'diabetes_status_c_qc']\n",
    "target_cols = ['diabetes_status_c_qc']"
   ]
  },
  {
   "cell_type": "code",
   "execution_count": 2,
   "metadata": {},
   "outputs": [
    {
     "data": {
      "text/html": [
       "<div>\n",
       "<style scoped>\n",
       "    .dataframe tbody tr th:only-of-type {\n",
       "        vertical-align: middle;\n",
       "    }\n",
       "\n",
       "    .dataframe tbody tr th {\n",
       "        vertical-align: top;\n",
       "    }\n",
       "\n",
       "    .dataframe thead th {\n",
       "        text-align: right;\n",
       "    }\n",
       "</style>\n",
       "<table border=\"1\" class=\"dataframe\">\n",
       "  <thead>\n",
       "    <tr style=\"text-align: right;\">\n",
       "      <th></th>\n",
       "      <th>age_phase1</th>\n",
       "      <th>site</th>\n",
       "      <th>sex</th>\n",
       "      <th>highest_level_of_education_phase1</th>\n",
       "      <th>partnership_status_c_phase1</th>\n",
       "      <th>ses_site_quintile_c_phase1</th>\n",
       "      <th>occupation_phase1</th>\n",
       "      <th>alcohol_use_status_c_phase1</th>\n",
       "      <th>smoking_status_c_phase1</th>\n",
       "      <th>diabetes_history_phase1</th>\n",
       "      <th>...</th>\n",
       "      <th>change_in_triglycerides</th>\n",
       "      <th>change_in_glucose</th>\n",
       "      <th>change_in_s_creatinine</th>\n",
       "      <th>change_in_insulin</th>\n",
       "      <th>change_in_non_hdl</th>\n",
       "      <th>change_in_egfr</th>\n",
       "      <th>change_in_acr</th>\n",
       "      <th>change_in_mvpa</th>\n",
       "      <th>MAP_phase1</th>\n",
       "      <th>MAP_phase2</th>\n",
       "    </tr>\n",
       "  </thead>\n",
       "  <tbody>\n",
       "    <tr>\n",
       "      <th>0</th>\n",
       "      <td>45.0</td>\n",
       "      <td>3</td>\n",
       "      <td>1</td>\n",
       "      <td>2</td>\n",
       "      <td>1</td>\n",
       "      <td>4</td>\n",
       "      <td>1</td>\n",
       "      <td>3</td>\n",
       "      <td>0</td>\n",
       "      <td>0</td>\n",
       "      <td>...</td>\n",
       "      <td>-999.00</td>\n",
       "      <td>-999.00</td>\n",
       "      <td>-999.00</td>\n",
       "      <td>-999.0</td>\n",
       "      <td>-999.00</td>\n",
       "      <td>-999.000000</td>\n",
       "      <td>-999.000000</td>\n",
       "      <td>-999.0</td>\n",
       "      <td>88.166667</td>\n",
       "      <td>-999.000000</td>\n",
       "    </tr>\n",
       "    <tr>\n",
       "      <th>1</th>\n",
       "      <td>46.0</td>\n",
       "      <td>3</td>\n",
       "      <td>1</td>\n",
       "      <td>1</td>\n",
       "      <td>1</td>\n",
       "      <td>2</td>\n",
       "      <td>3</td>\n",
       "      <td>3</td>\n",
       "      <td>1</td>\n",
       "      <td>1</td>\n",
       "      <td>...</td>\n",
       "      <td>-999.00</td>\n",
       "      <td>-999.00</td>\n",
       "      <td>-999.00</td>\n",
       "      <td>-999.0</td>\n",
       "      <td>-999.00</td>\n",
       "      <td>-999.000000</td>\n",
       "      <td>-999.000000</td>\n",
       "      <td>-999.0</td>\n",
       "      <td>111.500000</td>\n",
       "      <td>-999.000000</td>\n",
       "    </tr>\n",
       "    <tr>\n",
       "      <th>2</th>\n",
       "      <td>57.0</td>\n",
       "      <td>1</td>\n",
       "      <td>0</td>\n",
       "      <td>0</td>\n",
       "      <td>2</td>\n",
       "      <td>2</td>\n",
       "      <td>2</td>\n",
       "      <td>0</td>\n",
       "      <td>0</td>\n",
       "      <td>0</td>\n",
       "      <td>...</td>\n",
       "      <td>-999.00</td>\n",
       "      <td>-999.00</td>\n",
       "      <td>-999.00</td>\n",
       "      <td>-999.0</td>\n",
       "      <td>-999.00</td>\n",
       "      <td>-999.000000</td>\n",
       "      <td>-999.000000</td>\n",
       "      <td>-999.0</td>\n",
       "      <td>87.500000</td>\n",
       "      <td>-999.000000</td>\n",
       "    </tr>\n",
       "    <tr>\n",
       "      <th>3</th>\n",
       "      <td>56.0</td>\n",
       "      <td>1</td>\n",
       "      <td>0</td>\n",
       "      <td>1</td>\n",
       "      <td>2</td>\n",
       "      <td>4</td>\n",
       "      <td>4</td>\n",
       "      <td>0</td>\n",
       "      <td>0</td>\n",
       "      <td>1</td>\n",
       "      <td>...</td>\n",
       "      <td>-999.00</td>\n",
       "      <td>-999.00</td>\n",
       "      <td>-999.00</td>\n",
       "      <td>-999.0</td>\n",
       "      <td>-999.00</td>\n",
       "      <td>-999.000000</td>\n",
       "      <td>-999.000000</td>\n",
       "      <td>-999.0</td>\n",
       "      <td>105.666667</td>\n",
       "      <td>-999.000000</td>\n",
       "    </tr>\n",
       "    <tr>\n",
       "      <th>4</th>\n",
       "      <td>56.0</td>\n",
       "      <td>1</td>\n",
       "      <td>1</td>\n",
       "      <td>1</td>\n",
       "      <td>2</td>\n",
       "      <td>2</td>\n",
       "      <td>4</td>\n",
       "      <td>3</td>\n",
       "      <td>2</td>\n",
       "      <td>0</td>\n",
       "      <td>...</td>\n",
       "      <td>-0.01</td>\n",
       "      <td>-0.47</td>\n",
       "      <td>15.88</td>\n",
       "      <td>-999.0</td>\n",
       "      <td>-0.73</td>\n",
       "      <td>-14.779267</td>\n",
       "      <td>-0.301724</td>\n",
       "      <td>2870.0</td>\n",
       "      <td>78.000000</td>\n",
       "      <td>62.666667</td>\n",
       "    </tr>\n",
       "  </tbody>\n",
       "</table>\n",
       "<p>5 rows × 76 columns</p>\n",
       "</div>"
      ],
      "text/plain": [
       "   age_phase1  site  sex  highest_level_of_education_phase1  \\\n",
       "0        45.0     3    1                                  2   \n",
       "1        46.0     3    1                                  1   \n",
       "2        57.0     1    0                                  0   \n",
       "3        56.0     1    0                                  1   \n",
       "4        56.0     1    1                                  1   \n",
       "\n",
       "   partnership_status_c_phase1  ses_site_quintile_c_phase1  occupation_phase1  \\\n",
       "0                            1                           4                  1   \n",
       "1                            1                           2                  3   \n",
       "2                            2                           2                  2   \n",
       "3                            2                           4                  4   \n",
       "4                            2                           2                  4   \n",
       "\n",
       "   alcohol_use_status_c_phase1  smoking_status_c_phase1  \\\n",
       "0                            3                        0   \n",
       "1                            3                        1   \n",
       "2                            0                        0   \n",
       "3                            0                        0   \n",
       "4                            3                        2   \n",
       "\n",
       "   diabetes_history_phase1  ...  change_in_triglycerides  change_in_glucose  \\\n",
       "0                        0  ...                  -999.00            -999.00   \n",
       "1                        1  ...                  -999.00            -999.00   \n",
       "2                        0  ...                  -999.00            -999.00   \n",
       "3                        1  ...                  -999.00            -999.00   \n",
       "4                        0  ...                    -0.01              -0.47   \n",
       "\n",
       "   change_in_s_creatinine  change_in_insulin  change_in_non_hdl  \\\n",
       "0                 -999.00             -999.0            -999.00   \n",
       "1                 -999.00             -999.0            -999.00   \n",
       "2                 -999.00             -999.0            -999.00   \n",
       "3                 -999.00             -999.0            -999.00   \n",
       "4                   15.88             -999.0              -0.73   \n",
       "\n",
       "   change_in_egfr  change_in_acr  change_in_mvpa  MAP_phase1  MAP_phase2  \n",
       "0     -999.000000    -999.000000          -999.0   88.166667 -999.000000  \n",
       "1     -999.000000    -999.000000          -999.0  111.500000 -999.000000  \n",
       "2     -999.000000    -999.000000          -999.0   87.500000 -999.000000  \n",
       "3     -999.000000    -999.000000          -999.0  105.666667 -999.000000  \n",
       "4      -14.779267      -0.301724          2870.0   78.000000   62.666667  \n",
       "\n",
       "[5 rows x 76 columns]"
      ]
     },
     "execution_count": 2,
     "metadata": {},
     "output_type": "execute_result"
    }
   ],
   "source": [
    "data = pd.read_csv('/Users/kayadetunji/Downloads/HAALSI_work/mdscan-master/project2_data_26_02_24_autostrat1.csv').drop(columns = ['study_id']).fillna(-999)\n",
    "\n",
    "target_cols = ['diabetes_status_c_phase1', 'ckd_c_phase1', 'cvd_status_phase1', 'hypertension_status_c_phase1']\n",
    "data.head()"
   ]
  },
  {
   "cell_type": "code",
   "execution_count": 3,
   "metadata": {},
   "outputs": [
    {
     "name": "stdout",
     "output_type": "stream",
     "text": [
      "Original size:  (1465, 76)\n",
      "Size after removing records with missing targets:  (1395, 76)\n"
     ]
    }
   ],
   "source": [
    "\n",
    "\n",
    "site_id = 1 # 1 - Agincourt, 3 - Nairobi\n",
    "\n",
    "# Choose the relevant site and age group\n",
    "dff = data[(data['site'] == site_id)].fillna(-999)\n",
    "# dff = dff2[(dff2['site'] == site_id)& (dff2['age_phase1'] <= 60) & (dff2['age_phase1'] >= 40)].fillna(-999)\n",
    "\n",
    "print('Original size: ', dff.shape)\n",
    "dff = dff[(dff[target_cols] != -999).sum(axis = 1) == len(target_cols)].copy()\n",
    "print('Size after removing records with missing targets: ', dff.shape)"
   ]
  },
  {
   "cell_type": "code",
   "execution_count": 4,
   "metadata": {},
   "outputs": [],
   "source": [
    "features = ['age_phase1', 'sex', 'highest_level_of_education_phase1',\n",
    "       'partnership_status_c_phase1', 'ses_site_quintile_c_phase1',\n",
    "       'occupation_phase1', 'alcohol_use_status_c_phase1',\n",
    "       'smoking_status_c_phase1', 'diabetes_history_phase1', 'mvpa_c_phase1',\n",
    "       'weight_phase1', 'bmi_c_phase1', 'waist_hip_r_c_phase1',\n",
    "       'waist_circumference_phase1', 'bp_sys_average_phase1','bp_dia_average_phase1',\n",
    "       'glucose_result_phase1', 's_creatinine_phase1',\n",
    "       'hdl_phase1', 'cholesterol_1_phase1', 'friedewald_ldl_c_phase1',\n",
    "       'triglycerides_phase1', 'egfr_c_phase1','acr_c_phase1']\n",
    "continuous = ['weight_phase1', 'bmi_c_phase1', 'waist_hip_r_c_phase1',\n",
    "       'waist_circumference_phase1', 'bp_sys_average_phase1','bp_dia_average_phase1',\n",
    "       'glucose_result_phase1', 's_creatinine_phase1',\n",
    "       'hdl_phase1', 'cholesterol_1_phase1', 'friedewald_ldl_c_phase1',\n",
    "       'triglycerides_phase1', 'egfr_c_phase1','acr_c_phase1']"
   ]
  },
  {
   "cell_type": "code",
   "execution_count": 5,
   "metadata": {},
   "outputs": [],
   "source": [
    "# dff.loc[:,'ckd_c_qcphase1'] = dff.loc[:,'ckd_c_qcphase1'].replace([-999], 0)\n",
    "dff1 = dff.replace([-999, -222, -111, 999], np.nan).copy()"
   ]
  },
  {
   "cell_type": "code",
   "execution_count": 7,
   "metadata": {},
   "outputs": [],
   "source": [
    "# from sklearn.linear_model import BayesianRidge\n",
    "# from sklearn.experimental import enable_iterative_imputer\n",
    "# from sklearn.impute import IterativeImputer\n",
    "# import matplotlib.pyplot as plt\n",
    "# imputer_bayes = IterativeImputer(\n",
    "#     estimator=BayesianRidge(),\n",
    "#     max_iter=10,\n",
    "#     random_state=42)\n",
    "\n",
    "# # let's create a MICE imputer using Bayes as estimator\n",
    "\n",
    "# imputer = IterativeImputer(\n",
    "#     estimator=BayesianRidge(), # the estimator to predict the NA\n",
    "#     initial_strategy='mean', # how will NA be imputed in step 1\n",
    "#     max_iter=10, # number of cycles\n",
    "#     imputation_order='ascending', # the order in which to impute the variables\n",
    "#     n_nearest_features=None, # whether to limit the number of predictors\n",
    "#     skip_complete=True, # whether to ignore variables without NA\n",
    "#     random_state=0,\n",
    "# )\n",
    "# imputer.fit(dff1)\n",
    "# train_t = imputer.transform(dff1)\n",
    "# # train_x = imputer.transform(data.iloc[:,2:])\n",
    "# treated = pd.DataFrame(train_t, columns=dff1.columns)\n",
    "# # treated = treated.apply(np.ceil)\n",
    "# treated.loc[:,['highest_level_of_education_qc','occupation_qc','smoking_status_c_qc']]\\\n",
    "#       = np.round(treated.loc[:,['highest_level_of_education_qc','occupation_qc','smoking_status_c_qc']], decimals=0)\n",
    "\n",
    "# fig = plt.figure()\n",
    "# ax = fig.add_subplot(111)\n",
    "# dff1['cimt_mean_max'].plot(kind='kde', ax=ax, color='blue')\n",
    "# treated['cimt_mean_max'].plot(kind='kde', ax=ax, color='green')"
   ]
  },
  {
   "cell_type": "code",
   "execution_count": 8,
   "metadata": {},
   "outputs": [
    {
     "data": {
      "text/plain": [
       "<Axes: ylabel='Density'>"
      ]
     },
     "execution_count": 8,
     "metadata": {},
     "output_type": "execute_result"
    },
    {
     "data": {
      "image/png": "[encoded data removed]",
      "text/plain": [
       "<Figure size 640x480 with 1 Axes>"
      ]
     },
     "metadata": {},
     "output_type": "display_data"
    }
   ],
   "source": [
    "from sklearn.linear_model import BayesianRidge\n",
    "from sklearn.experimental import enable_iterative_imputer\n",
    "from sklearn.impute import IterativeImputer\n",
    "import matplotlib.pyplot as plt\n",
    "imputer_bayes = IterativeImputer(\n",
    "    estimator=BayesianRidge(),\n",
    "    max_iter=10,\n",
    "    random_state=42)\n",
    "\n",
    "# let's create a MICE imputer using Bayes as estimator\n",
    "\n",
    "imputer = IterativeImputer(\n",
    "    estimator=BayesianRidge(), # the estimator to predict the NA\n",
    "    initial_strategy='mean', # how will NA be imputed in step 1\n",
    "    max_iter=10, # number of cycles\n",
    "    imputation_order='ascending', # the order in which to impute the variables\n",
    "    n_nearest_features=None, # whether to limit the number of predictors\n",
    "    skip_complete=True, # whether to ignore variables without NA\n",
    "    random_state=0,\n",
    ")\n",
    "imputer.fit(dff1[continuous])\n",
    "train_t = imputer.transform(dff1[continuous])\n",
    "# train_x = imputer.transform(data.iloc[:,2:])\n",
    "treated = pd.DataFrame(train_t, columns=dff1[continuous].columns)\n",
    "# treated = treated.apply(np.ceil)\n",
    "# treated.loc[:,['highest_level_of_education_qc','occupation_qc','smoking_status_c_qc']]\\\n",
    "#       = np.round(treated.loc[:,['highest_level_of_education_qc','occupation_qc','smoking_status_c_qc']], decimals=0)\n",
    "\n",
    "fig = plt.figure()\n",
    "ax = fig.add_subplot(111)\n",
    "dff1['bp_sys_average_phase1'].plot(kind='kde', ax=ax, color='blue')\n",
    "treated['bp_sys_average_phase1'].plot(kind='kde', ax=ax, color='green')"
   ]
  },
  {
   "cell_type": "code",
   "execution_count": 9,
   "metadata": {},
   "outputs": [],
   "source": [
    "dff = dff[features + target_cols].copy()\n",
    "dff.reset_index(inplace=True, drop=True)\n",
    "dff[continuous] = treated[continuous]"
   ]
  },
  {
   "cell_type": "code",
   "execution_count": 10,
   "metadata": {},
   "outputs": [],
   "source": [
    "numeric_columns = [col for col in dff.columns \\\n",
    "                     if (is_numeric_dtype(dff[col])) \\\n",
    "                     & (col not in target_cols) \\\n",
    "                     & (dff[col].nunique() > 10)]"
   ]
  },
  {
   "cell_type": "markdown",
   "metadata": {},
   "source": [
    "## Expected risks"
   ]
  },
  {
   "cell_type": "code",
   "execution_count": 11,
   "metadata": {},
   "outputs": [],
   "source": [
    "# Specify the columns of interest\n",
    "# columns_of_interest = ['htn_jnc7_qc', 'diabetes_status_c_qc', 'ckd_c_qc', 'cadiovascular_current'] \n",
    "\n",
    "\n",
    "# defining the outcome variable\n",
    "dff['MorbidityCount'] = (dff[target_cols] == 1).sum(axis = 1) # *******CHECK*********\n",
    "treated['MorbidityCount'] = (dff[target_cols] == 1).sum(axis = 1)\n",
    "\n",
    "# Min-Max Normalization\n",
    "# treated['normalizedOutcome'] = (treated['MorbidityCount'] - treated['MorbidityCount'].min()) / (treated['MorbidityCount'].max() - treated['MorbidityCount'].min())\n",
    "\n",
    "\n",
    "# defining the expectations as mean of the target\n",
    "# treated['expectation'] = treated[target_col].mean()\n",
    "# treated['expectationPoisson'] = treated['normalizedOutcome'].mean()\n",
    "treated['expectationPoisson'] = treated['MorbidityCount'].mean()\n",
    "dff['expectationPoisson'] = dff['MorbidityCount'].mean()"
   ]
  },
  {
   "cell_type": "code",
   "execution_count": 46,
   "metadata": {},
   "outputs": [
    {
     "data": {
      "text/html": [
       "<div>\n",
       "<style scoped>\n",
       "    .dataframe tbody tr th:only-of-type {\n",
       "        vertical-align: middle;\n",
       "    }\n",
       "\n",
       "    .dataframe tbody tr th {\n",
       "        vertical-align: top;\n",
       "    }\n",
       "\n",
       "    .dataframe thead th {\n",
       "        text-align: right;\n",
       "    }\n",
       "</style>\n",
       "<table border=\"1\" class=\"dataframe\">\n",
       "  <thead>\n",
       "    <tr style=\"text-align: right;\">\n",
       "      <th></th>\n",
       "      <th>diabetes_status_c_phase1</th>\n",
       "      <th>ckd_c_phase1</th>\n",
       "      <th>cvd_status_phase1</th>\n",
       "      <th>hypertension_status_c_phase1</th>\n",
       "    </tr>\n",
       "  </thead>\n",
       "  <tbody>\n",
       "    <tr>\n",
       "      <th>0</th>\n",
       "      <td>0</td>\n",
       "      <td>0</td>\n",
       "      <td>0</td>\n",
       "      <td>0</td>\n",
       "    </tr>\n",
       "    <tr>\n",
       "      <th>1</th>\n",
       "      <td>0</td>\n",
       "      <td>0</td>\n",
       "      <td>0</td>\n",
       "      <td>1</td>\n",
       "    </tr>\n",
       "    <tr>\n",
       "      <th>2</th>\n",
       "      <td>0</td>\n",
       "      <td>0</td>\n",
       "      <td>0</td>\n",
       "      <td>0</td>\n",
       "    </tr>\n",
       "    <tr>\n",
       "      <th>3</th>\n",
       "      <td>0</td>\n",
       "      <td>1</td>\n",
       "      <td>0</td>\n",
       "      <td>0</td>\n",
       "    </tr>\n",
       "    <tr>\n",
       "      <th>4</th>\n",
       "      <td>0</td>\n",
       "      <td>0</td>\n",
       "      <td>0</td>\n",
       "      <td>0</td>\n",
       "    </tr>\n",
       "    <tr>\n",
       "      <th>...</th>\n",
       "      <td>...</td>\n",
       "      <td>...</td>\n",
       "      <td>...</td>\n",
       "      <td>...</td>\n",
       "    </tr>\n",
       "    <tr>\n",
       "      <th>1390</th>\n",
       "      <td>0</td>\n",
       "      <td>0</td>\n",
       "      <td>0</td>\n",
       "      <td>1</td>\n",
       "    </tr>\n",
       "    <tr>\n",
       "      <th>1391</th>\n",
       "      <td>1</td>\n",
       "      <td>0</td>\n",
       "      <td>0</td>\n",
       "      <td>1</td>\n",
       "    </tr>\n",
       "    <tr>\n",
       "      <th>1392</th>\n",
       "      <td>0</td>\n",
       "      <td>0</td>\n",
       "      <td>0</td>\n",
       "      <td>0</td>\n",
       "    </tr>\n",
       "    <tr>\n",
       "      <th>1393</th>\n",
       "      <td>0</td>\n",
       "      <td>0</td>\n",
       "      <td>0</td>\n",
       "      <td>0</td>\n",
       "    </tr>\n",
       "    <tr>\n",
       "      <th>1394</th>\n",
       "      <td>0</td>\n",
       "      <td>0</td>\n",
       "      <td>0</td>\n",
       "      <td>0</td>\n",
       "    </tr>\n",
       "  </tbody>\n",
       "</table>\n",
       "<p>1395 rows × 4 columns</p>\n",
       "</div>"
      ],
      "text/plain": [
       "      diabetes_status_c_phase1  ckd_c_phase1  cvd_status_phase1  \\\n",
       "0                            0             0                  0   \n",
       "1                            0             0                  0   \n",
       "2                            0             0                  0   \n",
       "3                            0             1                  0   \n",
       "4                            0             0                  0   \n",
       "...                        ...           ...                ...   \n",
       "1390                         0             0                  0   \n",
       "1391                         1             0                  0   \n",
       "1392                         0             0                  0   \n",
       "1393                         0             0                  0   \n",
       "1394                         0             0                  0   \n",
       "\n",
       "      hypertension_status_c_phase1  \n",
       "0                                0  \n",
       "1                                1  \n",
       "2                                0  \n",
       "3                                0  \n",
       "4                                0  \n",
       "...                            ...  \n",
       "1390                             1  \n",
       "1391                             1  \n",
       "1392                             0  \n",
       "1393                             0  \n",
       "1394                             0  \n",
       "\n",
       "[1395 rows x 4 columns]"
      ]
     },
     "execution_count": 46,
     "metadata": {},
     "output_type": "execute_result"
    }
   ],
   "source": [
    "dff[target_cols].astype(int)"
   ]
  },
  {
   "cell_type": "code",
   "execution_count": 84,
   "metadata": {},
   "outputs": [],
   "source": [
    "ang1_up = dff_encoded.mask(dff_encoded == 1, np.nan)\n",
    "# ang1"
   ]
  },
  {
   "cell_type": "code",
   "execution_count": 85,
   "metadata": {},
   "outputs": [
    {
     "data": {
      "text/html": [
       "<div>\n",
       "<style scoped>\n",
       "    .dataframe tbody tr th:only-of-type {\n",
       "        vertical-align: middle;\n",
       "    }\n",
       "\n",
       "    .dataframe tbody tr th {\n",
       "        vertical-align: top;\n",
       "    }\n",
       "\n",
       "    .dataframe thead th {\n",
       "        text-align: right;\n",
       "    }\n",
       "</style>\n",
       "<table border=\"1\" class=\"dataframe\">\n",
       "  <thead>\n",
       "    <tr style=\"text-align: right;\">\n",
       "      <th></th>\n",
       "      <th>DC_0</th>\n",
       "      <th>DC_1</th>\n",
       "      <th>DC_2</th>\n",
       "      <th>DC_3</th>\n",
       "      <th>DC_4</th>\n",
       "    </tr>\n",
       "  </thead>\n",
       "  <tbody>\n",
       "    <tr>\n",
       "      <th>0</th>\n",
       "      <td>NaN</td>\n",
       "      <td>0.0</td>\n",
       "      <td>0.0</td>\n",
       "      <td>0.0</td>\n",
       "      <td>0.0</td>\n",
       "    </tr>\n",
       "    <tr>\n",
       "      <th>1</th>\n",
       "      <td>0.0</td>\n",
       "      <td>NaN</td>\n",
       "      <td>0.0</td>\n",
       "      <td>0.0</td>\n",
       "      <td>0.0</td>\n",
       "    </tr>\n",
       "    <tr>\n",
       "      <th>2</th>\n",
       "      <td>NaN</td>\n",
       "      <td>0.0</td>\n",
       "      <td>0.0</td>\n",
       "      <td>0.0</td>\n",
       "      <td>0.0</td>\n",
       "    </tr>\n",
       "    <tr>\n",
       "      <th>3</th>\n",
       "      <td>0.0</td>\n",
       "      <td>NaN</td>\n",
       "      <td>0.0</td>\n",
       "      <td>0.0</td>\n",
       "      <td>0.0</td>\n",
       "    </tr>\n",
       "    <tr>\n",
       "      <th>4</th>\n",
       "      <td>NaN</td>\n",
       "      <td>0.0</td>\n",
       "      <td>0.0</td>\n",
       "      <td>0.0</td>\n",
       "      <td>0.0</td>\n",
       "    </tr>\n",
       "    <tr>\n",
       "      <th>...</th>\n",
       "      <td>...</td>\n",
       "      <td>...</td>\n",
       "      <td>...</td>\n",
       "      <td>...</td>\n",
       "      <td>...</td>\n",
       "    </tr>\n",
       "    <tr>\n",
       "      <th>1390</th>\n",
       "      <td>0.0</td>\n",
       "      <td>NaN</td>\n",
       "      <td>0.0</td>\n",
       "      <td>0.0</td>\n",
       "      <td>0.0</td>\n",
       "    </tr>\n",
       "    <tr>\n",
       "      <th>1391</th>\n",
       "      <td>0.0</td>\n",
       "      <td>0.0</td>\n",
       "      <td>NaN</td>\n",
       "      <td>0.0</td>\n",
       "      <td>0.0</td>\n",
       "    </tr>\n",
       "    <tr>\n",
       "      <th>1392</th>\n",
       "      <td>NaN</td>\n",
       "      <td>0.0</td>\n",
       "      <td>0.0</td>\n",
       "      <td>0.0</td>\n",
       "      <td>0.0</td>\n",
       "    </tr>\n",
       "    <tr>\n",
       "      <th>1393</th>\n",
       "      <td>NaN</td>\n",
       "      <td>0.0</td>\n",
       "      <td>0.0</td>\n",
       "      <td>0.0</td>\n",
       "      <td>0.0</td>\n",
       "    </tr>\n",
       "    <tr>\n",
       "      <th>1394</th>\n",
       "      <td>NaN</td>\n",
       "      <td>0.0</td>\n",
       "      <td>0.0</td>\n",
       "      <td>0.0</td>\n",
       "      <td>0.0</td>\n",
       "    </tr>\n",
       "  </tbody>\n",
       "</table>\n",
       "<p>1395 rows × 5 columns</p>\n",
       "</div>"
      ],
      "text/plain": [
       "      DC_0  DC_1  DC_2  DC_3  DC_4\n",
       "0      NaN   0.0   0.0   0.0   0.0\n",
       "1      0.0   NaN   0.0   0.0   0.0\n",
       "2      NaN   0.0   0.0   0.0   0.0\n",
       "3      0.0   NaN   0.0   0.0   0.0\n",
       "4      NaN   0.0   0.0   0.0   0.0\n",
       "...    ...   ...   ...   ...   ...\n",
       "1390   0.0   NaN   0.0   0.0   0.0\n",
       "1391   0.0   0.0   NaN   0.0   0.0\n",
       "1392   NaN   0.0   0.0   0.0   0.0\n",
       "1393   NaN   0.0   0.0   0.0   0.0\n",
       "1394   NaN   0.0   0.0   0.0   0.0\n",
       "\n",
       "[1395 rows x 5 columns]"
      ]
     },
     "execution_count": 85,
     "metadata": {},
     "output_type": "execute_result"
    }
   ],
   "source": [
    "ang1_up.iloc[:,0:]"
   ]
  },
  {
   "cell_type": "code",
   "execution_count": 66,
   "metadata": {},
   "outputs": [
    {
     "data": {
      "text/plain": [
       "0.789247311827957"
      ]
     },
     "execution_count": 66,
     "metadata": {},
     "output_type": "execute_result"
    }
   ],
   "source": [
    "treated['MorbidityCount'].mean()"
   ]
  },
  {
   "cell_type": "code",
   "execution_count": null,
   "metadata": {},
   "outputs": [],
   "source": [
    "from matplotlib.patches import Circle, Wedge\n",
    "\n",
    "# Sample DataFrame\n",
    "df = pd.DataFrame({\n",
    "    'x_col': treated[treated['MorbidityCount'] != 0].age, \n",
    "    'y_col': treated[treated['MorbidityCount'] != 0].bmi_c_qc,\n",
    "    'outcome': treated[treated['MorbidityCount'] != 0].MorbidityCount\n",
    "})\n",
    "\n",
    "# Function to draw custom markers\n",
    "def draw_custom_marker(ax, x, y, outcomes):\n",
    "    radius = 0.2  # Adjust size of the custom marker\n",
    "    colors = ['cyan', 'red', 'teal', 'green']\n",
    "    \n",
    "    if outcomes == 1:\n",
    "        circle = Circle((x, y), radius, color=colors[0], transform=ax.transData)\n",
    "        ax.add_patch(circle)\n",
    "    elif outcomes == 2:\n",
    "        wedge1 = Wedge((x, y), radius, 40, 220, color=colors[0], transform=ax.transData)\n",
    "        wedge2 = Wedge((x, y), radius, 220, 39, color=colors[1], transform=ax.transData)\n",
    "        ax.add_patch(wedge1)\n",
    "        ax.add_patch(wedge2)\n",
    "    elif outcomes == 3:\n",
    "        wedge1 = Wedge((x, y), radius, 0, 120, color=colors[0], transform=ax.transData)\n",
    "        wedge2 = Wedge((x, y), radius, 120, 240, color=colors[1], transform=ax.transData)\n",
    "        wedge3 = Wedge((x, y), radius, 240, 360, color=colors[2], transform=ax.transData)\n",
    "        ax.add_patch(wedge1)\n",
    "        ax.add_patch(wedge2)\n",
    "        ax.add_patch(wedge3)\n",
    "    elif outcomes == 4:\n",
    "        wedge1 = Wedge((x, y), radius, 10, 100, color=colors[0], transform=ax.transData)\n",
    "        wedge2 = Wedge((x, y), radius, 100, 190, color=colors[1], transform=ax.transData)\n",
    "        wedge3 = Wedge((x, y), radius, 190, 280, color=colors[2], transform=ax.transData)\n",
    "        wedge4 = Wedge((x, y), radius, 280, 9, color=colors[3], transform=ax.transData)\n",
    "        ax.add_patch(wedge1)\n",
    "        ax.add_patch(wedge2)\n",
    "        ax.add_patch(wedge3)\n",
    "        ax.add_patch(wedge4)\n",
    "\n",
    "# Plot\n",
    "fig, ax = plt.subplots(figsize=(10, 8))\n",
    "# ax.scatter(df['x_col'], df['y_col'], alpha=0.5)\n",
    "\n",
    "# Iterate through DataFrame to plot each custom marker\n",
    "for index, row in df.iterrows():\n",
    "    draw_custom_marker(ax, row['x_col'], row['y_col'], row['outcome'])\n",
    "\n",
    "plt.title('Scatter Plot with Custom Markers')\n",
    "plt.xlabel('X')\n",
    "plt.ylabel('Y')\n",
    "plt.xlim(40, 62)\n",
    "plt.ylim(0, 65)\n",
    "plt.show()"
   ]
  },
  {
   "cell_type": "code",
   "execution_count": 27,
   "metadata": {},
   "outputs": [
    {
     "data": {
      "text/html": [
       "<div>\n",
       "<style scoped>\n",
       "    .dataframe tbody tr th:only-of-type {\n",
       "        vertical-align: middle;\n",
       "    }\n",
       "\n",
       "    .dataframe tbody tr th {\n",
       "        vertical-align: top;\n",
       "    }\n",
       "\n",
       "    .dataframe thead th {\n",
       "        text-align: right;\n",
       "    }\n",
       "</style>\n",
       "<table border=\"1\" class=\"dataframe\">\n",
       "  <thead>\n",
       "    <tr style=\"text-align: right;\">\n",
       "      <th></th>\n",
       "      <th>x_col</th>\n",
       "      <th>y_col</th>\n",
       "      <th>outcome</th>\n",
       "    </tr>\n",
       "  </thead>\n",
       "  <tbody>\n",
       "    <tr>\n",
       "      <th>1</th>\n",
       "      <td>27.02</td>\n",
       "      <td>4.45</td>\n",
       "      <td>1</td>\n",
       "    </tr>\n",
       "    <tr>\n",
       "      <th>3</th>\n",
       "      <td>37.42</td>\n",
       "      <td>4.05</td>\n",
       "      <td>1</td>\n",
       "    </tr>\n",
       "    <tr>\n",
       "      <th>6</th>\n",
       "      <td>23.62</td>\n",
       "      <td>2.59</td>\n",
       "      <td>1</td>\n",
       "    </tr>\n",
       "    <tr>\n",
       "      <th>7</th>\n",
       "      <td>36.42</td>\n",
       "      <td>4.12</td>\n",
       "      <td>1</td>\n",
       "    </tr>\n",
       "    <tr>\n",
       "      <th>8</th>\n",
       "      <td>20.81</td>\n",
       "      <td>4.44</td>\n",
       "      <td>1</td>\n",
       "    </tr>\n",
       "    <tr>\n",
       "      <th>...</th>\n",
       "      <td>...</td>\n",
       "      <td>...</td>\n",
       "      <td>...</td>\n",
       "    </tr>\n",
       "    <tr>\n",
       "      <th>1457</th>\n",
       "      <td>29.21</td>\n",
       "      <td>4.60</td>\n",
       "      <td>1</td>\n",
       "    </tr>\n",
       "    <tr>\n",
       "      <th>1458</th>\n",
       "      <td>34.00</td>\n",
       "      <td>4.28</td>\n",
       "      <td>1</td>\n",
       "    </tr>\n",
       "    <tr>\n",
       "      <th>1459</th>\n",
       "      <td>22.09</td>\n",
       "      <td>2.69</td>\n",
       "      <td>1</td>\n",
       "    </tr>\n",
       "    <tr>\n",
       "      <th>1460</th>\n",
       "      <td>15.82</td>\n",
       "      <td>4.84</td>\n",
       "      <td>1</td>\n",
       "    </tr>\n",
       "    <tr>\n",
       "      <th>1461</th>\n",
       "      <td>32.46</td>\n",
       "      <td>3.37</td>\n",
       "      <td>2</td>\n",
       "    </tr>\n",
       "  </tbody>\n",
       "</table>\n",
       "<p>878 rows × 3 columns</p>\n",
       "</div>"
      ],
      "text/plain": [
       "      x_col  y_col  outcome\n",
       "1     27.02   4.45        1\n",
       "3     37.42   4.05        1\n",
       "6     23.62   2.59        1\n",
       "7     36.42   4.12        1\n",
       "8     20.81   4.44        1\n",
       "...     ...    ...      ...\n",
       "1457  29.21   4.60        1\n",
       "1458  34.00   4.28        1\n",
       "1459  22.09   2.69        1\n",
       "1460  15.82   4.84        1\n",
       "1461  32.46   3.37        2\n",
       "\n",
       "[878 rows x 3 columns]"
      ]
     },
     "execution_count": 27,
     "metadata": {},
     "output_type": "execute_result"
    }
   ],
   "source": [
    "df"
   ]
  },
  {
   "cell_type": "code",
   "execution_count": null,
   "metadata": {},
   "outputs": [],
   "source": [
    "zeroCount = treated.loc[treated['MorbidityCount'] == 0]\n",
    "OneCount = treated.loc[treated['MorbidityCount'] == 1]\n",
    "twoCount = treated.loc[treated['MorbidityCount'] == 2]\n",
    "threeCount = treated.loc[treated['MorbidityCount'] == 3]\n",
    "fourCount = treated.loc[treated['MorbidityCount'] == 4]\n",
    "\n",
    "print(len(zeroCount['MorbidityCount']), len(OneCount['MorbidityCount']), len(twoCount['MorbidityCount']), len(threeCount['MorbidityCount']), len(fourCount['MorbidityCount']))\n",
    "len(OneCount['MorbidityCount'])"
   ]
  },
  {
   "cell_type": "code",
   "execution_count": 12,
   "metadata": {},
   "outputs": [
    {
     "data": {
      "image/png": "[encoded data removed]",
      "text/plain": [
       "<Figure size 800x400 with 1 Axes>"
      ]
     },
     "metadata": {},
     "output_type": "display_data"
    }
   ],
   "source": [
    "import matplotlib.pyplot as plt\n",
    "import numpy as np\n",
    "from scipy.stats import poisson\n",
    "\n",
    "# Example data\n",
    "poisData = treated['MorbidityCount']\n",
    "\n",
    "# Calculate lambda (λ) as the mean of the data\n",
    "lambda_ = np.mean(poisData)\n",
    "\n",
    "# Generate the range of possible count values (up to the max observed count)\n",
    "x = np.arange(0, max(poisData) + 1)\n",
    "\n",
    "# Calculate the Poisson probability mass function (PMF) for each count\n",
    "pmf = poisson.pmf(x, lambda_)\n",
    "\n",
    "# Plotting\n",
    "plt.figure(figsize=(8, 4))\n",
    "plt.hist(poisData, bins=np.arange(-0.5, max(poisData) + 1.5, 1), density=True, alpha=0.8, color='lightblue', label='Observed Data')\n",
    "plt.plot(x, pmf, 'o-', color='blue', label='Poisson PMF')\n",
    "plt.title('Histogram of Observed Data and Poisson PMF')\n",
    "plt.xlabel('Disease Count')\n",
    "plt.ylabel('Frequency')\n",
    "plt.xticks(x)\n",
    "plt.legend()\n",
    "plt.grid(True)\n",
    "plt.show()\n"
   ]
  },
  {
   "cell_type": "code",
   "execution_count": null,
   "metadata": {},
   "outputs": [],
   "source": [
    "\n",
    "# poisData = treated['partnership_status_c_qc']\n",
    "\n",
    "number_of_participants = len(poisData)  # Total number of participants\n",
    "\n",
    "# Assuming each participant contributes an equal amount of time (e.g., 1 day)\n",
    "time_at_risk_per_participant = treated['partnership_status_c_qc'].mean()  # Adjust this value as per your study design\n",
    "\n",
    "# Total person-time at risk\n",
    "total_person_time = number_of_participants * time_at_risk_per_participant\n",
    "\n",
    "# Total number of events (sum of counts)\n",
    "total_events = np.sum(poisData)\n",
    "\n",
    "# Calculating incidence density\n",
    "incidence_density = total_events / total_person_time\n",
    "\n",
    "# Print the result\n",
    "print(\"Incidence Density:\", incidence_density, \"events per person-time unit\")\n"
   ]
  },
  {
   "cell_type": "code",
   "execution_count": 13,
   "metadata": {},
   "outputs": [
    {
     "data": {
      "image/png": "[encoded data removed]",
      "text/plain": [
       "<Figure size 800x400 with 1 Axes>"
      ]
     },
     "metadata": {},
     "output_type": "display_data"
    },
    {
     "data": {
      "text/plain": [
       "0.7429961032492521"
      ]
     },
     "execution_count": 13,
     "metadata": {},
     "output_type": "execute_result"
    }
   ],
   "source": [
    "import numpy as np\n",
    "import matplotlib.pyplot as plt\n",
    "from scipy.stats import poisson, nbinom\n",
    "\n",
    "# Poisson model\n",
    "lambda_poisson = np.mean(poisData)\n",
    "\n",
    "# Calculating the mean and variance for the Negative Binomial distribution\n",
    "mean_negbin = np.mean(poisData)\n",
    "variance_negbin = np.var(poisData)\n",
    "\n",
    "# The dispersion parameter (r) for the Negative Binomial distribution\n",
    "# r = mean^2 / (variance - mean) for overdispersed data\n",
    "r_negbin = mean_negbin**2 / (variance_negbin - mean_negbin) if variance_negbin > mean_negbin else 1\n",
    "\n",
    "# Probability of success (p) for the Negative Binomial distribution\n",
    "p_negbin = mean_negbin / variance_negbin if variance_negbin > mean_negbin else 0.5\n",
    "\n",
    "# Generate range for count values\n",
    "x = np.arange(0, max(poisData) + 1)\n",
    "\n",
    "# Poisson PMF\n",
    "pmf_poisson = poisson.pmf(x, lambda_poisson)\n",
    "\n",
    "# cp -i -a /Users/kayadetunji/Downloads/HAALSI_work/mdscan-master/Poisson_scoring.ipynb /Users/kayadetunji/.ssh/ kayode@cream-ce.core.wits.ac.za:/spaces/freedom/kay/HAALSI_Subset_DDI.pdf  \n",
    "# Negative Binomial PMF\n",
    "pmf_negbin = nbinom.pmf(x, r_negbin, p_negbin)\n",
    "\n",
    "# Plotting\n",
    "plt.figure(figsize=(8,4))\n",
    "plt.hist(poisData, bins=np.arange(-0.5, max(poisData) + 1.5, 1), density=True, alpha=0.9, color='lightblue', label='Observed Data')\n",
    "plt.plot(x, pmf_poisson, 'o-', color='blue', label='Poisson PMF')\n",
    "plt.plot(x, pmf_negbin, 'o-', color='brown', label='Negative Binomial PMF')\n",
    "plt.title('Comparison of Observed Data with Poisson and Negative Binomial PMFs')\n",
    "plt.xlabel('Morbidity Count')\n",
    "plt.ylabel('Frequency')\n",
    "plt.xticks(x)\n",
    "plt.legend()\n",
    "plt.grid(True)\n",
    "plt.show()\n",
    "\n",
    "# Calculate Dispersion Statistic\n",
    "dispersion_statistic = variance_negbin / mean_negbin\n",
    "dispersion_statistic\n",
    "\n"
   ]
  },
  {
   "cell_type": "code",
   "execution_count": 14,
   "metadata": {},
   "outputs": [
    {
     "data": {
      "image/png": "[encoded data removed]",
      "text/plain": [
       "<Figure size 1000x500 with 1 Axes>"
      ]
     },
     "metadata": {},
     "output_type": "display_data"
    }
   ],
   "source": [
    "import numpy as np\n",
    "import matplotlib.pyplot as plt\n",
    "from scipy.stats import poisson, nbinom, geom, binom\n",
    "from scipy.special import factorial\n",
    "from scipy.optimize import fsolve\n",
    "\n",
    "# Function to calculate mean of Poisson-Lindley given theta\n",
    "def pois_lindley_mean(theta):\n",
    "    return (2*theta + 3) / (theta * (1 + theta))\n",
    "\n",
    "# Function to solve for theta given the sample mean\n",
    "def solve_theta(sample_mean):\n",
    "    # Equation to solve: sample_mean = (2*theta + 3) / (theta * (1 + theta))\n",
    "    func = lambda theta: pois_lindley_mean(theta) - sample_mean\n",
    "    theta_initial_guess = 1.0\n",
    "    theta_solution, = fsolve(func, theta_initial_guess)\n",
    "    return theta_solution\n",
    "\n",
    "# Sample mean of poisData\n",
    "sample_mean = np.mean(poisData)\n",
    "\n",
    "# Solve for theta\n",
    "theta_estimated = solve_theta(sample_mean)\n",
    "\n",
    "# Generate Poisson-Lindley PMF based on estimated theta\n",
    "def pois_lindley_pmf(k, theta):\n",
    "    return theta**2 * (1 + k) / (1 + theta)**(k + 2)\n",
    "\n",
    "# Generate range for count values\n",
    "x = np.arange(0, max(poisData) + 1)\n",
    "\n",
    "# Calculate PMF values\n",
    "pmf_pois_lindley = [pois_lindley_pmf(k, theta_estimated) for k in x]\n",
    "lambda_poisson = np.mean(poisData)\n",
    "mean_negbin = np.mean(poisData)\n",
    "variance_negbin = np.var(poisData)\n",
    "r_negbin = mean_negbin**2 / (variance_negbin - mean_negbin) if variance_negbin > mean_negbin else 1\n",
    "p_negbin = mean_negbin / variance_negbin if variance_negbin > mean_negbin else 0.5\n",
    "x = np.arange(0, max(poisData) + 1)\n",
    "\n",
    "# ZIP Parameters (simplified for illustration)\n",
    "pi = sum(poisData == 0) / len(poisData)\n",
    "lambda_zip = np.mean(poisData[poisData > 0])\n",
    "\n",
    "# ZIP PMF function\n",
    "def zip_pmf(x, pi, lambda_zip):\n",
    "    if x == 0:\n",
    "        return pi + (1 - pi) * np.exp(-lambda_zip)\n",
    "    else:\n",
    "        return (1 - pi) * poisson.pmf(x, lambda_zip)\n",
    "\n",
    "# Generating ZIP PMF values\n",
    "pmf_zip = np.array([zip_pmf(xi, pi, lambda_zip) for xi in x])\n",
    "\n",
    "# Plotting\n",
    "plt.figure(figsize=(10,5))\n",
    "plt.hist(poisData, bins=np.arange(-0.5, max(poisData) + 1.5, 1), density=True, alpha=0.9, color='#DEEFB7', label='Observed Data')\n",
    "plt.plot(x, pmf_poisson, 's-', color='blue', label='Poisson PMF')\n",
    "plt.plot(x, pmf_negbin, 'o-', color='brown', label='Negative Binomial PMF')\n",
    "plt.plot(x, pmf_pois_lindley, 'o-', color='orange', label='Poisson-Lindley PMF')\n",
    "# plt.title('Comparison of Observed Data with Poisson-Lindley PMF')\n",
    "plt.plot(x, pmf_zip, 's-', color='teal', label='Zero-Inflated Poisson PMF')\n",
    "# plt.title('Comparison of Observed Data with Multiple Distribution PMFs')\n",
    "plt.xlabel('Disease Count')\n",
    "plt.ylabel('Probability')\n",
    "plt.xticks(x)\n",
    "plt.legend()\n",
    "plt.grid()\n",
    "plt.show()\n"
   ]
  },
  {
   "cell_type": "code",
   "execution_count": 15,
   "metadata": {},
   "outputs": [
    {
     "name": "stdout",
     "output_type": "stream",
     "text": [
      "IDR: 0.35714285714285715\n",
      "95% Confidence Interval: [0.0469639552014967, 2.7159343769261235]\n",
      "The difference is not significant.\n"
     ]
    }
   ],
   "source": [
    "import scipy.stats as stats\n",
    "\n",
    "# Example data for Group 1 and Group 2\n",
    "# data_group1 = np.array([1, 0, 2, 1, 3, 0, 4, 1, 0, 2])\n",
    "# data_group2 = np.array([0, 1, 1,  0, 1, 1, 0])\n",
    "\n",
    "# Example data for Group 1 and Group 2\n",
    "data_group1 = np.array([1, 0])\n",
    "data_group2 = np.array([1, 0, 2, 1, 3, 0, 4, 1, 0, 2])\n",
    "\n",
    "# Min-Max Normalization\n",
    "dg_norm1 = (data_group1 - data_group1.min()) / (data_group1.max() - data_group1.min())\n",
    "dg_norm2 = (data_group2 - data_group2.min()) / (data_group2.max() - data_group2.min())\n",
    "\n",
    "person_time_group1 = np.mean(data_group1)\n",
    "person_time_group2 = np.mean(data_group2)\n",
    "\n",
    "# Calculate incidence densities\n",
    "incidence_density_group1 = np.sum(data_group1) / person_time_group1\n",
    "incidence_density_group2 = np.sum(data_group2) / person_time_group2\n",
    "# Calculate incidence densities\n",
    "# incidence_density_group1 = data_group1.size / person_time_group1\n",
    "# incidence_density_group2 = data_group2.size / person_time_group2\n",
    "\n",
    "# Calculate IDR\n",
    "# IDR = incidence_density_group1 / incidence_density_group2\n",
    "IDR = person_time_group1 / person_time_group2\n",
    "\n",
    "# Standard errors of the log incidence densities\n",
    "se_log_id1 = np.sqrt(1 / np.sum(data_group1))\n",
    "se_log_id2 = np.sqrt(1 / np.sum(data_group2))\n",
    "\n",
    "# Standard error of the log IDR\n",
    "se_log_idr = np.sqrt(se_log_id1**2 + se_log_id2**2)\n",
    "\n",
    "# Confidence interval\n",
    "z_score = stats.norm.ppf(0.975)  # For a 95% confidence interval\n",
    "ci_lower = np.exp(np.log(IDR) - z_score * se_log_idr)\n",
    "ci_upper = np.exp(np.log(IDR) + z_score * se_log_idr)\n",
    "\n",
    "# Statistical significance\n",
    "significance = \"not significant\" if ci_lower <= 1 <= ci_upper else \"significant\"\n",
    "\n",
    "print(f\"IDR: {IDR}\")\n",
    "print(f\"95% Confidence Interval: [{ci_lower}, {ci_upper}]\")\n",
    "print(f\"The difference is {significance}.\")\n"
   ]
  },
  {
   "cell_type": "code",
   "execution_count": 16,
   "metadata": {},
   "outputs": [
    {
     "name": "stdout",
     "output_type": "stream",
     "text": [
      "Incidence Density Ratio (IDR): 1.4285714285714286\n",
      "95% Confidence Interval: 0.47022658405755985 4.340070076260934\n",
      "Z-score: 0.6291154670331937\n",
      "P-value: 0.5292734652386912\n"
     ]
    }
   ],
   "source": [
    "\n",
    "# Example data\n",
    "data_group1 = np.array([1, 0, 2, 1, 3, 0, 4, 1, 0, 2])\n",
    "data_group2 = np.array([0, 1, 1,  0, 1, 1, 0])\n",
    "\n",
    "# Min-Max Normalization\n",
    "dg_norm1 = (data_group1 - data_group1.min()) / (data_group1.max() - data_group1.min())\n",
    "dg_norm2 = (data_group2 - data_group2.min()) / (data_group2.max() - data_group2.min())\n",
    "\n",
    "# Total cases for each group\n",
    "cases_group1 = np.sum(data_group1)\n",
    "cases_group2 = np.sum(data_group2)\n",
    "\n",
    "# Assuming equal person-time for simplicity\n",
    "person_time_group1 = np.mean(data_group1)\n",
    "person_time_group2 = np.mean(data_group2)\n",
    "\n",
    "# Calculate Incidence Density for each group\n",
    "incidence_density_group1 = cases_group1 / person_time_group1\n",
    "incidence_density_group2 = cases_group2 / person_time_group2\n",
    "\n",
    "# Calculate IDR\n",
    "IDR = incidence_density_group1 / incidence_density_group2\n",
    "\n",
    "# Calculate Log-IDR and its standard error\n",
    "log_IDR = np.log(IDR)\n",
    "SE_log_IDR = np.sqrt((1/cases_group1) + (1/cases_group2))\n",
    "\n",
    "# Calculate 95% Confidence Interval for Log-IDR\n",
    "CI_lower_log = log_IDR - 1.96 * SE_log_IDR\n",
    "CI_upper_log = log_IDR + 1.96 * SE_log_IDR\n",
    "\n",
    "# Transform the CI back to the original scale\n",
    "CI_lower = np.exp(CI_lower_log)\n",
    "CI_upper = np.exp(CI_upper_log)\n",
    "\n",
    "# Z-test for significance\n",
    "Z_score = log_IDR / SE_log_IDR\n",
    "p_value = stats.norm.sf(abs(Z_score)) * 2  # Two-tail test\n",
    "\n",
    "print(\"Incidence Density Ratio (IDR):\", IDR)\n",
    "print(\"95% Confidence Interval:\", CI_lower, CI_upper)\n",
    "print(\"Z-score:\", Z_score)\n",
    "print(\"P-value:\", p_value)\n"
   ]
  },
  {
   "cell_type": "code",
   "execution_count": 26,
   "metadata": {},
   "outputs": [],
   "source": [
    "# Defining the search space to be all the features except site, study_id, \n",
    "# and our created target_col and expectations columns\n",
    "\n",
    "search_space = [col for col in treated.columns \\\n",
    "                if col not in \\\n",
    "                ['MorbidityCount', 'normalizedOutcome','site', 'study_id', 'expectationPoisson', \n",
    "                'htn_jnc7_qc', 'diabetes_status_c_qc', 'ckd_c_qc', 'cadiovascular_current', 'cimt_mean_max']]"
   ]
  },
  {
   "cell_type": "code",
   "execution_count": 17,
   "metadata": {},
   "outputs": [],
   "source": [
    "# Defining the search space to be all the features except site, study_id, \n",
    "# and our created target_col and expectations columns\n",
    "\n",
    "search_space1 = [col for col in dff.columns \\\n",
    "                if col not in \\\n",
    "                ['age_phase2','index','site',\n",
    "       'diabetes_status_c_phase2', 'hypertension_status_phase2',\n",
    "       'smoking_status_c_phase2', 'diabetes_history_phase2', 'mvpa_c_phase2',\n",
    "       'weight_phase2', 'bmi_c_phase2', 'waist_circumference_phase2',\n",
    "       'waist_hip_r_c_phase2', 'bp_sys_average_phase2','hypertension_status_c_phase1','diabetes_status_c_phase1','non_hdl_c_phase1',\n",
    "       'bp_dia_average_phase2', 'fasting_confirmed_phase2','hip_circumference_phase1', 'hip_circumference_phase2',\n",
    "       'glucose_result_phase2', 's_creatinine_phase2', 'insulin_result_phase2', 'cholesterol_1_phase2', 'friedewald_ldl_c_phase2',\n",
    "       'triglycerides_phase2', 'non_hdl_c_phase2', 'egfr_c_phase2','acr_c_phase2', 'change_in_weight', 'change_in_bmi',\n",
    "       'change_in_waist_hip_ratio', 'change_in_waist_circf','change_in_systolic_ave', 'change_in_diastolic_ave',\n",
    "       'change_in_cholesterol', 'change_in_friedewald', 'change_in_hdl', 'bp_sys_average_phase1',\n",
    "       'change_in_triglycerides', 'change_in_glucose','ckd_c_phase1', 'bp_dia_average_phase1', #'acr_c_phase1',\n",
    " 'cvd_status_phase1','insulin_result_phase1','hdl_phase2','fasting_confirmation_phase1','weight_phase1','partnership_status_c_phase1',\n",
    "       'change_in_s_creatinine', 'change_in_insulin', 'change_in_non_hdl','s_creatinine_phase1', 'glucose_result_phase1', \n",
    "       'change_in_egfr', 'change_in_acr', 'change_in_mvpa', 'MAP_phase1',#'diabetes_history_phase1', 'mvpa_c_phase1', \n",
    "       'MAP_phase2', 'MorbidityCount', 'expectationPoisson']]"
   ]
  },
  {
   "cell_type": "code",
   "execution_count": 18,
   "metadata": {},
   "outputs": [
    {
     "name": "stdout",
     "output_type": "stream",
     "text": [
      "['age_phase1', 'sex', 'highest_level_of_education_phase1', 'ses_site_quintile_c_phase1', 'occupation_phase1', 'alcohol_use_status_c_phase1', 'smoking_status_c_phase1', 'diabetes_history_phase1', 'mvpa_c_phase1', 'bmi_c_phase1', 'waist_hip_r_c_phase1', 'waist_circumference_phase1', 'hdl_phase1', 'cholesterol_1_phase1', 'friedewald_ldl_c_phase1', 'triglycerides_phase1', 'egfr_c_phase1', 'acr_c_phase1']\n"
     ]
    }
   ],
   "source": [
    "print(search_space1)"
   ]
  },
  {
   "cell_type": "code",
   "execution_count": 19,
   "metadata": {},
   "outputs": [],
   "source": [
    "def get_str(x):\n",
    "    # This function turns a pandas bin to a meaningful string\n",
    "    s = str(round(x.left, 2)) + ' - ' + str(round(x.right,2))\n",
    "    return s\n",
    "\n",
    "def custom_qcut(ser, contiguous = True):\n",
    "    # Get the rows that are actual numbers\n",
    "    sub_ser = ser[(ser != -111) \\\n",
    "                     & (ser != -222) \\\n",
    "                     & (ser != -555) \\\n",
    "                     & (ser != -999)]\n",
    "    \n",
    "    if contiguous:\n",
    "        # if contiguous, treat all the special numbers the same\n",
    "        ser = ser.replace(-111 , -999)\n",
    "        ser = ser.replace(-222 , -999)\n",
    "        ser = ser.replace(-555 , -999)\n",
    "\n",
    "    # Bin the actual numbers into 10 bins for scanning\n",
    "    sub_ser = pd.qcut(sub_ser, 10, duplicates='drop')\n",
    "    sub_ser = sub_ser.apply(get_str).astype(str)\n",
    "    ser[list(sub_ser.index)] = sub_ser\n",
    "    return ser\n",
    "            "
   ]
  },
  {
   "cell_type": "code",
   "execution_count": 20,
   "metadata": {},
   "outputs": [],
   "source": [
    "contiguous = {}\n",
    "dff_2 = dff.copy()\n",
    "\n",
    "# Create a new dataframe with the numeric columns bins     \n",
    "for col in numeric_columns:\n",
    "    if col in search_space1:\n",
    "        dff_2[col] = custom_qcut(dff_2[col].copy())\n",
    "        \n",
    "        bins = list(dff_2[col].unique())\n",
    "        \n",
    "        if -999 in bins:\n",
    "            bins.remove(-999)\n",
    "        \n",
    "        bins = sorted(bins, key=lambda x : float(x.split(' - ')[0]))\n",
    "        \n",
    "        contiguous[col] = bins"
   ]
  },
  {
   "cell_type": "code",
   "execution_count": 21,
   "metadata": {},
   "outputs": [],
   "source": [
    "def compress_contiguous(subset, contiguous):\n",
    "    # Shorten a contiguous list e.g [0-9, 10-19] is converted to [0 - 19] \n",
    "    new = {}\n",
    "    \n",
    "    for col in subset:\n",
    "        if col in contiguous:\n",
    "            if isinstance(subset[col][0], (float,int)):\n",
    "                new[col] = [str(c) for c in subset[col]]\n",
    "                continue\n",
    "            i = -1 if isinstance(subset[col][-1], str) else -2\n",
    "            new[col] = [subset[col][0].split(' - ')[0] + ' - ' + subset[col][i].split(' - ')[-1]]\n",
    "            new[col] = new[col] if i == -1 else new[col] + [str(subset[col][-1])]\n",
    "        else:\n",
    "            new[col] = [str(c) for c in subset[col]]\n",
    "    return new\n",
    "\n",
    "def translate_subset_to_rule(subset):\n",
    "    # Print the subset as a rule for easier understanding\n",
    "    desc = ''\n",
    "    for key, value in subset.items():\n",
    "        # desc += key + ' = {' + ' OR '.join(value) + '} AND' + '\\n'\n",
    "        desc += key + '{' + ' OR '.join(value) + '} AND' + ' '\n",
    "\n",
    "    return desc[:-5].replace('_',' ').replace('{', '[').replace('}', ']')\n",
    "\n",
    "def count_conditions(subset):\n",
    "    # Split the string by 'AND' and 'OR'\n",
    "    conditions = subset.replace(\"AND\", \"OR\").split(\"OR\")\n",
    "    \n",
    "    # Count the number of conditions\n",
    "    condition_count = len(conditions)\n",
    "    \n",
    "    return condition_count"
   ]
  },
  {
   "cell_type": "code",
   "execution_count": 22,
   "metadata": {},
   "outputs": [
    {
     "name": "stdout",
     "output_type": "stream",
     "text": [
      "Penalty = 0.3: Subset = age phase1[42.0 - 70.0] AND diabetes history phase1[0 OR 1 OR 2] AND acr c phase1[1.73 - 133.33] AND waist circumference phase1[780.0 - 1470.0] AND bmi c phase1[19.72 - 68.02], \n",
      "LiteralsNumber = 7, \n",
      "Size = 211,           IDR = 2.054, Score = 68.544, Z_score = 11.624698483586675, Disease_counts = 342,           Size_percent = 15.13,Count_percent = 31.06,P_value = 3.0868130046592953e-31\n",
      "Penalty = 0.8: Subset = bmi c phase1[19.72 - 68.02] AND age phase1[42.0 - 70.0] AND acr c phase1[1.73 - 133.33] AND waist circumference phase1[780.0 - 1470.0], \n",
      "LiteralsNumber = 4, \n",
      "Size = 214,           IDR = 2.037, Score = 66.4, Z_score = 11.51640476061671, Disease_counts = 344,           Size_percent = 15.34,Count_percent = 31.24,P_value = 1.0906750408491073e-30\n",
      "Penalty = 1.0: Subset = bmi c phase1[19.72 - 68.02] AND age phase1[42.0 - 70.0] AND acr c phase1[1.73 - 133.33], \n",
      "LiteralsNumber = 3, \n",
      "Size = 230,           IDR = 1.989, Score = 65.705, Z_score = 11.33522076367123, Disease_counts = 361,           Size_percent = 16.49,Count_percent = 32.79,P_value = 8.781039921928022e-30\n",
      "Penalty = 2.0: Subset = age phase1[42.0 - 70.0] AND acr c phase1[1.73 - 133.33], \n",
      "LiteralsNumber = 2, \n",
      "Size = 259,           IDR = 1.913, Score = 63.0, Z_score = 11.016521233187637, Disease_counts = 391,           Size_percent = 18.57,Count_percent = 35.51,P_value = 3.18116871975597e-28\n",
      "Penalty = 3.5: Subset = acr c phase1[1.73 - 133.33], \n",
      "LiteralsNumber = 1, \n",
      "Size = 279,           IDR = 1.853, Score = 60.326, Z_score = 10.64081431765694, Disease_counts = 408,           Size_percent = 20.0,Count_percent = 37.06,P_value = 1.9244006358408026e-26\n"
     ]
    }
   ],
   "source": [
    "# %%time\n",
    "\n",
    "import scipy.stats as stats\n",
    "\n",
    "# Scan in the positive direction using defined penalties and num iters\n",
    "\n",
    "scoring_function = Poisson(direction='positive')\n",
    "scanner = MDSS(scoring_function)\n",
    "# Define a list of penalty values to loop through\n",
    "# penalty_values = [0.5, 1, 1.5, 2, 2.5, 3, 3.5, 4, 4.5, 10]\n",
    "# penalty_values = [0.3, 0.8, 1.0, 2.13005, 3.5] # High risk Nairobi \n",
    "penalty_values = [0.3, 0.8, 1.0, 2.0, 3.5] # High risk\n",
    "# penalty_values = [0.13, 0.8, 1.0, 3.5, 8.5,20.5] # Low risk\n",
    "num_iters = 5\n",
    "# Initialize empty lists to store results\n",
    "subset_results = []\n",
    "subset_results1 = []\n",
    "score_results = []\n",
    "size_results = []\n",
    "IDR_results = []\n",
    "count_results = []\n",
    "z_scores = []\n",
    "p_values = []\n",
    "disease_counts = []\n",
    "counts_percent = []\n",
    "size_percent = []\n",
    "dataframes = {}\n",
    "\n",
    "# Loop through each penalty value\n",
    "for penalty in penalty_values:\n",
    "    # Perform the scan with the current penalty value\n",
    "    subset, score = scanner.scan(dff_2[search_space1], dff_2['MorbidityCount'], dff_2['expectationPoisson'], cpu=0.95,\n",
    "                                 penalty=penalty, num_iters=num_iters, contiguous=contiguous.copy())\n",
    "    \n",
    "    to_choose = dff_2[subset.keys()].isin(subset).all(axis=1)\n",
    "    temp_df = dff_2.loc[to_choose]\n",
    "    size = len(temp_df)\n",
    "\n",
    "    # Store each DataFrame in the dictionary with a unique key\n",
    "    dataframes[f'df_{penalty}'] = temp_df\n",
    "\n",
    "    # \n",
    "    expected_risk_subset = temp_df['MorbidityCount'].mean()\n",
    "    expected_risk = dff_2['MorbidityCount'].mean()  \n",
    "    # Total person-time at risk\n",
    "    total_person_time_subset = len(temp_df) * expected_risk_subset\n",
    "    total_person_time = len(dff_2) * expected_risk\n",
    "\n",
    "    # Total number of events (sum of counts)\n",
    "    total_events_subset = temp_df['MorbidityCount'].sum()\n",
    "    total_events = dff_2['MorbidityCount'].sum()\n",
    "\n",
    "    # Calculating incidence density\n",
    "    # incidence_density_subset = total_events_subset / total_person_time_subset\n",
    "    # incidence_density = total_events / total_person_time\n",
    "    # incidence_density_subset = total_events_subset / expected_risk_subset\n",
    "    # incidence_density = total_events / expected_risk\n",
    "    incidence_density_subset = total_events_subset / len(temp_df)\n",
    "    incidence_density = total_events / len(dff_2)\n",
    "\n",
    "    #Calc IDR\n",
    "    IDR = incidence_density_subset/incidence_density\n",
    "    # IDR = expected_risk_subset/expected_risk\n",
    "\n",
    "    # Calculate Log-IDR and its standard error\n",
    "    log_IDR = np.log(IDR)\n",
    "    SE_log_IDR = np.sqrt((1/total_events_subset) + (1/total_events))\n",
    "\n",
    "    # Calculate 95% Confidence Interval for Log-IDR\n",
    "    CI_lower_log = log_IDR - 1.96 * SE_log_IDR\n",
    "    CI_upper_log = log_IDR + 1.96 * SE_log_IDR\n",
    "\n",
    "    # Transform the CI back to the original scale\n",
    "    CI_lower = np.exp(CI_lower_log)\n",
    "    CI_upper = np.exp(CI_upper_log)\n",
    "\n",
    "    # Z-test for significance\n",
    "    Z_score = log_IDR / SE_log_IDR\n",
    "    # Two-tail test\n",
    "    p_value = stats.norm.sf(abs(Z_score)) * 2 \n",
    "\n",
    "    counting = count_conditions(translate_subset_to_rule(compress_contiguous(subset, contiguous)))\n",
    "    \n",
    "    # Append the results to the respective lists\n",
    "\n",
    "    # subset_results.append(subset)\n",
    "    score_results.append(np.round(score, 3))\n",
    "    size_percent.append(np.round((len(temp_df)/len(dff_2)*100),2))\n",
    "    counts_percent.append(np.round((total_events_subset/total_events*100),2))\n",
    "    size_results.append(size)\n",
    "    IDR_results.append(np.round(IDR, 3))\n",
    "    subset_results1.append(translate_subset_to_rule(compress_contiguous(subset, contiguous)))\n",
    "    count_results.append(counting)\n",
    "    z_scores.append(Z_score)\n",
    "    p_values.append(p_value)\n",
    "    disease_counts.append(total_events_subset)\n",
    "\n",
    "# Display the results for each penalty value\n",
    "for i, penalty in enumerate(penalty_values):\n",
    "    print(f\"Penalty = {penalty}: Subset = {subset_results1[i]}, \\nLiteralsNumber = {count_results[i]}, \\nSize = {size_results[i]}, \\\n",
    "          IDR = {IDR_results[i]}, Score = {score_results[i]}, Z_score = {z_scores[i]}, Disease_counts = {disease_counts[i]}, \\\n",
    "          Size_percent = {size_percent[i]},Count_percent = {counts_percent[i]},P_value = {p_values[i]}\")"
   ]
  },
  {
   "cell_type": "code",
   "execution_count": null,
   "metadata": {},
   "outputs": [
    {
     "name": "stdout",
     "output_type": "stream",
     "text": [
      "Penalty = 0.5: Subset = age[44.0 - 60.0] AND waist circumference qc[950.0 - 1470.0] AND subcutaneous fat qc[0.99 - 10.41] AND waist hip r c qc[0.81 - 1.16] AND triglycerides qc[0.46 - 5.34], \n",
      "LiteralsNumber = 5, \n",
      "Size = 429,           IDR = 1.464, Score = 29.079, Z_score = 1.959963984540054, Disease_counts = 491,           Size_percent = 29.28,Count_percent = 42.88,P_value = 1.5391597340160767e-12\n",
      "Penalty = 0.8: Subset = age[44.0 - 60.0] AND waist circumference qc[950.0 - 1470.0] AND subcutaneous fat qc[0.99 - 10.41] AND waist hip r c qc[0.81 - 1.16] AND triglycerides qc[0.46 - 5.34], \n",
      "LiteralsNumber = 5, \n",
      "Size = 429,           IDR = 1.464, Score = 27.579, Z_score = 1.959963984540054, Disease_counts = 491,           Size_percent = 29.28,Count_percent = 42.88,P_value = 1.5391597340160767e-12\n",
      "Penalty = 1.0: Subset = triglycerides qc[0.46 - 5.34] AND subcutaneous fat qc[0.99 - 10.41] AND waist circumference qc[950.0 - 1470.0] AND age[44.0 - 60.0], \n",
      "LiteralsNumber = 4, \n",
      "Size = 437,           IDR = 1.452, Score = 26.6, Z_score = 1.959963984540054, Disease_counts = 496,           Size_percent = 29.83,Count_percent = 43.32,P_value = 3.9000681687545365e-12\n",
      "Penalty = 1.3: Subset = subcutaneous fat qc[0.99 - 10.41] AND triglycerides qc[0.46 - 5.34] AND waist circumference qc[950.0 - 1470.0] AND age[44.0 - 60.0], \n",
      "LiteralsNumber = 4, \n",
      "Size = 437,           IDR = 1.452, Score = 25.4, Z_score = 1.959963984540054, Disease_counts = 496,           Size_percent = 29.83,Count_percent = 43.32,P_value = 3.9000681687545365e-12\n",
      "Penalty = 3.5: Subset = waist circumference qc[950.0 - 1470.0] AND age[47.0 - 60.0], \n",
      "LiteralsNumber = 2, \n",
      "Size = 420,           IDR = 1.432, Score = 19.956, Z_score = 1.959963984540054, Disease_counts = 470,           Size_percent = 28.67,Count_percent = 41.05,P_value = 5.677399879741524e-11\n"
     ]
    }
   ],
   "source": [
    "# %%time\n",
    "\n",
    "import scipy.stats as stats\n",
    "\n",
    "# Scan in the positive direction using defined penalties and num iters\n",
    "\n",
    "scoring_function = Poisson(direction='positive')\n",
    "scanner = MDSS(scoring_function)\n",
    "# Define a list of penalty values to loop through\n",
    "# penalty_values = [0.5, 1, 1.5, 2, 2.5, 3, 3.5, 4, 4.5, 10]\n",
    "penalty_values = [0.5, 0.8, 1.0, 1.3, 3.5]\n",
    "num_iters = 10\n",
    "# Initialize empty lists to store results\n",
    "subset_results = []\n",
    "subset_results1 = []\n",
    "score_results = []\n",
    "size_results = []\n",
    "IDR_results = []\n",
    "count_results = []\n",
    "z_scores = []\n",
    "p_values = []\n",
    "disease_counts = []\n",
    "counts_percent = []\n",
    "size_percent = []\n",
    "dataframes = {}\n",
    "\n",
    "# Loop through each penalty value\n",
    "for penalty in penalty_values:\n",
    "    # Perform the scan with the current penalty value\n",
    "    subset, score = scanner.scan(dff_2[search_space], dff_2['MorbidityCount'], dff_2['expectationPoisson'], cpu=0.95,\n",
    "                                 penalty=penalty, num_iters=num_iters, contiguous=contiguous.copy())\n",
    "    \n",
    "    to_choose = dff_2[subset.keys()].isin(subset).all(axis=1)\n",
    "    temp_df = dff_2.loc[to_choose]\n",
    "    size = len(temp_df)\n",
    "\n",
    "    # Store each DataFrame in the dictionary with a unique key\n",
    "    dataframes[f'df_{penalty}'] = temp_df\n",
    "\n",
    "    # \n",
    "    expected_risk_subset = temp_df['MorbidityCount'].mean()\n",
    "    expected_risk = dff_2['MorbidityCount'].mean()  \n",
    "    # Total person-time at risk\n",
    "    total_person_time_subset = len(temp_df) * expected_risk_subset\n",
    "    total_person_time = len(dff_2) * expected_risk\n",
    "\n",
    "    # Total number of events (sum of counts)\n",
    "    total_events_subset = temp_df['MorbidityCount'].sum()\n",
    "    total_events = dff_2['MorbidityCount'].sum()\n",
    "\n",
    "    # Calculating incidence density\n",
    "    # incidence_density_subset = total_events_subset / total_person_time_subset\n",
    "    # incidence_density = total_events / total_person_time\n",
    "    # incidence_density_subset = total_events_subset / expected_risk_subset\n",
    "    # incidence_density = total_events / expected_risk\n",
    "    incidence_density_subset = total_events_subset / len(temp_df)\n",
    "    incidence_density = total_events / len(dff_2)\n",
    "\n",
    "    #Calc IDR\n",
    "    IDR = incidence_density_subset/incidence_density\n",
    "    # IDR = expected_risk_subset/expected_risk\n",
    "\n",
    "    # Calculate Log-IDR and its standard error\n",
    "    log_IDR = np.log(IDR)\n",
    "    SE_log_IDR = np.sqrt((1/total_events_subset) + (1/total_events))\n",
    "\n",
    "    # Calculate 95% Confidence Interval for Log-IDR\n",
    "    CI_lower_log = log_IDR - 1.96 * SE_log_IDR\n",
    "    CI_upper_log = log_IDR + 1.96 * SE_log_IDR\n",
    "\n",
    "    # Transform the CI back to the original scale\n",
    "    CI_lower = np.exp(CI_lower_log)\n",
    "    CI_upper = np.exp(CI_upper_log)\n",
    "\n",
    "    # Z-test for significance\n",
    "    Z_score = log_IDR / SE_log_IDR\n",
    "    # Two-tail test\n",
    "    p_value = stats.norm.sf(abs(Z_score)) * 2 \n",
    "\n",
    "    counting = count_conditions(translate_subset_to_rule(compress_contiguous(subset, contiguous)))\n",
    "    \n",
    "    # Append the results to the respective lists\n",
    "\n",
    "    # subset_results.append(subset)\n",
    "    score_results.append(np.round(score, 3))\n",
    "    size_percent.append(np.round((len(temp_df)/len(dff_2)*100),2))\n",
    "    counts_percent.append(np.round((total_events_subset/total_events*100),2))\n",
    "    size_results.append(size)\n",
    "    IDR_results.append(np.round(IDR, 3))\n",
    "    subset_results1.append(translate_subset_to_rule(compress_contiguous(subset, contiguous)))\n",
    "    count_results.append(counting)\n",
    "    z_scores.append(z_score)\n",
    "    p_values.append(p_value)\n",
    "    disease_counts.append(total_events_subset)\n",
    "\n",
    "# Display the results for each penalty value\n",
    "for i, penalty in enumerate(penalty_values):\n",
    "    print(f\"Penalty = {penalty}: Subset = {subset_results1[i]}, \\nLiteralsNumber = {count_results[i]}, \\nSize = {size_results[i]}, \\\n",
    "          IDR = {IDR_results[i]}, Score = {score_results[i]}, Z_score = {z_scores[i]}, Disease_counts = {disease_counts[i]}, \\\n",
    "          Size_percent = {size_percent[i]},Count_percent = {counts_percent[i]},P_value = {p_values[i]}\")"
   ]
  },
  {
   "cell_type": "code",
   "execution_count": 141,
   "metadata": {},
   "outputs": [
    {
     "name": "stdout",
     "output_type": "stream",
     "text": [
      "Spearman Correlation: 0.48, P-value: 1.118799196773732e-111\n"
     ]
    }
   ],
   "source": [
    "\n",
    "# Spearman correlation\n",
    "correlation, p_value23 = stats.spearmanr(dff['MorbidityCount'], dff['bp_sys_average_phase1'])\n",
    "print(f\"Spearman Correlation: {correlation:.2f}, P-value: {p_value23}\")"
   ]
  },
  {
   "cell_type": "code",
   "execution_count": 132,
   "metadata": {},
   "outputs": [
    {
     "data": {
      "image/png": "[encoded data removed]",
      "text/plain": [
       "<Figure size 640x480 with 1 Axes>"
      ]
     },
     "metadata": {},
     "output_type": "display_data"
    }
   ],
   "source": [
    "plt.boxplot([dff['acr_c_phase1'][dff['MorbidityCount'] == i] for i in np.unique(dff['MorbidityCount'])])\n",
    "plt.xticks(ticks=np.arange(1, len(np.unique(dff['MorbidityCount'])) + 1), labels=np.unique(dff['MorbidityCount']))\n",
    "plt.xlabel('Count Variable')\n",
    "plt.ylabel('Continuous Variable')\n",
    "plt.title('Box Plot by Count Value')\n",
    "plt.show()\n"
   ]
  },
  {
   "cell_type": "code",
   "execution_count": 133,
   "metadata": {},
   "outputs": [
    {
     "data": {
      "image/png": "[encoded data removed]",
      "text/plain": [
       "<Figure size 640x480 with 1 Axes>"
      ]
     },
     "metadata": {},
     "output_type": "display_data"
    }
   ],
   "source": [
    "import matplotlib.pyplot as plt\n",
    "import numpy as np\n",
    "\n",
    "# Assuming continuous_var and count_var are your variables\n",
    "# Add jitter to the count variable for visibility\n",
    "count_var_jittered = dff['MorbidityCount'] + np.random.uniform(-0.3, 0.3, size=len(dff['MorbidityCount']))\n",
    "\n",
    "plt.scatter(count_var_jittered, dff['acr_c_phase1'], alpha=0.5)\n",
    "plt.xlabel('Count Variable (with jitter)')\n",
    "plt.ylabel('Continuous Variable')\n",
    "plt.title('Scatter Plot with Jitter')\n",
    "plt.show()\n"
   ]
  },
  {
   "cell_type": "code",
   "execution_count": 21,
   "metadata": {},
   "outputs": [
    {
     "data": {
      "text/plain": [
       "40.52401746724891"
      ]
     },
     "execution_count": 21,
     "metadata": {},
     "output_type": "execute_result"
    }
   ],
   "source": [
    "temp_df['MorbidityCount'].sum()/dff_2['MorbidityCount'].sum()*100"
   ]
  },
  {
   "cell_type": "code",
   "execution_count": 134,
   "metadata": {},
   "outputs": [
    {
     "data": {
      "text/plain": [
       "133.33333333333334"
      ]
     },
     "execution_count": 134,
     "metadata": {},
     "output_type": "execute_result"
    }
   ],
   "source": [
    "dff.acr_c_phase1.max()"
   ]
  },
  {
   "cell_type": "code",
   "execution_count": 23,
   "metadata": {},
   "outputs": [
    {
     "data": {
      "text/html": [
       "<div>\n",
       "<style scoped>\n",
       "    .dataframe tbody tr th:only-of-type {\n",
       "        vertical-align: middle;\n",
       "    }\n",
       "\n",
       "    .dataframe tbody tr th {\n",
       "        vertical-align: top;\n",
       "    }\n",
       "\n",
       "    .dataframe thead th {\n",
       "        text-align: right;\n",
       "    }\n",
       "</style>\n",
       "<table border=\"1\" class=\"dataframe\">\n",
       "  <thead>\n",
       "    <tr style=\"text-align: right;\">\n",
       "      <th></th>\n",
       "      <th>Penalty</th>\n",
       "      <th>No of literals</th>\n",
       "      <th>Subset</th>\n",
       "      <th>Size</th>\n",
       "      <th>Counts</th>\n",
       "      <th>IDR</th>\n",
       "      <th>Size (%)</th>\n",
       "      <th>Count (%)</th>\n",
       "      <th>P value</th>\n",
       "    </tr>\n",
       "  </thead>\n",
       "  <tbody>\n",
       "    <tr>\n",
       "      <th>0</th>\n",
       "      <td>0.3</td>\n",
       "      <td>7</td>\n",
       "      <td>age phase1[42.0 - 70.0] AND diabetes history p...</td>\n",
       "      <td>211</td>\n",
       "      <td>342</td>\n",
       "      <td>2.054</td>\n",
       "      <td>15.13</td>\n",
       "      <td>31.06</td>\n",
       "      <td>3.086813e-31</td>\n",
       "    </tr>\n",
       "    <tr>\n",
       "      <th>1</th>\n",
       "      <td>0.8</td>\n",
       "      <td>4</td>\n",
       "      <td>bmi c phase1[19.72 - 68.02] AND age phase1[42....</td>\n",
       "      <td>214</td>\n",
       "      <td>344</td>\n",
       "      <td>2.037</td>\n",
       "      <td>15.34</td>\n",
       "      <td>31.24</td>\n",
       "      <td>1.090675e-30</td>\n",
       "    </tr>\n",
       "    <tr>\n",
       "      <th>2</th>\n",
       "      <td>1.0</td>\n",
       "      <td>3</td>\n",
       "      <td>bmi c phase1[19.72 - 68.02] AND age phase1[42....</td>\n",
       "      <td>230</td>\n",
       "      <td>361</td>\n",
       "      <td>1.989</td>\n",
       "      <td>16.49</td>\n",
       "      <td>32.79</td>\n",
       "      <td>8.781040e-30</td>\n",
       "    </tr>\n",
       "    <tr>\n",
       "      <th>3</th>\n",
       "      <td>2.0</td>\n",
       "      <td>2</td>\n",
       "      <td>age phase1[42.0 - 70.0] AND acr c phase1[1.73 ...</td>\n",
       "      <td>259</td>\n",
       "      <td>391</td>\n",
       "      <td>1.913</td>\n",
       "      <td>18.57</td>\n",
       "      <td>35.51</td>\n",
       "      <td>3.181169e-28</td>\n",
       "    </tr>\n",
       "    <tr>\n",
       "      <th>4</th>\n",
       "      <td>3.5</td>\n",
       "      <td>1</td>\n",
       "      <td>acr c phase1[1.73 - 133.33]</td>\n",
       "      <td>279</td>\n",
       "      <td>408</td>\n",
       "      <td>1.853</td>\n",
       "      <td>20.00</td>\n",
       "      <td>37.06</td>\n",
       "      <td>1.924401e-26</td>\n",
       "    </tr>\n",
       "  </tbody>\n",
       "</table>\n",
       "</div>"
      ],
      "text/plain": [
       "   Penalty  No of literals                                             Subset  \\\n",
       "0      0.3               7  age phase1[42.0 - 70.0] AND diabetes history p...   \n",
       "1      0.8               4  bmi c phase1[19.72 - 68.02] AND age phase1[42....   \n",
       "2      1.0               3  bmi c phase1[19.72 - 68.02] AND age phase1[42....   \n",
       "3      2.0               2  age phase1[42.0 - 70.0] AND acr c phase1[1.73 ...   \n",
       "4      3.5               1                        acr c phase1[1.73 - 133.33]   \n",
       "\n",
       "   Size  Counts    IDR  Size (%)  Count (%)       P value  \n",
       "0   211     342  2.054     15.13      31.06  3.086813e-31  \n",
       "1   214     344  2.037     15.34      31.24  1.090675e-30  \n",
       "2   230     361  1.989     16.49      32.79  8.781040e-30  \n",
       "3   259     391  1.913     18.57      35.51  3.181169e-28  \n",
       "4   279     408  1.853     20.00      37.06  1.924401e-26  "
      ]
     },
     "execution_count": 23,
     "metadata": {},
     "output_type": "execute_result"
    }
   ],
   "source": [
    "results_df = pd.DataFrame({\n",
    "    'Penalty': penalty_values,\n",
    "    'No of literals': count_results,\n",
    "    'Subset': subset_results1,\n",
    "    'Size': size_results,\n",
    "    'Counts': disease_counts,\n",
    "    'IDR': IDR_results,\n",
    "    'Size (%)': size_percent,\n",
    "    'Count (%)': counts_percent,\n",
    "    'P value': p_values,\n",
    "})\n",
    "\n",
    "# Display the DataFrame\n",
    "results_df"
   ]
  },
  {
   "cell_type": "code",
   "execution_count": 160,
   "metadata": {},
   "outputs": [
    {
     "data": {
      "text/html": [
       "<div>\n",
       "<style scoped>\n",
       "    .dataframe tbody tr th:only-of-type {\n",
       "        vertical-align: middle;\n",
       "    }\n",
       "\n",
       "    .dataframe tbody tr th {\n",
       "        vertical-align: top;\n",
       "    }\n",
       "\n",
       "    .dataframe thead th {\n",
       "        text-align: right;\n",
       "    }\n",
       "</style>\n",
       "<table border=\"1\" class=\"dataframe\">\n",
       "  <thead>\n",
       "    <tr style=\"text-align: right;\">\n",
       "      <th></th>\n",
       "      <th>Penalty</th>\n",
       "      <th>No of literals</th>\n",
       "      <th>Subset</th>\n",
       "      <th>Size</th>\n",
       "      <th>Counts</th>\n",
       "      <th>IDR</th>\n",
       "      <th>Size (%)</th>\n",
       "      <th>Count (%)</th>\n",
       "      <th>P value</th>\n",
       "    </tr>\n",
       "  </thead>\n",
       "  <tbody>\n",
       "    <tr>\n",
       "      <th>0</th>\n",
       "      <td>0.3</td>\n",
       "      <td>11</td>\n",
       "      <td>mvpa c phase1[-0.0 - 8820.0] AND ses site quin...</td>\n",
       "      <td>390</td>\n",
       "      <td>90</td>\n",
       "      <td>0.466</td>\n",
       "      <td>20.11</td>\n",
       "      <td>9.37</td>\n",
       "      <td>4.086780e-12</td>\n",
       "    </tr>\n",
       "    <tr>\n",
       "      <th>1</th>\n",
       "      <td>0.8</td>\n",
       "      <td>5</td>\n",
       "      <td>bmi c phase1[12.97 - 27.49] AND waist hip r c ...</td>\n",
       "      <td>546</td>\n",
       "      <td>140</td>\n",
       "      <td>0.517</td>\n",
       "      <td>28.16</td>\n",
       "      <td>14.57</td>\n",
       "      <td>3.215394e-13</td>\n",
       "    </tr>\n",
       "    <tr>\n",
       "      <th>2</th>\n",
       "      <td>1.0</td>\n",
       "      <td>5</td>\n",
       "      <td>age phase1[30.0 - 52.0] AND waist hip r c phas...</td>\n",
       "      <td>640</td>\n",
       "      <td>174</td>\n",
       "      <td>0.549</td>\n",
       "      <td>33.01</td>\n",
       "      <td>18.11</td>\n",
       "      <td>3.140483e-13</td>\n",
       "    </tr>\n",
       "    <tr>\n",
       "      <th>3</th>\n",
       "      <td>2.0</td>\n",
       "      <td>4</td>\n",
       "      <td>egfr c phase1[87.31 - 197.09] AND bmi c phase1...</td>\n",
       "      <td>745</td>\n",
       "      <td>216</td>\n",
       "      <td>0.585</td>\n",
       "      <td>38.42</td>\n",
       "      <td>22.48</td>\n",
       "      <td>1.078150e-12</td>\n",
       "    </tr>\n",
       "    <tr>\n",
       "      <th>4</th>\n",
       "      <td>4.5</td>\n",
       "      <td>3</td>\n",
       "      <td>hdl phase1[0.18 - 1.85] AND waist circumferenc...</td>\n",
       "      <td>584</td>\n",
       "      <td>163</td>\n",
       "      <td>0.563</td>\n",
       "      <td>30.12</td>\n",
       "      <td>16.96</td>\n",
       "      <td>1.214291e-11</td>\n",
       "    </tr>\n",
       "    <tr>\n",
       "      <th>5</th>\n",
       "      <td>5.0</td>\n",
       "      <td>2</td>\n",
       "      <td>bmi c phase1[18.95 - 27.49] AND age phase1[30....</td>\n",
       "      <td>622</td>\n",
       "      <td>192</td>\n",
       "      <td>0.623</td>\n",
       "      <td>32.08</td>\n",
       "      <td>19.98</td>\n",
       "      <td>2.101438e-09</td>\n",
       "    </tr>\n",
       "    <tr>\n",
       "      <th>6</th>\n",
       "      <td>15.5</td>\n",
       "      <td>1</td>\n",
       "      <td>age phase1[30.0 - 48.0]</td>\n",
       "      <td>1014</td>\n",
       "      <td>381</td>\n",
       "      <td>0.758</td>\n",
       "      <td>52.29</td>\n",
       "      <td>39.65</td>\n",
       "      <td>4.788984e-06</td>\n",
       "    </tr>\n",
       "  </tbody>\n",
       "</table>\n",
       "</div>"
      ],
      "text/plain": [
       "   Penalty  No of literals                                             Subset  \\\n",
       "0      0.3              11  mvpa c phase1[-0.0 - 8820.0] AND ses site quin...   \n",
       "1      0.8               5  bmi c phase1[12.97 - 27.49] AND waist hip r c ...   \n",
       "2      1.0               5  age phase1[30.0 - 52.0] AND waist hip r c phas...   \n",
       "3      2.0               4  egfr c phase1[87.31 - 197.09] AND bmi c phase1...   \n",
       "4      4.5               3  hdl phase1[0.18 - 1.85] AND waist circumferenc...   \n",
       "5      5.0               2  bmi c phase1[18.95 - 27.49] AND age phase1[30....   \n",
       "6     15.5               1                            age phase1[30.0 - 48.0]   \n",
       "\n",
       "   Size  Counts    IDR  Size (%)  Count (%)       P value  \n",
       "0   390      90  0.466     20.11       9.37  4.086780e-12  \n",
       "1   546     140  0.517     28.16      14.57  3.215394e-13  \n",
       "2   640     174  0.549     33.01      18.11  3.140483e-13  \n",
       "3   745     216  0.585     38.42      22.48  1.078150e-12  \n",
       "4   584     163  0.563     30.12      16.96  1.214291e-11  \n",
       "5   622     192  0.623     32.08      19.98  2.101438e-09  \n",
       "6  1014     381  0.758     52.29      39.65  4.788984e-06  "
      ]
     },
     "execution_count": 160,
     "metadata": {},
     "output_type": "execute_result"
    }
   ],
   "source": [
    "results_df = pd.DataFrame({\n",
    "    'Penalty': penalty_values,\n",
    "    'No of literals': count_results,\n",
    "    'Subset': subset_results1,\n",
    "    'Size': size_results,\n",
    "    'Counts': disease_counts,\n",
    "    'IDR': IDR_results,\n",
    "    'Size (%)': size_percent,\n",
    "    'Count (%)': counts_percent,\n",
    "    'P value': p_values,\n",
    "})\n",
    "\n",
    "# Display the DataFrame\n",
    "results_df"
   ]
  },
  {
   "cell_type": "code",
   "execution_count": 167,
   "metadata": {},
   "outputs": [],
   "source": [
    "results_df.to_csv('Poisson_HIGH_MAIN_NAIROBI.csv', index=False)"
   ]
  },
  {
   "cell_type": "code",
   "execution_count": 25,
   "metadata": {},
   "outputs": [
    {
     "data": {
      "text/plain": [
       "4       0\n",
       "5       0\n",
       "10      1\n",
       "12      0\n",
       "13      0\n",
       "       ..\n",
       "1386    1\n",
       "1389    1\n",
       "1391    2\n",
       "1393    0\n",
       "1394    0\n",
       "Name: MorbidityCount, Length: 440, dtype: int64"
      ]
     },
     "execution_count": 25,
     "metadata": {},
     "output_type": "execute_result"
    }
   ],
   "source": [
    "dataframes['df_0.13'].MorbidityCount"
   ]
  },
  {
   "cell_type": "code",
   "execution_count": 173,
   "metadata": {},
   "outputs": [
    {
     "data": {
      "image/png": "[encoded data removed]",
      "text/plain": [
       "<Figure size 800x400 with 1 Axes>"
      ]
     },
     "metadata": {},
     "output_type": "display_data"
    }
   ],
   "source": [
    "import matplotlib.pyplot as plt\n",
    "import numpy as np\n",
    "\n",
    "# Assuming poisData and dataframes are defined and available\n",
    "x = np.arange(0, max(poisData) + 1)\n",
    "\n",
    "plt.figure(figsize=(8, 4))\n",
    "# First plot the filled histograms\n",
    "plt.hist(poisData, bins=np.arange(-0.5, max(poisData) + 1.5, 1), density=True, alpha=0.8, color='#DEEFB7', label='Observed Data')\n",
    "plt.hist(dataframes['df_5'].MorbidityCount, bins=np.arange(-0.5, max(poisData) + 1.5, 1), density=True, alpha=0.6, color='#C2948A', label='Subset with 2 literals')\n",
    "plt.hist(dataframes['df_0.8'].MorbidityCount, bins=np.arange(-0.5, max(poisData) + 1.5, 1), density=True, alpha=0.4, color='#023436', label='Subset with 7 literals')\n",
    "\n",
    "# Then overlay with the step histograms for outlines\n",
    "plt.hist(poisData, bins=np.arange(-0.5, max(poisData) + 1.5, 1), density=True, color='lightblue', histtype='step', linewidth=2.5, edgecolor='#5AFF15')\n",
    "plt.hist(dataframes['df_5'].MorbidityCount, bins=np.arange(-0.5, max(poisData) + 1.5, 1), density=True, color='#721121', histtype='step', linewidth=1.5, edgecolor='#EF8A17')\n",
    "plt.hist(dataframes['df_0.8'].MorbidityCount, bins=np.arange(-0.5, max(poisData) + 1.5, 1), density=True, color='#721121', histtype='step', linewidth=1.5, edgecolor='#023436')\n",
    "\n",
    "# plt.title('Histograms of Observed and Data Subsets')\n",
    "plt.xlabel('Disease Count')\n",
    "plt.ylabel('Frequency')\n",
    "plt.xticks(x)\n",
    "plt.legend()\n",
    "plt.grid(color = 'lightgray', linestyle = '--', linewidth = 0.3)\n",
    "plt.show()\n"
   ]
  },
  {
   "cell_type": "code",
   "execution_count": 37,
   "metadata": {},
   "outputs": [
    {
     "name": "stdout",
     "output_type": "stream",
     "text": [
      "acr c phase1[1.73 - 133.33]\n"
     ]
    }
   ],
   "source": [
    "scoring_function = Poisson(direction='positive')\n",
    "scanner = MDSS(scoring_function)\n",
    "# Perform the scan with the current penalty value\n",
    "subset, score = scanner.scan(dff_2[search_space1], dff_2['MorbidityCount'], dff_2['expectationPoisson'], cpu=0.95,\n",
    "                                penalty=3.5, num_iters=10, contiguous=contiguous.copy())\n",
    "print(translate_subset_to_rule(compress_contiguous(subset, contiguous)))\n",
    "\n",
    "to_choose = dff_2[subset.keys()].isin(subset).all(axis=1)\n",
    "temp_df = dff_2.loc[to_choose]\n",
    "not_tempdf = dff_2.loc[~to_choose]"
   ]
  },
  {
   "cell_type": "code",
   "execution_count": 39,
   "metadata": {},
   "outputs": [
    {
     "data": {
      "image/png": "[encoded data removed]",
      "text/plain": [
       "<Figure size 800x400 with 1 Axes>"
      ]
     },
     "metadata": {},
     "output_type": "display_data"
    }
   ],
   "source": [
    "plt.figure(figsize=(8, 4))\n",
    "# First plot the filled histograms\n",
    "plt.hist(poisData, bins=np.arange(-0.5, max(poisData) + 1.5, 1), density=True, alpha=0.8, color='#DEEFB7', label='Observed outcomes')\n",
    "plt.hist(temp_df.MorbidityCount, bins=np.arange(-0.5, max(poisData) + 1.5, 1), density=True, alpha=0.6, color='#C2948A', label='Expected outcomes')\n",
    "# plt.hist(not_tempdf.MorbidityCount, bins=np.arange(-0.5, max(poisData) + 1.5, 1), density=True, alpha=0.4, color='#023436', label='Subset with 7 literals')\n",
    "\n",
    "# Then overlay with the step histograms for outlines\n",
    "plt.hist(poisData, bins=np.arange(-0.5, max(poisData) + 1.5, 1), density=True, color='lightblue', histtype='step', linewidth=2.5, edgecolor='#5AFF15')\n",
    "plt.hist(temp_df.MorbidityCount, bins=np.arange(-0.5, max(poisData) + 1.5, 1), density=True, color='#721121', histtype='step', linewidth=1.5, edgecolor='#EF8A17')\n",
    "# plt.hist(not_tempdf.MorbidityCount, bins=np.arange(-0.5, max(poisData) + 1.5, 1), density=True, color='#721121', histtype='step', linewidth=1.5, edgecolor='#023436')\n",
    "\n",
    "# plt.title('Histograms of Observed and Data Subsets')\n",
    "plt.xlabel('Disease Count')\n",
    "plt.ylabel('Frequency')\n",
    "plt.xticks(x)\n",
    "plt.legend()\n",
    "plt.grid(color = 'lightgray', linestyle = '--', linewidth = 0.3)\n",
    "plt.show()"
   ]
  },
  {
   "cell_type": "code",
   "execution_count": 21,
   "metadata": {},
   "outputs": [
    {
     "name": "stdout",
     "output_type": "stream",
     "text": [
      "Central Limit Theorem applicability in Group 1: True\n",
      "Central Limit Theorem applicability in Group 2: True\n",
      "Meaningful confidence interval: True\n",
      "95% Confidence Interval: 3.1329777314480225 3.8834646885279103\n"
     ]
    }
   ],
   "source": [
    "import numpy as np\n",
    "import scipy.stats as stats\n",
    "\n",
    "# Example data\n",
    "data_group1 = dff_2['MorbidityCount']\n",
    "data_group2 = temp_df['MorbidityCount']\n",
    "\n",
    "# Total cases for each group\n",
    "cases_group1 = np.sum(data_group1)\n",
    "cases_group2 = np.sum(data_group2)\n",
    "\n",
    "# Check for the Central Limit Theorem applicability (point 1)\n",
    "# Rule of thumb: at least 5 to 10 events per group\n",
    "clt_applicable_group1 = cases_group1 >= 5\n",
    "clt_applicable_group2 = cases_group2 >= 5\n",
    "\n",
    "# Assuming equal person-time for simplicity\n",
    "person_time_group1 = dff_2['MorbidityCount'].mean()\n",
    "person_time_group2 = temp_df['MorbidityCount'].mean()\n",
    "\n",
    "# Calculate Incidence Density for each group\n",
    "incidence_density_group1 = cases_group1 / person_time_group1\n",
    "incidence_density_group2 = cases_group2 / person_time_group2\n",
    "\n",
    "# Calculate IDR\n",
    "IDR = incidence_density_group1 / incidence_density_group2\n",
    "\n",
    "# Calculate Log-IDR and its standard error\n",
    "log_IDR = np.log(IDR)\n",
    "SE_log_IDR = np.sqrt((1/cases_group1) + (1/cases_group2))\n",
    "\n",
    "# Calculate 95% Confidence Interval for Log-IDR\n",
    "CI_lower_log = log_IDR - 1.96 * SE_log_IDR\n",
    "CI_upper_log = log_IDR + 1.96 * SE_log_IDR\n",
    "\n",
    "# Transform the CI back to the original scale\n",
    "CI_lower = np.exp(CI_lower_log)\n",
    "CI_upper = np.exp(CI_upper_log)\n",
    "\n",
    "# Check for meaningful confidence intervals (point 3)\n",
    "# Confidence intervals should not include negative values or be excessively wide\n",
    "meaningful_ci = CI_lower > 0 and (CI_upper - CI_lower) < np.inf\n",
    "\n",
    "# Output the results\n",
    "print(\"Central Limit Theorem applicability in Group 1:\", clt_applicable_group1)\n",
    "print(\"Central Limit Theorem applicability in Group 2:\", clt_applicable_group2)\n",
    "print(\"Meaningful confidence interval:\", meaningful_ci)\n",
    "print(\"95% Confidence Interval:\", CI_lower, CI_upper)\n",
    "\n"
   ]
  },
  {
   "cell_type": "code",
   "execution_count": 61,
   "metadata": {},
   "outputs": [
    {
     "data": {
      "image/png": "[encoded data removed]",
      "text/plain": [
       "<Figure size 1200x800 with 1 Axes>"
      ]
     },
     "metadata": {},
     "output_type": "display_data"
    }
   ],
   "source": [
    "import matplotlib.path as mpath\n",
    "# datum = {'size': [36,250,333,418,418,536,467,439,315,315],\n",
    "# 'counts': [0,98,140,196,196,272,246,225,156,156],\n",
    "# 'IDR': [0,0.171,0.227,0.285,0.285,0.366,0.319,0.3,0.215,0.215],\n",
    "# 'scores': [25.136,23.768,25.956,24.557,23.057,20.45,14.935,15.171,14.517,14.017],\n",
    "# 'literals': [6,6,5,3,3,3,2,2,1,1],\n",
    "# 'penalty': [0.5,1.0,1.5,2.0,2.5,3.0,3.5,4.0,4.5,5.0]\n",
    "# }\n",
    "\n",
    "df = results_df.copy()\n",
    "df['count/size']=np.round(df['Counts']/df['Size'],2)\n",
    "\n",
    "# Plotting\n",
    "fig=plt.figure(figsize=(12, 8))\n",
    "ax = fig.add_subplot()\n",
    "\n",
    "# Plot Odds for Bernoulli\n",
    "# plt.scatter(df['penalty'], df['IDR'], s=df['size']*2, label='Size', alpha=0.7)\n",
    "\n",
    "# Plot counts\n",
    "plt.scatter(df['Penalty'], df['IDR'], s=df['Counts']*2, marker='o', label='Counts', color='red', alpha=0.5)\n",
    "# Plot size\n",
    "plt.scatter(df['Penalty'], df['IDR'], s=df['Size']*2, marker='8', label='Size', color='teal', alpha=0.6)\n",
    "# Plot Odds for Bernoulli\n",
    "# plt.plot(df['penalty'], df['IDR'], marker='*', label='Bernoulli')\n",
    "\n",
    "# Annotate the size values for Bernoulli\n",
    "for i, txt in enumerate(df['No of literals']):\n",
    "    plt.annotate(txt, (df['Penalty'][i], df['IDR'][i]), textcoords=\"offset points\", xytext=(0,10), ha='center', fontname=\"Arial\", fontsize=12, color='blue')\n",
    "\n",
    "# Annotate the size values for Bernoulli\n",
    "for i, txt in enumerate(df['count/size']):\n",
    "    plt.annotate(txt, (df['Penalty'][i], df['IDR'][i]), textcoords=\"offset points\", xytext=(0,-15), ha='center', fontname=\"Arial\",fontweight=\"bold\", color='darkblue')\n",
    "\n",
    "# Add labels and title\n",
    "plt.xlabel('Penalty', fontsize=14, fontname=\"Arial\")\n",
    "plt.ylabel('Incidence density ratio', fontsize=14, fontname=\"Arial\")\n",
    "plt.title('Plot for condition counts with number of literals (Agincourt)', fontname=\"Arial\", fontsize=14,fontweight=\"bold\")\n",
    "plt.legend(fontsize=\"14\",loc='lower right')\n",
    "# plt.text(1, 2, 'Normal Font',  fontsize=16)\n",
    "ax.text(0.99, 0.12, 'Number of literals',verticalalignment='bottom', horizontalalignment='right',transform=ax.transAxes,color='blue', fontsize=13)\n",
    "ax.text(0.99, 0.15, 'Counts/size',verticalalignment='bottom', horizontalalignment='right',transform=ax.transAxes,color='darkblue', fontsize=13)\n",
    "plt.grid(color = 'green', linestyle = '--', linewidth = 0.3)\n",
    "# Show the plot\n",
    "plt.show()"
   ]
  },
  {
   "cell_type": "code",
   "execution_count": null,
   "metadata": {},
   "outputs": [],
   "source": [
    "# datum = {'size': [36,250,333,418,418,536,467,439,315,315],\n",
    "# 'counts': [0,98,140,196,196,272,246,225,156,156],\n",
    "# 'IDR': [0,0.171,0.227,0.285,0.285,0.366,0.319,0.3,0.215,0.215],\n",
    "# 'scores': [25.136,23.768,25.956,24.557,23.057,20.45,14.935,15.171,14.517,14.017],\n",
    "# 'literals': [6,6,5,3,3,3,2,2,1,1],\n",
    "# 'penalty': [0.5,1.0,1.5,2.0,2.5,3.0,3.5,4.0,4.5,5.0]}\n",
    "\n",
    "df = pd.DataFrame(datum)\n",
    "\n",
    "# Plotting\n",
    "fig=plt.figure(figsize=(12, 8))\n",
    "ax = fig.add_subplot()\n",
    "\n",
    "# Plot Odds for Bernoulli\n",
    "# plt.scatter(df['penalty'], df['IDR'], s=df['size']*2, label='Size', alpha=0.7)\n",
    "\n",
    "# Plot Odds for Bernoulli\n",
    "plt.scatter(df['penalty'], df['IDR'], s=df['counts']*2, label='Counts', color='teal', alpha=0.6)\n",
    "# Plot Odds for Bernoulli\n",
    "# plt.plot(df['penalty'], df['IDR'], marker='*', label='Bernoulli')\n",
    "\n",
    "# Annotate the size values for literals\n",
    "for i, txt in enumerate(df['literals']):\n",
    "    plt.annotate(txt, (df['penalty'][i], df['IDR'][i]), textcoords=\"offset points\", xytext=(0,10), ha='center', fontname=\"Arial\", fontsize=12, color='brown')\n",
    "\n",
    "# Annotate the size values for counts\n",
    "for i, txt in enumerate(df['counts']):\n",
    "    plt.annotate(txt, (df['penalty'][i], df['IDR'][i]), textcoords=\"offset points\", xytext=(0,-4), ha='center', fontname=\"Arial\",fontweight=\"bold\")\n",
    "\n",
    "# Add labels and title\n",
    "plt.xlabel('Penalty', fontsize=14, fontname=\"Arial\")\n",
    "plt.ylabel('Incidence density ratio', fontsize=14, fontname=\"Arial\")\n",
    "plt.title('Plot for disease counts with number of literals', fontname=\"Arial\", fontsize=14,fontweight=\"bold\")\n",
    "plt.legend(fontsize=\"14\")\n",
    "# plt.text(1, 2, 'Normal Font',  fontsize=16)\n",
    "ax.text(0.99, 0.88, 'Number of literals',\n",
    "        verticalalignment='bottom', horizontalalignment='right',\n",
    "        transform=ax.transAxes,\n",
    "        color='brown', fontsize=13)\n",
    "plt.grid(color = 'green', linestyle = '--', linewidth = 0.3)\n",
    "# Show the plot\n",
    "plt.show()"
   ]
  },
  {
   "cell_type": "code",
   "execution_count": 22,
   "metadata": {},
   "outputs": [
    {
     "data": {
      "text/plain": [
       "Index(['Penalty', 'No of literals', 'Subset', 'Size', 'Counts', 'IDR',\n",
       "       'Size (%)', 'Count (%)', 'P value'],\n",
       "      dtype='object')"
      ]
     },
     "execution_count": 22,
     "metadata": {},
     "output_type": "execute_result"
    }
   ],
   "source": [
    "results_df.columns"
   ]
  },
  {
   "cell_type": "code",
   "execution_count": 64,
   "metadata": {},
   "outputs": [
    {
     "data": {
      "image/png": "[encoded data removed]",
      "text/plain": [
       "<Figure size 1200x800 with 1 Axes>"
      ]
     },
     "metadata": {},
     "output_type": "display_data"
    }
   ],
   "source": [
    "import matplotlib.path as mpath\n",
    "from matplotlib.lines import Line2D\n",
    "from matplotlib.markers import MarkerStyle\n",
    "from matplotlib.transforms import Affine2D\n",
    "\n",
    "# datum = {'size': [321,270,276,445,227,227,420,227,420,420],\n",
    "# 'counts': [398,339,344,500,289,289,470,289,470,470],\n",
    "# 'IDR': [0.219,0.184,0.188,0.304,0.155,0.155,0.287,0.155,0.287,0.287],\n",
    "# 'scores': [32.546,28.72,26.255,23.291,24.427,23.427,19.956,21.427,17.956,16.956],\n",
    "# 'literals': [8,\t4,\t4,\t3,\t2,\t2,\t2,\t2,\t2,\t2],\n",
    "# 'penalty': [0.5,1.0,1.5,2.0,2.5,3.0,3.5,4.0,4.5,5.0]\n",
    "# }\n",
    "\n",
    "# Marker\n",
    "# r'$\\clubsuit$'\n",
    "\n",
    "df = results_df.copy()\n",
    "# df['size'] = np.round(df['Size']/df['Size'].sum()*100,2)\n",
    "# df['counts'] = np.round(df['Counts']/df['Counts'].sum()*100,2)\n",
    "\n",
    "# df = pd.DataFrame(datum)\n",
    "df['count/size']=np.round(df['Counts']/df['Size'],2)\n",
    "\n",
    "# Plotting\n",
    "fig=plt.figure(figsize=(12, 8))\n",
    "ax = fig.add_subplot()\n",
    "\n",
    "# Plot Odds for Bernoulli\n",
    "# plt.scatter(df['penalty'], df['IDR'], s=df['size']*2, label='Size', alpha=0.7)\n",
    "\n",
    "# Plot size\n",
    "plt.scatter(df['Penalty'], df['IDR'], s=df['Size']*2, marker='8', label='Size', color='teal', alpha=0.6)\n",
    "# Plot counts\n",
    "plt.scatter(df['Penalty'], df['IDR'], s=df['Counts']*2, marker='o', label='Counts', color='red', alpha=0.5)\n",
    "# Plot Odds for Bernoulli\n",
    "# plt.plot(df['penalty'], df['IDR'], marker='*', label='Bernoulli')\n",
    "\n",
    "# Annotate the size values for Bernoulli\n",
    "for i, txt in enumerate(df['No of literals']):\n",
    "    plt.annotate(txt, (df['Penalty'][i], df['IDR'][i]), textcoords=\"offset points\", xytext=(0,10), ha='center', fontname=\"Arial\", fontsize=12, color='blue')\n",
    "\n",
    "# Annotate the size values for Bernoulli\n",
    "for i, txt in enumerate(df['count/size']):\n",
    "    plt.annotate(txt, (df['Penalty'][i], df['IDR'][i]), textcoords=\"offset points\", xytext=(0,-17), ha='center', fontname=\"Arial\",fontweight=\"bold\", color='darkblue')\n",
    "\n",
    "# Add labels and title\n",
    "plt.xlabel('Penalty', fontsize=14, fontname=\"Arial\")\n",
    "plt.ylabel('Incidence density ratio', fontsize=14, fontname=\"Arial\")\n",
    "plt.title('Plot for disease counts with number of literals (Agincourt)', fontname=\"Arial\", fontsize=14,fontweight=\"bold\")\n",
    "plt.legend(fontsize=\"14\",loc='lower right')\n",
    "# plt.text(1, 2, 'Normal Font',  fontsize=16)\n",
    "ax.text(0.99, 0.12, 'Number of literals',verticalalignment='bottom', horizontalalignment='right',transform=ax.transAxes,color='blue', fontsize=13)\n",
    "ax.text(0.99, 0.15, 'Counts/size',verticalalignment='bottom', horizontalalignment='right',transform=ax.transAxes,color='darkblue', fontsize=13)\n",
    "plt.grid(color = 'green', linestyle = '--', linewidth = 0.3)\n",
    "# Show the plot\n",
    "plt.show()"
   ]
  },
  {
   "cell_type": "code",
   "execution_count": 34,
   "metadata": {},
   "outputs": [
    {
     "data": {
      "text/html": [
       "<div>\n",
       "<style scoped>\n",
       "    .dataframe tbody tr th:only-of-type {\n",
       "        vertical-align: middle;\n",
       "    }\n",
       "\n",
       "    .dataframe tbody tr th {\n",
       "        vertical-align: top;\n",
       "    }\n",
       "\n",
       "    .dataframe thead th {\n",
       "        text-align: right;\n",
       "    }\n",
       "</style>\n",
       "<table border=\"1\" class=\"dataframe\">\n",
       "  <thead>\n",
       "    <tr style=\"text-align: right;\">\n",
       "      <th></th>\n",
       "      <th>Penalty</th>\n",
       "      <th>No of literals</th>\n",
       "      <th>Subset</th>\n",
       "      <th>Size</th>\n",
       "      <th>Counts</th>\n",
       "      <th>IDR</th>\n",
       "      <th>Size (%)</th>\n",
       "      <th>Count (%)</th>\n",
       "      <th>P value</th>\n",
       "    </tr>\n",
       "  </thead>\n",
       "  <tbody>\n",
       "    <tr>\n",
       "      <th>0</th>\n",
       "      <td>0.5</td>\n",
       "      <td>6</td>\n",
       "      <td>triglycerides qc[0.25 - 1.12] AND visceral fat...</td>\n",
       "      <td>36</td>\n",
       "      <td>0</td>\n",
       "      <td>0.000</td>\n",
       "      <td>2.46</td>\n",
       "      <td>0.00</td>\n",
       "      <td>NaN</td>\n",
       "    </tr>\n",
       "    <tr>\n",
       "      <th>1</th>\n",
       "      <td>1.0</td>\n",
       "      <td>6</td>\n",
       "      <td>cimt mean max[0.41 - 0.83] AND bmi c qc[14.53 ...</td>\n",
       "      <td>250</td>\n",
       "      <td>98</td>\n",
       "      <td>0.502</td>\n",
       "      <td>17.06</td>\n",
       "      <td>8.56</td>\n",
       "      <td>5.517345e-11</td>\n",
       "    </tr>\n",
       "    <tr>\n",
       "      <th>2</th>\n",
       "      <td>1.5</td>\n",
       "      <td>5</td>\n",
       "      <td>cimt mean max[0.41 - 0.68] AND friedewald ldl ...</td>\n",
       "      <td>333</td>\n",
       "      <td>140</td>\n",
       "      <td>0.538</td>\n",
       "      <td>22.73</td>\n",
       "      <td>12.23</td>\n",
       "      <td>4.349085e-12</td>\n",
       "    </tr>\n",
       "    <tr>\n",
       "      <th>3</th>\n",
       "      <td>2.0</td>\n",
       "      <td>3</td>\n",
       "      <td>waist circumference qc[510.0 - 950.0] AND chol...</td>\n",
       "      <td>418</td>\n",
       "      <td>196</td>\n",
       "      <td>0.600</td>\n",
       "      <td>28.53</td>\n",
       "      <td>17.12</td>\n",
       "      <td>3.857221e-11</td>\n",
       "    </tr>\n",
       "    <tr>\n",
       "      <th>4</th>\n",
       "      <td>2.5</td>\n",
       "      <td>3</td>\n",
       "      <td>cimt mean max[0.41 - 0.68] AND waist circumfer...</td>\n",
       "      <td>418</td>\n",
       "      <td>196</td>\n",
       "      <td>0.600</td>\n",
       "      <td>28.53</td>\n",
       "      <td>17.12</td>\n",
       "      <td>3.857221e-11</td>\n",
       "    </tr>\n",
       "    <tr>\n",
       "      <th>5</th>\n",
       "      <td>3.0</td>\n",
       "      <td>3</td>\n",
       "      <td>friedewald ldl c c qc[-3.31 - 2.79] AND waist ...</td>\n",
       "      <td>536</td>\n",
       "      <td>272</td>\n",
       "      <td>0.649</td>\n",
       "      <td>36.59</td>\n",
       "      <td>23.76</td>\n",
       "      <td>1.525983e-10</td>\n",
       "    </tr>\n",
       "    <tr>\n",
       "      <th>6</th>\n",
       "      <td>3.5</td>\n",
       "      <td>2</td>\n",
       "      <td>bmi c qc[14.53 - 26.06] AND age[40.0 - 53.0]</td>\n",
       "      <td>467</td>\n",
       "      <td>246</td>\n",
       "      <td>0.674</td>\n",
       "      <td>31.88</td>\n",
       "      <td>21.48</td>\n",
       "      <td>1.972122e-08</td>\n",
       "    </tr>\n",
       "    <tr>\n",
       "      <th>7</th>\n",
       "      <td>4.0</td>\n",
       "      <td>2</td>\n",
       "      <td>visceral fat qc[2.82 - 5.91] AND cimt mean max...</td>\n",
       "      <td>439</td>\n",
       "      <td>225</td>\n",
       "      <td>0.656</td>\n",
       "      <td>29.97</td>\n",
       "      <td>19.65</td>\n",
       "      <td>7.199861e-09</td>\n",
       "    </tr>\n",
       "    <tr>\n",
       "      <th>8</th>\n",
       "      <td>4.5</td>\n",
       "      <td>1</td>\n",
       "      <td>waist circumference qc[510.0 - 780.0]</td>\n",
       "      <td>315</td>\n",
       "      <td>156</td>\n",
       "      <td>0.634</td>\n",
       "      <td>21.50</td>\n",
       "      <td>13.62</td>\n",
       "      <td>8.982408e-08</td>\n",
       "    </tr>\n",
       "    <tr>\n",
       "      <th>9</th>\n",
       "      <td>5.0</td>\n",
       "      <td>1</td>\n",
       "      <td>waist circumference qc[510.0 - 780.0]</td>\n",
       "      <td>315</td>\n",
       "      <td>156</td>\n",
       "      <td>0.634</td>\n",
       "      <td>21.50</td>\n",
       "      <td>13.62</td>\n",
       "      <td>8.982408e-08</td>\n",
       "    </tr>\n",
       "  </tbody>\n",
       "</table>\n",
       "</div>"
      ],
      "text/plain": [
       "   Penalty  No of literals                                             Subset  \\\n",
       "0      0.5               6  triglycerides qc[0.25 - 1.12] AND visceral fat...   \n",
       "1      1.0               6  cimt mean max[0.41 - 0.83] AND bmi c qc[14.53 ...   \n",
       "2      1.5               5  cimt mean max[0.41 - 0.68] AND friedewald ldl ...   \n",
       "3      2.0               3  waist circumference qc[510.0 - 950.0] AND chol...   \n",
       "4      2.5               3  cimt mean max[0.41 - 0.68] AND waist circumfer...   \n",
       "5      3.0               3  friedewald ldl c c qc[-3.31 - 2.79] AND waist ...   \n",
       "6      3.5               2       bmi c qc[14.53 - 26.06] AND age[40.0 - 53.0]   \n",
       "7      4.0               2  visceral fat qc[2.82 - 5.91] AND cimt mean max...   \n",
       "8      4.5               1              waist circumference qc[510.0 - 780.0]   \n",
       "9      5.0               1              waist circumference qc[510.0 - 780.0]   \n",
       "\n",
       "   Size  Counts    IDR  Size (%)  Count (%)       P value  \n",
       "0    36       0  0.000      2.46       0.00           NaN  \n",
       "1   250      98  0.502     17.06       8.56  5.517345e-11  \n",
       "2   333     140  0.538     22.73      12.23  4.349085e-12  \n",
       "3   418     196  0.600     28.53      17.12  3.857221e-11  \n",
       "4   418     196  0.600     28.53      17.12  3.857221e-11  \n",
       "5   536     272  0.649     36.59      23.76  1.525983e-10  \n",
       "6   467     246  0.674     31.88      21.48  1.972122e-08  \n",
       "7   439     225  0.656     29.97      19.65  7.199861e-09  \n",
       "8   315     156  0.634     21.50      13.62  8.982408e-08  \n",
       "9   315     156  0.634     21.50      13.62  8.982408e-08  "
      ]
     },
     "execution_count": 34,
     "metadata": {},
     "output_type": "execute_result"
    }
   ],
   "source": [
    "results_df = pd.DataFrame({\n",
    "    'Penalty': penalty_values,\n",
    "    'No of literals': count_results,\n",
    "    'Subset': subset_results1,\n",
    "    'Size': size_results,\n",
    "    'Counts': disease_counts,\n",
    "    'IDR': IDR_results,\n",
    "    'Size (%)': size_percent,\n",
    "    'Count (%)': counts_percent,\n",
    "    'P value': p_values,\n",
    "})\n",
    "\n",
    "# Display the DataFrame\n",
    "results_df\n"
   ]
  },
  {
   "cell_type": "code",
   "execution_count": 65,
   "metadata": {},
   "outputs": [],
   "source": [
    "results_df.to_csv('Poisson_norm_counts_neg1_NAI.csv', index=False)"
   ]
  },
  {
   "cell_type": "code",
   "execution_count": 543,
   "metadata": {},
   "outputs": [
    {
     "data": {
      "text/plain": [
       "(array([0, 1, 2, 3, 4]), array([ 45, 176,  80,  18,   2]))"
      ]
     },
     "execution_count": 543,
     "metadata": {},
     "output_type": "execute_result"
    }
   ],
   "source": [
    "np.unique(dataframes['df_0.5'].MorbidityCount, return_counts=True)"
   ]
  },
  {
   "cell_type": "code",
   "execution_count": 63,
   "metadata": {},
   "outputs": [
    {
     "data": {
      "text/plain": [
       "10"
      ]
     },
     "execution_count": 63,
     "metadata": {},
     "output_type": "execute_result"
    }
   ],
   "source": [
    "dataframes['df_1.5'].iloc[1:9,-3].sum()\n",
    "# np.unique(dataframes['df_1.5'].iloc[1:8,-3], return_counts=True)"
   ]
  },
  {
   "cell_type": "code",
   "execution_count": 534,
   "metadata": {},
   "outputs": [
    {
     "data": {
      "text/plain": [
       "array([177, 121,  16,   1])"
      ]
     },
     "execution_count": 534,
     "metadata": {},
     "output_type": "execute_result"
    }
   ],
   "source": [
    "dataframes['df_4.5']['MorbidityCount'].value_counts().values"
   ]
  },
  {
   "cell_type": "code",
   "execution_count": 544,
   "metadata": {},
   "outputs": [
    {
     "data": {
      "text/plain": [
       "1    210\n",
       "2     99\n",
       "0     91\n",
       "3     18\n",
       "4      2\n",
       "Name: MorbidityCount, dtype: int64"
      ]
     },
     "execution_count": 544,
     "metadata": {},
     "output_type": "execute_result"
    }
   ],
   "source": [
    "dataframes['df_4.5']['MorbidityCount'].value_counts()"
   ]
  },
  {
   "cell_type": "code",
   "execution_count": 89,
   "metadata": {},
   "outputs": [
    {
     "data": {
      "image/png": "[encoded data removed]",
      "text/plain": [
       "<Figure size 920x500 with 1 Axes>"
      ]
     },
     "metadata": {},
     "output_type": "display_data"
    }
   ],
   "source": [
    "category_names = ['0 condition', '1 condition',\n",
    "                  '2 conditions', '3 conditions', '4 conditions']\n",
    "\n",
    "results1 = {\n",
    "    '7 literals': dataframes['df_0.3']['MorbidityCount'].value_counts().values,\n",
    "    '4 literals': dataframes['df_0.8']['MorbidityCount'].value_counts().values,\n",
    "    '3 literals': dataframes['df_1.0']['MorbidityCount'].value_counts().values,\n",
    "    '2 literals': dataframes['df_2.0']['MorbidityCount'].value_counts().values,\n",
    "    '1 literal': dataframes['df_3.5']['MorbidityCount'].value_counts().values, \n",
    "    # '2 literals(v2)': dataframes['df_3.5']['MorbidityCount'].value_counts().values,   \n",
    "}\n",
    "\n",
    "\n",
    "def survey(results1, category_names):\n",
    "    \"\"\"\n",
    "    Parameters\n",
    "    ----------\n",
    "    results : dict\n",
    "        A mapping from question labels to a list of answers per category.\n",
    "        It is assumed all lists contain the same number of entries and that\n",
    "        it matches the length of *category_names*.\n",
    "    category_names : list of str\n",
    "        The category labels.\n",
    "    \"\"\"\n",
    "    labels = list(results1.keys())\n",
    "    data = np.array(list(results1.values()))\n",
    "    data_cum = data.cumsum(axis=1)\n",
    "    category_colors = plt.colormaps['Reds'](\n",
    "        np.linspace(0.15, 0.85, data.shape[1]))\n",
    "\n",
    "    fig, ax = plt.subplots(figsize=(9.2, 5))\n",
    "    ax.invert_yaxis()\n",
    "    ax.xaxis.set_visible(False)\n",
    "    # ax.set_xlabel(xlabel='rert')\n",
    "    ax.set_xlim(0, np.sum(data, axis=1).max())\n",
    "\n",
    "    for i, (colname, color) in enumerate(zip(category_names, category_colors)):\n",
    "        widths = data[:, i]\n",
    "        starts = data_cum[:, i] - widths\n",
    "        rects = ax.barh(labels, widths, left=starts, height=0.9,\n",
    "                        label=colname, color=color)\n",
    "\n",
    "        r, g, b, _ = color\n",
    "        text_color = 'white' if r * g * b < 0.5 else 'brown'\n",
    "        ax.bar_label(rects, label_type='center', color=text_color)\n",
    "    ax.legend(ncols=len(category_names), bbox_to_anchor=(0, 1),\n",
    "              loc='lower left', fontsize='small')\n",
    "    # ax.set_xlabel(xlabel='hgjeh')\n",
    "    return fig, ax\n",
    "\n",
    "\n",
    "survey(results1, category_names)\n",
    "plt.show()"
   ]
  },
  {
   "cell_type": "code",
   "execution_count": 90,
   "metadata": {},
   "outputs": [
    {
     "name": "stdout",
     "output_type": "stream",
     "text": [
      "      7_literals  4_literals  3_literals  2_literals  1_literal\n",
      "3              1           1           1           1          1\n",
      "9              1           1           1           1          1\n",
      "23             1           1           1           1          1\n",
      "34             1           1           1           1          1\n",
      "41             1           1           1           1          1\n",
      "...          ...         ...         ...         ...        ...\n",
      "1353           1           1           1           1          1\n",
      "1365           1           1           1           1          1\n",
      "1366           1           1           1           1          1\n",
      "1371           1           1           1           1          1\n",
      "1387           1           1           1           1          1\n",
      "\n",
      "[279 rows x 5 columns]\n"
     ]
    }
   ],
   "source": [
    "# Identify unique observations from the datasets\n",
    "unique_ids = np.unique(np.concatenate([dataframes['df_0.3'].index, dataframes['df_0.8'].index, dataframes['df_1.0'].index,dataframes['df_2.0'].index, dataframes['df_3.5'].index]))\n",
    "\n",
    "# Create a DataFrame with values of 1 in the baseline column and 0 or 1 in the other columns\n",
    "final_df = pd.DataFrame(index=unique_ids, columns=['7_literals', '4_literals', '3_literals', '2_literals', '1_literal'])\n",
    "\n",
    "# Set values based on the presence of IDs in the datasets\n",
    "# final_df['Baseline'] = 1\n",
    "final_df['7_literals'] = final_df.index.isin(dataframes['df_0.3'].index).astype(int)\n",
    "final_df['4_literals'] = final_df.index.isin(dataframes['df_0.8'].index).astype(int)\n",
    "final_df['3_literals'] = final_df.index.isin(dataframes['df_1.0'].index).astype(int)\n",
    "final_df['2_literals'] = final_df.index.isin(dataframes['df_2.0'].index).astype(int)\n",
    "final_df['1_literal'] = final_df.index.isin(dataframes['df_3.5'].index).astype(int)\n",
    "\n",
    "# Display the final DataFrame\n",
    "print(final_df)"
   ]
  },
  {
   "cell_type": "code",
   "execution_count": 77,
   "metadata": {},
   "outputs": [
    {
     "name": "stdout",
     "output_type": "stream",
     "text": [
      "      8_literals  4_literals  4_literals-1  3_literals  2_literals  \\\n",
      "1              1           1             1           1           1   \n",
      "2              0           0             0           0           0   \n",
      "3              0           0             0           1           0   \n",
      "6              0           1             1           1           1   \n",
      "7              0           0             0           1           0   \n",
      "...          ...         ...           ...         ...         ...   \n",
      "1458           1           1             1           1           1   \n",
      "1459           0           1             1           0           1   \n",
      "1460           0           0             0           0           1   \n",
      "1461           0           0             0           1           0   \n",
      "1462           1           1             1           1           1   \n",
      "\n",
      "      2_literals-1  1_literal  \n",
      "1                1          1  \n",
      "2                0          1  \n",
      "3                0          0  \n",
      "6                1          1  \n",
      "7                1          0  \n",
      "...            ...        ...  \n",
      "1458             1          1  \n",
      "1459             0          1  \n",
      "1460             0          1  \n",
      "1461             1          0  \n",
      "1462             1          1  \n",
      "\n",
      "[726 rows x 7 columns]\n"
     ]
    }
   ],
   "source": [
    "# Identify unique observations from the datasets\n",
    "unique_ids = np.unique(np.concatenate([dataframes['df_0.5'].index, dataframes['df_1'].index, dataframes['df_1.5'].index,dataframes['df_2'].index, dataframes['df_2.5'].index, dataframes['df_3.5'].index, dataframes['df_10'].index,]))\n",
    "\n",
    "# Create a DataFrame with values of 1 in the baseline column and 0 or 1 in the other columns\n",
    "final_df = pd.DataFrame(index=unique_ids, columns=['8_literals', '4_literals', '4_literals-1','3_literals', '2_literals', '2_literals-1', '1_literal'])\n",
    "\n",
    "# Set values based on the presence of IDs in the datasets\n",
    "# final_df['Baseline'] = 1\n",
    "final_df['8_literals'] = final_df.index.isin(dataframes['df_0.5'].index).astype(int)\n",
    "final_df['4_literals'] = final_df.index.isin(dataframes['df_1'].index).astype(int)\n",
    "final_df['4_literals-1'] = final_df.index.isin(dataframes['df_1.5'].index).astype(int)\n",
    "final_df['3_literals'] = final_df.index.isin(dataframes['df_2'].index).astype(int)\n",
    "final_df['2_literals'] = final_df.index.isin(dataframes['df_2.5'].index).astype(int)\n",
    "final_df['2_literals-1'] = final_df.index.isin(dataframes['df_3.5'].index).astype(int)\n",
    "final_df['1_literal'] = final_df.index.isin(dataframes['df_10'].index).astype(int)\n",
    "\n",
    "# Display the final DataFrame\n",
    "print(final_df)"
   ]
  },
  {
   "cell_type": "code",
   "execution_count": 91,
   "metadata": {},
   "outputs": [
    {
     "data": {
      "text/plain": [
       "rows\n",
       "274    [0, 1, 2, 3, 4]\n",
       "275    [0, 1, 2, 3, 4]\n",
       "276    [0, 1, 2, 3, 4]\n",
       "277    [0, 1, 2, 3, 4]\n",
       "278    [0, 1, 2, 3, 4]\n",
       "dtype: object"
      ]
     },
     "execution_count": 91,
     "metadata": {},
     "output_type": "execute_result"
    }
   ],
   "source": [
    "# get coordinates where event occurs (value=1)\n",
    "row_paths, col_paths = np.where(final_df.eq(1))\n",
    "mask = pd.DataFrame(data= {'rows':row_paths, 'cols':col_paths})\n",
    "\n",
    "# aggregate by row to get application's path\n",
    "agg_mask = mask.groupby('rows').apply(lambda x: [x for x in x.cols])\n",
    "agg_mask.tail()"
   ]
  },
  {
   "cell_type": "code",
   "execution_count": 92,
   "metadata": {},
   "outputs": [
    {
     "data": {
      "text/html": [
       "<div>\n",
       "<style scoped>\n",
       "    .dataframe tbody tr th:only-of-type {\n",
       "        vertical-align: middle;\n",
       "    }\n",
       "\n",
       "    .dataframe tbody tr th {\n",
       "        vertical-align: top;\n",
       "    }\n",
       "\n",
       "    .dataframe thead th {\n",
       "        text-align: right;\n",
       "    }\n",
       "</style>\n",
       "<table border=\"1\" class=\"dataframe\">\n",
       "  <thead>\n",
       "    <tr style=\"text-align: right;\">\n",
       "      <th></th>\n",
       "      <th>source</th>\n",
       "      <th>target</th>\n",
       "      <th>value</th>\n",
       "    </tr>\n",
       "  </thead>\n",
       "  <tbody>\n",
       "    <tr>\n",
       "      <th>0</th>\n",
       "      <td>3</td>\n",
       "      <td>4</td>\n",
       "      <td>259</td>\n",
       "    </tr>\n",
       "    <tr>\n",
       "      <th>1</th>\n",
       "      <td>2</td>\n",
       "      <td>3</td>\n",
       "      <td>230</td>\n",
       "    </tr>\n",
       "    <tr>\n",
       "      <th>2</th>\n",
       "      <td>1</td>\n",
       "      <td>2</td>\n",
       "      <td>214</td>\n",
       "    </tr>\n",
       "    <tr>\n",
       "      <th>3</th>\n",
       "      <td>0</td>\n",
       "      <td>1</td>\n",
       "      <td>211</td>\n",
       "    </tr>\n",
       "  </tbody>\n",
       "</table>\n",
       "</div>"
      ],
      "text/plain": [
       "   source  target  value\n",
       "0       3       4    259\n",
       "1       2       3    230\n",
       "2       1       2    214\n",
       "3       0       1    211"
      ]
     },
     "execution_count": 92,
     "metadata": {},
     "output_type": "execute_result"
    }
   ],
   "source": [
    "all_events = []\n",
    "\n",
    "# get pair of source and target\n",
    "for row in agg_mask:\n",
    "    for index in range(len(row)-1):\n",
    "        all_events.append([row[index], row[index+1]])\n",
    "        \n",
    "# create df for aggregation        \n",
    "sankey_ST = pd.DataFrame(data=all_events)\n",
    "sankey_ST = sankey_ST.rename(columns={0:'source', 1:'target'})\n",
    "sankey_ST = sankey_ST.value_counts().reset_index()\n",
    "sankey_ST = sankey_ST.rename(columns={0:'value'})\n",
    "\n",
    "sankey_ST.head()"
   ]
  },
  {
   "cell_type": "code",
   "execution_count": 94,
   "metadata": {},
   "outputs": [
    {
     "data": {
      "application/vnd.plotly.v1+json": {
       "config": {
        "plotlyServerURL": "https://plot.ly"
       },
       "data": [
        {
         "link": {
          "source": [
           3,
           2,
           1,
           0
          ],
          "target": [
           4,
           3,
           2,
           1
          ],
          "value": [
           259,
           230,
           214,
           211
          ]
         },
         "node": {
          "label": [
           "7_literals: 211",
           "4_literals: 214",
           "3_literals: 230",
           "2_literals: 259",
           "1_literal: 279"
          ],
          "pad": 15,
          "thickness": 20
         },
         "textfont": {
          "size": 12
         },
         "type": "sankey"
        }
       ],
       "layout": {
        "font": {
         "size": 10
        },
        "template": {
         "data": {
          "bar": [
           {
            "error_x": {
             "color": "#2a3f5f"
            },
            "error_y": {
             "color": "#2a3f5f"
            },
            "marker": {
             "line": {
              "color": "#E5ECF6",
              "width": 0.5
             },
             "pattern": {
              "fillmode": "overlay",
              "size": 10,
              "solidity": 0.2
             }
            },
            "type": "bar"
           }
          ],
          "barpolar": [
           {
            "marker": {
             "line": {
              "color": "#E5ECF6",
              "width": 0.5
             },
             "pattern": {
              "fillmode": "overlay",
              "size": 10,
              "solidity": 0.2
             }
            },
            "type": "barpolar"
           }
          ],
          "carpet": [
           {
            "aaxis": {
             "endlinecolor": "#2a3f5f",
             "gridcolor": "white",
             "linecolor": "white",
             "minorgridcolor": "white",
             "startlinecolor": "#2a3f5f"
            },
            "baxis": {
             "endlinecolor": "#2a3f5f",
             "gridcolor": "white",
             "linecolor": "white",
             "minorgridcolor": "white",
             "startlinecolor": "#2a3f5f"
            },
            "type": "carpet"
           }
          ],
          "choropleth": [
           {
            "colorbar": {
             "outlinewidth": 0,
             "ticks": ""
            },
            "type": "choropleth"
           }
          ],
          "contour": [
           {
            "colorbar": {
             "outlinewidth": 0,
             "ticks": ""
            },
            "colorscale": [
             [
              0,
              "#0d0887"
             ],
             [
              0.1111111111111111,
              "#46039f"
             ],
             [
              0.2222222222222222,
              "#7201a8"
             ],
             [
              0.3333333333333333,
              "#9c179e"
             ],
             [
              0.4444444444444444,
              "#bd3786"
             ],
             [
              0.5555555555555556,
              "#d8576b"
             ],
             [
              0.6666666666666666,
              "#ed7953"
             ],
             [
              0.7777777777777778,
              "#fb9f3a"
             ],
             [
              0.8888888888888888,
              "#fdca26"
             ],
             [
              1,
              "#f0f921"
             ]
            ],
            "type": "contour"
           }
          ],
          "contourcarpet": [
           {
            "colorbar": {
             "outlinewidth": 0,
             "ticks": ""
            },
            "type": "contourcarpet"
           }
          ],
          "heatmap": [
           {
            "colorbar": {
             "outlinewidth": 0,
             "ticks": ""
            },
            "colorscale": [
             [
              0,
              "#0d0887"
             ],
             [
              0.1111111111111111,
              "#46039f"
             ],
             [
              0.2222222222222222,
              "#7201a8"
             ],
             [
              0.3333333333333333,
              "#9c179e"
             ],
             [
              0.4444444444444444,
              "#bd3786"
             ],
             [
              0.5555555555555556,
              "#d8576b"
             ],
             [
              0.6666666666666666,
              "#ed7953"
             ],
             [
              0.7777777777777778,
              "#fb9f3a"
             ],
             [
              0.8888888888888888,
              "#fdca26"
             ],
             [
              1,
              "#f0f921"
             ]
            ],
            "type": "heatmap"
           }
          ],
          "heatmapgl": [
           {
            "colorbar": {
             "outlinewidth": 0,
             "ticks": ""
            },
            "colorscale": [
             [
              0,
              "#0d0887"
             ],
             [
              0.1111111111111111,
              "#46039f"
             ],
             [
              0.2222222222222222,
              "#7201a8"
             ],
             [
              0.3333333333333333,
              "#9c179e"
             ],
             [
              0.4444444444444444,
              "#bd3786"
             ],
             [
              0.5555555555555556,
              "#d8576b"
             ],
             [
              0.6666666666666666,
              "#ed7953"
             ],
             [
              0.7777777777777778,
              "#fb9f3a"
             ],
             [
              0.8888888888888888,
              "#fdca26"
             ],
             [
              1,
              "#f0f921"
             ]
            ],
            "type": "heatmapgl"
           }
          ],
          "histogram": [
           {
            "marker": {
             "pattern": {
              "fillmode": "overlay",
              "size": 10,
              "solidity": 0.2
             }
            },
            "type": "histogram"
           }
          ],
          "histogram2d": [
           {
            "colorbar": {
             "outlinewidth": 0,
             "ticks": ""
            },
            "colorscale": [
             [
              0,
              "#0d0887"
             ],
             [
              0.1111111111111111,
              "#46039f"
             ],
             [
              0.2222222222222222,
              "#7201a8"
             ],
             [
              0.3333333333333333,
              "#9c179e"
             ],
             [
              0.4444444444444444,
              "#bd3786"
             ],
             [
              0.5555555555555556,
              "#d8576b"
             ],
             [
              0.6666666666666666,
              "#ed7953"
             ],
             [
              0.7777777777777778,
              "#fb9f3a"
             ],
             [
              0.8888888888888888,
              "#fdca26"
             ],
             [
              1,
              "#f0f921"
             ]
            ],
            "type": "histogram2d"
           }
          ],
          "histogram2dcontour": [
           {
            "colorbar": {
             "outlinewidth": 0,
             "ticks": ""
            },
            "colorscale": [
             [
              0,
              "#0d0887"
             ],
             [
              0.1111111111111111,
              "#46039f"
             ],
             [
              0.2222222222222222,
              "#7201a8"
             ],
             [
              0.3333333333333333,
              "#9c179e"
             ],
             [
              0.4444444444444444,
              "#bd3786"
             ],
             [
              0.5555555555555556,
              "#d8576b"
             ],
             [
              0.6666666666666666,
              "#ed7953"
             ],
             [
              0.7777777777777778,
              "#fb9f3a"
             ],
             [
              0.8888888888888888,
              "#fdca26"
             ],
             [
              1,
              "#f0f921"
             ]
            ],
            "type": "histogram2dcontour"
           }
          ],
          "mesh3d": [
           {
            "colorbar": {
             "outlinewidth": 0,
             "ticks": ""
            },
            "type": "mesh3d"
           }
          ],
          "parcoords": [
           {
            "line": {
             "colorbar": {
              "outlinewidth": 0,
              "ticks": ""
             }
            },
            "type": "parcoords"
           }
          ],
          "pie": [
           {
            "automargin": true,
            "type": "pie"
           }
          ],
          "scatter": [
           {
            "fillpattern": {
             "fillmode": "overlay",
             "size": 10,
             "solidity": 0.2
            },
            "type": "scatter"
           }
          ],
          "scatter3d": [
           {
            "line": {
             "colorbar": {
              "outlinewidth": 0,
              "ticks": ""
             }
            },
            "marker": {
             "colorbar": {
              "outlinewidth": 0,
              "ticks": ""
             }
            },
            "type": "scatter3d"
           }
          ],
          "scattercarpet": [
           {
            "marker": {
             "colorbar": {
              "outlinewidth": 0,
              "ticks": ""
             }
            },
            "type": "scattercarpet"
           }
          ],
          "scattergeo": [
           {
            "marker": {
             "colorbar": {
              "outlinewidth": 0,
              "ticks": ""
             }
            },
            "type": "scattergeo"
           }
          ],
          "scattergl": [
           {
            "marker": {
             "colorbar": {
              "outlinewidth": 0,
              "ticks": ""
             }
            },
            "type": "scattergl"
           }
          ],
          "scattermapbox": [
           {
            "marker": {
             "colorbar": {
              "outlinewidth": 0,
              "ticks": ""
             }
            },
            "type": "scattermapbox"
           }
          ],
          "scatterpolar": [
           {
            "marker": {
             "colorbar": {
              "outlinewidth": 0,
              "ticks": ""
             }
            },
            "type": "scatterpolar"
           }
          ],
          "scatterpolargl": [
           {
            "marker": {
             "colorbar": {
              "outlinewidth": 0,
              "ticks": ""
             }
            },
            "type": "scatterpolargl"
           }
          ],
          "scatterternary": [
           {
            "marker": {
             "colorbar": {
              "outlinewidth": 0,
              "ticks": ""
             }
            },
            "type": "scatterternary"
           }
          ],
          "surface": [
           {
            "colorbar": {
             "outlinewidth": 0,
             "ticks": ""
            },
            "colorscale": [
             [
              0,
              "#0d0887"
             ],
             [
              0.1111111111111111,
              "#46039f"
             ],
             [
              0.2222222222222222,
              "#7201a8"
             ],
             [
              0.3333333333333333,
              "#9c179e"
             ],
             [
              0.4444444444444444,
              "#bd3786"
             ],
             [
              0.5555555555555556,
              "#d8576b"
             ],
             [
              0.6666666666666666,
              "#ed7953"
             ],
             [
              0.7777777777777778,
              "#fb9f3a"
             ],
             [
              0.8888888888888888,
              "#fdca26"
             ],
             [
              1,
              "#f0f921"
             ]
            ],
            "type": "surface"
           }
          ],
          "table": [
           {
            "cells": {
             "fill": {
              "color": "#EBF0F8"
             },
             "line": {
              "color": "white"
             }
            },
            "header": {
             "fill": {
              "color": "#C8D4E3"
             },
             "line": {
              "color": "white"
             }
            },
            "type": "table"
           }
          ]
         },
         "layout": {
          "annotationdefaults": {
           "arrowcolor": "#2a3f5f",
           "arrowhead": 0,
           "arrowwidth": 1
          },
          "autotypenumbers": "strict",
          "coloraxis": {
           "colorbar": {
            "outlinewidth": 0,
            "ticks": ""
           }
          },
          "colorscale": {
           "diverging": [
            [
             0,
             "#8e0152"
            ],
            [
             0.1,
             "#c51b7d"
            ],
            [
             0.2,
             "#de77ae"
            ],
            [
             0.3,
             "#f1b6da"
            ],
            [
             0.4,
             "#fde0ef"
            ],
            [
             0.5,
             "#f7f7f7"
            ],
            [
             0.6,
             "#e6f5d0"
            ],
            [
             0.7,
             "#b8e186"
            ],
            [
             0.8,
             "#7fbc41"
            ],
            [
             0.9,
             "#4d9221"
            ],
            [
             1,
             "#276419"
            ]
           ],
           "sequential": [
            [
             0,
             "#0d0887"
            ],
            [
             0.1111111111111111,
             "#46039f"
            ],
            [
             0.2222222222222222,
             "#7201a8"
            ],
            [
             0.3333333333333333,
             "#9c179e"
            ],
            [
             0.4444444444444444,
             "#bd3786"
            ],
            [
             0.5555555555555556,
             "#d8576b"
            ],
            [
             0.6666666666666666,
             "#ed7953"
            ],
            [
             0.7777777777777778,
             "#fb9f3a"
            ],
            [
             0.8888888888888888,
             "#fdca26"
            ],
            [
             1,
             "#f0f921"
            ]
           ],
           "sequentialminus": [
            [
             0,
             "#0d0887"
            ],
            [
             0.1111111111111111,
             "#46039f"
            ],
            [
             0.2222222222222222,
             "#7201a8"
            ],
            [
             0.3333333333333333,
             "#9c179e"
            ],
            [
             0.4444444444444444,
             "#bd3786"
            ],
            [
             0.5555555555555556,
             "#d8576b"
            ],
            [
             0.6666666666666666,
             "#ed7953"
            ],
            [
             0.7777777777777778,
             "#fb9f3a"
            ],
            [
             0.8888888888888888,
             "#fdca26"
            ],
            [
             1,
             "#f0f921"
            ]
           ]
          },
          "colorway": [
           "#636efa",
           "#EF553B",
           "#00cc96",
           "#ab63fa",
           "#FFA15A",
           "#19d3f3",
           "#FF6692",
           "#B6E880",
           "#FF97FF",
           "#FECB52"
          ],
          "font": {
           "color": "#2a3f5f"
          },
          "geo": {
           "bgcolor": "white",
           "lakecolor": "white",
           "landcolor": "#E5ECF6",
           "showlakes": true,
           "showland": true,
           "subunitcolor": "white"
          },
          "hoverlabel": {
           "align": "left"
          },
          "hovermode": "closest",
          "mapbox": {
           "style": "light"
          },
          "paper_bgcolor": "white",
          "plot_bgcolor": "#E5ECF6",
          "polar": {
           "angularaxis": {
            "gridcolor": "white",
            "linecolor": "white",
            "ticks": ""
           },
           "bgcolor": "#E5ECF6",
           "radialaxis": {
            "gridcolor": "white",
            "linecolor": "white",
            "ticks": ""
           }
          },
          "scene": {
           "xaxis": {
            "backgroundcolor": "#E5ECF6",
            "gridcolor": "white",
            "gridwidth": 2,
            "linecolor": "white",
            "showbackground": true,
            "ticks": "",
            "zerolinecolor": "white"
           },
           "yaxis": {
            "backgroundcolor": "#E5ECF6",
            "gridcolor": "white",
            "gridwidth": 2,
            "linecolor": "white",
            "showbackground": true,
            "ticks": "",
            "zerolinecolor": "white"
           },
           "zaxis": {
            "backgroundcolor": "#E5ECF6",
            "gridcolor": "white",
            "gridwidth": 2,
            "linecolor": "white",
            "showbackground": true,
            "ticks": "",
            "zerolinecolor": "white"
           }
          },
          "shapedefaults": {
           "line": {
            "color": "#2a3f5f"
           }
          },
          "ternary": {
           "aaxis": {
            "gridcolor": "white",
            "linecolor": "white",
            "ticks": ""
           },
           "baxis": {
            "gridcolor": "white",
            "linecolor": "white",
            "ticks": ""
           },
           "bgcolor": "#E5ECF6",
           "caxis": {
            "gridcolor": "white",
            "linecolor": "white",
            "ticks": ""
           }
          },
          "title": {
           "x": 0.05
          },
          "xaxis": {
           "automargin": true,
           "gridcolor": "white",
           "linecolor": "white",
           "ticks": "",
           "title": {
            "standoff": 15
           },
           "zerolinecolor": "white",
           "zerolinewidth": 2
          },
          "yaxis": {
           "automargin": true,
           "gridcolor": "white",
           "linecolor": "white",
           "ticks": "",
           "title": {
            "standoff": 15
           },
           "zerolinecolor": "white",
           "zerolinewidth": 2
          }
         }
        },
        "title": {
         "text": "Sankey plot for flow of literals for high risk MM in Agincourt"
        }
       }
      }
     },
     "metadata": {},
     "output_type": "display_data"
    }
   ],
   "source": [
    "import plotly.graph_objects as go\n",
    "fig = go.Figure(data=[go.Sankey(\n",
    "    node = dict(\n",
    "        pad = 15,\n",
    "        thickness = 20,\n",
    "        label = [f'{x}: {final_df[x].sum()}' for x in final_df.columns]\n",
    "    ),\n",
    "    link=dict(\n",
    "        source = sankey_ST['source'],\n",
    "        target = sankey_ST['target'],\n",
    "        value = sankey_ST['value']\n",
    "    ),\n",
    ")])\n",
    "\n",
    "\n",
    "fig.update_layout(title_text='Sankey plot for flow of literals for high risk MM in Agincourt', font_size=10)\n",
    "fig.update_traces(textfont_size=12)\n",
    "fig.show()"
   ]
  },
  {
   "cell_type": "code",
   "execution_count": null,
   "metadata": {},
   "outputs": [],
   "source": [
    "\n",
    "# One-hot encode the 'MorbidityCount' column\n",
    "dff_encoded = pd.get_dummies(dff['MorbidityCount'], columns=['MorbidityCount'], prefix='DC')\n",
    "\n",
    "dff_encoded"
   ]
  },
  {
   "cell_type": "code",
   "execution_count": 87,
   "metadata": {},
   "outputs": [],
   "source": [
    "D_counts = dff_encoded.mask(dff_encoded == 1, np.nan)"
   ]
  },
  {
   "cell_type": "code",
   "execution_count": 88,
   "metadata": {},
   "outputs": [
    {
     "data": {
      "text/plain": [
       "{'matrix': <Axes: >,\n",
       " 'shading': <Axes: >,\n",
       " 'totals': <Axes: >,\n",
       " 'intersections': <Axes: ylabel='Intersection size'>}"
      ]
     },
     "execution_count": 88,
     "metadata": {},
     "output_type": "execute_result"
    },
    {
     "data": {
      "image/png": "[encoded data removed]",
      "text/plain": [
       "<Figure size 444.444x488.889 with 4 Axes>"
      ]
     },
     "metadata": {},
     "output_type": "display_data"
    }
   ],
   "source": [
    "from upsetplot import UpSet, plot, from_indicators\n",
    "from upsetplot import from_contents\n",
    "# angpain.values\n",
    "\n",
    "# ang1 = angpain.set_index(angpain.pain_qc == True).set_index(angpain.pain2_qc == 1, append=True).set_index(angpain.pain_location_12_qc == 1, append=True)\n",
    "# UpSet(ang1)\n",
    "upset = UpSet(from_indicators(pd.isna, data=D_counts.iloc[:,0:]), sort_by= 'cardinality', max_subset_size=1000, show_percentages=True)\n",
    "# upset.style_subsets(present=[\"diabetes_status_c_phase1\"],\n",
    "#                     absent=['hypertension_status_c_phase1', 'ckd_c_phase1', 'cvd_status_phase1'],\n",
    "#                     facecolor=\"orange\",\n",
    "#                     label=\"single counts\")\n",
    "# upset.style_subsets(present=[\"hypertension_status_c_phase1\"],\n",
    "#                     absent=['diabetes_status_c_phase1', 'ckd_c_phase1', 'cvd_status_phase1'],\n",
    "#                     facecolor=\"orange\",\n",
    "#                     label=\"single counts\")\n",
    "# upset.style_subsets(present=[\"ckd_c_phase1\"],\n",
    "#                     absent=['hypertension_status_c_phase1', 'diabetes_status_c_phase1', 'cvd_status_phase1'],\n",
    "#                     facecolor=\"orange\",\n",
    "#                     label=\"single counts\")\n",
    "upset.plot()\n",
    "# upsetplot.query(ang1)\n",
    "# upset = UpSet(angpain,element_size=32)"
   ]
  },
  {
   "cell_type": "code",
   "execution_count": 81,
   "metadata": {},
   "outputs": [],
   "source": [
    "ang1_up = final_df.mask(final_df == 1, np.nan)"
   ]
  },
  {
   "cell_type": "code",
   "execution_count": null,
   "metadata": {},
   "outputs": [],
   "source": []
  },
  {
   "cell_type": "code",
   "execution_count": 82,
   "metadata": {},
   "outputs": [
    {
     "data": {
      "text/plain": [
       "<upsetplot.plotting.UpSet at 0x7fe34811c4c0>"
      ]
     },
     "execution_count": 82,
     "metadata": {},
     "output_type": "execute_result"
    },
    {
     "data": {
      "image/png": "[encoded data removed]",
      "text/plain": [
       "<Figure size 1555.56x577.778 with 4 Axes>"
      ]
     },
     "metadata": {},
     "output_type": "display_data"
    }
   ],
   "source": [
    "import upsetplot\n",
    "from upsetplot import UpSet, plot, from_indicators\n",
    "from upsetplot import from_contents\n",
    "# angpain.values\n",
    "\n",
    "# ang1 = angpain.set_index(angpain.pain_qc == True).set_index(angpain.pain2_qc == 1, append=True).set_index(angpain.pain_location_12_qc == 1, append=True)\n",
    "# UpSet(ang1)\n",
    "UpSet(from_indicators(pd.isna, data=ang1_up.iloc[:,0:]), show_counts=True, sort_by= 'cardinality', max_subset_size=1000, facecolor='dimgrey')\n"
   ]
  },
  {
   "cell_type": "code",
   "execution_count": 70,
   "metadata": {},
   "outputs": [
    {
     "data": {
      "text/plain": [
       "{'matrix': <Axes: >,\n",
       " 'shading': <Axes: >,\n",
       " 'totals': <Axes: >,\n",
       " 'intersections': <Axes: ylabel='Intersection size'>}"
      ]
     },
     "execution_count": 70,
     "metadata": {},
     "output_type": "execute_result"
    },
    {
     "data": {
      "image/png": "[encoded data removed]",
      "text/plain": [
       "<Figure size 444.444x400 with 4 Axes>"
      ]
     },
     "metadata": {},
     "output_type": "display_data"
    }
   ],
   "source": [
    "upset = UpSet(from_indicators(pd.isna, data=ang1_up.iloc[:,0:]), show_counts=True, max_subset_size=2000, sort_by='cardinality', facecolor='dimgrey')\n",
    "upset.style_subsets(present=[\"1_literal\"],\n",
    "                    absent=['2_literals', '3_literals'],\n",
    "                    facecolor=\"khaki\",\n",
    "                    # label=\"1 literals\"\n",
    "                    )\n",
    "upset.style_subsets(present=[\"2_literals\"],\n",
    "                    absent=['1_literal', '3_literals'],\n",
    "                    facecolor=\"khaki\",\n",
    "                    label=\"Dis. Literals\"\n",
    "                    )\n",
    "upset.style_subsets(present=[\"3_literals\"],\n",
    "                    absent=['1_literal', '2_literals'],\n",
    "                    facecolor=\"khaki\",\n",
    "                    # label=\"2 literals\"\n",
    "                    )\n",
    "upset.plot()"
   ]
  },
  {
   "cell_type": "code",
   "execution_count": null,
   "metadata": {},
   "outputs": [],
   "source": [
    "# %%time\n",
    "# Scan in the positive direction using defined penalties and num iters\n",
    "\n",
    "scoring_function = Poisson(direction='negative')\n",
    "scanner = MDSS(scoring_function)\n",
    "# Define a list of penalty values to loop through\n",
    "penalty_values = [0.5, 1, 1.5, 2, 2.5, 3, 3.5, 4, 4.5, 5]\n",
    "# penalty_values = [0.5, 0.8, 1.0, 1.3, 1.5]\n",
    "num_iters = 5\n",
    "# Initialize empty lists to store results\n",
    "subset_results = []\n",
    "subset_results1 = []\n",
    "score_results = []\n",
    "size_results = []\n",
    "IDR_results = []\n",
    "count_results = []\n",
    "z_scores = []\n",
    "p_values = []\n",
    "disease_counts = []\n",
    "size_percent = []\n",
    "dataframes = {}\n",
    "\n",
    "# Loop through each penalty value\n",
    "for penalty in penalty_values:\n",
    "    # Perform the scan with the current penalty value\n",
    "    subset, score = scanner.scan(dff_2[search_space], dff_2['MorbidityCount'], dff_2['expectationPoisson'], cpu=0.95,\n",
    "                                 penalty=penalty, num_iters=num_iters, contiguous=contiguous.copy())\n",
    "    \n",
    "    to_choose = dff_2[subset.keys()].isin(subset).all(axis=1)\n",
    "    temp_df = dff_2.loc[to_choose]\n",
    "    size = len(temp_df)\n",
    "\n",
    "    # Store each DataFrame in the dictionary with a unique key\n",
    "    dataframes[f'df_{penalty}'] = temp_df\n",
    "\n",
    "    # \n",
    "    expected_risk_subset = temp_df['MorbidityCount'].mean()\n",
    "    expected_risk = dff_2['MorbidityCount'].mean()  \n",
    "    # Total person-time at risk\n",
    "    total_person_time_subset = len(temp_df) * expected_risk_subset\n",
    "    total_person_time = len(dff_2) * expected_risk\n",
    "\n",
    "    # Total number of events (sum of counts)\n",
    "    total_events_subset = temp_df['MorbidityCount'].sum()\n",
    "    total_events = dff_2['MorbidityCount'].sum()\n",
    "\n",
    "    # Calculating incidence density\n",
    "    # incidence_density_subset = total_events_subset / total_person_time_subset\n",
    "    # incidence_density = total_events / total_person_time\n",
    "    incidence_density_subset = total_events_subset / expected_risk_subset\n",
    "    incidence_density = total_events / expected_risk\n",
    "\n",
    "    #Calc IDR\n",
    "    IDR = incidence_density_subset/incidence_density\n",
    "    # IDR = expected_risk_subset/expected_risk\n",
    "\n",
    "    # Calculate Log-IDR and its standard error\n",
    "    log_IDR = np.log(IDR)\n",
    "    SE_log_IDR = np.sqrt((1/total_events_subset) + (1/total_events))\n",
    "\n",
    "    # Calculate 95% Confidence Interval for Log-IDR\n",
    "    CI_lower_log = log_IDR - 1.96 * SE_log_IDR\n",
    "    CI_upper_log = log_IDR + 1.96 * SE_log_IDR\n",
    "\n",
    "    # Transform the CI back to the original scale\n",
    "    CI_lower = np.exp(CI_lower_log)\n",
    "    CI_upper = np.exp(CI_upper_log)\n",
    "\n",
    "    # Z-test for significance\n",
    "    Z_score = log_IDR / SE_log_IDR\n",
    "    # Two-tail test\n",
    "    p_value = stats.norm.sf(abs(Z_score)) * 2 \n",
    "\n",
    "\n",
    "\n",
    "    counting = count_conditions(translate_subset_to_rule(compress_contiguous(subset, contiguous)))\n",
    "    \n",
    "    # Append the results to the respective lists\n",
    "\n",
    "    # subset_results.append(subset)\n",
    "    score_results.append(np.round(score, 3))\n",
    "    size_percent.append(np.round((len(temp_df)/len(dff_2)*100),2))\n",
    "    size_results.append(size)\n",
    "    IDR_results.append(np.round(IDR, 3))\n",
    "    subset_results1.append(translate_subset_to_rule(compress_contiguous(subset, contiguous)))\n",
    "    count_results.append(counting)\n",
    "    z_scores.append(z_score)\n",
    "    p_values.append(p_value)\n",
    "    disease_counts.append(total_events_subset)\n",
    "\n",
    "# Display the results for each penalty value\n",
    "for i, penalty in enumerate(penalty_values):\n",
    "    for i, penalty in enumerate(penalty_values):\n",
    "        print(f\"Penalty = {penalty}: Subset = {subset_results1[i]}, \\nLiteralsNumber = {count_results[i]}, \\nSize = {size_results[i]}, \\\n",
    "            IDR = {IDR_results[i]}, Score = {score_results[i]}, Z_score = {z_scores[i]}, Disease_counts = {disease_counts[i]}, \\\n",
    "            Size_percent = {size_percent[i]},P_value = {p_values[i]}\")"
   ]
  },
  {
   "cell_type": "code",
   "execution_count": 41,
   "metadata": {},
   "outputs": [],
   "source": [
    "from mdss.ScoringFunctions.BerkJones import BerkJones\n",
    "temperature = pd.read_csv('https://raw.githubusercontent.com/Adebayo-Oshingbesan/data/main/weatherHistory.csv')\n"
   ]
  },
  {
   "cell_type": "code",
   "execution_count": 43,
   "metadata": {},
   "outputs": [],
   "source": [
    "\n",
    "for col in ['Humidity','WindSpeed','Visibility','Pressure']:\n",
    "        temperature[col] = pd.qcut(temperature[col], 10, duplicates='drop')\n",
    "        temperature[col] = temperature[col].apply(lambda x: str(round(x.left, 2)) + ' - ' + str(round(x.right,2)))\n"
   ]
  },
  {
   "cell_type": "code",
   "execution_count": 44,
   "metadata": {},
   "outputs": [
    {
     "data": {
      "text/html": [
       "<div>\n",
       "<style scoped>\n",
       "    .dataframe tbody tr th:only-of-type {\n",
       "        vertical-align: middle;\n",
       "    }\n",
       "\n",
       "    .dataframe tbody tr th {\n",
       "        vertical-align: top;\n",
       "    }\n",
       "\n",
       "    .dataframe thead th {\n",
       "        text-align: right;\n",
       "    }\n",
       "</style>\n",
       "<table border=\"1\" class=\"dataframe\">\n",
       "  <thead>\n",
       "    <tr style=\"text-align: right;\">\n",
       "      <th></th>\n",
       "      <th>Summary</th>\n",
       "      <th>PrecipType</th>\n",
       "      <th>Humidity</th>\n",
       "      <th>WindSpeed</th>\n",
       "      <th>Visibility</th>\n",
       "      <th>Pressure</th>\n",
       "      <th>DailySummary</th>\n",
       "      <th>Temperature</th>\n",
       "    </tr>\n",
       "  </thead>\n",
       "  <tbody>\n",
       "    <tr>\n",
       "      <th>0</th>\n",
       "      <td>Partly Cloudy</td>\n",
       "      <td>rain</td>\n",
       "      <td>0.87 - 0.92</td>\n",
       "      <td>13.14 - 15.47</td>\n",
       "      <td>15.15 - 15.83</td>\n",
       "      <td>1014.8 - 1016.45</td>\n",
       "      <td>Partly cloudy throughout the day.</td>\n",
       "      <td>9.472222</td>\n",
       "    </tr>\n",
       "    <tr>\n",
       "      <th>1</th>\n",
       "      <td>Partly Cloudy</td>\n",
       "      <td>rain</td>\n",
       "      <td>0.83 - 0.87</td>\n",
       "      <td>13.14 - 15.47</td>\n",
       "      <td>15.15 - 15.83</td>\n",
       "      <td>1014.8 - 1016.45</td>\n",
       "      <td>Partly cloudy throughout the day.</td>\n",
       "      <td>9.355556</td>\n",
       "    </tr>\n",
       "    <tr>\n",
       "      <th>2</th>\n",
       "      <td>Mostly Cloudy</td>\n",
       "      <td>rain</td>\n",
       "      <td>0.87 - 0.92</td>\n",
       "      <td>3.2 - 4.7</td>\n",
       "      <td>11.45 - 15.15</td>\n",
       "      <td>1014.8 - 1016.45</td>\n",
       "      <td>Partly cloudy throughout the day.</td>\n",
       "      <td>9.377778</td>\n",
       "    </tr>\n",
       "    <tr>\n",
       "      <th>3</th>\n",
       "      <td>Partly Cloudy</td>\n",
       "      <td>rain</td>\n",
       "      <td>0.78 - 0.83</td>\n",
       "      <td>13.14 - 15.47</td>\n",
       "      <td>15.15 - 15.83</td>\n",
       "      <td>1014.8 - 1016.45</td>\n",
       "      <td>Partly cloudy throughout the day.</td>\n",
       "      <td>8.288889</td>\n",
       "    </tr>\n",
       "    <tr>\n",
       "      <th>4</th>\n",
       "      <td>Mostly Cloudy</td>\n",
       "      <td>rain</td>\n",
       "      <td>0.78 - 0.83</td>\n",
       "      <td>9.97 - 11.21</td>\n",
       "      <td>15.15 - 15.83</td>\n",
       "      <td>1016.45 - 1018.17</td>\n",
       "      <td>Partly cloudy throughout the day.</td>\n",
       "      <td>8.755556</td>\n",
       "    </tr>\n",
       "    <tr>\n",
       "      <th>...</th>\n",
       "      <td>...</td>\n",
       "      <td>...</td>\n",
       "      <td>...</td>\n",
       "      <td>...</td>\n",
       "      <td>...</td>\n",
       "      <td>...</td>\n",
       "      <td>...</td>\n",
       "      <td>...</td>\n",
       "    </tr>\n",
       "    <tr>\n",
       "      <th>96448</th>\n",
       "      <td>Partly Cloudy</td>\n",
       "      <td>rain</td>\n",
       "      <td>-0.0 - 0.43</td>\n",
       "      <td>9.97 - 11.21</td>\n",
       "      <td>15.83 - 16.1</td>\n",
       "      <td>1012.95 - 1014.8</td>\n",
       "      <td>Partly cloudy starting in the morning.</td>\n",
       "      <td>26.016667</td>\n",
       "    </tr>\n",
       "    <tr>\n",
       "      <th>96449</th>\n",
       "      <td>Partly Cloudy</td>\n",
       "      <td>rain</td>\n",
       "      <td>0.43 - 0.55</td>\n",
       "      <td>9.97 - 11.21</td>\n",
       "      <td>15.15 - 15.83</td>\n",
       "      <td>1014.8 - 1016.45</td>\n",
       "      <td>Partly cloudy starting in the morning.</td>\n",
       "      <td>24.583333</td>\n",
       "    </tr>\n",
       "    <tr>\n",
       "      <th>96450</th>\n",
       "      <td>Partly Cloudy</td>\n",
       "      <td>rain</td>\n",
       "      <td>0.55 - 0.65</td>\n",
       "      <td>8.1 - 9.97</td>\n",
       "      <td>15.83 - 16.1</td>\n",
       "      <td>1014.8 - 1016.45</td>\n",
       "      <td>Partly cloudy starting in the morning.</td>\n",
       "      <td>22.038889</td>\n",
       "    </tr>\n",
       "    <tr>\n",
       "      <th>96451</th>\n",
       "      <td>Partly Cloudy</td>\n",
       "      <td>rain</td>\n",
       "      <td>0.55 - 0.65</td>\n",
       "      <td>9.97 - 11.21</td>\n",
       "      <td>15.83 - 16.1</td>\n",
       "      <td>1014.8 - 1016.45</td>\n",
       "      <td>Partly cloudy starting in the morning.</td>\n",
       "      <td>21.522222</td>\n",
       "    </tr>\n",
       "    <tr>\n",
       "      <th>96452</th>\n",
       "      <td>Partly Cloudy</td>\n",
       "      <td>rain</td>\n",
       "      <td>0.55 - 0.65</td>\n",
       "      <td>4.7 - 6.44</td>\n",
       "      <td>15.15 - 15.83</td>\n",
       "      <td>1014.8 - 1016.45</td>\n",
       "      <td>Partly cloudy starting in the morning.</td>\n",
       "      <td>20.438889</td>\n",
       "    </tr>\n",
       "  </tbody>\n",
       "</table>\n",
       "<p>96453 rows × 8 columns</p>\n",
       "</div>"
      ],
      "text/plain": [
       "             Summary PrecipType     Humidity      WindSpeed     Visibility  \\\n",
       "0      Partly Cloudy       rain  0.87 - 0.92  13.14 - 15.47  15.15 - 15.83   \n",
       "1      Partly Cloudy       rain  0.83 - 0.87  13.14 - 15.47  15.15 - 15.83   \n",
       "2      Mostly Cloudy       rain  0.87 - 0.92      3.2 - 4.7  11.45 - 15.15   \n",
       "3      Partly Cloudy       rain  0.78 - 0.83  13.14 - 15.47  15.15 - 15.83   \n",
       "4      Mostly Cloudy       rain  0.78 - 0.83   9.97 - 11.21  15.15 - 15.83   \n",
       "...              ...        ...          ...            ...            ...   \n",
       "96448  Partly Cloudy       rain  -0.0 - 0.43   9.97 - 11.21   15.83 - 16.1   \n",
       "96449  Partly Cloudy       rain  0.43 - 0.55   9.97 - 11.21  15.15 - 15.83   \n",
       "96450  Partly Cloudy       rain  0.55 - 0.65     8.1 - 9.97   15.83 - 16.1   \n",
       "96451  Partly Cloudy       rain  0.55 - 0.65   9.97 - 11.21   15.83 - 16.1   \n",
       "96452  Partly Cloudy       rain  0.55 - 0.65     4.7 - 6.44  15.15 - 15.83   \n",
       "\n",
       "                Pressure                            DailySummary  Temperature  \n",
       "0       1014.8 - 1016.45       Partly cloudy throughout the day.     9.472222  \n",
       "1       1014.8 - 1016.45       Partly cloudy throughout the day.     9.355556  \n",
       "2       1014.8 - 1016.45       Partly cloudy throughout the day.     9.377778  \n",
       "3       1014.8 - 1016.45       Partly cloudy throughout the day.     8.288889  \n",
       "4      1016.45 - 1018.17       Partly cloudy throughout the day.     8.755556  \n",
       "...                  ...                                     ...          ...  \n",
       "96448   1012.95 - 1014.8  Partly cloudy starting in the morning.    26.016667  \n",
       "96449   1014.8 - 1016.45  Partly cloudy starting in the morning.    24.583333  \n",
       "96450   1014.8 - 1016.45  Partly cloudy starting in the morning.    22.038889  \n",
       "96451   1014.8 - 1016.45  Partly cloudy starting in the morning.    21.522222  \n",
       "96452   1014.8 - 1016.45  Partly cloudy starting in the morning.    20.438889  \n",
       "\n",
       "[96453 rows x 8 columns]"
      ]
     },
     "execution_count": 44,
     "metadata": {},
     "output_type": "execute_result"
    }
   ],
   "source": [
    "temperature"
   ]
  },
  {
   "cell_type": "code",
   "execution_count": null,
   "metadata": {},
   "outputs": [],
   "source": [
    "\n",
    "temperature['observed'] = (temperature['Temperature'] <= 0).astype(int)\n",
    "temperature = temperature.drop(columns=['Temperature'])\n",
    "temperature['expectation'] = temperature['observed'].mean()\n",
    "\n",
    "temperature.head()"
   ]
  },
  {
   "cell_type": "code",
   "execution_count": 31,
   "metadata": {},
   "outputs": [
    {
     "data": {
      "text/plain": [
       "0    85741\n",
       "1    10712\n",
       "Name: observed, dtype: int64"
      ]
     },
     "execution_count": 31,
     "metadata": {},
     "output_type": "execute_result"
    }
   ],
   "source": [
    "temperature['observed'].value_counts()"
   ]
  },
  {
   "cell_type": "code",
   "execution_count": 32,
   "metadata": {},
   "outputs": [
    {
     "data": {
      "text/plain": [
       "0        0.111059\n",
       "1        0.111059\n",
       "2        0.111059\n",
       "3        0.111059\n",
       "4        0.111059\n",
       "           ...   \n",
       "96448    0.111059\n",
       "96449    0.111059\n",
       "96450    0.111059\n",
       "96451    0.111059\n",
       "96452    0.111059\n",
       "Name: expectation, Length: 96453, dtype: float64"
      ]
     },
     "execution_count": 32,
     "metadata": {},
     "output_type": "execute_result"
    }
   ],
   "source": [
    "temperature['expectation']"
   ]
  },
  {
   "cell_type": "code",
   "execution_count": null,
   "metadata": {},
   "outputs": [],
   "source": []
  }
 ],
 "metadata": {
  "kernelspec": {
   "display_name": "kay",
   "language": "python",
   "name": "python3"
  },
  "language_info": {
   "codemirror_mode": {
    "name": "ipython",
    "version": 3
   },
   "file_extension": ".py",
   "mimetype": "text/x-python",
   "name": "python",
   "nbconvert_exporter": "python",
   "pygments_lexer": "ipython3",
   "version": "3.9.16"
  }
 },
 "nbformat": 4,
 "nbformat_minor": 2
}
