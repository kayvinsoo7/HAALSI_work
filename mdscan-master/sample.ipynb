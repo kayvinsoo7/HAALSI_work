{
 "cells": [
  {
   "attachments": {},
   "cell_type": "markdown",
   "metadata": {},
   "source": [
    "Import the libraries we will need"
   ]
  },
  {
   "cell_type": "code",
   "execution_count": 191,
   "metadata": {},
   "outputs": [],
   "source": [
    "from mdss.ScoringFunctions.Bernoulli import Bernoulli\n",
    "from mdss.MDSS import MDSS\n",
    "\n",
    "import numpy as np\n",
    "import pandas as pd\n",
    "from pandas.api.types import is_numeric_dtype\n",
    "\n",
    "import warnings\n",
    "\n",
    "warnings.filterwarnings('ignore')"
   ]
  },
  {
   "attachments": {},
   "cell_type": "markdown",
   "metadata": {},
   "source": [
    "Load the data from a csv, drop the first column, and fill the missing values with -999.\n",
    "\n",
    "Also, define the target cols"
   ]
  },
  {
   "cell_type": "code",
   "execution_count": 192,
   "metadata": {},
   "outputs": [
    {
     "data": {
      "text/html": [
       "<div>\n",
       "<style scoped>\n",
       "    .dataframe tbody tr th:only-of-type {\n",
       "        vertical-align: middle;\n",
       "    }\n",
       "\n",
       "    .dataframe tbody tr th {\n",
       "        vertical-align: top;\n",
       "    }\n",
       "\n",
       "    .dataframe thead th {\n",
       "        text-align: right;\n",
       "    }\n",
       "</style>\n",
       "<table border=\"1\" class=\"dataframe\">\n",
       "  <thead>\n",
       "    <tr style=\"text-align: right;\">\n",
       "      <th></th>\n",
       "      <th>site</th>\n",
       "      <th>age</th>\n",
       "      <th>sex</th>\n",
       "      <th>number_of_children_c</th>\n",
       "      <th>partnership_status_c_qc</th>\n",
       "      <th>highest_level_of_education_qc</th>\n",
       "      <th>occupation_qc</th>\n",
       "      <th>ses_site_quintile_c_qc</th>\n",
       "      <th>smoking_status_c_qc</th>\n",
       "      <th>alcohol_use_status_c_qc</th>\n",
       "      <th>...</th>\n",
       "      <th>stroke_qc</th>\n",
       "      <th>transient_ischemic_attack_qc</th>\n",
       "      <th>angina_qc</th>\n",
       "      <th>heartattack_qc</th>\n",
       "      <th>congestive_heart_failure_qc</th>\n",
       "      <th>cadiovascular_current</th>\n",
       "      <th>ckd_c_qc</th>\n",
       "      <th>htn_jnc7_qc</th>\n",
       "      <th>diabetes_status_c_qc</th>\n",
       "      <th>bmi_c_qc</th>\n",
       "    </tr>\n",
       "  </thead>\n",
       "  <tbody>\n",
       "    <tr>\n",
       "      <th>0</th>\n",
       "      <td>1</td>\n",
       "      <td>80</td>\n",
       "      <td>1</td>\n",
       "      <td>10.0</td>\n",
       "      <td>1</td>\n",
       "      <td>0</td>\n",
       "      <td>-999</td>\n",
       "      <td>1</td>\n",
       "      <td>2</td>\n",
       "      <td>3</td>\n",
       "      <td>...</td>\n",
       "      <td>0</td>\n",
       "      <td>-999</td>\n",
       "      <td>0</td>\n",
       "      <td>0</td>\n",
       "      <td>0</td>\n",
       "      <td>-999.0</td>\n",
       "      <td>-999</td>\n",
       "      <td>1</td>\n",
       "      <td>0</td>\n",
       "      <td>22.26</td>\n",
       "    </tr>\n",
       "    <tr>\n",
       "      <th>1</th>\n",
       "      <td>1</td>\n",
       "      <td>73</td>\n",
       "      <td>1</td>\n",
       "      <td>5.0</td>\n",
       "      <td>1</td>\n",
       "      <td>0</td>\n",
       "      <td>4</td>\n",
       "      <td>4</td>\n",
       "      <td>0</td>\n",
       "      <td>3</td>\n",
       "      <td>...</td>\n",
       "      <td>0</td>\n",
       "      <td>-999</td>\n",
       "      <td>0</td>\n",
       "      <td>0</td>\n",
       "      <td>0</td>\n",
       "      <td>-999.0</td>\n",
       "      <td>-999</td>\n",
       "      <td>1</td>\n",
       "      <td>0</td>\n",
       "      <td>36.99</td>\n",
       "    </tr>\n",
       "    <tr>\n",
       "      <th>2</th>\n",
       "      <td>1</td>\n",
       "      <td>80</td>\n",
       "      <td>1</td>\n",
       "      <td>9.0</td>\n",
       "      <td>2</td>\n",
       "      <td>0</td>\n",
       "      <td>4</td>\n",
       "      <td>2</td>\n",
       "      <td>0</td>\n",
       "      <td>0</td>\n",
       "      <td>...</td>\n",
       "      <td>0</td>\n",
       "      <td>-999</td>\n",
       "      <td>0</td>\n",
       "      <td>0</td>\n",
       "      <td>0</td>\n",
       "      <td>-999.0</td>\n",
       "      <td>-999</td>\n",
       "      <td>0</td>\n",
       "      <td>0</td>\n",
       "      <td>21.57</td>\n",
       "    </tr>\n",
       "    <tr>\n",
       "      <th>3</th>\n",
       "      <td>1</td>\n",
       "      <td>79</td>\n",
       "      <td>0</td>\n",
       "      <td>4.0</td>\n",
       "      <td>1</td>\n",
       "      <td>0</td>\n",
       "      <td>3</td>\n",
       "      <td>2</td>\n",
       "      <td>0</td>\n",
       "      <td>0</td>\n",
       "      <td>...</td>\n",
       "      <td>0</td>\n",
       "      <td>-999</td>\n",
       "      <td>0</td>\n",
       "      <td>0</td>\n",
       "      <td>0</td>\n",
       "      <td>-999.0</td>\n",
       "      <td>-999</td>\n",
       "      <td>1</td>\n",
       "      <td>0</td>\n",
       "      <td>21.92</td>\n",
       "    </tr>\n",
       "    <tr>\n",
       "      <th>4</th>\n",
       "      <td>1</td>\n",
       "      <td>73</td>\n",
       "      <td>0</td>\n",
       "      <td>7.0</td>\n",
       "      <td>2</td>\n",
       "      <td>0</td>\n",
       "      <td>3</td>\n",
       "      <td>3</td>\n",
       "      <td>0</td>\n",
       "      <td>0</td>\n",
       "      <td>...</td>\n",
       "      <td>0</td>\n",
       "      <td>-999</td>\n",
       "      <td>0</td>\n",
       "      <td>0</td>\n",
       "      <td>0</td>\n",
       "      <td>-999.0</td>\n",
       "      <td>-999</td>\n",
       "      <td>1</td>\n",
       "      <td>0</td>\n",
       "      <td>28.19</td>\n",
       "    </tr>\n",
       "  </tbody>\n",
       "</table>\n",
       "<p>5 rows × 32 columns</p>\n",
       "</div>"
      ],
      "text/plain": [
       "   site  age  sex  number_of_children_c  partnership_status_c_qc  \\\n",
       "0     1   80    1                  10.0                        1   \n",
       "1     1   73    1                   5.0                        1   \n",
       "2     1   80    1                   9.0                        2   \n",
       "3     1   79    0                   4.0                        1   \n",
       "4     1   73    0                   7.0                        2   \n",
       "\n",
       "   highest_level_of_education_qc  occupation_qc  ses_site_quintile_c_qc  \\\n",
       "0                              0           -999                       1   \n",
       "1                              0              4                       4   \n",
       "2                              0              4                       2   \n",
       "3                              0              3                       2   \n",
       "4                              0              3                       3   \n",
       "\n",
       "   smoking_status_c_qc  alcohol_use_status_c_qc  ...  stroke_qc  \\\n",
       "0                    2                        3  ...          0   \n",
       "1                    0                        3  ...          0   \n",
       "2                    0                        0  ...          0   \n",
       "3                    0                        0  ...          0   \n",
       "4                    0                        0  ...          0   \n",
       "\n",
       "   transient_ischemic_attack_qc  angina_qc  heartattack_qc  \\\n",
       "0                          -999          0               0   \n",
       "1                          -999          0               0   \n",
       "2                          -999          0               0   \n",
       "3                          -999          0               0   \n",
       "4                          -999          0               0   \n",
       "\n",
       "   congestive_heart_failure_qc  cadiovascular_current  ckd_c_qc  htn_jnc7_qc  \\\n",
       "0                            0                 -999.0      -999            1   \n",
       "1                            0                 -999.0      -999            1   \n",
       "2                            0                 -999.0      -999            0   \n",
       "3                            0                 -999.0      -999            1   \n",
       "4                            0                 -999.0      -999            1   \n",
       "\n",
       "   diabetes_status_c_qc  bmi_c_qc  \n",
       "0                     0     22.26  \n",
       "1                     0     36.99  \n",
       "2                     0     21.57  \n",
       "3                     0     21.92  \n",
       "4                     0     28.19  \n",
       "\n",
       "[5 rows x 32 columns]"
      ]
     },
     "execution_count": 192,
     "metadata": {},
     "output_type": "execute_result"
    }
   ],
   "source": [
    "# data = pd.read_csv('/dataF/madiva/data/madiva_project2_comma_delim.csv')\n",
    "data = pd.read_csv('../cvd_data_awigenv1.csv').drop(columns = \n",
    "       ['Unnamed: 0', 'study_id', 'chf_meds_qc','angina_meds_qc', 'pain_action_stop_or_slow_qc', 'pain_action_rest_qc',\n",
    "       'pain_action_medicine_qc', 'pain_action_carry_on_qc','days_bread_qc', 'sugardrinks_qc', 'chf_treatment_yn_qc',\n",
    "       'relief_standstill_qc', 'relief_standstill_qc.1', 'pain_location_1_qc','asthma_qc', 'obesity_mom_qc',\n",
    "       'pain_location_2_qc', 'pain_location_3_qc', 'pain_location_4_qc', 'days_fruit_qc', 'days_veg_qc',\n",
    "       'pain_location_5_qc', 'pain_location_6_qc', 'pain_location_7_qc','bp_sys_average_qc', 'bp_dia_average_qc', 'pulse_average_qc',\n",
    "       'pain_location_8_qc', 'pain_location_9_qc', 'pain_location_10_qc','stroke_diagnosed_qc', 'weakness_qc',\n",
    "       'numbness_qc', 'blindness_qc', 'half_vision_loss_qc','avg_sleep_per_night_c','pesticide_qc', \n",
    "       'understanding_loss_qc', 'expression_loss_qc', 'angina_treatment_yn_qc', 'heartattack_qc.1',\n",
    "       'heartattack_treatment_qc', 'heartattack_traditional_qc','chf_treat_now_qc', 'chf_traditional_qc', \n",
    "       'pain_location_11_qc', 'pain_location_12_qc', 'pain_location_13_qc', 'hip_circumference_qc',\n",
    "       'pain_location_14_qc', 'pain_location_15_qc', 'pain_location_16_qc','acr_qc', 'egfr_c_qc',\n",
    "       'pain_location_17_qc', 'pain_location_18_qc','angina_treat_now_qc', 'angina_traditional_qc', 'pain_qc', 'pain2_qc']).fillna(-999)\n",
    "# target_cols = ['htn_jnc7_qc', 'diabetes_status_c_qc', 'ckd_c_qc', 'cadiovascular_current']\n",
    "target_cols = ['htn_jnc7_qc', 'diabetes_status_c_qc']\n",
    "data.head()"
   ]
  },
  {
   "cell_type": "code",
   "execution_count": 194,
   "metadata": {},
   "outputs": [
    {
     "data": {
      "text/plain": [
       "(12032, 32)"
      ]
     },
     "execution_count": 194,
     "metadata": {},
     "output_type": "execute_result"
    }
   ],
   "source": [
    "data.shape"
   ]
  },
  {
   "cell_type": "code",
   "execution_count": 193,
   "metadata": {},
   "outputs": [
    {
     "data": {
      "text/plain": [
       "Index(['site', 'age', 'sex', 'number_of_children_c', 'partnership_status_c_qc',\n",
       "       'highest_level_of_education_qc', 'occupation_qc',\n",
       "       'ses_site_quintile_c_qc', 'smoking_status_c_qc',\n",
       "       'alcohol_use_status_c_qc', 'mvpa_c', 'hiv_final_status_c',\n",
       "       'waist_circumference_qc', 'waist_hip_r_c_qc', 'visceral_fat_qc',\n",
       "       'subcutaneous_fat_qc', 'mean_cimt_right_qc', 'mean_cimt_left_qc',\n",
       "       's_creatinine_qc', 'ldl_qc', 'triglycerides_qc', 'cholesterol_1_qc',\n",
       "       'stroke_qc', 'transient_ischemic_attack_qc', 'angina_qc',\n",
       "       'heartattack_qc', 'congestive_heart_failure_qc',\n",
       "       'cadiovascular_current', 'ckd_c_qc', 'htn_jnc7_qc',\n",
       "       'diabetes_status_c_qc', 'bmi_c_qc'],\n",
       "      dtype='object')"
      ]
     },
     "execution_count": 193,
     "metadata": {},
     "output_type": "execute_result"
    }
   ],
   "source": [
    "data.columns"
   ]
  },
  {
   "attachments": {},
   "cell_type": "markdown",
   "metadata": {},
   "source": [
    "Define the numeric columns we are going to bin by choosing features that have more than 10 unique items and have numbers"
   ]
  },
  {
   "cell_type": "code",
   "execution_count": 154,
   "metadata": {},
   "outputs": [],
   "source": [
    "# Simple Function to calcuate CVD\n",
    "def calculate_CVD(a,b,c,d,e):\n",
    "    col=0\n",
    "    if (int(a)==1 or int(b)==1 or int(c)==1 or int(d)==1 or int(e)==1):\n",
    "        col=1\n",
    "    elif (int(a)==0 and int(b)==0 and int(c)==0 and int(d)==0 and int(e)==0):\n",
    "        col = 0\n",
    "    elif (int(a)==pd.isna and int(b)==pd.isna and int(c)==pd.isna and int(d)==pd.isna and int(e)==pd.isna):\n",
    "        col = 0\n",
    "    return col"
   ]
  },
  {
   "cell_type": "code",
   "execution_count": 175,
   "metadata": {},
   "outputs": [],
   "source": [
    "com=[]\n",
    "for i in range(data.shape[0]):\n",
    "    com.append(calculate_CVD(data.stroke_qc.iloc[i], data.transient_ischemic_attack_qc.iloc[i], data.heartattack_qc.iloc[i], data.congestive_heart_failure_qc.iloc[i], data.angina_qc.iloc[i]))\n",
    "y1=pd.DataFrame(com, columns=['cvd'])"
   ]
  },
  {
   "cell_type": "code",
   "execution_count": 156,
   "metadata": {},
   "outputs": [],
   "source": [
    "numeric_columns = [col for col in data.columns \\\n",
    "                     if (is_numeric_dtype(data[col])) \\\n",
    "                     & (col not in target_cols) \\\n",
    "                     & (data[col].nunique() > 10)]"
   ]
  },
  {
   "cell_type": "code",
   "execution_count": 176,
   "metadata": {},
   "outputs": [],
   "source": [
    "data = pd.concat([y1,data],axis=1).copy()"
   ]
  },
  {
   "cell_type": "code",
   "execution_count": 158,
   "metadata": {},
   "outputs": [],
   "source": [
    "\n",
    "\n",
    "target_cols = ['htn_jnc7_qc', 'diabetes_status_c_qc']"
   ]
  },
  {
   "cell_type": "code",
   "execution_count": 177,
   "metadata": {},
   "outputs": [
    {
     "name": "stdout",
     "output_type": "stream",
     "text": [
      "Original size:  (1465, 33)\n",
      "Size after removing records with missing targets:  (1465, 33)\n"
     ]
    }
   ],
   "source": [
    "site_id = 1 # 1 - Agincourt, 3 - Nairobi\n",
    "\n",
    "# Choose the relevant site and age group\n",
    "dff = data[(data['site'] == site_id) & (data['age'] <= 60) & (data['age'] >= 40)].fillna(-999)\n",
    "\n",
    "print('Original size: ', dff.shape)\n",
    "dff = dff[(dff[target_cols] != -999).sum(axis = 1) == len(target_cols)]\n",
    "print('Size after removing records with missing targets: ', dff.shape)"
   ]
  },
  {
   "cell_type": "code",
   "execution_count": 195,
   "metadata": {},
   "outputs": [
    {
     "name": "stdout",
     "output_type": "stream",
     "text": [
      "Original size:  (1465, 32)\n",
      "Size after removing records with missing targets:  (1465, 32)\n"
     ]
    }
   ],
   "source": [
    "dff1 = dff.replace([-999, -222, -111, 999], np.nan).copy()\n",
    "\n",
    "site_id = 1 # 1 - Agincourt, 3 - Nairobi\n",
    "\n",
    "# Choose the relevant site and age group\n",
    "dff = data[(data['site'] == site_id) & (data['age'] <= 60) & (data['age'] >= 40)].fillna(-999)\n",
    "\n",
    "print('Original size: ', dff.shape)\n",
    "dff = dff[(dff[target_cols] != -999).sum(axis = 1) == len(target_cols)]\n",
    "print('Size after removing records with missing targets: ', dff.shape)"
   ]
  },
  {
   "cell_type": "code",
   "execution_count": 180,
   "metadata": {},
   "outputs": [],
   "source": [
    "predictor_cols = [#'site', \n",
    "       'age', 'sex', 'number_of_children_c', \n",
    "        'partnership_status_c_qc', 'highest_level_of_education_qc', 'occupation_qc',\n",
    "       'ses_site_quintile_c_qc', 'smoking_status_c_qc', 'alcohol_use_status_c_qc', \n",
    "#        'days_fruit_qc', 'days_veg_qc', 'days_bread_qc', 'sugardrinks_qc', \n",
    "        'mvpa_c',\n",
    "#        'asthma_qc', \n",
    "       'obesity_mom_qc','hiv_final_status_c', \n",
    "       'waist_circumference_qc', \n",
    "       # 'hip_circumference_qc', \n",
    "       'waist_hip_r_c_qc', \n",
    "       # 'pulse_average_qc',\n",
    "       'visceral_fat_qc', 'subcutaneous_fat_qc', 'mean_cimt_right_qc',\n",
    "       'mean_cimt_left_qc', 'ldl_qc', 'triglycerides_qc',\n",
    "       'bmi_c_qc', 'cholesterol_1_qc']"
   ]
  },
  {
   "cell_type": "code",
   "execution_count": 183,
   "metadata": {},
   "outputs": [
    {
     "data": {
      "text/plain": [
       "<Axes: ylabel='Density'>"
      ]
     },
     "execution_count": 183,
     "metadata": {},
     "output_type": "execute_result"
    },
    {
     "data": {
      "image/png": "[encoded data removed]",
      "text/plain": [
       "<Figure size 640x480 with 1 Axes>"
      ]
     },
     "metadata": {},
     "output_type": "display_data"
    }
   ],
   "source": [
    "from sklearn.linear_model import BayesianRidge\n",
    "from sklearn.experimental import enable_iterative_imputer\n",
    "from sklearn.impute import IterativeImputer\n",
    "import matplotlib.pyplot as plt\n",
    "imputer_bayes = IterativeImputer(\n",
    "    estimator=BayesianRidge(),\n",
    "    max_iter=10,\n",
    "    random_state=42)\n",
    "\n",
    "# let's create a MICE imputer using Bayes as estimator\n",
    "\n",
    "imputer = IterativeImputer(\n",
    "    estimator=BayesianRidge(), # the estimator to predict the NA\n",
    "    initial_strategy='mean', # how will NA be imputed in step 1\n",
    "    max_iter=10, # number of cycles\n",
    "    imputation_order='ascending', # the order in which to impute the variables\n",
    "    n_nearest_features=None, # whether to limit the number of predictors\n",
    "    skip_complete=True, # whether to ignore variables without NA\n",
    "    random_state=0,\n",
    ")\n",
    "imputer.fit(dff1[predictor_cols])\n",
    "train_t = imputer.transform(dff1[predictor_cols])\n",
    "# train_x = imputer.transform(data.iloc[:,2:])\n",
    "treated = pd.DataFrame(train_t, columns=dff1[predictor_cols].columns)\n",
    "treated = treated.apply(np.ceil)\n",
    "\n",
    "fig = plt.figure()\n",
    "ax = fig.add_subplot(111)\n",
    "dff1['number_of_children_c'].plot(kind='kde', ax=ax, color='blue')\n",
    "treated['number_of_children_c'].plot(kind='kde', ax=ax, color='green')"
   ]
  },
  {
   "cell_type": "code",
   "execution_count": 186,
   "metadata": {},
   "outputs": [
    {
     "data": {
      "text/plain": [
       "0"
      ]
     },
     "execution_count": 186,
     "metadata": {},
     "output_type": "execute_result"
    }
   ],
   "source": [
    "treated['number_of_children_c'].isnull().sum()"
   ]
  },
  {
   "cell_type": "code",
   "execution_count": 99,
   "metadata": {},
   "outputs": [
    {
     "data": {
      "text/plain": [
       "381    0.050512\n",
       "391    0.050512\n",
       "393    0.050512\n",
       "408    0.050512\n",
       "416    0.050512\n",
       "Name: expectation, dtype: float64"
      ]
     },
     "execution_count": 99,
     "metadata": {},
     "output_type": "execute_result"
    }
   ],
   "source": [
    "target_col = 'multimorbidity'\n",
    "\n",
    "# defining the target column to be a column where the sum of the target values >= 2\n",
    "dff[target_col] = (dff[target_cols] == 1).sum(axis = 1) >= 2\n",
    "\n",
    "# defining the expectations as mean of the target\n",
    "dff['expectation'] = dff[target_col].mean()\n",
    "dff['expectation'].head()"
   ]
  },
  {
   "cell_type": "code",
   "execution_count": 100,
   "metadata": {},
   "outputs": [
    {
     "data": {
      "text/plain": [
       "array([0.05051195])"
      ]
     },
     "execution_count": 100,
     "metadata": {},
     "output_type": "execute_result"
    }
   ],
   "source": [
    "dff['expectation'].unique()"
   ]
  },
  {
   "cell_type": "code",
   "execution_count": 101,
   "metadata": {},
   "outputs": [
    {
     "name": "stdout",
     "output_type": "stream",
     "text": [
      "Original size:  (1465, 39)\n",
      "Size after removing records with missing targets:  (1465, 39)\n"
     ]
    }
   ],
   "source": [
    "site_id = 1 # 1 - Agincourt, 3 - Nairobi\n",
    "\n",
    "# Choose the relevant site and age group\n",
    "dff = data[(data['site'] == site_id) & (data['age'] <= 60) & (data['age'] >= 40)].fillna(-999)\n",
    "\n",
    "print('Original size: ', dff.shape)\n",
    "dff = dff[(dff[target_cols] != -999).sum(axis = 1) == len(target_cols)]\n",
    "print('Size after removing records with missing targets: ', dff.shape)"
   ]
  },
  {
   "cell_type": "code",
   "execution_count": 106,
   "metadata": {},
   "outputs": [
    {
     "data": {
      "text/plain": [
       "0.050511945392491465"
      ]
     },
     "execution_count": 106,
     "metadata": {},
     "output_type": "execute_result"
    }
   ],
   "source": [
    "dff[target_col].mean()"
   ]
  },
  {
   "cell_type": "code",
   "execution_count": 187,
   "metadata": {},
   "outputs": [
    {
     "data": {
      "text/plain": [
       "0.55    65\n",
       "0.52    63\n",
       "0.58    59\n",
       "0.53    58\n",
       "0.54    54\n",
       "        ..\n",
       "0.82     1\n",
       "1.05     1\n",
       "1.18     1\n",
       "1.21     1\n",
       "0.95     1\n",
       "Name: mean_cimt_right_qc, Length: 63, dtype: int64"
      ]
     },
     "execution_count": 187,
     "metadata": {},
     "output_type": "execute_result"
    }
   ],
   "source": [
    "dff1.mean_cimt_right_qc.value_counts()"
   ]
  },
  {
   "cell_type": "code",
   "execution_count": 105,
   "metadata": {},
   "outputs": [
    {
     "data": {
      "text/plain": [
       "381    0.050512\n",
       "391    0.050512\n",
       "393    0.050512\n",
       "408    0.050512\n",
       "416    0.050512\n",
       "Name: expectation, dtype: float64"
      ]
     },
     "execution_count": 105,
     "metadata": {},
     "output_type": "execute_result"
    }
   ],
   "source": [
    "target_col = 'multimorbidity'\n",
    "\n",
    "# defining the target column to be a column where the sum of the target values >= 2\n",
    "dff[target_col] = (dff[target_cols] == 1).sum(axis = 1) >= 2\n",
    "\n",
    "# defining the expectations as mean of the target\n",
    "dff['expectation'] = dff[target_col].mean()\n",
    "dff['expectation'].head()"
   ]
  },
  {
   "cell_type": "code",
   "execution_count": 190,
   "metadata": {},
   "outputs": [
    {
     "ename": "KeyError",
     "evalue": "'multimorbidity'",
     "output_type": "error",
     "traceback": [
      "\u001b[0;31m---------------------------------------------------------------------------\u001b[0m",
      "\u001b[0;31mKeyError\u001b[0m                                  Traceback (most recent call last)",
      "File \u001b[0;32m~/opt/anaconda3/envs/kay/lib/python3.9/site-packages/pandas/core/indexes/base.py:3803\u001b[0m, in \u001b[0;36mIndex.get_loc\u001b[0;34m(self, key, method, tolerance)\u001b[0m\n\u001b[1;32m   3802\u001b[0m \u001b[39mtry\u001b[39;00m:\n\u001b[0;32m-> 3803\u001b[0m     \u001b[39mreturn\u001b[39;00m \u001b[39mself\u001b[39;49m\u001b[39m.\u001b[39;49m_engine\u001b[39m.\u001b[39;49mget_loc(casted_key)\n\u001b[1;32m   3804\u001b[0m \u001b[39mexcept\u001b[39;00m \u001b[39mKeyError\u001b[39;00m \u001b[39mas\u001b[39;00m err:\n",
      "File \u001b[0;32m~/opt/anaconda3/envs/kay/lib/python3.9/site-packages/pandas/_libs/index.pyx:138\u001b[0m, in \u001b[0;36mpandas._libs.index.IndexEngine.get_loc\u001b[0;34m()\u001b[0m\n",
      "File \u001b[0;32m~/opt/anaconda3/envs/kay/lib/python3.9/site-packages/pandas/_libs/index.pyx:165\u001b[0m, in \u001b[0;36mpandas._libs.index.IndexEngine.get_loc\u001b[0;34m()\u001b[0m\n",
      "File \u001b[0;32mpandas/_libs/hashtable_class_helper.pxi:5745\u001b[0m, in \u001b[0;36mpandas._libs.hashtable.PyObjectHashTable.get_item\u001b[0;34m()\u001b[0m\n",
      "File \u001b[0;32mpandas/_libs/hashtable_class_helper.pxi:5753\u001b[0m, in \u001b[0;36mpandas._libs.hashtable.PyObjectHashTable.get_item\u001b[0;34m()\u001b[0m\n",
      "\u001b[0;31mKeyError\u001b[0m: 'multimorbidity'",
      "\nThe above exception was the direct cause of the following exception:\n",
      "\u001b[0;31mKeyError\u001b[0m                                  Traceback (most recent call last)",
      "\u001b[1;32m/Users/kayadetunji/Downloads/HAALSI_work/mdscan-master/sample.ipynb Cell 23\u001b[0m in \u001b[0;36m<cell line: 1>\u001b[0;34m()\u001b[0m\n\u001b[0;32m----> <a href='vscode-notebook-cell:/Users/kayadetunji/Downloads/HAALSI_work/mdscan-master/sample.ipynb#X66sZmlsZQ%3D%3D?line=0'>1</a>\u001b[0m dff[\u001b[39m'\u001b[39;49m\u001b[39mmultimorbidity\u001b[39;49m\u001b[39m'\u001b[39;49m]\n",
      "File \u001b[0;32m~/opt/anaconda3/envs/kay/lib/python3.9/site-packages/pandas/core/frame.py:3805\u001b[0m, in \u001b[0;36mDataFrame.__getitem__\u001b[0;34m(self, key)\u001b[0m\n\u001b[1;32m   3803\u001b[0m \u001b[39mif\u001b[39;00m \u001b[39mself\u001b[39m\u001b[39m.\u001b[39mcolumns\u001b[39m.\u001b[39mnlevels \u001b[39m>\u001b[39m \u001b[39m1\u001b[39m:\n\u001b[1;32m   3804\u001b[0m     \u001b[39mreturn\u001b[39;00m \u001b[39mself\u001b[39m\u001b[39m.\u001b[39m_getitem_multilevel(key)\n\u001b[0;32m-> 3805\u001b[0m indexer \u001b[39m=\u001b[39m \u001b[39mself\u001b[39;49m\u001b[39m.\u001b[39;49mcolumns\u001b[39m.\u001b[39;49mget_loc(key)\n\u001b[1;32m   3806\u001b[0m \u001b[39mif\u001b[39;00m is_integer(indexer):\n\u001b[1;32m   3807\u001b[0m     indexer \u001b[39m=\u001b[39m [indexer]\n",
      "File \u001b[0;32m~/opt/anaconda3/envs/kay/lib/python3.9/site-packages/pandas/core/indexes/base.py:3805\u001b[0m, in \u001b[0;36mIndex.get_loc\u001b[0;34m(self, key, method, tolerance)\u001b[0m\n\u001b[1;32m   3803\u001b[0m     \u001b[39mreturn\u001b[39;00m \u001b[39mself\u001b[39m\u001b[39m.\u001b[39m_engine\u001b[39m.\u001b[39mget_loc(casted_key)\n\u001b[1;32m   3804\u001b[0m \u001b[39mexcept\u001b[39;00m \u001b[39mKeyError\u001b[39;00m \u001b[39mas\u001b[39;00m err:\n\u001b[0;32m-> 3805\u001b[0m     \u001b[39mraise\u001b[39;00m \u001b[39mKeyError\u001b[39;00m(key) \u001b[39mfrom\u001b[39;00m \u001b[39merr\u001b[39;00m\n\u001b[1;32m   3806\u001b[0m \u001b[39mexcept\u001b[39;00m \u001b[39mTypeError\u001b[39;00m:\n\u001b[1;32m   3807\u001b[0m     \u001b[39m# If we have a listlike key, _check_indexing_error will raise\u001b[39;00m\n\u001b[1;32m   3808\u001b[0m     \u001b[39m#  InvalidIndexError. Otherwise we fall through and re-raise\u001b[39;00m\n\u001b[1;32m   3809\u001b[0m     \u001b[39m#  the TypeError.\u001b[39;00m\n\u001b[1;32m   3810\u001b[0m     \u001b[39mself\u001b[39m\u001b[39m.\u001b[39m_check_indexing_error(key)\n",
      "\u001b[0;31mKeyError\u001b[0m: 'multimorbidity'"
     ]
    }
   ],
   "source": [
    "dff['multimorbidity']"
   ]
  },
  {
   "cell_type": "code",
   "execution_count": 107,
   "metadata": {},
   "outputs": [],
   "source": [
    "# Defining the search space to be all the features except site, study_id, \n",
    "# and our created target_col and expectations columns\n",
    "\n",
    "search_space = [col for col in dff.columns \\\n",
    "                if col not in \\\n",
    "                [target_col, 'site', 'study_id', 'expectation', \\\n",
    "                'htn_jnc7_qc', 'diabetes_status_c_qc']]"
   ]
  },
  {
   "cell_type": "code",
   "execution_count": 53,
   "metadata": {},
   "outputs": [
    {
     "data": {
      "image/png": "[encoded data removed]",
      "text/plain": [
       "<Figure size 640x480 with 2 Axes>"
      ]
     },
     "metadata": {},
     "output_type": "display_data"
    }
   ],
   "source": [
    "import seaborn as sns\n",
    "import matplotlib.pyplot as plt\n",
    "\n",
    "# Example data with binary outcomes and numeric variables\n",
    "import pandas as pd\n",
    "data = pd.DataFrame({\n",
    "    'Outcome': [0, 1, 0, 1, 0, 1, 0, 0],\n",
    "    'Variable1': [3, 4, 2, 1, 5, 6, 7, 2],\n",
    "    'Variable2': [8, 7, 5, 6, 9, 10, 7, 8]\n",
    "})\n",
    "\n",
    "# Create a heatmap to visualize correlations\n",
    "sns.heatmap(data.corr(), annot=True, cmap='coolwarm')\n",
    "plt.title('Correlation Heatmap')\n",
    "plt.show()\n"
   ]
  },
  {
   "cell_type": "code",
   "execution_count": 54,
   "metadata": {},
   "outputs": [
    {
     "data": {
      "image/png": "[encoded data removed]",
      "text/plain": [
       "<Figure size 640x480 with 1 Axes>"
      ]
     },
     "metadata": {},
     "output_type": "display_data"
    }
   ],
   "source": [
    "import seaborn as sns\n",
    "import matplotlib.pyplot as plt\n",
    "\n",
    "# Example data with binary outcomes and categories\n",
    "import pandas as pd\n",
    "data = pd.DataFrame({\n",
    "    'Category': ['A', 'A', 'B', 'B', 'C', 'C'],\n",
    "    'Outcome': [0, 1, 0, 1, 0, 1]\n",
    "})\n",
    "\n",
    "# Create a violin plot to visualize distributions\n",
    "sns.violinplot(x='Category', y='Outcome', data=data, inner='quart')\n",
    "plt.xlabel('Category')\n",
    "plt.ylabel('Outcome')\n",
    "plt.title('Binary Outcome Distribution by Category')\n",
    "plt.show()\n"
   ]
  },
  {
   "cell_type": "code",
   "execution_count": 57,
   "metadata": {},
   "outputs": [
    {
     "data": {
      "image/png": "[encoded data removed]",
      "text/plain": [
       "<Figure size 640x480 with 1 Axes>"
      ]
     },
     "metadata": {},
     "output_type": "display_data"
    }
   ],
   "source": [
    "# import matplotlib.pyplot as plt\n",
    "\n",
    "# # Example binary data\n",
    "# data = [0, 1, 0, 1, 0, 1, 0, 0]\n",
    "\n",
    "# # Count the occurrences of each outcome\n",
    "# counts = [data.count(0), data.count(1)]\n",
    "\n",
    "# # Labels for the outcomes\n",
    "# labels = ['Outcome 0', 'Outcome 1']\n",
    "\n",
    "# # Create a bar chart to visualize the distribution\n",
    "# plt.bar(labels, counts, color=['lightblue', 'lightgreen'])\n",
    "# plt.xlabel('Outcome')\n",
    "# plt.ylabel('Count')\n",
    "# plt.title('Binary Outcome Distribution')\n",
    "# plt.show()\n",
    "\n",
    "import matplotlib.pyplot as plt\n",
    "import numpy as np\n",
    "\n",
    "# Example data: binary outcomes (0 or 1) and another numeric variable\n",
    "binary_data = np.random.randint(2, size=100)  # Generating 100 random binary values (0 or 1)\n",
    "numeric_data = np.random.randn(100)  # Generating random numeric data\n",
    "\n",
    "# Create a stacked histogram\n",
    "plt.hist([numeric_data[binary_data == 0], numeric_data[binary_data == 1]], bins=20, alpha=0.7, label=['Outcome 0', 'Outcome 1'], color=['skyblue', 'salmon'], edgecolor='black', stacked=True)\n",
    "\n",
    "plt.xlabel('Numeric Variable')\n",
    "plt.ylabel('Frequency')\n",
    "plt.title('Stacked Histogram with Binary Outcome')\n",
    "plt.legend()\n",
    "plt.show()\n",
    "\n",
    "\n"
   ]
  },
  {
   "cell_type": "code",
   "execution_count": 67,
   "metadata": {},
   "outputs": [
    {
     "data": {
      "image/png": "[encoded data removed]",
      "text/plain": [
       "<Figure size 640x480 with 1 Axes>"
      ]
     },
     "metadata": {},
     "output_type": "display_data"
    }
   ],
   "source": [
    "import matplotlib.pyplot as plt\n",
    "import numpy as np\n",
    "\n",
    "# Example data with binary outcomes and two numeric variables\n",
    "np.random.seed(40)  # For reproducibility\n",
    "binary_outcomes = np.random.randint(2, size=100)  # Generating 100 random binary values (0 or 1)\n",
    "variable1 = np.random.normal(0, 1, 100)  # Generating random data for Variable1\n",
    "variable2 = np.random.normal(2, 1, 100)  # Generating random data for Variable2\n",
    "\n",
    "# Group data by binary outcome\n",
    "outcome_0_data = variable1[binary_outcomes == 0]\n",
    "outcome_1_data = variable1[binary_outcomes == 1]\n",
    "\n",
    "# Create a grouped histogram\n",
    "plt.hist([outcome_0_data, outcome_1_data], bins=10, alpha=0.7, label=['Outcome 0', 'Outcome 1'], color=['skyblue', 'salmon'])\n",
    "plt.xlabel('Value')\n",
    "plt.ylabel('Frequency')\n",
    "plt.title('Grouped Histogram of Variable1 by Binary Outcome')\n",
    "plt.legend()\n",
    "plt.show()\n"
   ]
  },
  {
   "cell_type": "code",
   "execution_count": 70,
   "metadata": {},
   "outputs": [
    {
     "data": {
      "text/plain": [
       "(55,)"
      ]
     },
     "execution_count": 70,
     "metadata": {},
     "output_type": "execute_result"
    }
   ],
   "source": [
    "outcome_1_data.shape"
   ]
  },
  {
   "cell_type": "code",
   "execution_count": 108,
   "metadata": {},
   "outputs": [
    {
     "data": {
      "text/plain": [
       "['cvd',\n",
       " 'age',\n",
       " 'sex',\n",
       " 'number_of_children_c',\n",
       " 'partnership_status_c_qc',\n",
       " 'highest_level_of_education_qc',\n",
       " 'occupation_qc',\n",
       " 'ses_site_quintile_c_qc',\n",
       " 'smoking_status_c_qc',\n",
       " 'alcohol_use_status_c_qc',\n",
       " 'mvpa_c',\n",
       " 'asthma_qc',\n",
       " 'obesity_mom_qc',\n",
       " 'hiv_final_status_c',\n",
       " 'pesticide_qc',\n",
       " 'waist_circumference_qc',\n",
       " 'waist_hip_r_c_qc',\n",
       " 'visceral_fat_qc',\n",
       " 'subcutaneous_fat_qc',\n",
       " 'mean_cimt_right_qc',\n",
       " 'mean_cimt_left_qc',\n",
       " 's_creatinine_qc',\n",
       " 'ldl_qc',\n",
       " 'triglycerides_qc',\n",
       " 'acr_qc',\n",
       " 'egfr_c_qc',\n",
       " 'cholesterol_1_qc',\n",
       " 'stroke_qc',\n",
       " 'transient_ischemic_attack_qc',\n",
       " 'angina_qc',\n",
       " 'heartattack_qc',\n",
       " 'congestive_heart_failure_qc',\n",
       " 'chf_treatment_yn_qc',\n",
       " 'cadiovascular_current',\n",
       " 'ckd_c_qc',\n",
       " 'bmi_c_qc']"
      ]
     },
     "execution_count": 108,
     "metadata": {},
     "output_type": "execute_result"
    }
   ],
   "source": [
    "search_space"
   ]
  },
  {
   "cell_type": "code",
   "execution_count": 109,
   "metadata": {},
   "outputs": [
    {
     "data": {
      "text/plain": [
       "36"
      ]
     },
     "execution_count": 109,
     "metadata": {},
     "output_type": "execute_result"
    }
   ],
   "source": [
    "len(search_space)"
   ]
  },
  {
   "cell_type": "code",
   "execution_count": null,
   "metadata": {},
   "outputs": [],
   "source": [
    "dff1 = dff.replace([-999, -222, -111], np.nan).copy()"
   ]
  },
  {
   "cell_type": "code",
   "execution_count": 110,
   "metadata": {},
   "outputs": [],
   "source": [
    "def get_str(x):\n",
    "    # This function turns a pandas bin to a meaningful string\n",
    "    s = str(round(x.left, 2)) + ' - ' + str(round(x.right,2))\n",
    "    return s\n",
    "\n",
    "def custom_qcut(ser, contiguous = True):\n",
    "    # Get the rows that are actual numbers\n",
    "    sub_ser = ser[(ser != -111) \\\n",
    "                     & (ser != -222) \\\n",
    "                     & (ser != -555) \\\n",
    "                     & (ser != -999)]\n",
    "    \n",
    "    if contiguous:\n",
    "        # if contiguous, treat all the special numbers the same\n",
    "        ser = ser.replace(-111 , -999)\n",
    "        ser = ser.replace(-222 , -999)\n",
    "        ser = ser.replace(-555 , -999)\n",
    "\n",
    "    # Bin the actual numbers into 10 bins for scanning\n",
    "    sub_ser = pd.qcut(sub_ser, 10, duplicates='drop')\n",
    "    sub_ser = sub_ser.apply(get_str).astype(str)\n",
    "    ser[list(sub_ser.index)] = sub_ser\n",
    "    return ser\n",
    "            "
   ]
  },
  {
   "cell_type": "code",
   "execution_count": 111,
   "metadata": {},
   "outputs": [],
   "source": [
    "contiguous = {}\n",
    "dff_2 = dff.copy()\n",
    "\n",
    "# Create a new dataframe with the numeric columns bins     \n",
    "for col in numeric_columns:\n",
    "    if col in search_space:\n",
    "        dff_2[col] = custom_qcut(dff_2[col].copy())\n",
    "        \n",
    "        bins = list(dff_2[col].unique())\n",
    "        \n",
    "        if -999 in bins:\n",
    "            bins.remove(-999)\n",
    "        \n",
    "        bins = sorted(bins, key=lambda x : float(x.split(' - ')[0]))\n",
    "        \n",
    "        contiguous[col] = bins"
   ]
  },
  {
   "cell_type": "code",
   "execution_count": 112,
   "metadata": {},
   "outputs": [],
   "source": [
    "def compress_contiguous(subset, contiguous):\n",
    "    # Shorten a contiguous list e.g [0-9, 10-19] is converted to [0 - 19] \n",
    "    new = {}\n",
    "    \n",
    "    for col in subset:\n",
    "        if col in contiguous:\n",
    "            if isinstance(subset[col][0], (float,int)):\n",
    "                new[col] = [str(c) for c in subset[col]]\n",
    "                continue\n",
    "            i = -1 if isinstance(subset[col][-1], str) else -2\n",
    "            new[col] = [subset[col][0].split(' - ')[0] + ' - ' + subset[col][i].split(' - ')[-1]]\n",
    "            new[col] = new[col] if i == -1 else new[col] + [str(subset[col][-1])]\n",
    "        else:\n",
    "            new[col] = [str(c) for c in subset[col]]\n",
    "    return new\n",
    "\n",
    "def translate_subset_to_rule(subset):\n",
    "    # Print the subset as a rule for easier understanding\n",
    "    desc = ''\n",
    "    for key, value in subset.items():\n",
    "        desc += key + ' = {' + ' OR '.join(value) + '} AND' + '\\n'\n",
    "\n",
    "    return desc[:-5].replace('_',' ').replace('{', '(').replace('}', ')')"
   ]
  },
  {
   "attachments": {},
   "cell_type": "markdown",
   "metadata": {},
   "source": [
    "Using Autostrat, i.e. scanning, in the positive direction"
   ]
  },
  {
   "cell_type": "code",
   "execution_count": 126,
   "metadata": {},
   "outputs": [
    {
     "name": "stdout",
     "output_type": "stream",
     "text": [
      "CPU times: user 391 ms, sys: 88.4 ms, total: 479 ms\n",
      "Wall time: 8.4 s\n"
     ]
    },
    {
     "data": {
      "text/plain": [
       "({'number_of_children_c': ['5.0 - 6.0', '6.0 - 7.0'],\n",
       "  'ses_site_quintile_c_qc': [5],\n",
       "  'waist_hip_r_c_qc': ['0.92 - 0.94',\n",
       "   '0.94 - 0.97',\n",
       "   '0.97 - 1.0',\n",
       "   '1.0 - 1.16']},\n",
       " 5.943216895894704)"
      ]
     },
     "execution_count": 126,
     "metadata": {},
     "output_type": "execute_result"
    }
   ],
   "source": [
    "%%time\n",
    "# Scan in the positive direction using defined penalties and num iters\n",
    "\n",
    "scoring_function = Bernoulli(direction='positive')\n",
    "scanner = MDSS(scoring_function)\n",
    "\n",
    "penalty = 5\n",
    "num_iters = 10\n",
    "\n",
    "subset, score = scanner.scan(dff_2[search_space], dff_2[target_col], dff_2['expectation'],cpu = .95,\n",
    "                             penalty = penalty, num_iters = num_iters, contiguous = contiguous.copy())\n",
    "subset, score"
   ]
  },
  {
   "cell_type": "code",
   "execution_count": 129,
   "metadata": {},
   "outputs": [
    {
     "name": "stdout",
     "output_type": "stream",
     "text": [
      "Penalty = 1: Subset = {'cholesterol_1_qc': ['3.91 - 4.21', '4.21 - 4.52', '4.52 - 4.86', '4.86 - 5.34', '5.34 - 9.97'], 'hiv_final_status_c': [0], 'triglycerides_qc': ['1.0 - 1.14', '1.14 - 1.49', '1.49 - 5.34'], 'acr_qc': ['0.62 - 0.81', '0.81 - 1.12', '1.12 - 1.68', '1.68 - 3.08', '3.08 - 6.93', '6.93 - 387.04'], 'partnership_status_c_qc': [1], 'mean_cimt_right_qc': ['0.67 - 0.73', '0.73 - 1.32', -999.0], 'number_of_children_c': ['3.0 - 4.0', '4.0 - 5.0', '5.0 - 6.0', '6.0 - 7.0', '7.0 - 8.0', '8.0 - 44.0'], 'pesticide_qc': [0]}, Score = 26.212100598666204\n",
      "Penalty = 2: Subset = {'waist_hip_r_c_qc': ['0.94 - 0.97', '0.97 - 1.0', '1.0 - 1.16'], 'hiv_final_status_c': [0], 'number_of_children_c': ['5.0 - 6.0', '6.0 - 7.0', '7.0 - 8.0', '8.0 - 44.0']}, Score = 11.973205326248145\n",
      "Penalty = 3: Subset = {'mean_cimt_right_qc': ['0.67 - 0.73', '0.73 - 1.32', -999.0], 'triglycerides_qc': ['1.0 - 1.14', '1.14 - 1.49', '1.49 - 5.34'], 'cholesterol_1_qc': ['3.91 - 4.21', '4.21 - 4.52', '4.52 - 4.86', '4.86 - 5.34', '5.34 - 9.97'], 'acr_qc': ['0.62 - 0.81', '0.81 - 1.12', '1.12 - 1.68', '1.68 - 3.08', '3.08 - 6.93', '6.93 - 387.04'], 'hiv_final_status_c': [0]}, Score = 12.089554651258624\n",
      "Penalty = 4: Subset = {'waist_hip_r_c_qc': ['1.0 - 1.16'], 'mean_cimt_right_qc': ['0.67 - 0.73', '0.73 - 1.32', -999.0]}, Score = 8.054348901106149\n",
      "Penalty = 5: Subset = {'number_of_children_c': ['5.0 - 6.0', '6.0 - 7.0'], 'ses_site_quintile_c_qc': [5], 'waist_hip_r_c_qc': ['0.92 - 0.94', '0.94 - 0.97', '0.97 - 1.0', '1.0 - 1.16']}, Score = 5.943216895894704\n",
      "Penalty = 6: Subset = {'waist_hip_r_c_qc': ['1.0 - 1.16']}, Score = 4.858589707651763\n",
      "Penalty = 7: Subset = {'waist_hip_r_c_qc': ['1.0 - 1.16']}, Score = 3.8585897076517632\n"
     ]
    }
   ],
   "source": [
    "%%time\n",
    "# Scan in the positive direction using defined penalties and num iters\n",
    "\n",
    "scoring_function = Bernoulli(direction='positive')\n",
    "scanner = MDSS(scoring_function)\n",
    "# Define a list of penalty values to loop through\n",
    "penalty_values = [1, 2, 3, 4, 5, 6, 7]\n",
    "\n",
    "# Initialize empty lists to store results\n",
    "subset_results = []\n",
    "score_results = []\n",
    "\n",
    "# Loop through each penalty value\n",
    "for penalty in penalty_values:\n",
    "    # Perform the scan with the current penalty value\n",
    "    subset, score = scanner.scan(dff_2[search_space], dff_2[target_col], dff_2['expectation'], cpu=0.95,\n",
    "                                 penalty=penalty, num_iters=num_iters, contiguous=contiguous.copy())\n",
    "    \n",
    "    # Append the results to the respective lists\n",
    "    subset_results.append(subset)\n",
    "    score_results.append(score)\n",
    "\n",
    "# Display the results for each penalty value\n",
    "for i, penalty in enumerate(penalty_values):\n",
    "    print(f\"Penalty = {penalty}: Subset = {subset_results[i]}, Score = {score_results[i]}\")\n"
   ]
  },
  {
   "cell_type": "code",
   "execution_count": 128,
   "metadata": {},
   "outputs": [
    {
     "name": "stdout",
     "output_type": "stream",
     "text": [
      "waist hip r c qc = (1.0 - 1.16) AND\n",
      "mean cimt right qc = (0.67 - 1.32 OR -999.0)\n"
     ]
    }
   ],
   "source": [
    "# print the subset we obtained as a rule\n",
    "print(translate_subset_to_rule(compress_contiguous(subset, contiguous)))"
   ]
  },
  {
   "cell_type": "code",
   "execution_count": 132,
   "metadata": {},
   "outputs": [
    {
     "name": "stdout",
     "output_type": "stream",
     "text": [
      "Our detected subgroup has a size of 314 \n",
      "Recall that our population average is 0.05051194539249147      \n",
      "In this subgroup, we observe a mean outcome of 0.003\n",
      "With 1 individuals in the group above average       \n",
      "This is a multiplicative factor in the odds (i.e q) of 0.06\n"
     ]
    }
   ],
   "source": [
    "# print some information about the subset\n",
    "to_choose = dff_2[subset.keys()].isin(subset).all(axis=1)\n",
    "temp_df = dff_2.loc[to_choose]\n",
    "\n",
    "size = len(temp_df)\n",
    "observed_income = np.round(temp_df[target_col].mean(), 3)\n",
    "positive_class_count = temp_df[target_col].sum()\n",
    "\n",
    "group_obs = temp_df[target_col].mean()\n",
    "group_prob = temp_df['expectation'].mean()\n",
    "odds_mul = (group_obs / (1 - group_obs)) / (group_prob /(1 - group_prob))\n",
    "\n",
    "print(\"Our detected subgroup has a size of {} \\nRecall that our population average is {}\\\n",
    "      \\nIn this subgroup, we observe a mean outcome of {}\\nWith {} individuals in the group above average \\\n",
    "      \\nThis is a multiplicative factor in the odds (i.e q) of {}\".\\\n",
    "      format(size, group_prob , observed_income, positive_class_count, np.round(odds_mul, 3)))"
   ]
  },
  {
   "attachments": {},
   "cell_type": "markdown",
   "metadata": {},
   "source": [
    "Doing the same scanning process as above in the negative direction"
   ]
  },
  {
   "cell_type": "code",
   "execution_count": 144,
   "metadata": {},
   "outputs": [
    {
     "name": "stdout",
     "output_type": "stream",
     "text": [
      "CPU times: user 567 ms, sys: 83.3 ms, total: 650 ms\n",
      "Wall time: 9.21 s\n"
     ]
    },
    {
     "data": {
      "text/plain": [
       "({'age': ['40.0 - 42.0',\n",
       "   '42.0 - 44.0',\n",
       "   '44.0 - 47.0',\n",
       "   '47.0 - 50.0',\n",
       "   '50.0 - 51.0',\n",
       "   '51.0 - 53.0',\n",
       "   '53.0 - 55.0',\n",
       "   '55.0 - 57.0'],\n",
       "  'waist_circumference_qc': ['510.0 - 740.0', '740.0 - 780.0']},\n",
       " 12.56486285033507)"
      ]
     },
     "execution_count": 144,
     "metadata": {},
     "output_type": "execute_result"
    }
   ],
   "source": [
    "%%time\n",
    "\n",
    "scoring_function = Bernoulli(direction='negative')\n",
    "scanner = MDSS(scoring_function)\n",
    "\n",
    "penalty = 1\n",
    "num_iters = 15\n",
    "\n",
    "subset, score = scanner.scan(dff_2[search_space], dff_2[target_col], dff_2['expectation'],  cpu = .95,\n",
    "                             penalty = penalty, num_iters = num_iters, contiguous = contiguous.copy())\n",
    "subset, score"
   ]
  },
  {
   "cell_type": "code",
   "execution_count": 130,
   "metadata": {},
   "outputs": [
    {
     "name": "stdout",
     "output_type": "stream",
     "text": [
      "Penalty = 1: Subset = {'age': ['40.0 - 42.0', '42.0 - 44.0', '44.0 - 47.0', '47.0 - 50.0', '50.0 - 51.0', '51.0 - 53.0', '53.0 - 55.0', '55.0 - 57.0'], 'waist_circumference_qc': ['510.0 - 740.0', '740.0 - 780.0']}, Score = 12.56486285033507\n",
      "Penalty = 2: Subset = {'age': ['40.0 - 42.0', '42.0 - 44.0', '44.0 - 47.0', '47.0 - 50.0', '50.0 - 51.0', '51.0 - 53.0', '53.0 - 55.0', '55.0 - 57.0'], 'waist_circumference_qc': ['510.0 - 740.0', '740.0 - 780.0']}, Score = 10.56486285033507\n",
      "Penalty = 3: Subset = {'waist_circumference_qc': ['510.0 - 740.0', '740.0 - 780.0']}, Score = 9.461265634299018\n",
      "Penalty = 4: Subset = {'waist_circumference_qc': ['510.0 - 740.0', '740.0 - 780.0']}, Score = 8.461265634299018\n",
      "Penalty = 5: Subset = {'waist_circumference_qc': ['510.0 - 740.0', '740.0 - 780.0']}, Score = 7.461265634299018\n",
      "Penalty = 6: Subset = {'waist_circumference_qc': ['510.0 - 740.0', '740.0 - 780.0']}, Score = 6.461265634299018\n",
      "Penalty = 7: Subset = {'waist_circumference_qc': ['510.0 - 740.0', '740.0 - 780.0']}, Score = 5.461265634299018\n"
     ]
    }
   ],
   "source": [
    "# %%time\n",
    "# Scan in the positive direction using defined penalties and num iters\n",
    "\n",
    "scoring_function = Bernoulli(direction='negative')\n",
    "scanner = MDSS(scoring_function)\n",
    "# Define a list of penalty values to loop through\n",
    "penalty_values = [1, 2, 3, 4, 5, 6, 7]\n",
    "\n",
    "# Initialize empty lists to store results\n",
    "subset_results = []\n",
    "score_results = []\n",
    "\n",
    "# Loop through each penalty value\n",
    "for penalty in penalty_values:\n",
    "    # Perform the scan with the current penalty value\n",
    "    subset, score = scanner.scan(dff_2[search_space], dff_2[target_col], dff_2['expectation'], cpu=0.95,\n",
    "                                 penalty=penalty, num_iters=num_iters, contiguous=contiguous.copy())\n",
    "    \n",
    "    # Append the results to the respective lists\n",
    "    subset_results.append(subset)\n",
    "    score_results.append(score)\n",
    "\n",
    "# Display the results for each penalty value\n",
    "for i, penalty in enumerate(penalty_values):\n",
    "    print(f\"Penalty = {penalty}: Subset = {subset_results[i]}, Score = {score_results[i]}\")"
   ]
  },
  {
   "cell_type": "code",
   "execution_count": 145,
   "metadata": {},
   "outputs": [
    {
     "name": "stdout",
     "output_type": "stream",
     "text": [
      "age = (40.0 - 57.0) AND\n",
      "waist circumference qc = (510.0 - 780.0)\n"
     ]
    }
   ],
   "source": [
    "print(translate_subset_to_rule(compress_contiguous(subset, contiguous)))"
   ]
  },
  {
   "cell_type": "code",
   "execution_count": 146,
   "metadata": {},
   "outputs": [
    {
     "name": "stdout",
     "output_type": "stream",
     "text": [
      "Our detected subgroup has a size of 281 \n",
      "Recall that our population average is 0.05051194539249148      \n",
      "In this subgroup, we observe a mean outcome of 0.0\n",
      "With 0 individuals in the group above average      \n",
      "This is a multiplicative factor in the odds (i.e q) of 0.0\n"
     ]
    }
   ],
   "source": [
    "to_choose = dff_2[subset.keys()].isin(subset).all(axis=1)\n",
    "temp_df = dff_2.loc[to_choose]\n",
    "\n",
    "size = len(temp_df)\n",
    "observed_income = np.round(temp_df[target_col].mean(), 3)\n",
    "positive_class_count = temp_df[target_col].sum()\n",
    "\n",
    "group_obs = temp_df[target_col].mean()\n",
    "group_prob = temp_df['expectation'].mean()\n",
    "odds_mul = (group_obs / (1 - group_obs)) / (group_prob /(1 - group_prob))\n",
    "\n",
    "print(\"Our detected subgroup has a size of {} \\nRecall that our population average is {}\\\n",
    "      \\nIn this subgroup, we observe a mean outcome of {}\\nWith {} individuals in the group above average\\\n",
    "      \\nThis is a multiplicative factor in the odds (i.e q) of {}\".\\\n",
    "      format(size, group_prob , observed_income, positive_class_count, np.round(odds_mul, 3)))"
   ]
  },
  {
   "cell_type": "code",
   "execution_count": null,
   "metadata": {},
   "outputs": [],
   "source": []
  }
 ],
 "metadata": {
  "kernelspec": {
   "display_name": "mdscan",
   "language": "python",
   "name": "python3"
  },
  "language_info": {
   "codemirror_mode": {
    "name": "ipython",
    "version": 3
   },
   "file_extension": ".py",
   "mimetype": "text/x-python",
   "name": "python",
   "nbconvert_exporter": "python",
   "pygments_lexer": "ipython3",
   "version": "3.9.16"
  }
 },
 "nbformat": 4,
 "nbformat_minor": 4
}
