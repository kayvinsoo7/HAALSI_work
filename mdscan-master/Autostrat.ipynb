{
 "cells": [
  {
   "cell_type": "code",
   "execution_count": 9,
   "metadata": {},
   "outputs": [],
   "source": [
    "from mdss.ScoringFunctions.Bernoulli import Bernoulli\n",
    "from mdss.MDSS import MDSS\n",
    "\n",
    "import numpy as np\n",
    "import pandas as pd\n",
    "from pandas.api.types import is_numeric_dtype\n",
    "\n",
    "import warnings\n",
    "\n",
    "warnings.filterwarnings('ignore')"
   ]
  },
  {
   "cell_type": "code",
   "execution_count": 10,
   "metadata": {},
   "outputs": [],
   "source": [
    "data = pd.read_csv('../project2_data_21_04_23.csv').drop(columns = \n",
    "       ['Unnamed: 0','study_id']).fillna(-999)\n",
    "# target_cols = ['htn_jnc7_qc', 'diabetes_status_c_qc', 'ckd_c_qc', 'cadiovascular_current']\n",
    "target_cols = ['htn_jnc7_qc', 'diabetes_status_c_qc']"
   ]
  },
  {
   "cell_type": "code",
   "execution_count": 11,
   "metadata": {},
   "outputs": [
    {
     "data": {
      "text/plain": [
       "1    2486\n",
       "3    2003\n",
       "Name: site, dtype: int64"
      ]
     },
     "execution_count": 11,
     "metadata": {},
     "output_type": "execute_result"
    }
   ],
   "source": [
    "data.site.value_counts()"
   ]
  },
  {
   "cell_type": "code",
   "execution_count": 12,
   "metadata": {},
   "outputs": [],
   "source": [
    "numeric_columns = [col for col in data.columns \\\n",
    "                     if (is_numeric_dtype(data[col])) \\\n",
    "                     & (col not in target_cols) \\\n",
    "                     & (data[col].nunique() > 10)]"
   ]
  },
  {
   "cell_type": "code",
   "execution_count": 13,
   "metadata": {},
   "outputs": [
    {
     "name": "stdout",
     "output_type": "stream",
     "text": [
      "Original size:  (1942, 25)\n",
      "Size after removing records with missing targets:  (1942, 25)\n"
     ]
    }
   ],
   "source": [
    "site_id = 3 # 1 - Agincourt, 3 - Nairobi\n",
    "\n",
    "# Choose the relevant site and age group\n",
    "dff = data[(data['site'] == site_id) & (data['age'] <= 60) & (data['age'] >= 40)].fillna(-999)\n",
    "\n",
    "print('Original size: ', dff.shape)\n",
    "dff = dff[(dff[target_cols] != -999).sum(axis = 1) == len(target_cols)].copy()\n",
    "print('Size after removing records with missing targets: ', dff.shape)"
   ]
  },
  {
   "cell_type": "code",
   "execution_count": 14,
   "metadata": {},
   "outputs": [
    {
     "data": {
      "text/plain": [
       "-999.0"
      ]
     },
     "execution_count": 14,
     "metadata": {},
     "output_type": "execute_result"
    }
   ],
   "source": [
    "dff.friedewald_ldl_c_c_qc.min()"
   ]
  },
  {
   "cell_type": "code",
   "execution_count": 15,
   "metadata": {},
   "outputs": [
    {
     "data": {
      "text/html": [
       "<div>\n",
       "<style scoped>\n",
       "    .dataframe tbody tr th:only-of-type {\n",
       "        vertical-align: middle;\n",
       "    }\n",
       "\n",
       "    .dataframe tbody tr th {\n",
       "        vertical-align: top;\n",
       "    }\n",
       "\n",
       "    .dataframe thead th {\n",
       "        text-align: right;\n",
       "    }\n",
       "</style>\n",
       "<table border=\"1\" class=\"dataframe\">\n",
       "  <thead>\n",
       "    <tr style=\"text-align: right;\">\n",
       "      <th></th>\n",
       "      <th>htn_jnc7_qc</th>\n",
       "      <th>diabetes_status_c_qc</th>\n",
       "      <th>ckd_c_qc</th>\n",
       "      <th>cadiovascular_current</th>\n",
       "      <th>bmi_c_qc</th>\n",
       "      <th>age</th>\n",
       "      <th>cimt_mean_max</th>\n",
       "      <th>cholesterol_1_qc</th>\n",
       "      <th>friedewald_ldl_c_c_qc</th>\n",
       "      <th>hdl_qc</th>\n",
       "      <th>...</th>\n",
       "      <th>site</th>\n",
       "      <th>sex</th>\n",
       "      <th>hiv_final_status_c</th>\n",
       "      <th>highest_level_of_education_qc</th>\n",
       "      <th>partnership_status_c_qc</th>\n",
       "      <th>ses_site_quintile_c_qc</th>\n",
       "      <th>occupation_qc</th>\n",
       "      <th>mvpa_cat_c</th>\n",
       "      <th>alcohol_use_status_c_qc</th>\n",
       "      <th>smoking_status_c_qc</th>\n",
       "    </tr>\n",
       "  </thead>\n",
       "  <tbody>\n",
       "    <tr>\n",
       "      <th>181</th>\n",
       "      <td>0</td>\n",
       "      <td>0</td>\n",
       "      <td>0</td>\n",
       "      <td>0.0</td>\n",
       "      <td>23.74</td>\n",
       "      <td>45</td>\n",
       "      <td>0.540</td>\n",
       "      <td>3.04</td>\n",
       "      <td>1.631818</td>\n",
       "      <td>1.14</td>\n",
       "      <td>...</td>\n",
       "      <td>3</td>\n",
       "      <td>1</td>\n",
       "      <td>0</td>\n",
       "      <td>2</td>\n",
       "      <td>1</td>\n",
       "      <td>4</td>\n",
       "      <td>1</td>\n",
       "      <td>1.0</td>\n",
       "      <td>3</td>\n",
       "      <td>0</td>\n",
       "    </tr>\n",
       "    <tr>\n",
       "      <th>358</th>\n",
       "      <td>1</td>\n",
       "      <td>0</td>\n",
       "      <td>1</td>\n",
       "      <td>0.0</td>\n",
       "      <td>18.95</td>\n",
       "      <td>46</td>\n",
       "      <td>0.700</td>\n",
       "      <td>3.40</td>\n",
       "      <td>1.790000</td>\n",
       "      <td>0.91</td>\n",
       "      <td>...</td>\n",
       "      <td>3</td>\n",
       "      <td>1</td>\n",
       "      <td>2</td>\n",
       "      <td>1</td>\n",
       "      <td>1</td>\n",
       "      <td>2</td>\n",
       "      <td>3</td>\n",
       "      <td>1.0</td>\n",
       "      <td>3</td>\n",
       "      <td>1</td>\n",
       "    </tr>\n",
       "    <tr>\n",
       "      <th>372</th>\n",
       "      <td>1</td>\n",
       "      <td>0</td>\n",
       "      <td>0</td>\n",
       "      <td>0.0</td>\n",
       "      <td>31.31</td>\n",
       "      <td>55</td>\n",
       "      <td>0.670</td>\n",
       "      <td>3.16</td>\n",
       "      <td>1.013636</td>\n",
       "      <td>1.81</td>\n",
       "      <td>...</td>\n",
       "      <td>3</td>\n",
       "      <td>0</td>\n",
       "      <td>0</td>\n",
       "      <td>1</td>\n",
       "      <td>2</td>\n",
       "      <td>1</td>\n",
       "      <td>0</td>\n",
       "      <td>1.0</td>\n",
       "      <td>0</td>\n",
       "      <td>0</td>\n",
       "    </tr>\n",
       "    <tr>\n",
       "      <th>380</th>\n",
       "      <td>0</td>\n",
       "      <td>0</td>\n",
       "      <td>0</td>\n",
       "      <td>0.0</td>\n",
       "      <td>22.93</td>\n",
       "      <td>41</td>\n",
       "      <td>0.640</td>\n",
       "      <td>5.64</td>\n",
       "      <td>3.691818</td>\n",
       "      <td>1.28</td>\n",
       "      <td>...</td>\n",
       "      <td>3</td>\n",
       "      <td>1</td>\n",
       "      <td>0</td>\n",
       "      <td>2</td>\n",
       "      <td>1</td>\n",
       "      <td>4</td>\n",
       "      <td>3</td>\n",
       "      <td>1.0</td>\n",
       "      <td>1</td>\n",
       "      <td>0</td>\n",
       "    </tr>\n",
       "    <tr>\n",
       "      <th>382</th>\n",
       "      <td>0</td>\n",
       "      <td>0</td>\n",
       "      <td>0</td>\n",
       "      <td>0.0</td>\n",
       "      <td>19.22</td>\n",
       "      <td>44</td>\n",
       "      <td>0.945</td>\n",
       "      <td>4.66</td>\n",
       "      <td>3.144545</td>\n",
       "      <td>1.12</td>\n",
       "      <td>...</td>\n",
       "      <td>3</td>\n",
       "      <td>1</td>\n",
       "      <td>0</td>\n",
       "      <td>2</td>\n",
       "      <td>1</td>\n",
       "      <td>2</td>\n",
       "      <td>3</td>\n",
       "      <td>1.0</td>\n",
       "      <td>1</td>\n",
       "      <td>1</td>\n",
       "    </tr>\n",
       "    <tr>\n",
       "      <th>...</th>\n",
       "      <td>...</td>\n",
       "      <td>...</td>\n",
       "      <td>...</td>\n",
       "      <td>...</td>\n",
       "      <td>...</td>\n",
       "      <td>...</td>\n",
       "      <td>...</td>\n",
       "      <td>...</td>\n",
       "      <td>...</td>\n",
       "      <td>...</td>\n",
       "      <td>...</td>\n",
       "      <td>...</td>\n",
       "      <td>...</td>\n",
       "      <td>...</td>\n",
       "      <td>...</td>\n",
       "      <td>...</td>\n",
       "      <td>...</td>\n",
       "      <td>...</td>\n",
       "      <td>...</td>\n",
       "      <td>...</td>\n",
       "      <td>...</td>\n",
       "    </tr>\n",
       "    <tr>\n",
       "      <th>4467</th>\n",
       "      <td>0</td>\n",
       "      <td>1</td>\n",
       "      <td>0</td>\n",
       "      <td>0.0</td>\n",
       "      <td>25.78</td>\n",
       "      <td>46</td>\n",
       "      <td>0.640</td>\n",
       "      <td>7.79</td>\n",
       "      <td>-999.000000</td>\n",
       "      <td>0.87</td>\n",
       "      <td>...</td>\n",
       "      <td>3</td>\n",
       "      <td>1</td>\n",
       "      <td>0</td>\n",
       "      <td>1</td>\n",
       "      <td>1</td>\n",
       "      <td>2</td>\n",
       "      <td>0</td>\n",
       "      <td>0.0</td>\n",
       "      <td>3</td>\n",
       "      <td>0</td>\n",
       "    </tr>\n",
       "    <tr>\n",
       "      <th>4474</th>\n",
       "      <td>0</td>\n",
       "      <td>0</td>\n",
       "      <td>0</td>\n",
       "      <td>0.0</td>\n",
       "      <td>17.91</td>\n",
       "      <td>50</td>\n",
       "      <td>0.720</td>\n",
       "      <td>3.89</td>\n",
       "      <td>2.752727</td>\n",
       "      <td>0.61</td>\n",
       "      <td>...</td>\n",
       "      <td>3</td>\n",
       "      <td>0</td>\n",
       "      <td>1</td>\n",
       "      <td>2</td>\n",
       "      <td>1</td>\n",
       "      <td>2</td>\n",
       "      <td>3</td>\n",
       "      <td>1.0</td>\n",
       "      <td>0</td>\n",
       "      <td>0</td>\n",
       "    </tr>\n",
       "    <tr>\n",
       "      <th>4476</th>\n",
       "      <td>0</td>\n",
       "      <td>1</td>\n",
       "      <td>0</td>\n",
       "      <td>0.0</td>\n",
       "      <td>24.51</td>\n",
       "      <td>53</td>\n",
       "      <td>0.680</td>\n",
       "      <td>4.70</td>\n",
       "      <td>3.043636</td>\n",
       "      <td>1.12</td>\n",
       "      <td>...</td>\n",
       "      <td>3</td>\n",
       "      <td>0</td>\n",
       "      <td>2</td>\n",
       "      <td>2</td>\n",
       "      <td>1</td>\n",
       "      <td>5</td>\n",
       "      <td>0</td>\n",
       "      <td>0.0</td>\n",
       "      <td>0</td>\n",
       "      <td>0</td>\n",
       "    </tr>\n",
       "    <tr>\n",
       "      <th>4481</th>\n",
       "      <td>0</td>\n",
       "      <td>0</td>\n",
       "      <td>0</td>\n",
       "      <td>0.0</td>\n",
       "      <td>27.17</td>\n",
       "      <td>52</td>\n",
       "      <td>0.720</td>\n",
       "      <td>2.81</td>\n",
       "      <td>1.308182</td>\n",
       "      <td>0.97</td>\n",
       "      <td>...</td>\n",
       "      <td>3</td>\n",
       "      <td>1</td>\n",
       "      <td>0</td>\n",
       "      <td>2</td>\n",
       "      <td>1</td>\n",
       "      <td>3</td>\n",
       "      <td>1</td>\n",
       "      <td>1.0</td>\n",
       "      <td>0</td>\n",
       "      <td>0</td>\n",
       "    </tr>\n",
       "    <tr>\n",
       "      <th>4486</th>\n",
       "      <td>1</td>\n",
       "      <td>0</td>\n",
       "      <td>0</td>\n",
       "      <td>0.0</td>\n",
       "      <td>18.48</td>\n",
       "      <td>53</td>\n",
       "      <td>0.635</td>\n",
       "      <td>5.05</td>\n",
       "      <td>2.929091</td>\n",
       "      <td>1.48</td>\n",
       "      <td>...</td>\n",
       "      <td>3</td>\n",
       "      <td>1</td>\n",
       "      <td>0</td>\n",
       "      <td>2</td>\n",
       "      <td>1</td>\n",
       "      <td>3</td>\n",
       "      <td>1</td>\n",
       "      <td>1.0</td>\n",
       "      <td>1</td>\n",
       "      <td>2</td>\n",
       "    </tr>\n",
       "  </tbody>\n",
       "</table>\n",
       "<p>1942 rows × 25 columns</p>\n",
       "</div>"
      ],
      "text/plain": [
       "      htn_jnc7_qc  diabetes_status_c_qc  ckd_c_qc  cadiovascular_current  \\\n",
       "181             0                     0         0                    0.0   \n",
       "358             1                     0         1                    0.0   \n",
       "372             1                     0         0                    0.0   \n",
       "380             0                     0         0                    0.0   \n",
       "382             0                     0         0                    0.0   \n",
       "...           ...                   ...       ...                    ...   \n",
       "4467            0                     1         0                    0.0   \n",
       "4474            0                     0         0                    0.0   \n",
       "4476            0                     1         0                    0.0   \n",
       "4481            0                     0         0                    0.0   \n",
       "4486            1                     0         0                    0.0   \n",
       "\n",
       "      bmi_c_qc  age  cimt_mean_max  cholesterol_1_qc  friedewald_ldl_c_c_qc  \\\n",
       "181      23.74   45          0.540              3.04               1.631818   \n",
       "358      18.95   46          0.700              3.40               1.790000   \n",
       "372      31.31   55          0.670              3.16               1.013636   \n",
       "380      22.93   41          0.640              5.64               3.691818   \n",
       "382      19.22   44          0.945              4.66               3.144545   \n",
       "...        ...  ...            ...               ...                    ...   \n",
       "4467     25.78   46          0.640              7.79            -999.000000   \n",
       "4474     17.91   50          0.720              3.89               2.752727   \n",
       "4476     24.51   53          0.680              4.70               3.043636   \n",
       "4481     27.17   52          0.720              2.81               1.308182   \n",
       "4486     18.48   53          0.635              5.05               2.929091   \n",
       "\n",
       "      hdl_qc  ...  site  sex  hiv_final_status_c  \\\n",
       "181     1.14  ...     3    1                   0   \n",
       "358     0.91  ...     3    1                   2   \n",
       "372     1.81  ...     3    0                   0   \n",
       "380     1.28  ...     3    1                   0   \n",
       "382     1.12  ...     3    1                   0   \n",
       "...      ...  ...   ...  ...                 ...   \n",
       "4467    0.87  ...     3    1                   0   \n",
       "4474    0.61  ...     3    0                   1   \n",
       "4476    1.12  ...     3    0                   2   \n",
       "4481    0.97  ...     3    1                   0   \n",
       "4486    1.48  ...     3    1                   0   \n",
       "\n",
       "      highest_level_of_education_qc  partnership_status_c_qc  \\\n",
       "181                               2                        1   \n",
       "358                               1                        1   \n",
       "372                               1                        2   \n",
       "380                               2                        1   \n",
       "382                               2                        1   \n",
       "...                             ...                      ...   \n",
       "4467                              1                        1   \n",
       "4474                              2                        1   \n",
       "4476                              2                        1   \n",
       "4481                              2                        1   \n",
       "4486                              2                        1   \n",
       "\n",
       "      ses_site_quintile_c_qc  occupation_qc  mvpa_cat_c  \\\n",
       "181                        4              1         1.0   \n",
       "358                        2              3         1.0   \n",
       "372                        1              0         1.0   \n",
       "380                        4              3         1.0   \n",
       "382                        2              3         1.0   \n",
       "...                      ...            ...         ...   \n",
       "4467                       2              0         0.0   \n",
       "4474                       2              3         1.0   \n",
       "4476                       5              0         0.0   \n",
       "4481                       3              1         1.0   \n",
       "4486                       3              1         1.0   \n",
       "\n",
       "      alcohol_use_status_c_qc  smoking_status_c_qc  \n",
       "181                         3                    0  \n",
       "358                         3                    1  \n",
       "372                         0                    0  \n",
       "380                         1                    0  \n",
       "382                         1                    1  \n",
       "...                       ...                  ...  \n",
       "4467                        3                    0  \n",
       "4474                        0                    0  \n",
       "4476                        0                    0  \n",
       "4481                        0                    0  \n",
       "4486                        1                    2  \n",
       "\n",
       "[1942 rows x 25 columns]"
      ]
     },
     "execution_count": 15,
     "metadata": {},
     "output_type": "execute_result"
    }
   ],
   "source": [
    "dff"
   ]
  },
  {
   "cell_type": "code",
   "execution_count": 16,
   "metadata": {},
   "outputs": [
    {
     "name": "stdout",
     "output_type": "stream",
     "text": [
      "Original size:  (1465, 25)\n",
      "Size after removing records with missing targets:  (1465, 25)\n"
     ]
    }
   ],
   "source": [
    "dff1 = dff.replace([-999, -222, -111, 999], np.nan).copy()\n",
    "\n",
    "site_id = 1 # 1 - Agincourt, 3 - Nairobi\n",
    "\n",
    "# Choose the relevant site and age group\n",
    "dff = data[(data['site'] == site_id) & (data['age'] <= 60) & (data['age'] >= 40)].fillna(-999)\n",
    "\n",
    "print('Original size: ', dff.shape)\n",
    "dff = dff[(dff[target_cols] != -999).sum(axis = 1) == len(target_cols)]\n",
    "print('Size after removing records with missing targets: ', dff.shape)"
   ]
  },
  {
   "cell_type": "code",
   "execution_count": 17,
   "metadata": {},
   "outputs": [],
   "source": [
    "dff1 = dff.replace([-999, -222, -111, 999], np.nan).copy()"
   ]
  },
  {
   "cell_type": "code",
   "execution_count": 18,
   "metadata": {},
   "outputs": [
    {
     "data": {
      "text/plain": [
       "<Axes: ylabel='Density'>"
      ]
     },
     "execution_count": 18,
     "metadata": {},
     "output_type": "execute_result"
    },
    {
     "data": {
      "image/png": "[encoded data removed]",
      "text/plain": [
       "<Figure size 640x480 with 1 Axes>"
      ]
     },
     "metadata": {},
     "output_type": "display_data"
    }
   ],
   "source": [
    "from sklearn.linear_model import BayesianRidge\n",
    "from sklearn.experimental import enable_iterative_imputer\n",
    "from sklearn.impute import IterativeImputer\n",
    "import matplotlib.pyplot as plt\n",
    "imputer_bayes = IterativeImputer(\n",
    "    estimator=BayesianRidge(),\n",
    "    max_iter=10,\n",
    "    random_state=42)\n",
    "\n",
    "# let's create a MICE imputer using Bayes as estimator\n",
    "\n",
    "imputer = IterativeImputer(\n",
    "    estimator=BayesianRidge(), # the estimator to predict the NA\n",
    "    initial_strategy='mean', # how will NA be imputed in step 1\n",
    "    max_iter=10, # number of cycles\n",
    "    imputation_order='ascending', # the order in which to impute the variables\n",
    "    n_nearest_features=None, # whether to limit the number of predictors\n",
    "    skip_complete=True, # whether to ignore variables without NA\n",
    "    random_state=0,\n",
    ")\n",
    "imputer.fit(dff1)\n",
    "train_t = imputer.transform(dff1)\n",
    "# train_x = imputer.transform(data.iloc[:,2:])\n",
    "treated = pd.DataFrame(train_t, columns=dff1.columns)\n",
    "# treated = treated.apply(np.ceil)\n",
    "treated.loc[:,['highest_level_of_education_qc','occupation_qc','smoking_status_c_qc']]\\\n",
    "      = np.round(treated.loc[:,['highest_level_of_education_qc','occupation_qc','smoking_status_c_qc']], decimals=0)\n",
    "\n",
    "fig = plt.figure()\n",
    "ax = fig.add_subplot(111)\n",
    "dff1['cimt_mean_max'].plot(kind='kde', ax=ax, color='blue')\n",
    "treated['cimt_mean_max'].plot(kind='kde', ax=ax, color='green')"
   ]
  },
  {
   "cell_type": "code",
   "execution_count": 19,
   "metadata": {},
   "outputs": [
    {
     "data": {
      "text/plain": [
       "197"
      ]
     },
     "execution_count": 19,
     "metadata": {},
     "output_type": "execute_result"
    }
   ],
   "source": [
    "dff1['cimt_mean_max'].isnull().sum()"
   ]
  },
  {
   "cell_type": "code",
   "execution_count": 20,
   "metadata": {},
   "outputs": [
    {
     "data": {
      "text/html": [
       "<div>\n",
       "<style scoped>\n",
       "    .dataframe tbody tr th:only-of-type {\n",
       "        vertical-align: middle;\n",
       "    }\n",
       "\n",
       "    .dataframe tbody tr th {\n",
       "        vertical-align: top;\n",
       "    }\n",
       "\n",
       "    .dataframe thead th {\n",
       "        text-align: right;\n",
       "    }\n",
       "</style>\n",
       "<table border=\"1\" class=\"dataframe\">\n",
       "  <thead>\n",
       "    <tr style=\"text-align: right;\">\n",
       "      <th></th>\n",
       "      <th>occupation_qc</th>\n",
       "    </tr>\n",
       "  </thead>\n",
       "  <tbody>\n",
       "    <tr>\n",
       "      <th>0</th>\n",
       "      <td>2.0</td>\n",
       "    </tr>\n",
       "    <tr>\n",
       "      <th>1</th>\n",
       "      <td>4.0</td>\n",
       "    </tr>\n",
       "    <tr>\n",
       "      <th>2</th>\n",
       "      <td>4.0</td>\n",
       "    </tr>\n",
       "    <tr>\n",
       "      <th>3</th>\n",
       "      <td>2.0</td>\n",
       "    </tr>\n",
       "    <tr>\n",
       "      <th>4</th>\n",
       "      <td>4.0</td>\n",
       "    </tr>\n",
       "    <tr>\n",
       "      <th>...</th>\n",
       "      <td>...</td>\n",
       "    </tr>\n",
       "    <tr>\n",
       "      <th>1460</th>\n",
       "      <td>4.0</td>\n",
       "    </tr>\n",
       "    <tr>\n",
       "      <th>1461</th>\n",
       "      <td>3.0</td>\n",
       "    </tr>\n",
       "    <tr>\n",
       "      <th>1462</th>\n",
       "      <td>4.0</td>\n",
       "    </tr>\n",
       "    <tr>\n",
       "      <th>1463</th>\n",
       "      <td>4.0</td>\n",
       "    </tr>\n",
       "    <tr>\n",
       "      <th>1464</th>\n",
       "      <td>2.0</td>\n",
       "    </tr>\n",
       "  </tbody>\n",
       "</table>\n",
       "<p>1465 rows × 1 columns</p>\n",
       "</div>"
      ],
      "text/plain": [
       "      occupation_qc\n",
       "0               2.0\n",
       "1               4.0\n",
       "2               4.0\n",
       "3               2.0\n",
       "4               4.0\n",
       "...             ...\n",
       "1460            4.0\n",
       "1461            3.0\n",
       "1462            4.0\n",
       "1463            4.0\n",
       "1464            2.0\n",
       "\n",
       "[1465 rows x 1 columns]"
      ]
     },
     "execution_count": 20,
     "metadata": {},
     "output_type": "execute_result"
    }
   ],
   "source": [
    "# treated.loc[:,['highest_level_of_education_qc']].apply(np.ceil).value_counts()\n",
    "np.round(treated.loc[:,['occupation_qc']], decimals=0)"
   ]
  },
  {
   "cell_type": "code",
   "execution_count": 21,
   "metadata": {},
   "outputs": [
    {
     "data": {
      "text/plain": [
       "2.0    4\n",
       "3.0    3\n",
       "dtype: int64"
      ]
     },
     "execution_count": 21,
     "metadata": {},
     "output_type": "execute_result"
    }
   ],
   "source": [
    "np.round(pd.DataFrame([2.3,2.5,2.1,2.7,2.9,2.15,2.58]), decimals=0).value_counts()"
   ]
  },
  {
   "cell_type": "code",
   "execution_count": 22,
   "metadata": {},
   "outputs": [],
   "source": [
    "target_col = 'diab_hyp'\n",
    "\n",
    "# defining the target column to be a column where the sum of the target values >= 2\n",
    "dff[target_col] = (dff[target_cols] == 1).sum(axis = 1) == 2\n",
    "\n",
    "# defining the expectations as mean of the target\n",
    "dff['expectation'] = dff[target_col].mean()\n",
    "# dff['expectation'].head()\n",
    "\n",
    "# target_col = 'diab_hyp'\n",
    "\n",
    "# defining the target column to be a column where the sum of the target values >= 2\n",
    "treated[target_col] = (treated[target_cols] == 1).sum(axis = 1) == 2\n",
    "\n",
    "# defining the expectations as mean of the target\n",
    "treated['expectation'] = treated[target_col].mean()"
   ]
  },
  {
   "cell_type": "code",
   "execution_count": 23,
   "metadata": {},
   "outputs": [
    {
     "data": {
      "text/html": [
       "<div>\n",
       "<style scoped>\n",
       "    .dataframe tbody tr th:only-of-type {\n",
       "        vertical-align: middle;\n",
       "    }\n",
       "\n",
       "    .dataframe tbody tr th {\n",
       "        vertical-align: top;\n",
       "    }\n",
       "\n",
       "    .dataframe thead th {\n",
       "        text-align: right;\n",
       "    }\n",
       "</style>\n",
       "<table border=\"1\" class=\"dataframe\">\n",
       "  <thead>\n",
       "    <tr style=\"text-align: right;\">\n",
       "      <th></th>\n",
       "      <th>diab_hyp</th>\n",
       "      <th>htn_jnc7_qc</th>\n",
       "      <th>diabetes_status_c_qc</th>\n",
       "    </tr>\n",
       "  </thead>\n",
       "  <tbody>\n",
       "    <tr>\n",
       "      <th>0</th>\n",
       "      <td>False</td>\n",
       "      <td>0.0</td>\n",
       "      <td>0.0</td>\n",
       "    </tr>\n",
       "    <tr>\n",
       "      <th>1</th>\n",
       "      <td>False</td>\n",
       "      <td>1.0</td>\n",
       "      <td>0.0</td>\n",
       "    </tr>\n",
       "    <tr>\n",
       "      <th>2</th>\n",
       "      <td>False</td>\n",
       "      <td>0.0</td>\n",
       "      <td>0.0</td>\n",
       "    </tr>\n",
       "    <tr>\n",
       "      <th>3</th>\n",
       "      <td>False</td>\n",
       "      <td>0.0</td>\n",
       "      <td>0.0</td>\n",
       "    </tr>\n",
       "    <tr>\n",
       "      <th>4</th>\n",
       "      <td>False</td>\n",
       "      <td>0.0</td>\n",
       "      <td>0.0</td>\n",
       "    </tr>\n",
       "    <tr>\n",
       "      <th>...</th>\n",
       "      <td>...</td>\n",
       "      <td>...</td>\n",
       "      <td>...</td>\n",
       "    </tr>\n",
       "    <tr>\n",
       "      <th>1460</th>\n",
       "      <td>False</td>\n",
       "      <td>1.0</td>\n",
       "      <td>0.0</td>\n",
       "    </tr>\n",
       "    <tr>\n",
       "      <th>1461</th>\n",
       "      <td>True</td>\n",
       "      <td>1.0</td>\n",
       "      <td>1.0</td>\n",
       "    </tr>\n",
       "    <tr>\n",
       "      <th>1462</th>\n",
       "      <td>False</td>\n",
       "      <td>0.0</td>\n",
       "      <td>0.0</td>\n",
       "    </tr>\n",
       "    <tr>\n",
       "      <th>1463</th>\n",
       "      <td>False</td>\n",
       "      <td>0.0</td>\n",
       "      <td>0.0</td>\n",
       "    </tr>\n",
       "    <tr>\n",
       "      <th>1464</th>\n",
       "      <td>False</td>\n",
       "      <td>0.0</td>\n",
       "      <td>0.0</td>\n",
       "    </tr>\n",
       "  </tbody>\n",
       "</table>\n",
       "<p>1465 rows × 3 columns</p>\n",
       "</div>"
      ],
      "text/plain": [
       "      diab_hyp  htn_jnc7_qc  diabetes_status_c_qc\n",
       "0        False          0.0                   0.0\n",
       "1        False          1.0                   0.0\n",
       "2        False          0.0                   0.0\n",
       "3        False          0.0                   0.0\n",
       "4        False          0.0                   0.0\n",
       "...        ...          ...                   ...\n",
       "1460     False          1.0                   0.0\n",
       "1461      True          1.0                   1.0\n",
       "1462     False          0.0                   0.0\n",
       "1463     False          0.0                   0.0\n",
       "1464     False          0.0                   0.0\n",
       "\n",
       "[1465 rows x 3 columns]"
      ]
     },
     "execution_count": 23,
     "metadata": {},
     "output_type": "execute_result"
    }
   ],
   "source": [
    "treated.loc[:,['diab_hyp','htn_jnc7_qc', 'diabetes_status_c_qc']]"
   ]
  },
  {
   "cell_type": "code",
   "execution_count": 24,
   "metadata": {},
   "outputs": [],
   "source": [
    "# Defining the search space to be all the features except site, study_id, \n",
    "# and our created target_col and expectations columns\n",
    "\n",
    "search_space = [col for col in dff.columns \\\n",
    "                if col not in \\\n",
    "                [target_col, 'site', 'study_id', 'expectation', \\\n",
    "                'htn_jnc7_qc', 'diabetes_status_c_qc', 'ckd_c_qc', 'cadiovascular_current']]"
   ]
  },
  {
   "cell_type": "code",
   "execution_count": 25,
   "metadata": {},
   "outputs": [
    {
     "data": {
      "text/plain": [
       "['bmi_c_qc',\n",
       " 'age',\n",
       " 'cimt_mean_max',\n",
       " 'cholesterol_1_qc',\n",
       " 'friedewald_ldl_c_c_qc',\n",
       " 'hdl_qc',\n",
       " 'triglycerides_qc',\n",
       " 'waist_hip_r_c_qc',\n",
       " 'waist_circumference_qc',\n",
       " 'visceral_fat_qc',\n",
       " 'subcutaneous_fat_qc',\n",
       " 'sex',\n",
       " 'hiv_final_status_c',\n",
       " 'highest_level_of_education_qc',\n",
       " 'partnership_status_c_qc',\n",
       " 'ses_site_quintile_c_qc',\n",
       " 'occupation_qc',\n",
       " 'mvpa_cat_c',\n",
       " 'alcohol_use_status_c_qc',\n",
       " 'smoking_status_c_qc']"
      ]
     },
     "execution_count": 25,
     "metadata": {},
     "output_type": "execute_result"
    }
   ],
   "source": [
    "search_space"
   ]
  },
  {
   "cell_type": "code",
   "execution_count": 26,
   "metadata": {},
   "outputs": [
    {
     "data": {
      "text/plain": [
       "20"
      ]
     },
     "execution_count": 26,
     "metadata": {},
     "output_type": "execute_result"
    }
   ],
   "source": [
    "len(search_space)"
   ]
  },
  {
   "cell_type": "code",
   "execution_count": 27,
   "metadata": {},
   "outputs": [],
   "source": [
    "def get_str(x):\n",
    "    # This function turns a pandas bin to a meaningful string\n",
    "    s = str(round(x.left, 2)) + ' - ' + str(round(x.right,2))\n",
    "    return s\n",
    "\n",
    "def custom_qcut(ser, contiguous = True):\n",
    "    # Get the rows that are actual numbers\n",
    "    sub_ser = ser[(ser != -111) \\\n",
    "                     & (ser != -222) \\\n",
    "                     & (ser != -555) \\\n",
    "                     & (ser != -999)]\n",
    "    \n",
    "    if contiguous:\n",
    "        # if contiguous, treat all the special numbers the same\n",
    "        ser = ser.replace(-111 , -999)\n",
    "        ser = ser.replace(-222 , -999)\n",
    "        ser = ser.replace(-555 , -999)\n",
    "\n",
    "    # Bin the actual numbers into 10 bins for scanning\n",
    "    sub_ser = pd.qcut(sub_ser, 10, duplicates='drop')\n",
    "    sub_ser = sub_ser.apply(get_str).astype(str)\n",
    "    ser[list(sub_ser.index)] = sub_ser\n",
    "    return ser\n",
    "            "
   ]
  },
  {
   "cell_type": "code",
   "execution_count": 28,
   "metadata": {},
   "outputs": [],
   "source": [
    "contiguous = {}\n",
    "dff_2 = dff.copy()\n",
    "\n",
    "# Create a new dataframe with the numeric columns bins     \n",
    "for col in numeric_columns:\n",
    "    if col in search_space:\n",
    "        dff_2[col] = custom_qcut(dff_2[col].copy())\n",
    "        \n",
    "        bins = list(dff_2[col].unique())\n",
    "        \n",
    "        if -999 in bins:\n",
    "            bins.remove(-999)\n",
    "        \n",
    "        bins = sorted(bins, key=lambda x : float(x.split(' - ')[0]))\n",
    "        \n",
    "        contiguous[col] = bins"
   ]
  },
  {
   "cell_type": "markdown",
   "metadata": {},
   "source": [
    "#### For treated missingness\n",
    "Rerun the next cells and jump to next markdown cell"
   ]
  },
  {
   "cell_type": "code",
   "execution_count": 29,
   "metadata": {},
   "outputs": [],
   "source": [
    "contiguous = {}\n",
    "dff_2 = treated.copy()\n",
    "\n",
    "# Create a new dataframe with the numeric columns bins     \n",
    "for col in numeric_columns:\n",
    "    if col in search_space:\n",
    "        dff_2[col] = custom_qcut(dff_2[col].copy())\n",
    "        \n",
    "        bins = list(dff_2[col].unique())\n",
    "        \n",
    "        if -999 in bins:\n",
    "            bins.remove(-999)\n",
    "        \n",
    "        bins = sorted(bins, key=lambda x : float(x.split(' - ')[0]))\n",
    "        \n",
    "        contiguous[col] = bins"
   ]
  },
  {
   "cell_type": "code",
   "execution_count": 30,
   "metadata": {},
   "outputs": [],
   "source": [
    "def compress_contiguous(subset, contiguous):\n",
    "    # Shorten a contiguous list e.g [0-9, 10-19] is converted to [0 - 19] \n",
    "    new = {}\n",
    "    \n",
    "    for col in subset:\n",
    "        if col in contiguous:\n",
    "            if isinstance(subset[col][0], (float,int)):\n",
    "                new[col] = [str(c) for c in subset[col]]\n",
    "                continue\n",
    "            i = -1 if isinstance(subset[col][-1], str) else -2\n",
    "            new[col] = [subset[col][0].split(' - ')[0] + ' - ' + subset[col][i].split(' - ')[-1]]\n",
    "            new[col] = new[col] if i == -1 else new[col] + [str(subset[col][-1])]\n",
    "        else:\n",
    "            new[col] = [str(c) for c in subset[col]]\n",
    "    return new\n",
    "\n",
    "def translate_subset_to_rule(subset):\n",
    "    # Print the subset as a rule for easier understanding\n",
    "    desc = ''\n",
    "    for key, value in subset.items():\n",
    "        desc += key + ' = {' + ' OR '.join(value) + '} AND' + '\\n'\n",
    "\n",
    "    return desc[:-5].replace('_',' ').replace('{', '(').replace('}', ')')"
   ]
  },
  {
   "cell_type": "code",
   "execution_count": 31,
   "metadata": {},
   "outputs": [
    {
     "name": "stdout",
     "output_type": "stream",
     "text": [
      "Penalty = 1: Subset = {'cholesterol_1_qc': ['0.3 - 2.78', '2.78 - 3.16', '3.16 - 3.47', '3.47 - 3.71', '3.71 - 3.99', '3.99 - 4.15', '4.15 - 4.46', '4.46 - 4.78'], 'bmi_c_qc': ['27.97 - 30.09', '30.09 - 32.59', '32.59 - 35.92', '35.92 - 68.02'], 'subcutaneous_fat_qc': ['1.54 - 1.82', '1.82 - 2.17', '2.17 - 2.54', '2.54 - 2.95', '2.95 - 4.28', '4.28 - 10.41'], 'ses_site_quintile_c_qc': [5.0], 'visceral_fat_qc': ['-0.74 - 2.82', '2.82 - 4.16', '4.16 - 4.87', '4.87 - 5.42', '5.42 - 5.91', '5.91 - 6.36', '6.36 - 6.85', '6.85 - 7.63', '7.63 - 8.64'], 'cimt_mean_max': ['0.62 - 0.64', '0.64 - 0.66', '0.66 - 0.68', '0.68 - 0.71', '0.71 - 0.74', '0.74 - 0.77', '0.77 - 0.83', '0.83 - 1.7'], 'waist_hip_r_c_qc': ['0.94 - 0.97', '0.97 - 1.0', '1.0 - 1.16'], 'age': ['42.0 - 44.0', '44.0 - 47.0', '47.0 - 50.0', '50.0 - 51.0', '51.0 - 53.0', '53.0 - 55.0', '55.0 - 57.0', '57.0 - 58.0']}, Score = 11.813000759857985\n",
      "Penalty = 2: Subset = {'friedewald_ldl_c_c_qc': ['-3.31 - 1.37', '1.37 - 1.69', '1.69 - 1.92', '1.92 - 2.14', '2.14 - 2.37', '2.37 - 2.49', '2.49 - 2.79', '2.79 - 3.06', '3.06 - 3.54'], 'waist_hip_r_c_qc': ['1.0 - 1.16'], 'cimt_mean_max': ['0.74 - 0.77', '0.77 - 0.83', '0.83 - 1.7']}, Score = 14.378834027066976\n",
      "Penalty = 3: Subset = {'cimt_mean_max': ['0.74 - 0.77', '0.77 - 0.83', '0.83 - 1.7'], 'waist_hip_r_c_qc': ['1.0 - 1.16']}, Score = 12.187553177273294\n",
      "Penalty = 4: Subset = {'cimt_mean_max': ['0.74 - 0.77', '0.77 - 0.83', '0.83 - 1.7'], 'waist_hip_r_c_qc': ['1.0 - 1.16']}, Score = 10.187553177273294\n",
      "Penalty = 5: Subset = {'cimt_mean_max': ['0.74 - 0.77', '0.77 - 0.83', '0.83 - 1.7'], 'waist_hip_r_c_qc': ['1.0 - 1.16']}, Score = 8.187553177273294\n",
      "Penalty = 6: Subset = {'cimt_mean_max': ['0.74 - 0.77', '0.77 - 0.83', '0.83 - 1.7'], 'waist_hip_r_c_qc': ['1.0 - 1.16']}, Score = 6.187553177273294\n",
      "Penalty = 7: Subset = {'cimt_mean_max': ['0.74 - 0.77', '0.77 - 0.83', '0.83 - 1.7'], 'waist_hip_r_c_qc': ['1.0 - 1.16']}, Score = 4.187553177273294\n"
     ]
    }
   ],
   "source": [
    "# %%time\n",
    "# Scan in the positive direction using defined penalties and num iters\n",
    "\n",
    "scoring_function = Bernoulli(direction='positive')\n",
    "scanner = MDSS(scoring_function)\n",
    "# Define a list of penalty values to loop through\n",
    "penalty_values = [1, 2, 3, 4, 5, 6, 7]\n",
    "num_iters = 10\n",
    "# Initialize empty lists to store results\n",
    "subset_results = []\n",
    "score_results = []\n",
    "\n",
    "# Loop through each penalty value\n",
    "for penalty in penalty_values:\n",
    "    # Perform the scan with the current penalty value\n",
    "    subset, score = scanner.scan(dff_2[search_space], dff_2[target_col], dff_2['expectation'], cpu=0.95,\n",
    "                                 penalty=penalty, num_iters=num_iters, contiguous=contiguous.copy())\n",
    "    \n",
    "    # Append the results to the respective lists\n",
    "    subset_results.append(subset)\n",
    "    score_results.append(score)\n",
    "\n",
    "# Display the results for each penalty value\n",
    "for i, penalty in enumerate(penalty_values):\n",
    "    print(f\"Penalty = {penalty}: Subset = {subset_results[i]}, Score = {score_results[i]}\")"
   ]
  },
  {
   "cell_type": "code",
   "execution_count": 51,
   "metadata": {},
   "outputs": [
    {
     "name": "stdout",
     "output_type": "stream",
     "text": [
      "CPU times: user 242 ms, sys: 92.9 ms, total: 335 ms\n",
      "Wall time: 3.01 s\n"
     ]
    },
    {
     "data": {
      "text/plain": [
       "({'cimt_mean_max': ['0.74 - 0.77', '0.77 - 0.83', '0.83 - 1.7'],\n",
       "  'waist_hip_r_c_qc': ['1.0 - 1.16']},\n",
       " 12.187553177273294)"
      ]
     },
     "execution_count": 51,
     "metadata": {},
     "output_type": "execute_result"
    }
   ],
   "source": [
    "%%time\n",
    "# Scan in the positive direction using defined penalties and num iters\n",
    "\n",
    "scoring_function = Bernoulli(direction='positive')\n",
    "scanner = MDSS(scoring_function)\n",
    "\n",
    "penalty = 3\n",
    "num_iters = 10\n",
    "\n",
    "subset, score = scanner.scan(dff_2[search_space], dff_2[target_col], dff_2['expectation'],cpu = .95,\n",
    "                             penalty = penalty, num_iters = num_iters, contiguous = contiguous.copy())\n",
    "subset, score"
   ]
  },
  {
   "cell_type": "code",
   "execution_count": 52,
   "metadata": {},
   "outputs": [
    {
     "name": "stdout",
     "output_type": "stream",
     "text": [
      "cimt mean max = (0.74 - 1.7) AND\n",
      "waist hip r c qc = (1.0 - 1.16)\n"
     ]
    }
   ],
   "source": [
    "# print the subset we obtained as a rule\n",
    "print(translate_subset_to_rule(compress_contiguous(subset, contiguous)))"
   ]
  },
  {
   "cell_type": "code",
   "execution_count": 53,
   "metadata": {},
   "outputs": [
    {
     "name": "stdout",
     "output_type": "stream",
     "text": [
      "Our detected subgroup has a size of 50 \n",
      "Recall that our population average is 0.05051194539249147      \n",
      "In this subgroup, we observe a mean outcome of 0.32\n",
      "With 16 individuals in the group above average       \n",
      "This is a multiplicative factor in the odds (i.e q) of 8.846\n"
     ]
    }
   ],
   "source": [
    "# print some information about the subset\n",
    "to_choose = dff_2[subset.keys()].isin(subset).all(axis=1)\n",
    "temp_df = dff_2.loc[to_choose]\n",
    "\n",
    "size = len(temp_df)\n",
    "observed_income = np.round(temp_df[target_col].mean(), 3)\n",
    "positive_class_count = temp_df[target_col].sum()\n",
    "\n",
    "group_obs = temp_df[target_col].mean()\n",
    "group_prob = temp_df['expectation'].mean()\n",
    "odds_mul = (group_obs / (1 - group_obs)) / (group_prob /(1 - group_prob))\n",
    "\n",
    "print(\"Our detected subgroup has a size of {} \\nRecall that our population average is {}\\\n",
    "      \\nIn this subgroup, we observe a mean outcome of {}\\nWith {} individuals in the group above average \\\n",
    "      \\nThis is a multiplicative factor in the odds (i.e q) of {}\".\\\n",
    "      format(size, group_prob , observed_income, positive_class_count, np.round(odds_mul, 3)))"
   ]
  },
  {
   "cell_type": "code",
   "execution_count": 35,
   "metadata": {},
   "outputs": [
    {
     "data": {
      "text/plain": [
       "0.32"
      ]
     },
     "execution_count": 35,
     "metadata": {},
     "output_type": "execute_result"
    }
   ],
   "source": [
    "group_obs"
   ]
  },
  {
   "cell_type": "code",
   "execution_count": 36,
   "metadata": {},
   "outputs": [
    {
     "name": "stdout",
     "output_type": "stream",
     "text": [
      "Penalty = 1: Subset = {'waist_circumference_qc': ['510.0 - 740.0', '740.0 - 780.0', '780.0 - 810.0', '810.0 - 860.0', '860.0 - 900.0', '900.0 - 950.0', '950.0 - 990.0'], 'highest_level_of_education_qc': [0.0, 2.0], 'occupation_qc': [2.0, 3.0, 4.0], 'visceral_fat_qc': ['2.82 - 4.16', '4.16 - 4.87', '4.87 - 5.42', '5.42 - 5.91', '5.91 - 6.36', '6.36 - 6.85', '6.85 - 7.63'], 'triglycerides_qc': ['0.46 - 0.55', '0.55 - 0.63', '0.63 - 0.71', '0.71 - 0.8', '0.8 - 0.89', '0.89 - 0.98', '0.98 - 1.12', '1.12 - 1.47', '1.47 - 5.34']}, Score = 9.4674689699748\n",
      "Penalty = 2: Subset = {'age': ['40.0 - 42.0', '42.0 - 44.0', '44.0 - 47.0', '47.0 - 50.0', '50.0 - 51.0', '51.0 - 53.0', '53.0 - 55.0', '55.0 - 57.0'], 'waist_circumference_qc': ['510.0 - 740.0', '740.0 - 780.0']}, Score = 10.56486285033507\n",
      "Penalty = 3: Subset = {'waist_circumference_qc': ['510.0 - 740.0', '740.0 - 780.0']}, Score = 9.509913245048368\n",
      "Penalty = 4: Subset = {'waist_circumference_qc': ['510.0 - 740.0', '740.0 - 780.0']}, Score = 8.509913245048368\n",
      "Penalty = 5: Subset = {'waist_circumference_qc': ['510.0 - 740.0', '740.0 - 780.0']}, Score = 7.509913245048368\n",
      "Penalty = 6: Subset = {'waist_circumference_qc': ['510.0 - 740.0', '740.0 - 780.0']}, Score = 6.509913245048368\n",
      "Penalty = 7: Subset = {'waist_circumference_qc': ['510.0 - 740.0', '740.0 - 780.0']}, Score = 5.509913245048368\n"
     ]
    }
   ],
   "source": [
    "# %%time\n",
    "# Scan in the positive direction using defined penalties and num iters\n",
    "\n",
    "scoring_function = Bernoulli(direction='negative')\n",
    "scanner = MDSS(scoring_function)\n",
    "# Define a list of penalty values to loop through\n",
    "penalty_values = [1, 2, 3, 4, 5, 6, 7]\n",
    "\n",
    "# Initialize empty lists to store results\n",
    "subset_results = []\n",
    "score_results = []\n",
    "\n",
    "# Loop through each penalty value\n",
    "for penalty in penalty_values:\n",
    "    # Perform the scan with the current penalty value\n",
    "    subset, score = scanner.scan(dff_2[search_space], dff_2[target_col], dff_2['expectation'], cpu=0.95,\n",
    "                                 penalty=penalty, num_iters=num_iters, contiguous=contiguous.copy())\n",
    "    \n",
    "    # Append the results to the respective lists\n",
    "    subset_results.append(subset)\n",
    "    score_results.append(score)\n",
    "\n",
    "# Display the results for each penalty value\n",
    "for i, penalty in enumerate(penalty_values):\n",
    "    print(f\"Penalty = {penalty}: Subset = {subset_results[i]}, Score = {score_results[i]}\")"
   ]
  },
  {
   "cell_type": "code",
   "execution_count": 54,
   "metadata": {},
   "outputs": [
    {
     "name": "stdout",
     "output_type": "stream",
     "text": [
      "CPU times: user 227 ms, sys: 93.9 ms, total: 321 ms\n",
      "Wall time: 2.54 s\n"
     ]
    },
    {
     "data": {
      "text/plain": [
       "({'waist_circumference_qc': ['510.0 - 740.0', '740.0 - 780.0']},\n",
       " 9.509913245048368)"
      ]
     },
     "execution_count": 54,
     "metadata": {},
     "output_type": "execute_result"
    }
   ],
   "source": [
    "%%time\n",
    "# Scan in the positive direction using defined penalties and num iters\n",
    "\n",
    "scoring_function = Bernoulli(direction='negative')\n",
    "scanner = MDSS(scoring_function)\n",
    "\n",
    "penalty = 3\n",
    "num_iters = 10\n",
    "\n",
    "subset, score = scanner.scan(dff_2[search_space], dff_2[target_col], dff_2['expectation'],cpu = .95,\n",
    "                             penalty = penalty, num_iters = num_iters, contiguous = contiguous.copy())\n",
    "subset, score"
   ]
  },
  {
   "cell_type": "code",
   "execution_count": 55,
   "metadata": {},
   "outputs": [
    {
     "name": "stdout",
     "output_type": "stream",
     "text": [
      "waist circumference qc = (510.0 - 780.0)\n"
     ]
    }
   ],
   "source": [
    "print(translate_subset_to_rule(compress_contiguous(subset, contiguous)))"
   ]
  },
  {
   "cell_type": "code",
   "execution_count": 56,
   "metadata": {},
   "outputs": [
    {
     "name": "stdout",
     "output_type": "stream",
     "text": [
      "Our detected subgroup has a size of 315 \n",
      "Recall that our population average is 0.05051194539249148      \n",
      "In this subgroup, we observe a mean outcome of 0.003\n",
      "With 1 individuals in the group above average      \n",
      "This is a multiplicative factor in the odds (i.e q) of 0.06\n"
     ]
    }
   ],
   "source": [
    "to_choose = dff_2[subset.keys()].isin(subset).all(axis=1)\n",
    "temp_df = dff_2.loc[to_choose]\n",
    "\n",
    "size = len(temp_df)\n",
    "observed_income = np.round(temp_df[target_col].mean(), 3)\n",
    "positive_class_count = temp_df[target_col].sum()\n",
    "\n",
    "group_obs = temp_df[target_col].mean()\n",
    "group_prob = temp_df['expectation'].mean()\n",
    "odds_mul = (group_obs / (1 - group_obs)) / (group_prob /(1 - group_prob))\n",
    "\n",
    "print(\"Our detected subgroup has a size of {} \\nRecall that our population average is {}\\\n",
    "      \\nIn this subgroup, we observe a mean outcome of {}\\nWith {} individuals in the group above average\\\n",
    "      \\nThis is a multiplicative factor in the odds (i.e q) of {}\".\\\n",
    "      format(size, group_prob , observed_income, positive_class_count, np.round(odds_mul, 3)))"
   ]
  },
  {
   "cell_type": "markdown",
   "metadata": {},
   "source": [
    "### AS for treated missingness"
   ]
  },
  {
   "cell_type": "code",
   "execution_count": 40,
   "metadata": {},
   "outputs": [
    {
     "name": "stdout",
     "output_type": "stream",
     "text": [
      "Penalty = 1: Subset = {'cholesterol_1_qc': ['0.3 - 2.78', '2.78 - 3.16', '3.16 - 3.47', '3.47 - 3.71', '3.71 - 3.99', '3.99 - 4.15', '4.15 - 4.46', '4.46 - 4.78'], 'bmi_c_qc': ['27.97 - 30.09', '30.09 - 32.59', '32.59 - 35.92', '35.92 - 68.02'], 'subcutaneous_fat_qc': ['1.54 - 1.82', '1.82 - 2.17', '2.17 - 2.54', '2.54 - 2.95', '2.95 - 4.28', '4.28 - 10.41'], 'ses_site_quintile_c_qc': [5.0], 'visceral_fat_qc': ['-0.74 - 2.82', '2.82 - 4.16', '4.16 - 4.87', '4.87 - 5.42', '5.42 - 5.91', '5.91 - 6.36', '6.36 - 6.85', '6.85 - 7.63', '7.63 - 8.64'], 'cimt_mean_max': ['0.62 - 0.64', '0.64 - 0.66', '0.66 - 0.68', '0.68 - 0.71', '0.71 - 0.74', '0.74 - 0.77', '0.77 - 0.83', '0.83 - 1.7'], 'waist_hip_r_c_qc': ['0.94 - 0.97', '0.97 - 1.0', '1.0 - 1.16'], 'age': ['42.0 - 44.0', '44.0 - 47.0', '47.0 - 50.0', '50.0 - 51.0', '51.0 - 53.0', '53.0 - 55.0', '55.0 - 57.0', '57.0 - 58.0']}, Score = 11.813000759857985\n",
      "Penalty = 2: Subset = {'friedewald_ldl_c_c_qc': ['-3.31 - 1.37', '1.37 - 1.69', '1.69 - 1.92', '1.92 - 2.14', '2.14 - 2.37', '2.37 - 2.49', '2.49 - 2.79', '2.79 - 3.06', '3.06 - 3.54'], 'waist_hip_r_c_qc': ['1.0 - 1.16'], 'cimt_mean_max': ['0.74 - 0.77', '0.77 - 0.83', '0.83 - 1.7']}, Score = 14.378834027066976\n",
      "Penalty = 3: Subset = {'cimt_mean_max': ['0.74 - 0.77', '0.77 - 0.83', '0.83 - 1.7'], 'waist_hip_r_c_qc': ['1.0 - 1.16']}, Score = 12.187553177273294\n",
      "Penalty = 4: Subset = {'cimt_mean_max': ['0.74 - 0.77', '0.77 - 0.83', '0.83 - 1.7'], 'waist_hip_r_c_qc': ['1.0 - 1.16']}, Score = 10.187553177273294\n",
      "Penalty = 5: Subset = {'cimt_mean_max': ['0.74 - 0.77', '0.77 - 0.83', '0.83 - 1.7'], 'waist_hip_r_c_qc': ['1.0 - 1.16']}, Score = 8.187553177273294\n",
      "Penalty = 6: Subset = {'cimt_mean_max': ['0.74 - 0.77', '0.77 - 0.83', '0.83 - 1.7'], 'waist_hip_r_c_qc': ['1.0 - 1.16']}, Score = 6.187553177273294\n",
      "Penalty = 7: Subset = {'cimt_mean_max': ['0.74 - 0.77', '0.77 - 0.83', '0.83 - 1.7'], 'waist_hip_r_c_qc': ['1.0 - 1.16']}, Score = 4.187553177273294\n"
     ]
    }
   ],
   "source": [
    "# %%time\n",
    "# Scan in the positive direction using defined penalties and num iters\n",
    "\n",
    "scoring_function = Bernoulli(direction='positive')\n",
    "scanner = MDSS(scoring_function)\n",
    "# Define a list of penalty values to loop through\n",
    "penalty_values = [1, 2, 3, 4, 5, 6, 7]\n",
    "num_iters = 10\n",
    "# Initialize empty lists to store results\n",
    "subset_results = []\n",
    "score_results = []\n",
    "\n",
    "# Loop through each penalty value\n",
    "for penalty in penalty_values:\n",
    "    # Perform the scan with the current penalty value\n",
    "    subset, score = scanner.scan(dff_2[search_space], dff_2[target_col], dff_2['expectation'], cpu=0.95,\n",
    "                                 penalty=penalty, num_iters=num_iters, contiguous=contiguous.copy())\n",
    "    \n",
    "    # Append the results to the respective lists\n",
    "    subset_results.append(subset)\n",
    "    score_results.append(score)\n",
    "\n",
    "# Display the results for each penalty value\n",
    "for i, penalty in enumerate(penalty_values):\n",
    "    print(f\"Penalty = {penalty}: Subset = {subset_results[i]}, Score = {score_results[i]}\")"
   ]
  },
  {
   "cell_type": "code",
   "execution_count": 41,
   "metadata": {},
   "outputs": [
    {
     "name": "stdout",
     "output_type": "stream",
     "text": [
      "CPU times: user 225 ms, sys: 95.2 ms, total: 320 ms\n",
      "Wall time: 2.48 s\n"
     ]
    },
    {
     "data": {
      "text/plain": [
       "({'cimt_mean_max': ['0.74 - 0.77', '0.77 - 0.83', '0.83 - 1.7'],\n",
       "  'waist_hip_r_c_qc': ['1.0 - 1.16']},\n",
       " 4.187553177273294)"
      ]
     },
     "execution_count": 41,
     "metadata": {},
     "output_type": "execute_result"
    }
   ],
   "source": [
    "%%time\n",
    "# Scan in the positive direction using defined penalties and num iters\n",
    "\n",
    "scoring_function = Bernoulli(direction='positive')\n",
    "scanner = MDSS(scoring_function)\n",
    "\n",
    "penalty = 7\n",
    "num_iters = 10\n",
    "\n",
    "subset, score = scanner.scan(dff_2[search_space], dff_2[target_col], dff_2['expectation'],cpu = .95,\n",
    "                             penalty = penalty, num_iters = num_iters, contiguous = contiguous.copy())\n",
    "subset, score"
   ]
  },
  {
   "cell_type": "code",
   "execution_count": 42,
   "metadata": {},
   "outputs": [
    {
     "name": "stdout",
     "output_type": "stream",
     "text": [
      "cimt mean max = (0.74 - 1.7) AND\n",
      "waist hip r c qc = (1.0 - 1.16)\n"
     ]
    }
   ],
   "source": [
    "# print the subset we obtained as a rule\n",
    "print(translate_subset_to_rule(compress_contiguous(subset, contiguous)))"
   ]
  },
  {
   "cell_type": "code",
   "execution_count": 43,
   "metadata": {},
   "outputs": [
    {
     "name": "stdout",
     "output_type": "stream",
     "text": [
      "Our detected subgroup has a size of 50 \n",
      "Recall that our population average is 0.05051194539249147      \n",
      "In this subgroup, we observe a mean outcome of 0.32\n",
      "With 16 individuals in the group above average       \n",
      "This is a multiplicative factor in the odds (i.e q) of 8.846\n"
     ]
    }
   ],
   "source": [
    "# print some information about the subset\n",
    "to_choose = dff_2[subset.keys()].isin(subset).all(axis=1)\n",
    "temp_df = dff_2.loc[to_choose]\n",
    "\n",
    "size = len(temp_df)\n",
    "observed_income = np.round(temp_df[target_col].mean(), 3)\n",
    "positive_class_count = temp_df[target_col].sum()\n",
    "\n",
    "group_obs = temp_df[target_col].mean()\n",
    "group_prob = temp_df['expectation'].mean()\n",
    "odds_mul = (group_obs / (1 - group_obs)) / (group_prob /(1 - group_prob))\n",
    "\n",
    "print(\"Our detected subgroup has a size of {} \\nRecall that our population average is {}\\\n",
    "      \\nIn this subgroup, we observe a mean outcome of {}\\nWith {} individuals in the group above average \\\n",
    "      \\nThis is a multiplicative factor in the odds (i.e q) of {}\".\\\n",
    "      format(size, group_prob , observed_income, positive_class_count, np.round(odds_mul, 3)))"
   ]
  },
  {
   "cell_type": "code",
   "execution_count": 44,
   "metadata": {},
   "outputs": [
    {
     "name": "stdout",
     "output_type": "stream",
     "text": [
      "Penalty = 1: Subset = {'waist_circumference_qc': ['510.0 - 740.0', '740.0 - 780.0', '780.0 - 810.0', '810.0 - 860.0', '860.0 - 900.0', '900.0 - 950.0', '950.0 - 990.0'], 'highest_level_of_education_qc': [0.0, 2.0], 'occupation_qc': [2.0, 3.0, 4.0], 'visceral_fat_qc': ['2.82 - 4.16', '4.16 - 4.87', '4.87 - 5.42', '5.42 - 5.91', '5.91 - 6.36', '6.36 - 6.85', '6.85 - 7.63'], 'triglycerides_qc': ['0.46 - 0.55', '0.55 - 0.63', '0.63 - 0.71', '0.71 - 0.8', '0.8 - 0.89', '0.89 - 0.98', '0.98 - 1.12', '1.12 - 1.47', '1.47 - 5.34']}, Score = 9.4674689699748\n",
      "Penalty = 2: Subset = {'age': ['40.0 - 42.0', '42.0 - 44.0', '44.0 - 47.0', '47.0 - 50.0', '50.0 - 51.0', '51.0 - 53.0', '53.0 - 55.0', '55.0 - 57.0'], 'waist_circumference_qc': ['510.0 - 740.0', '740.0 - 780.0']}, Score = 10.56486285033507\n",
      "Penalty = 3: Subset = {'waist_circumference_qc': ['510.0 - 740.0', '740.0 - 780.0']}, Score = 9.509913245048368\n",
      "Penalty = 4: Subset = {'waist_circumference_qc': ['510.0 - 740.0', '740.0 - 780.0']}, Score = 8.509913245048368\n",
      "Penalty = 5: Subset = {'waist_circumference_qc': ['510.0 - 740.0', '740.0 - 780.0']}, Score = 7.509913245048368\n",
      "Penalty = 6: Subset = {'waist_circumference_qc': ['510.0 - 740.0', '740.0 - 780.0']}, Score = 6.509913245048368\n",
      "Penalty = 7: Subset = {'waist_circumference_qc': ['510.0 - 740.0', '740.0 - 780.0']}, Score = 5.509913245048368\n"
     ]
    }
   ],
   "source": [
    "# %%time\n",
    "# Scan in the positive direction using defined penalties and num iters\n",
    "\n",
    "scoring_function = Bernoulli(direction='negative')\n",
    "scanner = MDSS(scoring_function)\n",
    "# Define a list of penalty values to loop through\n",
    "penalty_values = [1, 2, 3, 4, 5, 6, 7]\n",
    "\n",
    "# Initialize empty lists to store results\n",
    "subset_results = []\n",
    "score_results = []\n",
    "\n",
    "# Loop through each penalty value\n",
    "for penalty in penalty_values:\n",
    "    # Perform the scan with the current penalty value\n",
    "    subset, score = scanner.scan(dff_2[search_space], dff_2[target_col], dff_2['expectation'], cpu=0.95,\n",
    "                                 penalty=penalty, num_iters=num_iters, contiguous=contiguous.copy())\n",
    "    \n",
    "    # Append the results to the respective lists\n",
    "    subset_results.append(subset)\n",
    "    score_results.append(score)\n",
    "\n",
    "# Display the results for each penalty value\n",
    "for i, penalty in enumerate(penalty_values):\n",
    "    print(f\"Penalty = {penalty}: Subset = {subset_results[i]}, Score = {score_results[i]}\")"
   ]
  },
  {
   "cell_type": "code",
   "execution_count": 45,
   "metadata": {},
   "outputs": [
    {
     "name": "stdout",
     "output_type": "stream",
     "text": [
      "CPU times: user 220 ms, sys: 93.5 ms, total: 313 ms\n",
      "Wall time: 2.02 s\n"
     ]
    },
    {
     "data": {
      "text/plain": [
       "({'waist_circumference_qc': ['510.0 - 740.0', '740.0 - 780.0']},\n",
       " 6.509913245048368)"
      ]
     },
     "execution_count": 45,
     "metadata": {},
     "output_type": "execute_result"
    }
   ],
   "source": [
    "%%time\n",
    "# Scan in the positive direction using defined penalties and num iters\n",
    "\n",
    "scoring_function = Bernoulli(direction='negative')\n",
    "scanner = MDSS(scoring_function)\n",
    "\n",
    "penalty = 6\n",
    "num_iters = 10\n",
    "\n",
    "subset, score = scanner.scan(dff_2[search_space], dff_2[target_col], dff_2['expectation'],cpu = .95,\n",
    "                             penalty = penalty, num_iters = num_iters, contiguous = contiguous.copy())\n",
    "subset, score"
   ]
  },
  {
   "cell_type": "code",
   "execution_count": 46,
   "metadata": {},
   "outputs": [
    {
     "name": "stdout",
     "output_type": "stream",
     "text": [
      "waist circumference qc = (510.0 - 780.0)\n"
     ]
    }
   ],
   "source": [
    "# print the subset we obtained as a rule\n",
    "print(translate_subset_to_rule(compress_contiguous(subset, contiguous)))"
   ]
  },
  {
   "cell_type": "code",
   "execution_count": 47,
   "metadata": {},
   "outputs": [
    {
     "name": "stdout",
     "output_type": "stream",
     "text": [
      "Our detected subgroup has a size of 315 \n",
      "Recall that our population average is 0.05051194539249148      \n",
      "In this subgroup, we observe a mean outcome of 0.003\n",
      "With 1 individuals in the group above average       \n",
      "This is a multiplicative factor in the odds (i.e q) of 0.06\n"
     ]
    }
   ],
   "source": [
    "# print some information about the subset\n",
    "to_choose = dff_2[subset.keys()].isin(subset).all(axis=1)\n",
    "temp_df = dff_2.loc[to_choose]\n",
    "\n",
    "size = len(temp_df)\n",
    "observed_income = np.round(temp_df[target_col].mean(), 3)\n",
    "positive_class_count = temp_df[target_col].sum()\n",
    "\n",
    "group_obs = temp_df[target_col].mean()\n",
    "group_prob = temp_df['expectation'].mean()\n",
    "odds_mul = (group_obs / (1 - group_obs)) / (group_prob /(1 - group_prob))\n",
    "\n",
    "print(\"Our detected subgroup has a size of {} \\nRecall that our population average is {}\\\n",
    "      \\nIn this subgroup, we observe a mean outcome of {}\\nWith {} individuals in the group above average \\\n",
    "      \\nThis is a multiplicative factor in the odds (i.e q) of {}\".\\\n",
    "      format(size, group_prob , observed_income, positive_class_count, np.round(odds_mul, 3)))"
   ]
  }
 ],
 "metadata": {
  "kernelspec": {
   "display_name": "kay",
   "language": "python",
   "name": "python3"
  },
  "language_info": {
   "codemirror_mode": {
    "name": "ipython",
    "version": 3
   },
   "file_extension": ".py",
   "mimetype": "text/x-python",
   "name": "python",
   "nbconvert_exporter": "python",
   "pygments_lexer": "ipython3",
   "version": "3.9.16"
  },
  "orig_nbformat": 4
 },
 "nbformat": 4,
 "nbformat_minor": 2
}
