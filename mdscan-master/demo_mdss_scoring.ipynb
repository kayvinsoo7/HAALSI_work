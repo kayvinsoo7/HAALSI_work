{
 "cells": [
  {
   "cell_type": "markdown",
   "metadata": {},
   "source": [
    "# **Scoring Functions and Modes in MDSS**"
   ]
  },
  {
   "cell_type": "markdown",
   "metadata": {},
   "source": [
    "MDScan currently supports the following **4** scoring functions:\n",
    "- `BerkJones`: Non-parametric scoring function(_use only where expectations are constant or none_). To be used for all of the four types of outcomes supported - binary, continuous, nominal, ordinal.\n",
    "- `Bernoulli`: Parametric scoring function. To used for two of the four types of outcomes supported - binary and nominal.\n",
    "- `Guassian`: Parametric scoring function. To used for one of the four types of outcomes supported - continuous.\n",
    "- `Poisson`: Parametric scoring function. To be used for three of the four types of outcomes supported - binary, continuous, and ordinal.\n"
   ]
  },
  {
   "cell_type": "markdown",
   "metadata": {},
   "source": [
    "Modes dictate the _**type of outcome**_ we expect. There are 4 types of outcomes supported:\n",
    "- `Binary`_(default)_: Yes/no outcomes. Outcomes must 0 or 1.\n",
    "- `Continuous`: Continuous outcomes. Outcomes could be any real number.\n",
    "- `Nominal`: Multiclass outcomes with no rank or order between them. Outcomes must be a finite set of integers with dimensionality <= 10.\n",
    "- `Ordinal`: Multiclass outcomes that are ranked in a specific order. Outcomes must be positive integers."
   ]
  },
  {
   "cell_type": "markdown",
   "metadata": {},
   "source": [
    "Import the MDSS and scoring function modules"
   ]
  },
  {
   "cell_type": "code",
   "execution_count": 1,
   "metadata": {},
   "outputs": [],
   "source": [
    "from mdss.ScoringFunctions.Bernoulli import Bernoulli\n",
    "from mdss.ScoringFunctions.Gaussian import Gaussian\n",
    "from mdss.ScoringFunctions.BerkJones import BerkJones\n",
    "from mdss.ScoringFunctions.Poisson import Poisson\n",
    "from mdss.MDSS import MDSS\n",
    "import numpy as np \n",
    "import pandas as pd"
   ]
  },
  {
   "cell_type": "code",
   "execution_count": 2,
   "metadata": {},
   "outputs": [],
   "source": [
    "import ssl\n",
    "ssl._create_default_https_context= ssl._create_unverified_context"
   ]
  },
  {
   "cell_type": "code",
   "execution_count": 3,
   "metadata": {},
   "outputs": [],
   "source": [
    "import warnings\n",
    "warnings.filterwarnings('ignore')"
   ]
  },
  {
   "cell_type": "markdown",
   "metadata": {},
   "source": [
    "## Adult Dataset - Bernoulli"
   ]
  },
  {
   "cell_type": "markdown",
   "metadata": {},
   "source": [
    "_Outcome = Persons earning >50k_"
   ]
  },
  {
   "cell_type": "markdown",
   "metadata": {},
   "source": [
    "This is a binary classification example. Therefore `mode = \"binary\"`   \n",
    "It can use both the `Berkjones` and/or `Bernoulli` scoring functions. We'll use Bernoulli"
   ]
  },
  {
   "cell_type": "code",
   "execution_count": 4,
   "metadata": {},
   "outputs": [
    {
     "data": {
      "text/html": [
       "<div>\n",
       "<style scoped>\n",
       "    .dataframe tbody tr th:only-of-type {\n",
       "        vertical-align: middle;\n",
       "    }\n",
       "\n",
       "    .dataframe tbody tr th {\n",
       "        vertical-align: top;\n",
       "    }\n",
       "\n",
       "    .dataframe thead th {\n",
       "        text-align: right;\n",
       "    }\n",
       "</style>\n",
       "<table border=\"1\" class=\"dataframe\">\n",
       "  <thead>\n",
       "    <tr style=\"text-align: right;\">\n",
       "      <th></th>\n",
       "      <th>workclass</th>\n",
       "      <th>education</th>\n",
       "      <th>marital_status</th>\n",
       "      <th>occupation</th>\n",
       "      <th>relationship</th>\n",
       "      <th>race</th>\n",
       "      <th>sex</th>\n",
       "      <th>native_country</th>\n",
       "      <th>age_bin</th>\n",
       "      <th>education_num_bin</th>\n",
       "      <th>hours_per_week_bin</th>\n",
       "      <th>capital_gain_bin</th>\n",
       "      <th>capital_loss_bin</th>\n",
       "      <th>observed</th>\n",
       "      <th>expectation</th>\n",
       "    </tr>\n",
       "  </thead>\n",
       "  <tbody>\n",
       "    <tr>\n",
       "      <th>0</th>\n",
       "      <td>Private</td>\n",
       "      <td>11th</td>\n",
       "      <td>Never-married</td>\n",
       "      <td>Machine-op-inspct</td>\n",
       "      <td>Own-child</td>\n",
       "      <td>Black</td>\n",
       "      <td>Male</td>\n",
       "      <td>United-States</td>\n",
       "      <td>17-27</td>\n",
       "      <td>1-8</td>\n",
       "      <td>40-44</td>\n",
       "      <td>0</td>\n",
       "      <td>0</td>\n",
       "      <td>0</td>\n",
       "      <td>0.236226</td>\n",
       "    </tr>\n",
       "    <tr>\n",
       "      <th>1</th>\n",
       "      <td>Private</td>\n",
       "      <td>HS-grad</td>\n",
       "      <td>Married-civ-spouse</td>\n",
       "      <td>Farming-fishing</td>\n",
       "      <td>Husband</td>\n",
       "      <td>White</td>\n",
       "      <td>Male</td>\n",
       "      <td>United-States</td>\n",
       "      <td>37-47</td>\n",
       "      <td>9</td>\n",
       "      <td>45-99</td>\n",
       "      <td>0</td>\n",
       "      <td>0</td>\n",
       "      <td>0</td>\n",
       "      <td>0.236226</td>\n",
       "    </tr>\n",
       "    <tr>\n",
       "      <th>2</th>\n",
       "      <td>Local-gov</td>\n",
       "      <td>Assoc-acdm</td>\n",
       "      <td>Married-civ-spouse</td>\n",
       "      <td>Protective-serv</td>\n",
       "      <td>Husband</td>\n",
       "      <td>White</td>\n",
       "      <td>Male</td>\n",
       "      <td>United-States</td>\n",
       "      <td>28-36</td>\n",
       "      <td>12-16</td>\n",
       "      <td>40-44</td>\n",
       "      <td>0</td>\n",
       "      <td>0</td>\n",
       "      <td>1</td>\n",
       "      <td>0.236226</td>\n",
       "    </tr>\n",
       "    <tr>\n",
       "      <th>3</th>\n",
       "      <td>Private</td>\n",
       "      <td>Some-college</td>\n",
       "      <td>Married-civ-spouse</td>\n",
       "      <td>Machine-op-inspct</td>\n",
       "      <td>Husband</td>\n",
       "      <td>Black</td>\n",
       "      <td>Male</td>\n",
       "      <td>United-States</td>\n",
       "      <td>37-47</td>\n",
       "      <td>10-11</td>\n",
       "      <td>40-44</td>\n",
       "      <td>7298-7978</td>\n",
       "      <td>0</td>\n",
       "      <td>1</td>\n",
       "      <td>0.236226</td>\n",
       "    </tr>\n",
       "    <tr>\n",
       "      <th>4</th>\n",
       "      <td>?</td>\n",
       "      <td>Some-college</td>\n",
       "      <td>Never-married</td>\n",
       "      <td>?</td>\n",
       "      <td>Own-child</td>\n",
       "      <td>White</td>\n",
       "      <td>Female</td>\n",
       "      <td>United-States</td>\n",
       "      <td>17-27</td>\n",
       "      <td>10-11</td>\n",
       "      <td>1-39</td>\n",
       "      <td>0</td>\n",
       "      <td>0</td>\n",
       "      <td>0</td>\n",
       "      <td>0.236226</td>\n",
       "    </tr>\n",
       "  </tbody>\n",
       "</table>\n",
       "</div>"
      ],
      "text/plain": [
       "    workclass      education       marital_status          occupation  \\\n",
       "0     Private           11th        Never-married   Machine-op-inspct   \n",
       "1     Private        HS-grad   Married-civ-spouse     Farming-fishing   \n",
       "2   Local-gov     Assoc-acdm   Married-civ-spouse     Protective-serv   \n",
       "3     Private   Some-college   Married-civ-spouse   Machine-op-inspct   \n",
       "4           ?   Some-college        Never-married                   ?   \n",
       "\n",
       "  relationship    race      sex  native_country age_bin education_num_bin  \\\n",
       "0    Own-child   Black     Male   United-States   17-27               1-8   \n",
       "1      Husband   White     Male   United-States   37-47                 9   \n",
       "2      Husband   White     Male   United-States   28-36             12-16   \n",
       "3      Husband   Black     Male   United-States   37-47             10-11   \n",
       "4    Own-child   White   Female   United-States   17-27             10-11   \n",
       "\n",
       "  hours_per_week_bin capital_gain_bin capital_loss_bin  observed  expectation  \n",
       "0              40-44                0                0         0     0.236226  \n",
       "1              45-99                0                0         0     0.236226  \n",
       "2              40-44                0                0         1     0.236226  \n",
       "3              40-44        7298-7978                0         1     0.236226  \n",
       "4               1-39                0                0         0     0.236226  "
      ]
     },
     "execution_count": 4,
     "metadata": {},
     "output_type": "execute_result"
    }
   ],
   "source": [
    "adult = pd.read_csv('https://gist.githubusercontent.com/Viktour19/b690679802c431646d36f7e2dd117b9e/raw/d8f17bf25664bd2d9fa010750b9e451c4155dd61/adult_autostrat.csv')\n",
    "adult.head()"
   ]
  },
  {
   "cell_type": "markdown",
   "metadata": {},
   "source": [
    "Using `Bernoulli` with mode being binary therefore we don't need to specify by default"
   ]
  },
  {
   "cell_type": "code",
   "execution_count": 5,
   "metadata": {},
   "outputs": [
    {
     "name": "stdout",
     "output_type": "stream",
     "text": [
      "Subset: \n",
      "{'marital_status': [' Married-civ-spouse'], 'age_bin': ['28-36', '37-47', '48-90'], 'education': [' Assoc-acdm', ' Bachelors', ' Doctorate', ' Masters', ' Prof-school', ' Some-college']}\n",
      "\n",
      "Score: 1065.8355262262485\n"
     ]
    }
   ],
   "source": [
    "scoring_function = Bernoulli(direction=\"positive\")\n",
    "scanner = MDSS(scoring_function)\n",
    "\n",
    "subset,score = scanner.scan( adult[adult.columns[:-2]] , adult['observed'] , adult['expectation'] , penalty=20 , num_iters=1, use_not_direction=False , num_of_subsets=1 , verbose=False , cpu=0)\n",
    "print(\"Subset: \\n{}\".format(subset))\n",
    "print(\"\\nScore: {}\".format(score))"
   ]
  },
  {
   "cell_type": "code",
   "execution_count": 6,
   "metadata": {},
   "outputs": [
    {
     "data": {
      "text/plain": [
       "'Our detected sub-group has a size of 3577, which is 21.970394938885818% of our data. We observe 0.6324 as the probability of earning >50k in this sub-group, but our population mean is 0.2362'"
      ]
     },
     "execution_count": 6,
     "metadata": {},
     "output_type": "execute_result"
    }
   ],
   "source": [
    "to_choose = adult[subset.keys()].isin(subset).all(axis=1)\n",
    "temp_df = adult.loc[to_choose]\n",
    "subset_size = len(temp_df)/len(adult) * 100\n",
    "\"Our detected sub-group has a size of {}, which is {}% of our data. We observe {} as the probability of earning >50k in this sub-group, but our population mean is {}\"\\\n",
    ".format(len(temp_df), subset_size,np.round(temp_df['observed'].mean(),4), np.round(temp_df['expectation'].mean(),4))"
   ]
  },
  {
   "cell_type": "markdown",
   "metadata": {},
   "source": [
    "## Hospitalization Time - Poisson"
   ]
  },
  {
   "cell_type": "markdown",
   "metadata": {},
   "source": [
    "_Outcome = No. of days spent in hospital_"
   ]
  },
  {
   "cell_type": "markdown",
   "metadata": {},
   "source": [
    "This is an ordinal, multiclass classification example.    \n",
    "Therefore `mode = \"ordinal\"`       \n",
    "Scoring function is `Poisson`.\n"
   ]
  },
  {
   "cell_type": "code",
   "execution_count": 7,
   "metadata": {},
   "outputs": [
    {
     "data": {
      "text/html": [
       "<div>\n",
       "<style scoped>\n",
       "    .dataframe tbody tr th:only-of-type {\n",
       "        vertical-align: middle;\n",
       "    }\n",
       "\n",
       "    .dataframe tbody tr th {\n",
       "        vertical-align: top;\n",
       "    }\n",
       "\n",
       "    .dataframe thead th {\n",
       "        text-align: right;\n",
       "    }\n",
       "</style>\n",
       "<table border=\"1\" class=\"dataframe\">\n",
       "  <thead>\n",
       "    <tr style=\"text-align: right;\">\n",
       "      <th></th>\n",
       "      <th>Health Service Area</th>\n",
       "      <th>Hospital County</th>\n",
       "      <th>Age Group</th>\n",
       "      <th>Zip Code - 3 digits</th>\n",
       "      <th>Gender</th>\n",
       "      <th>Race</th>\n",
       "      <th>Ethnicity</th>\n",
       "      <th>Type of Admission</th>\n",
       "      <th>Patient Disposition</th>\n",
       "      <th>APR MDC Code</th>\n",
       "      <th>...</th>\n",
       "      <th>APR Risk of Mortality</th>\n",
       "      <th>APR Medical Surgical Description</th>\n",
       "      <th>Payment Typology 1</th>\n",
       "      <th>Payment Typology 2</th>\n",
       "      <th>Payment Typology 3</th>\n",
       "      <th>Birth Weight</th>\n",
       "      <th>Abortion Edit Indicator</th>\n",
       "      <th>Emergency Department Indicator</th>\n",
       "      <th>Length of Stay</th>\n",
       "      <th>expectation</th>\n",
       "    </tr>\n",
       "  </thead>\n",
       "  <tbody>\n",
       "    <tr>\n",
       "      <th>0</th>\n",
       "      <td>New York City</td>\n",
       "      <td>Kings</td>\n",
       "      <td>70 or Older</td>\n",
       "      <td>112</td>\n",
       "      <td>M</td>\n",
       "      <td>Black/African American</td>\n",
       "      <td>Not Span/Hispanic</td>\n",
       "      <td>Emergency</td>\n",
       "      <td>Expired</td>\n",
       "      <td>4</td>\n",
       "      <td>...</td>\n",
       "      <td>Extreme</td>\n",
       "      <td>Medical</td>\n",
       "      <td>Medicare</td>\n",
       "      <td>Medicare</td>\n",
       "      <td>Self-Pay</td>\n",
       "      <td>0</td>\n",
       "      <td>N</td>\n",
       "      <td>Y</td>\n",
       "      <td>14</td>\n",
       "      <td>5.423149</td>\n",
       "    </tr>\n",
       "    <tr>\n",
       "      <th>1</th>\n",
       "      <td>New York City</td>\n",
       "      <td>Queens</td>\n",
       "      <td>0 to 17</td>\n",
       "      <td>113</td>\n",
       "      <td>M</td>\n",
       "      <td>White</td>\n",
       "      <td>Spanish/Hispanic</td>\n",
       "      <td>Newborn</td>\n",
       "      <td>Home or Self Care</td>\n",
       "      <td>15</td>\n",
       "      <td>...</td>\n",
       "      <td>Minor</td>\n",
       "      <td>Medical</td>\n",
       "      <td>Medicaid</td>\n",
       "      <td>Medicaid</td>\n",
       "      <td>Unknown</td>\n",
       "      <td>3800</td>\n",
       "      <td>N</td>\n",
       "      <td>N</td>\n",
       "      <td>2</td>\n",
       "      <td>5.423149</td>\n",
       "    </tr>\n",
       "    <tr>\n",
       "      <th>2</th>\n",
       "      <td>New York City</td>\n",
       "      <td>Kings</td>\n",
       "      <td>70 or Older</td>\n",
       "      <td>112</td>\n",
       "      <td>M</td>\n",
       "      <td>Black/African American</td>\n",
       "      <td>Not Span/Hispanic</td>\n",
       "      <td>Emergency</td>\n",
       "      <td>Skilled Nursing Home</td>\n",
       "      <td>4</td>\n",
       "      <td>...</td>\n",
       "      <td>Extreme</td>\n",
       "      <td>Medical</td>\n",
       "      <td>Medicare</td>\n",
       "      <td>Unknown</td>\n",
       "      <td>Unknown</td>\n",
       "      <td>0</td>\n",
       "      <td>N</td>\n",
       "      <td>Y</td>\n",
       "      <td>13</td>\n",
       "      <td>5.423149</td>\n",
       "    </tr>\n",
       "    <tr>\n",
       "      <th>3</th>\n",
       "      <td>New York City</td>\n",
       "      <td>Richmond</td>\n",
       "      <td>50 to 69</td>\n",
       "      <td>103</td>\n",
       "      <td>M</td>\n",
       "      <td>White</td>\n",
       "      <td>Not Span/Hispanic</td>\n",
       "      <td>Emergency</td>\n",
       "      <td>Skilled Nursing Home</td>\n",
       "      <td>1</td>\n",
       "      <td>...</td>\n",
       "      <td>Minor</td>\n",
       "      <td>Medical</td>\n",
       "      <td>Medicare</td>\n",
       "      <td>Medicare</td>\n",
       "      <td>Unknown</td>\n",
       "      <td>0</td>\n",
       "      <td>N</td>\n",
       "      <td>Y</td>\n",
       "      <td>3</td>\n",
       "      <td>5.423149</td>\n",
       "    </tr>\n",
       "    <tr>\n",
       "      <th>4</th>\n",
       "      <td>Long Island</td>\n",
       "      <td>Nassau</td>\n",
       "      <td>18 to 29</td>\n",
       "      <td>115</td>\n",
       "      <td>F</td>\n",
       "      <td>White</td>\n",
       "      <td>Spanish/Hispanic</td>\n",
       "      <td>Elective</td>\n",
       "      <td>Home or Self Care</td>\n",
       "      <td>14</td>\n",
       "      <td>...</td>\n",
       "      <td>Minor</td>\n",
       "      <td>Medical</td>\n",
       "      <td>Medicaid</td>\n",
       "      <td>Unknown</td>\n",
       "      <td>Unknown</td>\n",
       "      <td>0</td>\n",
       "      <td>N</td>\n",
       "      <td>N</td>\n",
       "      <td>3</td>\n",
       "      <td>5.423149</td>\n",
       "    </tr>\n",
       "  </tbody>\n",
       "</table>\n",
       "<p>5 rows × 23 columns</p>\n",
       "</div>"
      ],
      "text/plain": [
       "  Health Service Area Hospital County    Age Group Zip Code - 3 digits Gender  \\\n",
       "0       New York City           Kings  70 or Older                 112      M   \n",
       "1       New York City          Queens      0 to 17                 113      M   \n",
       "2       New York City           Kings  70 or Older                 112      M   \n",
       "3       New York City        Richmond     50 to 69                 103      M   \n",
       "4         Long Island          Nassau     18 to 29                 115      F   \n",
       "\n",
       "                     Race          Ethnicity Type of Admission  \\\n",
       "0  Black/African American  Not Span/Hispanic         Emergency   \n",
       "1                   White   Spanish/Hispanic           Newborn   \n",
       "2  Black/African American  Not Span/Hispanic         Emergency   \n",
       "3                   White  Not Span/Hispanic         Emergency   \n",
       "4                   White   Spanish/Hispanic          Elective   \n",
       "\n",
       "    Patient Disposition  APR MDC Code  ... APR Risk of Mortality  \\\n",
       "0               Expired             4  ...               Extreme   \n",
       "1     Home or Self Care            15  ...                 Minor   \n",
       "2  Skilled Nursing Home             4  ...               Extreme   \n",
       "3  Skilled Nursing Home             1  ...                 Minor   \n",
       "4     Home or Self Care            14  ...                 Minor   \n",
       "\n",
       "   APR Medical Surgical Description Payment Typology 1 Payment Typology 2  \\\n",
       "0                           Medical           Medicare           Medicare   \n",
       "1                           Medical           Medicaid           Medicaid   \n",
       "2                           Medical           Medicare            Unknown   \n",
       "3                           Medical           Medicare           Medicare   \n",
       "4                           Medical           Medicaid            Unknown   \n",
       "\n",
       "  Payment Typology 3 Birth Weight Abortion Edit Indicator  \\\n",
       "0           Self-Pay            0                       N   \n",
       "1            Unknown         3800                       N   \n",
       "2            Unknown            0                       N   \n",
       "3            Unknown            0                       N   \n",
       "4            Unknown            0                       N   \n",
       "\n",
       "  Emergency Department Indicator  Length of Stay expectation  \n",
       "0                              Y              14    5.423149  \n",
       "1                              N               2    5.423149  \n",
       "2                              Y              13    5.423149  \n",
       "3                              Y               3    5.423149  \n",
       "4                              N               3    5.423149  \n",
       "\n",
       "[5 rows x 23 columns]"
      ]
     },
     "execution_count": 7,
     "metadata": {},
     "output_type": "execute_result"
    }
   ],
   "source": [
    "hosp = pd.read_csv('https://raw.githubusercontent.com/Adebayo-Oshingbesan/data/main/hospital.csv')\n",
    "\n",
    "hosp = hosp[hosp['Length of Stay'] != '120 +'].fillna('Unknown')\n",
    "hosp['Length of Stay'] = pd.to_numeric(hosp['Length of Stay'])\n",
    "hosp['expectation'] = hosp['Length of Stay'].mean()\n",
    "hosp.head()"
   ]
  },
  {
   "cell_type": "code",
   "execution_count": 8,
   "metadata": {},
   "outputs": [
    {
     "name": "stdout",
     "output_type": "stream",
     "text": [
      "Subset: \n",
      "{'APR Severity of Illness Description': ['Extreme']}\n",
      "\n",
      "Score: 11220.538868561147\n"
     ]
    }
   ],
   "source": [
    "scoring_function = Poisson(direction=\"positive\")\n",
    "scanner = MDSS(scoring_function)\n",
    "\n",
    "subset,score = scanner.scan( hosp[hosp.columns[:-2]] , hosp['Length of Stay'] , hosp['expectation'] , penalty=10 , num_iters=1 , use_not_direction=False , num_of_subsets=1 , mode=\"ordinal\" , verbose=False , cpu=0)\n",
    "print(\"Subset: \\n{}\".format(subset))\n",
    "print(\"\\nScore: {}\".format(score))"
   ]
  },
  {
   "cell_type": "code",
   "execution_count": 9,
   "metadata": {},
   "outputs": [
    {
     "data": {
      "text/plain": [
       "'Our detected sub-group has a size of 1900, which is 6.337558372248166% of our data. We observe 15.2216 as the average number of days spent in the hospital for this sub-group, but our population mean is 5.4231'"
      ]
     },
     "execution_count": 9,
     "metadata": {},
     "output_type": "execute_result"
    }
   ],
   "source": [
    "to_choose = hosp[subset.keys()].isin(subset).all(axis=1)\n",
    "temp_df = hosp.loc[to_choose]\n",
    "subset_size = len(temp_df)/len(hosp) * 100\n",
    "\"Our detected sub-group has a size of {}, which is {}% of our data. We observe {} as the average number of days spent in the hospital for this sub-group, but our population mean is {}\"\\\n",
    ".format(len(temp_df), subset_size,np.round(temp_df['Length of Stay'].mean(),4), np.round(temp_df['expectation'].mean(),4))"
   ]
  },
  {
   "cell_type": "markdown",
   "metadata": {},
   "source": [
    "## Insurance Costs - Gaussian"
   ]
  },
  {
   "cell_type": "markdown",
   "metadata": {},
   "source": [
    "_Outcome = Insurance costs to be incurred_"
   ]
  },
  {
   "cell_type": "markdown",
   "metadata": {},
   "source": [
    "Scoring function = `Gaussian`  \n",
    "Mode = `continuous`"
   ]
  },
  {
   "cell_type": "code",
   "execution_count": 9,
   "metadata": {},
   "outputs": [
    {
     "data": {
      "text/html": [
       "<div>\n",
       "<style scoped>\n",
       "    .dataframe tbody tr th:only-of-type {\n",
       "        vertical-align: middle;\n",
       "    }\n",
       "\n",
       "    .dataframe tbody tr th {\n",
       "        vertical-align: top;\n",
       "    }\n",
       "\n",
       "    .dataframe thead th {\n",
       "        text-align: right;\n",
       "    }\n",
       "</style>\n",
       "<table border=\"1\" class=\"dataframe\">\n",
       "  <thead>\n",
       "    <tr style=\"text-align: right;\">\n",
       "      <th></th>\n",
       "      <th>age</th>\n",
       "      <th>sex</th>\n",
       "      <th>bmi</th>\n",
       "      <th>children</th>\n",
       "      <th>smoker</th>\n",
       "      <th>region</th>\n",
       "      <th>charges</th>\n",
       "      <th>expectation</th>\n",
       "    </tr>\n",
       "  </thead>\n",
       "  <tbody>\n",
       "    <tr>\n",
       "      <th>0</th>\n",
       "      <td>18.0 - 19.0</td>\n",
       "      <td>female</td>\n",
       "      <td>27.36 - 28.8</td>\n",
       "      <td>0</td>\n",
       "      <td>yes</td>\n",
       "      <td>southwest</td>\n",
       "      <td>16884.92400</td>\n",
       "      <td>13270.422265</td>\n",
       "    </tr>\n",
       "    <tr>\n",
       "      <th>1</th>\n",
       "      <td>18.0 - 19.0</td>\n",
       "      <td>male</td>\n",
       "      <td>33.66 - 35.86</td>\n",
       "      <td>1</td>\n",
       "      <td>no</td>\n",
       "      <td>southeast</td>\n",
       "      <td>1725.55230</td>\n",
       "      <td>13270.422265</td>\n",
       "    </tr>\n",
       "    <tr>\n",
       "      <th>2</th>\n",
       "      <td>24.0 - 29.0</td>\n",
       "      <td>male</td>\n",
       "      <td>32.03 - 33.66</td>\n",
       "      <td>3</td>\n",
       "      <td>no</td>\n",
       "      <td>southeast</td>\n",
       "      <td>4449.46200</td>\n",
       "      <td>13270.422265</td>\n",
       "    </tr>\n",
       "    <tr>\n",
       "      <th>3</th>\n",
       "      <td>29.0 - 34.0</td>\n",
       "      <td>male</td>\n",
       "      <td>15.96 - 22.99</td>\n",
       "      <td>0</td>\n",
       "      <td>no</td>\n",
       "      <td>northwest</td>\n",
       "      <td>21984.47061</td>\n",
       "      <td>13270.422265</td>\n",
       "    </tr>\n",
       "    <tr>\n",
       "      <th>4</th>\n",
       "      <td>29.0 - 34.0</td>\n",
       "      <td>male</td>\n",
       "      <td>28.8 - 30.4</td>\n",
       "      <td>0</td>\n",
       "      <td>no</td>\n",
       "      <td>northwest</td>\n",
       "      <td>3866.85520</td>\n",
       "      <td>13270.422265</td>\n",
       "    </tr>\n",
       "  </tbody>\n",
       "</table>\n",
       "</div>"
      ],
      "text/plain": [
       "           age     sex            bmi  children smoker     region  \\\n",
       "0  18.0 - 19.0  female   27.36 - 28.8         0    yes  southwest   \n",
       "1  18.0 - 19.0    male  33.66 - 35.86         1     no  southeast   \n",
       "2  24.0 - 29.0    male  32.03 - 33.66         3     no  southeast   \n",
       "3  29.0 - 34.0    male  15.96 - 22.99         0     no  northwest   \n",
       "4  29.0 - 34.0    male    28.8 - 30.4         0     no  northwest   \n",
       "\n",
       "       charges   expectation  \n",
       "0  16884.92400  13270.422265  \n",
       "1   1725.55230  13270.422265  \n",
       "2   4449.46200  13270.422265  \n",
       "3  21984.47061  13270.422265  \n",
       "4   3866.85520  13270.422265  "
      ]
     },
     "execution_count": 9,
     "metadata": {},
     "output_type": "execute_result"
    }
   ],
   "source": [
    "insurance = pd.read_csv('https://raw.githubusercontent.com/Adebayo-Oshingbesan/data/main/insurance.csv')\n",
    "\n",
    "for col in ['bmi','age']:\n",
    "        insurance[col] = pd.qcut(insurance[col], 10, duplicates='drop')\n",
    "        insurance[col] = insurance[col].apply(lambda x: str(round(x.left, 2)) + ' - ' + str(round(x.right,2)))\n",
    "\n",
    "insurance['expectation'] = insurance['charges'].mean()\n",
    "insurance.head()"
   ]
  },
  {
   "cell_type": "code",
   "execution_count": 10,
   "metadata": {},
   "outputs": [
    {
     "name": "stdout",
     "output_type": "stream",
     "text": [
      "Subset: \n",
      "{'smoker': ['yes']}\n",
      "\n",
      "Score: 90264.35743912018\n"
     ]
    }
   ],
   "source": [
    "scoring_function = Gaussian(direction=\"positive\", var=insurance[\"charges\"].var())\n",
    "scanner = MDSS(scoring_function)\n",
    "\n",
    "subset,score = scanner.scan( insurance[insurance.columns[:-2]] , insurance['charges'] , insurance['expectation'] , penalty=10 , num_iters=1 , use_not_direction=False , num_of_subsets=1 , mode=\"continuous\" , verbose=False , cpu=0)\n",
    "print(\"Subset: \\n{}\".format(subset))\n",
    "print(\"\\nScore: {}\".format(score))"
   ]
  },
  {
   "cell_type": "code",
   "execution_count": 11,
   "metadata": {},
   "outputs": [
    {
     "data": {
      "text/plain": [
       "'Our detected sub-group has a size of 274, which is 20.47832585949178% of our data. We observe 32050.2318 as the average insurance charge for this sub-group, but the population average is 13270.4223'"
      ]
     },
     "execution_count": 11,
     "metadata": {},
     "output_type": "execute_result"
    }
   ],
   "source": [
    "to_choose = insurance[subset.keys()].isin(subset).all(axis=1)\n",
    "temp_df = insurance.loc[to_choose]\n",
    "subset_size = len(temp_df)/len(insurance) * 100\n",
    "\"Our detected sub-group has a size of {}, which is {}% of our data. We observe {} as the average insurance charge for this sub-group, but the population average is {}\"\\\n",
    ".format(len(temp_df), subset_size,np.round(temp_df['charges'].mean(),4), np.round(temp_df['expectation'].mean(),4))"
   ]
  },
  {
   "cell_type": "markdown",
   "metadata": {},
   "source": [
    "## Temperature Dataset - Berkjones"
   ]
  },
  {
   "cell_type": "markdown",
   "metadata": {},
   "source": [
    "_Outcome = Likelihood of experiencing negative temperatures_"
   ]
  },
  {
   "cell_type": "markdown",
   "metadata": {},
   "source": [
    "Scoring Function = `Berkjones`"
   ]
  },
  {
   "cell_type": "code",
   "execution_count": 12,
   "metadata": {},
   "outputs": [
    {
     "data": {
      "text/html": [
       "<div>\n",
       "<style scoped>\n",
       "    .dataframe tbody tr th:only-of-type {\n",
       "        vertical-align: middle;\n",
       "    }\n",
       "\n",
       "    .dataframe tbody tr th {\n",
       "        vertical-align: top;\n",
       "    }\n",
       "\n",
       "    .dataframe thead th {\n",
       "        text-align: right;\n",
       "    }\n",
       "</style>\n",
       "<table border=\"1\" class=\"dataframe\">\n",
       "  <thead>\n",
       "    <tr style=\"text-align: right;\">\n",
       "      <th></th>\n",
       "      <th>Summary</th>\n",
       "      <th>PrecipType</th>\n",
       "      <th>Humidity</th>\n",
       "      <th>WindSpeed</th>\n",
       "      <th>Visibility</th>\n",
       "      <th>Pressure</th>\n",
       "      <th>DailySummary</th>\n",
       "      <th>observed</th>\n",
       "      <th>expectation</th>\n",
       "    </tr>\n",
       "  </thead>\n",
       "  <tbody>\n",
       "    <tr>\n",
       "      <th>0</th>\n",
       "      <td>Partly Cloudy</td>\n",
       "      <td>rain</td>\n",
       "      <td>0.87 - 0.92</td>\n",
       "      <td>13.14 - 15.47</td>\n",
       "      <td>15.15 - 15.83</td>\n",
       "      <td>1014.8 - 1016.45</td>\n",
       "      <td>Partly cloudy throughout the day.</td>\n",
       "      <td>0</td>\n",
       "      <td>0.111059</td>\n",
       "    </tr>\n",
       "    <tr>\n",
       "      <th>1</th>\n",
       "      <td>Partly Cloudy</td>\n",
       "      <td>rain</td>\n",
       "      <td>0.83 - 0.87</td>\n",
       "      <td>13.14 - 15.47</td>\n",
       "      <td>15.15 - 15.83</td>\n",
       "      <td>1014.8 - 1016.45</td>\n",
       "      <td>Partly cloudy throughout the day.</td>\n",
       "      <td>0</td>\n",
       "      <td>0.111059</td>\n",
       "    </tr>\n",
       "    <tr>\n",
       "      <th>2</th>\n",
       "      <td>Mostly Cloudy</td>\n",
       "      <td>rain</td>\n",
       "      <td>0.87 - 0.92</td>\n",
       "      <td>3.2 - 4.7</td>\n",
       "      <td>11.45 - 15.15</td>\n",
       "      <td>1014.8 - 1016.45</td>\n",
       "      <td>Partly cloudy throughout the day.</td>\n",
       "      <td>0</td>\n",
       "      <td>0.111059</td>\n",
       "    </tr>\n",
       "    <tr>\n",
       "      <th>3</th>\n",
       "      <td>Partly Cloudy</td>\n",
       "      <td>rain</td>\n",
       "      <td>0.78 - 0.83</td>\n",
       "      <td>13.14 - 15.47</td>\n",
       "      <td>15.15 - 15.83</td>\n",
       "      <td>1014.8 - 1016.45</td>\n",
       "      <td>Partly cloudy throughout the day.</td>\n",
       "      <td>0</td>\n",
       "      <td>0.111059</td>\n",
       "    </tr>\n",
       "    <tr>\n",
       "      <th>4</th>\n",
       "      <td>Mostly Cloudy</td>\n",
       "      <td>rain</td>\n",
       "      <td>0.78 - 0.83</td>\n",
       "      <td>9.97 - 11.21</td>\n",
       "      <td>15.15 - 15.83</td>\n",
       "      <td>1016.45 - 1018.17</td>\n",
       "      <td>Partly cloudy throughout the day.</td>\n",
       "      <td>0</td>\n",
       "      <td>0.111059</td>\n",
       "    </tr>\n",
       "  </tbody>\n",
       "</table>\n",
       "</div>"
      ],
      "text/plain": [
       "         Summary PrecipType     Humidity      WindSpeed     Visibility  \\\n",
       "0  Partly Cloudy       rain  0.87 - 0.92  13.14 - 15.47  15.15 - 15.83   \n",
       "1  Partly Cloudy       rain  0.83 - 0.87  13.14 - 15.47  15.15 - 15.83   \n",
       "2  Mostly Cloudy       rain  0.87 - 0.92      3.2 - 4.7  11.45 - 15.15   \n",
       "3  Partly Cloudy       rain  0.78 - 0.83  13.14 - 15.47  15.15 - 15.83   \n",
       "4  Mostly Cloudy       rain  0.78 - 0.83   9.97 - 11.21  15.15 - 15.83   \n",
       "\n",
       "            Pressure                       DailySummary  observed  expectation  \n",
       "0   1014.8 - 1016.45  Partly cloudy throughout the day.         0     0.111059  \n",
       "1   1014.8 - 1016.45  Partly cloudy throughout the day.         0     0.111059  \n",
       "2   1014.8 - 1016.45  Partly cloudy throughout the day.         0     0.111059  \n",
       "3   1014.8 - 1016.45  Partly cloudy throughout the day.         0     0.111059  \n",
       "4  1016.45 - 1018.17  Partly cloudy throughout the day.         0     0.111059  "
      ]
     },
     "execution_count": 12,
     "metadata": {},
     "output_type": "execute_result"
    }
   ],
   "source": [
    "temperature = pd.read_csv('https://raw.githubusercontent.com/Adebayo-Oshingbesan/data/main/weatherHistory.csv')\n",
    "\n",
    "for col in ['Humidity','WindSpeed','Visibility','Pressure']:\n",
    "        temperature[col] = pd.qcut(temperature[col], 10, duplicates='drop')\n",
    "        temperature[col] = temperature[col].apply(lambda x: str(round(x.left, 2)) + ' - ' + str(round(x.right,2)))\n",
    "\n",
    "temperature['observed'] = (temperature['Temperature'] <= 0).astype(int)\n",
    "temperature = temperature.drop(columns=['Temperature'])\n",
    "temperature['expectation'] = temperature['observed'].mean()\n",
    "\n",
    "temperature.head()"
   ]
  },
  {
   "cell_type": "markdown",
   "metadata": {},
   "source": [
    "Using `Berkjones` we need to specify the alpha parameter, which is our expectation/mean of observed"
   ]
  },
  {
   "cell_type": "code",
   "execution_count": 13,
   "metadata": {},
   "outputs": [
    {
     "name": "stdout",
     "output_type": "stream",
     "text": [
      "Subset: \n",
      "{'PrecipType': ['snow']}\n",
      "\n",
      "Score: 23441.668505872967\n"
     ]
    }
   ],
   "source": [
    "alpha = temperature[\"observed\"].mean()\n",
    "scoring_function = BerkJones(direction=\"positive\", alpha=alpha)\n",
    "scanner = MDSS(scoring_function)\n",
    "\n",
    "subset,score = scanner.scan( temperature[temperature.columns[:-2]] , temperature['observed'] , temperature['expectation'] , penalty=100 , num_iters=1 , use_not_direction=False , num_of_subsets=1 , verbose=False , cpu=0)\n",
    "print(\"Subset: \\n{}\".format(subset))\n",
    "print(\"\\nScore: {}\".format(score))"
   ]
  },
  {
   "cell_type": "code",
   "execution_count": 14,
   "metadata": {},
   "outputs": [
    {
     "data": {
      "text/plain": [
       "'Our detected sub-group has a size of 10712, which is 11.105927239173484% of our data. We observe 1.0 as the probability of getting negative temperatures in this sub-group, but our population mean is 0.1111'"
      ]
     },
     "execution_count": 14,
     "metadata": {},
     "output_type": "execute_result"
    }
   ],
   "source": [
    "to_choose = temperature[subset.keys()].isin(subset).all(axis=1)\n",
    "temp_df = temperature.loc[to_choose]\n",
    "subset_size = len(temp_df)/len(temperature) * 100\n",
    "\"Our detected sub-group has a size of {}, which is {}% of our data. We observe {} as the probability of getting negative temperatures in this sub-group, but our population mean is {}\"\\\n",
    ".format(len(temp_df), subset_size,np.round(temp_df['observed'].mean(),4), np.round(temp_df['expectation'].mean(),4))"
   ]
  },
  {
   "cell_type": "code",
   "execution_count": null,
   "metadata": {},
   "outputs": [],
   "source": []
  }
 ],
 "metadata": {
  "kernelspec": {
   "display_name": "Python 3.10.5 ('virtual': venv)",
   "language": "python",
   "name": "python3"
  },
  "language_info": {
   "codemirror_mode": {
    "name": "ipython",
    "version": 3
   },
   "file_extension": ".py",
   "mimetype": "text/x-python",
   "name": "python",
   "nbconvert_exporter": "python",
   "pygments_lexer": "ipython3",
   "version": "3.9.16"
  },
  "orig_nbformat": 4,
  "vscode": {
   "interpreter": {
    "hash": "2429e81074a35d28bbe814fa1e9f84a94dfe04d627b1076d90a8eda216d4319d"
   }
  }
 },
 "nbformat": 4,
 "nbformat_minor": 2
}
