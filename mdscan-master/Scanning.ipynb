{
 "cells": [
  {
   "cell_type": "code",
   "execution_count": 33,
   "metadata": {},
   "outputs": [],
   "source": [
    "from mdss.ScoringFunctions.Bernoulli import Bernoulli\n",
    "from mdss.ScoringFunctions.Poisson import Poisson\n",
    "from mdss.MDSS import MDSS\n",
    "\n",
    "import numpy as np\n",
    "import pandas as pd\n",
    "from pandas.api.types import is_numeric_dtype\n",
    "\n",
    "import warnings\n",
    "\n",
    "warnings.filterwarnings('ignore')"
   ]
  },
  {
   "cell_type": "code",
   "execution_count": 34,
   "metadata": {},
   "outputs": [],
   "source": [
    "data = pd.read_csv('../project2_data_21_04_23.csv').drop(columns = \n",
    "       ['Unnamed: 0','study_id']).fillna(-999)\n",
    "# target_cols = ['htn_jnc7_qc', 'diabetes_status_c_qc', 'ckd_c_qc', 'cadiovascular_current']\n",
    "# target_cols = ['htn_jnc7_qc', 'diabetes_status_c_qc']\n",
    "target_cols = ['diabetes_status_c_qc']"
   ]
  },
  {
   "cell_type": "code",
   "execution_count": 35,
   "metadata": {},
   "outputs": [],
   "source": [
    "numeric_columns = [col for col in data.columns \\\n",
    "                     if (is_numeric_dtype(data[col])) \\\n",
    "                     & (col not in target_cols) \\\n",
    "                     & (data[col].nunique() > 10)]"
   ]
  },
  {
   "cell_type": "markdown",
   "metadata": {},
   "source": [
    "### Agincourt site scanning for diabetes"
   ]
  },
  {
   "cell_type": "code",
   "execution_count": 36,
   "metadata": {},
   "outputs": [
    {
     "name": "stdout",
     "output_type": "stream",
     "text": [
      "Original size:  (1465, 25)\n",
      "Size after removing records with missing targets:  (1465, 25)\n"
     ]
    }
   ],
   "source": [
    "site_id = 1 # 1 - Agincourt, 3 - Nairobi\n",
    "\n",
    "# Choose the relevant site and age group\n",
    "dff = data[(data['site'] == site_id) & (data['age'] <= 60) & (data['age'] >= 40)].fillna(-999)\n",
    "\n",
    "print('Original size: ', dff.shape)\n",
    "dff = dff[(dff[target_cols] != -999).sum(axis = 1) == len(target_cols)].copy()\n",
    "print('Size after removing records with missing targets: ', dff.shape)"
   ]
  },
  {
   "cell_type": "code",
   "execution_count": 37,
   "metadata": {},
   "outputs": [],
   "source": [
    "target_cols = ['diabetes_status_c_qc']\n",
    "# target_cols = ['htn_jnc7_qc', 'diabetes_status_c_qc']\n",
    "target_col = 'diab_hyp'\n",
    "# target = 'MorbidityCount'\n",
    "\n",
    "# defining the target column to be a column where the sum of the target values >= 2\n",
    "# dff[target_col] = (dff[target_cols] == 1).sum(axis = 1) == 2 # *****CHECK********\n",
    "dff[target_col] = (dff[target_cols] == 1) # *******CHECK**********\n",
    "\n",
    "# defining the expectations as mean of the target\n",
    "dff['expectation'] = dff[target_col].mean()"
   ]
  },
  {
   "cell_type": "code",
   "execution_count": 38,
   "metadata": {},
   "outputs": [],
   "source": [
    "# Defining the search space to be all the features except site, study_id, \n",
    "# and our created target_col and expectations columns\n",
    "\n",
    "search_space = [col for col in dff.columns \\\n",
    "                if col not in \\\n",
    "                [target_col, 'site', 'study_id', 'expectation', \\\n",
    "                'htn_jnc7_qc', 'diabetes_status_c_qc', 'ckd_c_qc', 'cadiovascular_current']]"
   ]
  },
  {
   "cell_type": "code",
   "execution_count": 39,
   "metadata": {},
   "outputs": [],
   "source": [
    "def get_str(x):\n",
    "    # This function turns a pandas bin to a meaningful string\n",
    "    s = str(round(x.left, 2)) + ' - ' + str(round(x.right,2))\n",
    "    return s\n",
    "\n",
    "def custom_qcut(ser, contiguous = True):\n",
    "    # Get the rows that are actual numbers\n",
    "    sub_ser = ser[(ser != -111) \\\n",
    "                     & (ser != -222) \\\n",
    "                     & (ser != -555) \\\n",
    "                     & (ser != -999)]\n",
    "    \n",
    "    if contiguous:\n",
    "        # if contiguous, treat all the special numbers the same\n",
    "        ser = ser.replace(-111 , -999)\n",
    "        ser = ser.replace(-222 , -999)\n",
    "        ser = ser.replace(-555 , -999)\n",
    "\n",
    "    # Bin the actual numbers into 10 bins for scanning\n",
    "    sub_ser = pd.qcut(sub_ser, 10, duplicates='drop')\n",
    "    sub_ser = sub_ser.apply(get_str).astype(str)\n",
    "    ser[list(sub_ser.index)] = sub_ser\n",
    "    return ser\n"
   ]
  },
  {
   "cell_type": "code",
   "execution_count": 40,
   "metadata": {},
   "outputs": [],
   "source": [
    "contiguous = {}\n",
    "dff_2 = dff.copy()\n",
    "\n",
    "# Create a new dataframe with the numeric columns bins     \n",
    "for col in numeric_columns:\n",
    "    if col in search_space:\n",
    "        dff_2[col] = custom_qcut(dff_2[col].copy())\n",
    "        \n",
    "        bins = list(dff_2[col].unique())\n",
    "        \n",
    "        if -999 in bins:\n",
    "            bins.remove(-999)\n",
    "        \n",
    "        bins = sorted(bins, key=lambda x : float(x.split(' - ')[0]))\n",
    "        \n",
    "        contiguous[col] = bins"
   ]
  },
  {
   "cell_type": "code",
   "execution_count": 41,
   "metadata": {},
   "outputs": [],
   "source": [
    "def compress_contiguous(subset, contiguous):\n",
    "    # Shorten a contiguous list e.g [0-9, 10-19] is converted to [0 - 19] \n",
    "    new = {}\n",
    "    \n",
    "    for col in subset:\n",
    "        if col in contiguous:\n",
    "            if isinstance(subset[col][0], (float,int)):\n",
    "                new[col] = [str(c) for c in subset[col]]\n",
    "                continue\n",
    "            i = -1 if isinstance(subset[col][-1], str) else -2\n",
    "            new[col] = [subset[col][0].split(' - ')[0] + ' - ' + subset[col][i].split(' - ')[-1]]\n",
    "            new[col] = new[col] if i == -1 else new[col] + [str(subset[col][-1])]\n",
    "        else:\n",
    "            new[col] = [str(c) for c in subset[col]]\n",
    "    return new\n",
    "\n",
    "def translate_subset_to_rule(subset):\n",
    "    # Print the subset as a rule for easier understanding\n",
    "    desc = ''\n",
    "    for key, value in subset.items():\n",
    "        # desc += key + ' = {' + ' OR '.join(value) + '} AND' + '\\n'\n",
    "        desc += key + '{' + ' OR '.join(value) + '} AND' + ' '\n",
    "\n",
    "    return desc[:-5].replace('_',' ').replace('{', '[').replace('}', ']')\n",
    "\n",
    "def count_conditions(subset):\n",
    "    # Split the string by 'AND' and 'OR'\n",
    "    conditions = subset.replace(\"AND\", \"OR\").split(\"OR\")\n",
    "    \n",
    "    # Count the number of conditions\n",
    "    condition_count = len(conditions)\n",
    "    \n",
    "    return condition_count"
   ]
  },
  {
   "cell_type": "code",
   "execution_count": 57,
   "metadata": {},
   "outputs": [
    {
     "name": "stdout",
     "output_type": "stream",
     "text": [
      "Penalty = 0.5: Subset = triglycerides qc[0.25 - 1.49 OR -999.0] AND waist circumference qc[510.0 - 950.0] AND mvpa cat c[1.0] AND waist hip r c qc[0.59 - 0.9] AND partnership status c qc[0 OR 1] AND highest level of education qc[0 OR 1 OR 2], \n",
      "LiteralsNumber = 10, \n",
      "Size = 379, Odds = 0.0, Score = 20.41\n",
      "Penalty = 1: Subset = friedewald ldl c c qc[1.36 - 7.6] AND triglycerides qc[0.25 - 1.49] AND partnership status c qc[0 OR 1] AND mvpa cat c[1.0] AND bmi c qc[14.53 - 30.08] AND waist hip r c qc[0.59 - 0.88], \n",
      "LiteralsNumber = 7, \n",
      "Size = 277, Odds = 0.0, Score = 11.571\n",
      "Penalty = 1.5: Subset = triglycerides qc[0.54 - 1.49] AND subcutaneous fat qc[0.25 - 1.45 OR -999.0] AND waist hip r c qc[0.59 - 0.92], \n",
      "LiteralsNumber = 4, \n",
      "Size = 341, Odds = 0.0, Score = 16.862\n",
      "Penalty = 2: Subset = mvpa cat c[1.0] AND waist circumference qc[510.0 - 780.0], \n",
      "LiteralsNumber = 2, \n",
      "Size = 258, Odds = 0.0, Score = 13.297\n",
      "Penalty = 2.5: Subset = mvpa cat c[1.0] AND waist circumference qc[510.0 - 780.0], \n",
      "LiteralsNumber = 2, \n",
      "Size = 258, Odds = 0.0, Score = 12.297\n",
      "Penalty = 3: Subset = mvpa cat c[1.0] AND waist circumference qc[510.0 - 780.0], \n",
      "LiteralsNumber = 2, \n",
      "Size = 258, Odds = 0.0, Score = 11.297\n",
      "Penalty = 3.5: Subset = waist circumference qc[510.0 - 780.0], \n",
      "LiteralsNumber = 1, \n",
      "Size = 314, Odds = 0.092, Score = 10.783\n",
      "Penalty = 4: Subset = waist circumference qc[510.0 - 780.0], \n",
      "LiteralsNumber = 1, \n",
      "Size = 314, Odds = 0.092, Score = 10.283\n",
      "Penalty = 4.5: Subset = waist circumference qc[510.0 - 780.0], \n",
      "LiteralsNumber = 1, \n",
      "Size = 314, Odds = 0.092, Score = 9.783\n",
      "Penalty = 5: Subset = waist circumference qc[510.0 - 780.0], \n",
      "LiteralsNumber = 1, \n",
      "Size = 314, Odds = 0.092, Score = 9.283\n"
     ]
    }
   ],
   "source": [
    "# %%time\n",
    "# Scan in the positive direction using defined penalties and num iters\n",
    "\n",
    "scoring_function = Bernoulli(direction='negative')\n",
    "scanner = MDSS(scoring_function)\n",
    "# Define a list of penalty values to loop through\n",
    "penalty_values = [0.5, 1, 1.5, 2, 2.5, 3, 3.5, 4, 4.5, 5]\n",
    "# penalty_values = [1.0, 1.5, 2, 2.5]\n",
    "num_iters = 10\n",
    "# Initialize empty lists to store results\n",
    "subset_results = []\n",
    "subset_results1 = []\n",
    "score_results = []\n",
    "size_results = []\n",
    "odds_results = []\n",
    "count_results = []\n",
    "dataframes = {}\n",
    "\n",
    "# Loop through each penalty value\n",
    "for penalty in penalty_values:\n",
    "    # Perform the scan with the current penalty value\n",
    "    subset, score = scanner.scan(dff_2[search_space], dff_2[target_col], dff_2['expectation'], cpu=0.95,\n",
    "                                 penalty=penalty, num_iters=num_iters, contiguous=contiguous.copy())\n",
    "    \n",
    "    to_choose = dff_2[subset.keys()].isin(subset).all(axis=1)\n",
    "    temp_df = dff_2.loc[to_choose]\n",
    "\n",
    "    # Store each DataFrame in the dictionary with a unique key\n",
    "    dataframes[f'df_{penalty}'] = temp_df\n",
    "\n",
    "    size = len(temp_df)\n",
    "    observed_income = np.round(temp_df[target_col].mean(), 3)\n",
    "    positive_class_count = temp_df[target_col].sum()\n",
    "\n",
    "    group_obs = temp_df[target_col].mean()\n",
    "    group_prob = temp_df['expectation'].mean()\n",
    "    odds_mul = (group_obs / (1 - group_obs)) / (group_prob /(1 - group_prob))\n",
    "    counting = count_conditions(translate_subset_to_rule(compress_contiguous(subset, contiguous)))\n",
    "    \n",
    "    # Append the results to the respective lists\n",
    "\n",
    "    # subset_results.append(subset)\n",
    "    score_results.append(np.round(score, 3))\n",
    "    size_results.append(size)\n",
    "    odds_results.append(np.round(odds_mul, 3))\n",
    "    subset_results1.append(translate_subset_to_rule(compress_contiguous(subset, contiguous)))\n",
    "    count_results.append(counting)\n",
    "\n",
    "\n",
    "# # Display the results for each penalty value\n",
    "# for i, penalty in enumerate(penalty_values):\n",
    "#     print(f\"Penalty = {penalty}: Subset = {subset_results[i]}, Score = {score_results[i]}\")\n",
    "\n",
    "# Display the results for each penalty value\n",
    "for i, penalty in enumerate(penalty_values):\n",
    "    print(f\"Penalty = {penalty}: Subset = {subset_results1[i]}, \\nLiteralsNumber = {count_results[i]}, \\nSize = {size_results[i]}, Odds = {odds_results[i]}, Score = {score_results[i]}\")"
   ]
  },
  {
   "cell_type": "code",
   "execution_count": 58,
   "metadata": {},
   "outputs": [
    {
     "data": {
      "text/html": [
       "<div>\n",
       "<style scoped>\n",
       "    .dataframe tbody tr th:only-of-type {\n",
       "        vertical-align: middle;\n",
       "    }\n",
       "\n",
       "    .dataframe tbody tr th {\n",
       "        vertical-align: top;\n",
       "    }\n",
       "\n",
       "    .dataframe thead th {\n",
       "        text-align: right;\n",
       "    }\n",
       "</style>\n",
       "<table border=\"1\" class=\"dataframe\">\n",
       "  <thead>\n",
       "    <tr style=\"text-align: right;\">\n",
       "      <th></th>\n",
       "      <th>Penalty</th>\n",
       "      <th>No of literals</th>\n",
       "      <th>Subset</th>\n",
       "      <th>Size</th>\n",
       "      <th>Odds</th>\n",
       "      <th>Score</th>\n",
       "    </tr>\n",
       "  </thead>\n",
       "  <tbody>\n",
       "    <tr>\n",
       "      <th>0</th>\n",
       "      <td>0.5</td>\n",
       "      <td>10</td>\n",
       "      <td>triglycerides qc[0.25 - 1.49 OR -999.0] AND wa...</td>\n",
       "      <td>379</td>\n",
       "      <td>0.000</td>\n",
       "      <td>20.410</td>\n",
       "    </tr>\n",
       "    <tr>\n",
       "      <th>1</th>\n",
       "      <td>1.0</td>\n",
       "      <td>7</td>\n",
       "      <td>friedewald ldl c c qc[1.36 - 7.6] AND triglyce...</td>\n",
       "      <td>277</td>\n",
       "      <td>0.000</td>\n",
       "      <td>11.571</td>\n",
       "    </tr>\n",
       "    <tr>\n",
       "      <th>2</th>\n",
       "      <td>1.5</td>\n",
       "      <td>4</td>\n",
       "      <td>triglycerides qc[0.54 - 1.49] AND subcutaneous...</td>\n",
       "      <td>341</td>\n",
       "      <td>0.000</td>\n",
       "      <td>16.862</td>\n",
       "    </tr>\n",
       "    <tr>\n",
       "      <th>3</th>\n",
       "      <td>2.0</td>\n",
       "      <td>2</td>\n",
       "      <td>mvpa cat c[1.0] AND waist circumference qc[510...</td>\n",
       "      <td>258</td>\n",
       "      <td>0.000</td>\n",
       "      <td>13.297</td>\n",
       "    </tr>\n",
       "    <tr>\n",
       "      <th>4</th>\n",
       "      <td>2.5</td>\n",
       "      <td>2</td>\n",
       "      <td>mvpa cat c[1.0] AND waist circumference qc[510...</td>\n",
       "      <td>258</td>\n",
       "      <td>0.000</td>\n",
       "      <td>12.297</td>\n",
       "    </tr>\n",
       "    <tr>\n",
       "      <th>5</th>\n",
       "      <td>3.0</td>\n",
       "      <td>2</td>\n",
       "      <td>mvpa cat c[1.0] AND waist circumference qc[510...</td>\n",
       "      <td>258</td>\n",
       "      <td>0.000</td>\n",
       "      <td>11.297</td>\n",
       "    </tr>\n",
       "    <tr>\n",
       "      <th>6</th>\n",
       "      <td>3.5</td>\n",
       "      <td>1</td>\n",
       "      <td>waist circumference qc[510.0 - 780.0]</td>\n",
       "      <td>314</td>\n",
       "      <td>0.092</td>\n",
       "      <td>10.783</td>\n",
       "    </tr>\n",
       "    <tr>\n",
       "      <th>7</th>\n",
       "      <td>4.0</td>\n",
       "      <td>1</td>\n",
       "      <td>waist circumference qc[510.0 - 780.0]</td>\n",
       "      <td>314</td>\n",
       "      <td>0.092</td>\n",
       "      <td>10.283</td>\n",
       "    </tr>\n",
       "    <tr>\n",
       "      <th>8</th>\n",
       "      <td>4.5</td>\n",
       "      <td>1</td>\n",
       "      <td>waist circumference qc[510.0 - 780.0]</td>\n",
       "      <td>314</td>\n",
       "      <td>0.092</td>\n",
       "      <td>9.783</td>\n",
       "    </tr>\n",
       "    <tr>\n",
       "      <th>9</th>\n",
       "      <td>5.0</td>\n",
       "      <td>1</td>\n",
       "      <td>waist circumference qc[510.0 - 780.0]</td>\n",
       "      <td>314</td>\n",
       "      <td>0.092</td>\n",
       "      <td>9.283</td>\n",
       "    </tr>\n",
       "  </tbody>\n",
       "</table>\n",
       "</div>"
      ],
      "text/plain": [
       "   Penalty  No of literals                                             Subset  \\\n",
       "0      0.5              10  triglycerides qc[0.25 - 1.49 OR -999.0] AND wa...   \n",
       "1      1.0               7  friedewald ldl c c qc[1.36 - 7.6] AND triglyce...   \n",
       "2      1.5               4  triglycerides qc[0.54 - 1.49] AND subcutaneous...   \n",
       "3      2.0               2  mvpa cat c[1.0] AND waist circumference qc[510...   \n",
       "4      2.5               2  mvpa cat c[1.0] AND waist circumference qc[510...   \n",
       "5      3.0               2  mvpa cat c[1.0] AND waist circumference qc[510...   \n",
       "6      3.5               1              waist circumference qc[510.0 - 780.0]   \n",
       "7      4.0               1              waist circumference qc[510.0 - 780.0]   \n",
       "8      4.5               1              waist circumference qc[510.0 - 780.0]   \n",
       "9      5.0               1              waist circumference qc[510.0 - 780.0]   \n",
       "\n",
       "   Size   Odds   Score  \n",
       "0   379  0.000  20.410  \n",
       "1   277  0.000  11.571  \n",
       "2   341  0.000  16.862  \n",
       "3   258  0.000  13.297  \n",
       "4   258  0.000  12.297  \n",
       "5   258  0.000  11.297  \n",
       "6   314  0.092  10.783  \n",
       "7   314  0.092  10.283  \n",
       "8   314  0.092   9.783  \n",
       "9   314  0.092   9.283  "
      ]
     },
     "execution_count": 58,
     "metadata": {},
     "output_type": "execute_result"
    }
   ],
   "source": [
    "results_df = pd.DataFrame({\n",
    "    'Penalty': penalty_values,\n",
    "    'No of literals': count_results,\n",
    "    'Subset': subset_results1,\n",
    "    'Size': size_results,\n",
    "    'Odds': odds_results,\n",
    "    'Score': score_results\n",
    "})\n",
    "\n",
    "# Display the DataFrame\n",
    "results_df"
   ]
  },
  {
   "cell_type": "code",
   "execution_count": 56,
   "metadata": {},
   "outputs": [],
   "source": [
    "results_df.to_csv('results_df_negative.csv', index=False)"
   ]
  },
  {
   "cell_type": "code",
   "execution_count": 52,
   "metadata": {},
   "outputs": [
    {
     "name": "stdout",
     "output_type": "stream",
     "text": [
      "      4_literals  3_literals  1_literal\n",
      "378            1           1          1\n",
      "379            0           0          1\n",
      "388            1           0          1\n",
      "389            0           0          1\n",
      "397            1           0          0\n",
      "...          ...         ...        ...\n",
      "4394           0           0          1\n",
      "4422           1           0          0\n",
      "4471           0           0          1\n",
      "4472           1           0          0\n",
      "4477           1           0          0\n",
      "\n",
      "[242 rows x 3 columns]\n"
     ]
    }
   ],
   "source": [
    "# Identify unique observations from the datasets\n",
    "unique_ids = np.unique(np.concatenate([dataframes['df_2.5'].index, dataframes['df_3.5'].index, dataframes['df_4'].index,]))\n",
    "\n",
    "# Create a DataFrame with values of 1 in the baseline column and 0 or 1 in the other columns\n",
    "final_df = pd.DataFrame(index=unique_ids, columns=['4_literals', '3_literals', '1_literal'])\n",
    "\n",
    "# Set values based on the presence of IDs in the datasets\n",
    "# final_df['Baseline'] = 1\n",
    "final_df['4_literals'] = final_df.index.isin(dataframes['df_2.5'].index).astype(int)\n",
    "final_df['3_literals'] = final_df.index.isin(dataframes['df_3.5'].index).astype(int)\n",
    "final_df['1_literal'] = final_df.index.isin(dataframes['df_4'].index).astype(int)\n",
    "\n",
    "# Display the final DataFrame\n",
    "print(final_df)"
   ]
  },
  {
   "cell_type": "code",
   "execution_count": 53,
   "metadata": {},
   "outputs": [
    {
     "data": {
      "text/plain": [
       "rows\n",
       "237    [2]\n",
       "238    [0]\n",
       "239    [2]\n",
       "240    [0]\n",
       "241    [0]\n",
       "dtype: object"
      ]
     },
     "execution_count": 53,
     "metadata": {},
     "output_type": "execute_result"
    }
   ],
   "source": [
    "# get coordinates where event occurs (value=1)\n",
    "row_paths, col_paths = np.where(final_df.eq(1))\n",
    "mask = pd.DataFrame(data= {'rows':row_paths, 'cols':col_paths})\n",
    "\n",
    "# aggregate by row to get application's path\n",
    "agg_mask = mask.groupby('rows').apply(lambda x: [x for x in x.cols])\n",
    "agg_mask.tail()"
   ]
  },
  {
   "cell_type": "code",
   "execution_count": 54,
   "metadata": {},
   "outputs": [
    {
     "data": {
      "text/html": [
       "<div>\n",
       "<style scoped>\n",
       "    .dataframe tbody tr th:only-of-type {\n",
       "        vertical-align: middle;\n",
       "    }\n",
       "\n",
       "    .dataframe tbody tr th {\n",
       "        vertical-align: top;\n",
       "    }\n",
       "\n",
       "    .dataframe thead th {\n",
       "        text-align: right;\n",
       "    }\n",
       "</style>\n",
       "<table border=\"1\" class=\"dataframe\">\n",
       "  <thead>\n",
       "    <tr style=\"text-align: right;\">\n",
       "      <th></th>\n",
       "      <th>source</th>\n",
       "      <th>target</th>\n",
       "      <th>value</th>\n",
       "    </tr>\n",
       "  </thead>\n",
       "  <tbody>\n",
       "    <tr>\n",
       "      <th>0</th>\n",
       "      <td>1</td>\n",
       "      <td>2</td>\n",
       "      <td>48</td>\n",
       "    </tr>\n",
       "    <tr>\n",
       "      <th>1</th>\n",
       "      <td>0</td>\n",
       "      <td>2</td>\n",
       "      <td>27</td>\n",
       "    </tr>\n",
       "    <tr>\n",
       "      <th>2</th>\n",
       "      <td>0</td>\n",
       "      <td>1</td>\n",
       "      <td>24</td>\n",
       "    </tr>\n",
       "  </tbody>\n",
       "</table>\n",
       "</div>"
      ],
      "text/plain": [
       "   source  target  value\n",
       "0       1       2     48\n",
       "1       0       2     27\n",
       "2       0       1     24"
      ]
     },
     "execution_count": 54,
     "metadata": {},
     "output_type": "execute_result"
    }
   ],
   "source": [
    "all_events = []\n",
    "\n",
    "# get pair of source and target\n",
    "for row in agg_mask:\n",
    "    for index in range(len(row)-1):\n",
    "        all_events.append([row[index], row[index+1]])\n",
    "        \n",
    "# create df for aggregation        \n",
    "sankey_ST = pd.DataFrame(data=all_events)\n",
    "sankey_ST = sankey_ST.rename(columns={0:'source', 1:'target'})\n",
    "sankey_ST = sankey_ST.value_counts().reset_index()\n",
    "sankey_ST = sankey_ST.rename(columns={0:'value'})\n",
    "\n",
    "sankey_ST.head()"
   ]
  },
  {
   "cell_type": "code",
   "execution_count": 55,
   "metadata": {},
   "outputs": [
    {
     "data": {
      "application/vnd.plotly.v1+json": {
       "config": {
        "plotlyServerURL": "https://plot.ly"
       },
       "data": [
        {
         "link": {
          "source": [
           1,
           0,
           0
          ],
          "target": [
           2,
           2,
           1
          ],
          "value": [
           48,
           27,
           24
          ]
         },
         "node": {
          "label": [
           "4_literals: 163",
           "3_literals: 48",
           "1_literal: 130"
          ],
          "pad": 15,
          "thickness": 20
         },
         "textfont": {
          "size": 12
         },
         "type": "sankey"
        }
       ],
       "layout": {
        "font": {
         "size": 10
        },
        "template": {
         "data": {
          "bar": [
           {
            "error_x": {
             "color": "#2a3f5f"
            },
            "error_y": {
             "color": "#2a3f5f"
            },
            "marker": {
             "line": {
              "color": "#E5ECF6",
              "width": 0.5
             },
             "pattern": {
              "fillmode": "overlay",
              "size": 10,
              "solidity": 0.2
             }
            },
            "type": "bar"
           }
          ],
          "barpolar": [
           {
            "marker": {
             "line": {
              "color": "#E5ECF6",
              "width": 0.5
             },
             "pattern": {
              "fillmode": "overlay",
              "size": 10,
              "solidity": 0.2
             }
            },
            "type": "barpolar"
           }
          ],
          "carpet": [
           {
            "aaxis": {
             "endlinecolor": "#2a3f5f",
             "gridcolor": "white",
             "linecolor": "white",
             "minorgridcolor": "white",
             "startlinecolor": "#2a3f5f"
            },
            "baxis": {
             "endlinecolor": "#2a3f5f",
             "gridcolor": "white",
             "linecolor": "white",
             "minorgridcolor": "white",
             "startlinecolor": "#2a3f5f"
            },
            "type": "carpet"
           }
          ],
          "choropleth": [
           {
            "colorbar": {
             "outlinewidth": 0,
             "ticks": ""
            },
            "type": "choropleth"
           }
          ],
          "contour": [
           {
            "colorbar": {
             "outlinewidth": 0,
             "ticks": ""
            },
            "colorscale": [
             [
              0,
              "#0d0887"
             ],
             [
              0.1111111111111111,
              "#46039f"
             ],
             [
              0.2222222222222222,
              "#7201a8"
             ],
             [
              0.3333333333333333,
              "#9c179e"
             ],
             [
              0.4444444444444444,
              "#bd3786"
             ],
             [
              0.5555555555555556,
              "#d8576b"
             ],
             [
              0.6666666666666666,
              "#ed7953"
             ],
             [
              0.7777777777777778,
              "#fb9f3a"
             ],
             [
              0.8888888888888888,
              "#fdca26"
             ],
             [
              1,
              "#f0f921"
             ]
            ],
            "type": "contour"
           }
          ],
          "contourcarpet": [
           {
            "colorbar": {
             "outlinewidth": 0,
             "ticks": ""
            },
            "type": "contourcarpet"
           }
          ],
          "heatmap": [
           {
            "colorbar": {
             "outlinewidth": 0,
             "ticks": ""
            },
            "colorscale": [
             [
              0,
              "#0d0887"
             ],
             [
              0.1111111111111111,
              "#46039f"
             ],
             [
              0.2222222222222222,
              "#7201a8"
             ],
             [
              0.3333333333333333,
              "#9c179e"
             ],
             [
              0.4444444444444444,
              "#bd3786"
             ],
             [
              0.5555555555555556,
              "#d8576b"
             ],
             [
              0.6666666666666666,
              "#ed7953"
             ],
             [
              0.7777777777777778,
              "#fb9f3a"
             ],
             [
              0.8888888888888888,
              "#fdca26"
             ],
             [
              1,
              "#f0f921"
             ]
            ],
            "type": "heatmap"
           }
          ],
          "heatmapgl": [
           {
            "colorbar": {
             "outlinewidth": 0,
             "ticks": ""
            },
            "colorscale": [
             [
              0,
              "#0d0887"
             ],
             [
              0.1111111111111111,
              "#46039f"
             ],
             [
              0.2222222222222222,
              "#7201a8"
             ],
             [
              0.3333333333333333,
              "#9c179e"
             ],
             [
              0.4444444444444444,
              "#bd3786"
             ],
             [
              0.5555555555555556,
              "#d8576b"
             ],
             [
              0.6666666666666666,
              "#ed7953"
             ],
             [
              0.7777777777777778,
              "#fb9f3a"
             ],
             [
              0.8888888888888888,
              "#fdca26"
             ],
             [
              1,
              "#f0f921"
             ]
            ],
            "type": "heatmapgl"
           }
          ],
          "histogram": [
           {
            "marker": {
             "pattern": {
              "fillmode": "overlay",
              "size": 10,
              "solidity": 0.2
             }
            },
            "type": "histogram"
           }
          ],
          "histogram2d": [
           {
            "colorbar": {
             "outlinewidth": 0,
             "ticks": ""
            },
            "colorscale": [
             [
              0,
              "#0d0887"
             ],
             [
              0.1111111111111111,
              "#46039f"
             ],
             [
              0.2222222222222222,
              "#7201a8"
             ],
             [
              0.3333333333333333,
              "#9c179e"
             ],
             [
              0.4444444444444444,
              "#bd3786"
             ],
             [
              0.5555555555555556,
              "#d8576b"
             ],
             [
              0.6666666666666666,
              "#ed7953"
             ],
             [
              0.7777777777777778,
              "#fb9f3a"
             ],
             [
              0.8888888888888888,
              "#fdca26"
             ],
             [
              1,
              "#f0f921"
             ]
            ],
            "type": "histogram2d"
           }
          ],
          "histogram2dcontour": [
           {
            "colorbar": {
             "outlinewidth": 0,
             "ticks": ""
            },
            "colorscale": [
             [
              0,
              "#0d0887"
             ],
             [
              0.1111111111111111,
              "#46039f"
             ],
             [
              0.2222222222222222,
              "#7201a8"
             ],
             [
              0.3333333333333333,
              "#9c179e"
             ],
             [
              0.4444444444444444,
              "#bd3786"
             ],
             [
              0.5555555555555556,
              "#d8576b"
             ],
             [
              0.6666666666666666,
              "#ed7953"
             ],
             [
              0.7777777777777778,
              "#fb9f3a"
             ],
             [
              0.8888888888888888,
              "#fdca26"
             ],
             [
              1,
              "#f0f921"
             ]
            ],
            "type": "histogram2dcontour"
           }
          ],
          "mesh3d": [
           {
            "colorbar": {
             "outlinewidth": 0,
             "ticks": ""
            },
            "type": "mesh3d"
           }
          ],
          "parcoords": [
           {
            "line": {
             "colorbar": {
              "outlinewidth": 0,
              "ticks": ""
             }
            },
            "type": "parcoords"
           }
          ],
          "pie": [
           {
            "automargin": true,
            "type": "pie"
           }
          ],
          "scatter": [
           {
            "fillpattern": {
             "fillmode": "overlay",
             "size": 10,
             "solidity": 0.2
            },
            "type": "scatter"
           }
          ],
          "scatter3d": [
           {
            "line": {
             "colorbar": {
              "outlinewidth": 0,
              "ticks": ""
             }
            },
            "marker": {
             "colorbar": {
              "outlinewidth": 0,
              "ticks": ""
             }
            },
            "type": "scatter3d"
           }
          ],
          "scattercarpet": [
           {
            "marker": {
             "colorbar": {
              "outlinewidth": 0,
              "ticks": ""
             }
            },
            "type": "scattercarpet"
           }
          ],
          "scattergeo": [
           {
            "marker": {
             "colorbar": {
              "outlinewidth": 0,
              "ticks": ""
             }
            },
            "type": "scattergeo"
           }
          ],
          "scattergl": [
           {
            "marker": {
             "colorbar": {
              "outlinewidth": 0,
              "ticks": ""
             }
            },
            "type": "scattergl"
           }
          ],
          "scattermapbox": [
           {
            "marker": {
             "colorbar": {
              "outlinewidth": 0,
              "ticks": ""
             }
            },
            "type": "scattermapbox"
           }
          ],
          "scatterpolar": [
           {
            "marker": {
             "colorbar": {
              "outlinewidth": 0,
              "ticks": ""
             }
            },
            "type": "scatterpolar"
           }
          ],
          "scatterpolargl": [
           {
            "marker": {
             "colorbar": {
              "outlinewidth": 0,
              "ticks": ""
             }
            },
            "type": "scatterpolargl"
           }
          ],
          "scatterternary": [
           {
            "marker": {
             "colorbar": {
              "outlinewidth": 0,
              "ticks": ""
             }
            },
            "type": "scatterternary"
           }
          ],
          "surface": [
           {
            "colorbar": {
             "outlinewidth": 0,
             "ticks": ""
            },
            "colorscale": [
             [
              0,
              "#0d0887"
             ],
             [
              0.1111111111111111,
              "#46039f"
             ],
             [
              0.2222222222222222,
              "#7201a8"
             ],
             [
              0.3333333333333333,
              "#9c179e"
             ],
             [
              0.4444444444444444,
              "#bd3786"
             ],
             [
              0.5555555555555556,
              "#d8576b"
             ],
             [
              0.6666666666666666,
              "#ed7953"
             ],
             [
              0.7777777777777778,
              "#fb9f3a"
             ],
             [
              0.8888888888888888,
              "#fdca26"
             ],
             [
              1,
              "#f0f921"
             ]
            ],
            "type": "surface"
           }
          ],
          "table": [
           {
            "cells": {
             "fill": {
              "color": "#EBF0F8"
             },
             "line": {
              "color": "white"
             }
            },
            "header": {
             "fill": {
              "color": "#C8D4E3"
             },
             "line": {
              "color": "white"
             }
            },
            "type": "table"
           }
          ]
         },
         "layout": {
          "annotationdefaults": {
           "arrowcolor": "#2a3f5f",
           "arrowhead": 0,
           "arrowwidth": 1
          },
          "autotypenumbers": "strict",
          "coloraxis": {
           "colorbar": {
            "outlinewidth": 0,
            "ticks": ""
           }
          },
          "colorscale": {
           "diverging": [
            [
             0,
             "#8e0152"
            ],
            [
             0.1,
             "#c51b7d"
            ],
            [
             0.2,
             "#de77ae"
            ],
            [
             0.3,
             "#f1b6da"
            ],
            [
             0.4,
             "#fde0ef"
            ],
            [
             0.5,
             "#f7f7f7"
            ],
            [
             0.6,
             "#e6f5d0"
            ],
            [
             0.7,
             "#b8e186"
            ],
            [
             0.8,
             "#7fbc41"
            ],
            [
             0.9,
             "#4d9221"
            ],
            [
             1,
             "#276419"
            ]
           ],
           "sequential": [
            [
             0,
             "#0d0887"
            ],
            [
             0.1111111111111111,
             "#46039f"
            ],
            [
             0.2222222222222222,
             "#7201a8"
            ],
            [
             0.3333333333333333,
             "#9c179e"
            ],
            [
             0.4444444444444444,
             "#bd3786"
            ],
            [
             0.5555555555555556,
             "#d8576b"
            ],
            [
             0.6666666666666666,
             "#ed7953"
            ],
            [
             0.7777777777777778,
             "#fb9f3a"
            ],
            [
             0.8888888888888888,
             "#fdca26"
            ],
            [
             1,
             "#f0f921"
            ]
           ],
           "sequentialminus": [
            [
             0,
             "#0d0887"
            ],
            [
             0.1111111111111111,
             "#46039f"
            ],
            [
             0.2222222222222222,
             "#7201a8"
            ],
            [
             0.3333333333333333,
             "#9c179e"
            ],
            [
             0.4444444444444444,
             "#bd3786"
            ],
            [
             0.5555555555555556,
             "#d8576b"
            ],
            [
             0.6666666666666666,
             "#ed7953"
            ],
            [
             0.7777777777777778,
             "#fb9f3a"
            ],
            [
             0.8888888888888888,
             "#fdca26"
            ],
            [
             1,
             "#f0f921"
            ]
           ]
          },
          "colorway": [
           "#636efa",
           "#EF553B",
           "#00cc96",
           "#ab63fa",
           "#FFA15A",
           "#19d3f3",
           "#FF6692",
           "#B6E880",
           "#FF97FF",
           "#FECB52"
          ],
          "font": {
           "color": "#2a3f5f"
          },
          "geo": {
           "bgcolor": "white",
           "lakecolor": "white",
           "landcolor": "#E5ECF6",
           "showlakes": true,
           "showland": true,
           "subunitcolor": "white"
          },
          "hoverlabel": {
           "align": "left"
          },
          "hovermode": "closest",
          "mapbox": {
           "style": "light"
          },
          "paper_bgcolor": "white",
          "plot_bgcolor": "#E5ECF6",
          "polar": {
           "angularaxis": {
            "gridcolor": "white",
            "linecolor": "white",
            "ticks": ""
           },
           "bgcolor": "#E5ECF6",
           "radialaxis": {
            "gridcolor": "white",
            "linecolor": "white",
            "ticks": ""
           }
          },
          "scene": {
           "xaxis": {
            "backgroundcolor": "#E5ECF6",
            "gridcolor": "white",
            "gridwidth": 2,
            "linecolor": "white",
            "showbackground": true,
            "ticks": "",
            "zerolinecolor": "white"
           },
           "yaxis": {
            "backgroundcolor": "#E5ECF6",
            "gridcolor": "white",
            "gridwidth": 2,
            "linecolor": "white",
            "showbackground": true,
            "ticks": "",
            "zerolinecolor": "white"
           },
           "zaxis": {
            "backgroundcolor": "#E5ECF6",
            "gridcolor": "white",
            "gridwidth": 2,
            "linecolor": "white",
            "showbackground": true,
            "ticks": "",
            "zerolinecolor": "white"
           }
          },
          "shapedefaults": {
           "line": {
            "color": "#2a3f5f"
           }
          },
          "ternary": {
           "aaxis": {
            "gridcolor": "white",
            "linecolor": "white",
            "ticks": ""
           },
           "baxis": {
            "gridcolor": "white",
            "linecolor": "white",
            "ticks": ""
           },
           "bgcolor": "#E5ECF6",
           "caxis": {
            "gridcolor": "white",
            "linecolor": "white",
            "ticks": ""
           }
          },
          "title": {
           "x": 0.05
          },
          "xaxis": {
           "automargin": true,
           "gridcolor": "white",
           "linecolor": "white",
           "ticks": "",
           "title": {
            "standoff": 15
           },
           "zerolinecolor": "white",
           "zerolinewidth": 2
          },
          "yaxis": {
           "automargin": true,
           "gridcolor": "white",
           "linecolor": "white",
           "ticks": "",
           "title": {
            "standoff": 15
           },
           "zerolinecolor": "white",
           "zerolinewidth": 2
          }
         }
        },
        "title": {
         "text": "Flow of individuals in different literals"
        }
       }
      }
     },
     "metadata": {},
     "output_type": "display_data"
    }
   ],
   "source": [
    "import plotly.graph_objects as go\n",
    "fig = go.Figure(data=[go.Sankey(\n",
    "    node = dict(\n",
    "        pad = 15,\n",
    "        thickness = 20,\n",
    "        label = [f'{x}: {final_df[x].sum()}' for x in final_df.columns]\n",
    "    ),\n",
    "    link=dict(\n",
    "        source = sankey_ST['source'],\n",
    "        target = sankey_ST['target'],\n",
    "        value = sankey_ST['value']\n",
    "    ),\n",
    ")])\n",
    "\n",
    "\n",
    "fig.update_layout(title_text='Flow of individuals in different literals', font_size=10)\n",
    "fig.update_traces(textfont_size=12)\n",
    "fig.show()"
   ]
  },
  {
   "cell_type": "code",
   "execution_count": 49,
   "metadata": {},
   "outputs": [],
   "source": [
    "ang1_up = final_df.mask(final_df == 1, np.nan)"
   ]
  },
  {
   "cell_type": "code",
   "execution_count": 50,
   "metadata": {},
   "outputs": [
    {
     "data": {
      "text/plain": [
       "<upsetplot.plotting.UpSet at 0x7f8d011e8430>"
      ]
     },
     "execution_count": 50,
     "metadata": {},
     "output_type": "execute_result"
    },
    {
     "data": {
      "image/png": "[encoded data removed]",
      "text/plain": [
       "<Figure size 355.556x400 with 4 Axes>"
      ]
     },
     "metadata": {},
     "output_type": "display_data"
    }
   ],
   "source": [
    "import upsetplot\n",
    "from upsetplot import UpSet, plot, from_indicators\n",
    "from upsetplot import from_contents\n",
    "# angpain.values\n",
    "\n",
    "# ang1 = angpain.set_index(angpain.pain_qc == True).set_index(angpain.pain2_qc == 1, append=True).set_index(angpain.pain_location_12_qc == 1, append=True)\n",
    "# UpSet(ang1)\n",
    "UpSet(from_indicators(pd.isna, data=ang1_up.iloc[:,0:]), show_counts=True, sort_by= 'cardinality', max_subset_size=1000, facecolor='dimgrey')\n",
    "# upsetplot.query(ang1)\n",
    "# upset = UpSet(angpain,element_size=32)"
   ]
  }
 ],
 "metadata": {
  "kernelspec": {
   "display_name": "kay",
   "language": "python",
   "name": "python3"
  },
  "language_info": {
   "codemirror_mode": {
    "name": "ipython",
    "version": 3
   },
   "file_extension": ".py",
   "mimetype": "text/x-python",
   "name": "python",
   "nbconvert_exporter": "python",
   "pygments_lexer": "ipython3",
   "version": "3.9.0"
  }
 },
 "nbformat": 4,
 "nbformat_minor": 2
}
