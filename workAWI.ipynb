{
 "cells": [
  {
   "cell_type": "code",
   "execution_count": 1,
   "metadata": {},
   "outputs": [],
   "source": [
    "import pandas as pd\n",
    "import numpy as np\n",
    "import matplotlib.pyplot as plt\n",
    "import seaborn as sns"
   ]
  },
  {
   "cell_type": "code",
   "execution_count": 37,
   "metadata": {},
   "outputs": [],
   "source": [
    "dataAWIGEN = pd.read_csv('/Users/kayadetunji/Documents/AWI_GEN_PROJECT/cvd_data_awigenv1.csv').drop(columns = \n",
    "       ['Unnamed: 0', 'study_id', 'chf_meds_qc','angina_meds_qc', 'pain_action_stop_or_slow_qc', 'pain_action_rest_qc',\n",
    "       'pain_action_medicine_qc', 'pain_action_carry_on_qc',\n",
    "       'relief_standstill_qc', 'relief_standstill_qc.1', 'pain_location_1_qc',\n",
    "       'pain_location_2_qc', 'pain_location_3_qc', 'pain_location_4_qc',\n",
    "       'pain_location_5_qc', 'pain_location_6_qc', 'pain_location_7_qc',\n",
    "       'pain_location_8_qc', 'pain_location_9_qc', 'pain_location_10_qc',\n",
    "       'pain_location_11_qc', 'pain_location_12_qc', 'pain_location_13_qc',\n",
    "       'pain_location_14_qc', 'pain_location_15_qc', 'pain_location_16_qc',\n",
    "       'pain_location_17_qc', 'pain_location_18_qc','angina_treat_now_qc', 'angina_traditional_qc', 'pain_qc', 'pain2_qc'])\n",
    "data = dataAWIGEN.replace([-999, 999], np.nan).copy()"
   ]
  },
  {
   "cell_type": "code",
   "execution_count": 38,
   "metadata": {},
   "outputs": [],
   "source": [
    "urbanData = data.loc[((data['site'] == 3) | (data['site'] == 6))].copy()"
   ]
  },
  {
   "cell_type": "code",
   "execution_count": 39,
   "metadata": {},
   "outputs": [],
   "source": [
    "ruralData = data.loc[((data['site'] == 1) | (data['site'] == 2) | (data['site'] == 4) | (data['site'] == 5))].copy()"
   ]
  },
  {
   "cell_type": "code",
   "execution_count": 40,
   "metadata": {},
   "outputs": [
    {
     "data": {
      "text/plain": [
       "Index(['site', 'age', 'sex', 'number_of_children_c', 'partnership_status_c_qc',\n",
       "       'highest_level_of_education_qc', 'occupation_qc',\n",
       "       'ses_site_quintile_c_qc', 'smoking_status_c_qc',\n",
       "       'alcohol_use_status_c_qc', 'days_fruit_qc', 'days_veg_qc',\n",
       "       'days_bread_qc', 'sugardrinks_qc', 'avg_sleep_per_night_c', 'mvpa_c',\n",
       "       'asthma_qc', 'obesity_mom_qc', 'hiv_final_status_c', 'pesticide_qc',\n",
       "       'waist_circumference_qc', 'hip_circumference_qc', 'waist_hip_r_c_qc',\n",
       "       'bp_sys_average_qc', 'bp_dia_average_qc', 'pulse_average_qc',\n",
       "       'visceral_fat_qc', 'subcutaneous_fat_qc', 'mean_cimt_right_qc',\n",
       "       'mean_cimt_left_qc', 's_creatinine_qc', 'ldl_qc', 'triglycerides_qc',\n",
       "       'acr_qc', 'egfr_c_qc', 'cholesterol_1_qc', 'stroke_qc',\n",
       "       'stroke_diagnosed_qc', 'transient_ischemic_attack_qc', 'weakness_qc',\n",
       "       'numbness_qc', 'blindness_qc', 'half_vision_loss_qc',\n",
       "       'understanding_loss_qc', 'expression_loss_qc', 'angina_qc',\n",
       "       'angina_treatment_yn_qc', 'heartattack_qc', 'heartattack_qc.1',\n",
       "       'heartattack_treatment_qc', 'heartattack_traditional_qc',\n",
       "       'congestive_heart_failure_qc', 'chf_treatment_yn_qc',\n",
       "       'chf_treat_now_qc', 'chf_traditional_qc', 'cadiovascular_current',\n",
       "       'ckd_c_qc', 'htn_jnc7_qc', 'diabetes_status_c_qc', 'bmi_c_qc'],\n",
       "      dtype='object')"
      ]
     },
     "execution_count": 40,
     "metadata": {},
     "output_type": "execute_result"
    }
   ],
   "source": [
    "data.columns"
   ]
  },
  {
   "cell_type": "code",
   "execution_count": 41,
   "metadata": {},
   "outputs": [
    {
     "data": {
      "text/plain": [
       "0.0    95.989215\n",
       "1.0     4.010785\n",
       "Name: cadiovascular_current, dtype: float64"
      ]
     },
     "execution_count": 41,
     "metadata": {},
     "output_type": "execute_result"
    }
   ],
   "source": [
    "urbanData['cadiovascular_current'].value_counts(normalize=True)*100"
   ]
  },
  {
   "cell_type": "code",
   "execution_count": 42,
   "metadata": {},
   "outputs": [
    {
     "data": {
      "text/plain": [
       "0    91.720377\n",
       "1     8.279623\n",
       "Name: diabetes_status_c_qc, dtype: float64"
      ]
     },
     "execution_count": 42,
     "metadata": {},
     "output_type": "execute_result"
    }
   ],
   "source": [
    "urbanData['diabetes_status_c_qc'].value_counts(normalize=True)*100"
   ]
  },
  {
   "cell_type": "code",
   "execution_count": 43,
   "metadata": {},
   "outputs": [
    {
     "data": {
      "text/plain": [
       "0    60.014874\n",
       "1    39.985126\n",
       "Name: htn_jnc7_qc, dtype: float64"
      ]
     },
     "execution_count": 43,
     "metadata": {},
     "output_type": "execute_result"
    }
   ],
   "source": [
    "urbanData['htn_jnc7_qc'].value_counts(normalize=True)*100"
   ]
  },
  {
   "cell_type": "code",
   "execution_count": 44,
   "metadata": {},
   "outputs": [
    {
     "data": {
      "text/plain": [
       "0.0    86.552217\n",
       "1.0    13.447783\n",
       "Name: ckd_c_qc, dtype: float64"
      ]
     },
     "execution_count": 44,
     "metadata": {},
     "output_type": "execute_result"
    }
   ],
   "source": [
    "urbanData['ckd_c_qc'].value_counts(normalize=True)*100"
   ]
  },
  {
   "cell_type": "code",
   "execution_count": 45,
   "metadata": {},
   "outputs": [
    {
     "data": {
      "text/plain": [
       "0        0.0\n",
       "1        0.0\n",
       "2        0.0\n",
       "3        0.0\n",
       "4        0.0\n",
       "        ... \n",
       "12027    NaN\n",
       "12028    0.0\n",
       "12029    0.0\n",
       "12030    2.0\n",
       "12031    0.0\n",
       "Name: heartattack_qc, Length: 12032, dtype: float64"
      ]
     },
     "execution_count": 45,
     "metadata": {},
     "output_type": "execute_result"
    }
   ],
   "source": [
    "data['heartattack_qc']"
   ]
  },
  {
   "cell_type": "code",
   "execution_count": null,
   "metadata": {},
   "outputs": [],
   "source": [
    "import seaborn as sns\n",
    "import matplotlib.pyplot as plt\n",
    "tips = sns.load_dataset(\"tips\")\n",
    "\n",
    "g = sns.lmplot(\n",
    "    x=\"total_bill\", \n",
    "    y=\"tip\", \n",
    "    hue=\"smoker\", \n",
    "    data=tips,  \n",
    "    legend=False\n",
    ")\n",
    "\n",
    "plt.legend(title='Smoker', loc='upper left', labels=['Hell Yeh', 'Nah Bruh'])\n",
    "plt.show(g)"
   ]
  },
  {
   "cell_type": "code",
   "execution_count": 48,
   "metadata": {},
   "outputs": [
    {
     "data": {
      "image/png": "[encoded data removed]",
      "text/plain": [
       "<Figure size 640x480 with 1 Axes>"
      ]
     },
     "metadata": {},
     "output_type": "display_data"
    }
   ],
   "source": [
    "# import necessary packages\n",
    "import matplotlib.pyplot as plt\n",
    " \n",
    "# # list of weights\n",
    "# weights = [30, 50, 45, 80, 76, 55,\n",
    "#            45, 47, 50, 65]\n",
    " \n",
    "# # list of bins\n",
    "# bins = [30, 40, 50, 60]\n",
    " \n",
    "# # plotting labelled histogram\n",
    "# plt.hist(weights, bins=bins, edgecolor='black')\n",
    "# plt.xlabel('weight')\n",
    "# plt.ylabel('Person count')\n",
    "# plt.show()\n",
    "\n",
    "# list of weights\n",
    "weights = urbanData.bmi_c_qc\n",
    " \n",
    "# list of bins\n",
    "bins = [30, 40, 50, 60]\n",
    "# bins =  urbanData.age\n",
    "# plotting labelled histogram\n",
    "plt.hist(weights, bins=30, edgecolor='black')\n",
    "plt.xlabel('BMI')\n",
    "plt.ylabel('Person count')\n",
    "plt.show()"
   ]
  },
  {
   "cell_type": "code",
   "execution_count": 32,
   "metadata": {},
   "outputs": [
    {
     "name": "stderr",
     "output_type": "stream",
     "text": [
      "/var/folders/gv/py_qrkp162g_1kqt0zrs11qc0000gn/T/ipykernel_76069/1411323748.py:1: UserWarning: \n",
      "\n",
      "`distplot` is a deprecated function and will be removed in seaborn v0.14.0.\n",
      "\n",
      "Please adapt your code to use either `displot` (a figure-level function with\n",
      "similar flexibility) or `histplot` (an axes-level function for histograms).\n",
      "\n",
      "For a guide to updating your code to use the new functions, please see\n",
      "https://gist.github.com/mwaskom/de44147ed2974457ad6372750bbe5751\n",
      "\n",
      "  sns.distplot( a=urbanData[\"bmi_c_qc\"], hist=True, kde=False, rug=False )\n"
     ]
    },
    {
     "data": {
      "text/plain": [
       "<Axes: xlabel='bmi_c_qc'>"
      ]
     },
     "execution_count": 32,
     "metadata": {},
     "output_type": "execute_result"
    },
    {
     "data": {
      "image/png": "[encoded data removed]",
      "text/plain": [
       "<Figure size 640x480 with 1 Axes>"
      ]
     },
     "metadata": {},
     "output_type": "display_data"
    }
   ],
   "source": [
    "sns.distplot( a=urbanData[\"bmi_c_qc\"], hist=True, kde=False, rug=False )"
   ]
  },
  {
   "cell_type": "code",
   "execution_count": 38,
   "metadata": {},
   "outputs": [],
   "source": [
    "data = data[(data['age'] <= 65) & (data['age'] >= 40)]"
   ]
  },
  {
   "cell_type": "code",
   "execution_count": 56,
   "metadata": {},
   "outputs": [],
   "source": [
    "# Simple Function to calcuate CVD\n",
    "def calculate_CVD(a,b,c,d,e):\n",
    "    col=0\n",
    "    if (int(a)==1 or int(b)==1 or int(c)==1 or int(d)==1 or int(e)==1):\n",
    "        col=1\n",
    "    elif (int(a)==0 and int(b)==0 and int(c)==0 and int(d)==0 and int(e)==0):\n",
    "        col = 0\n",
    "    elif (int(a)==pd.isna and int(b)==pd.isna and int(c)==pd.isna and int(d)==pd.isna and int(e)==pd.isna):\n",
    "        col = 0\n",
    "    return col"
   ]
  },
  {
   "cell_type": "code",
   "execution_count": 57,
   "metadata": {},
   "outputs": [],
   "source": [
    "# Simple Function to calcuate CVD multimorbidity\n",
    "def calculate_CVD_HT(a,b,c,d):\n",
    "    col=0\n",
    "    if (int(a)==1 and int(b)==1):\n",
    "        col=1\n",
    "    else:\n",
    "        col = 0\n",
    "    return col"
   ]
  },
  {
   "cell_type": "code",
   "execution_count": 58,
   "metadata": {},
   "outputs": [],
   "source": [
    "com=[]\n",
    "for i in range(data.shape[0]):\n",
    "    com.append(calculate_CVD(data.stroke_qc.iloc[i], data.transient_ischemic_attack_qc.iloc[i], data.heartattack_qc.iloc[i], data.congestive_heart_failure_qc.iloc[i], data.angina_qc.iloc[i]))\n",
    "y1=pd.DataFrame(com, columns=['CVD'])"
   ]
  },
  {
   "cell_type": "code",
   "execution_count": 59,
   "metadata": {},
   "outputs": [
    {
     "ename": "ValueError",
     "evalue": "cannot convert float NaN to integer",
     "output_type": "error",
     "traceback": [
      "\u001b[0;31m---------------------------------------------------------------------------\u001b[0m",
      "\u001b[0;31mValueError\u001b[0m                                Traceback (most recent call last)",
      "\u001b[1;32m/Users/kayadetunji/Downloads/HAALSI_work/workAWI.ipynb Cell 15\u001b[0m in \u001b[0;36m<cell line: 2>\u001b[0;34m()\u001b[0m\n\u001b[1;32m      <a href='vscode-notebook-cell:/Users/kayadetunji/Downloads/HAALSI_work/workAWI.ipynb#X16sZmlsZQ%3D%3D?line=0'>1</a>\u001b[0m com\u001b[39m=\u001b[39m[]\n\u001b[1;32m      <a href='vscode-notebook-cell:/Users/kayadetunji/Downloads/HAALSI_work/workAWI.ipynb#X16sZmlsZQ%3D%3D?line=1'>2</a>\u001b[0m \u001b[39mfor\u001b[39;00m i \u001b[39min\u001b[39;00m \u001b[39mrange\u001b[39m(urbanData\u001b[39m.\u001b[39mshape[\u001b[39m0\u001b[39m]):\n\u001b[0;32m----> <a href='vscode-notebook-cell:/Users/kayadetunji/Downloads/HAALSI_work/workAWI.ipynb#X16sZmlsZQ%3D%3D?line=2'>3</a>\u001b[0m     com\u001b[39m.\u001b[39mappend(calculate_CVD_HT(urbanData\u001b[39m.\u001b[39;49mcadiovascular_current\u001b[39m.\u001b[39;49miloc[i], urbanData\u001b[39m.\u001b[39;49mhtn_jnc7_qc\u001b[39m.\u001b[39;49miloc[i], urbanData\u001b[39m.\u001b[39;49mckd_c_qc\u001b[39m.\u001b[39;49miloc[i], urbanData\u001b[39m.\u001b[39;49mdiabetes_status_c_qc\u001b[39m.\u001b[39;49miloc[i]))\n\u001b[1;32m      <a href='vscode-notebook-cell:/Users/kayadetunji/Downloads/HAALSI_work/workAWI.ipynb#X16sZmlsZQ%3D%3D?line=3'>4</a>\u001b[0m y2\u001b[39m=\u001b[39mpd\u001b[39m.\u001b[39mDataFrame(com, columns\u001b[39m=\u001b[39m[\u001b[39m'\u001b[39m\u001b[39mCVD_HT\u001b[39m\u001b[39m'\u001b[39m])\n",
      "\u001b[1;32m/Users/kayadetunji/Downloads/HAALSI_work/workAWI.ipynb Cell 15\u001b[0m in \u001b[0;36mcalculate_CVD_HT\u001b[0;34m(a, b, c, d)\u001b[0m\n\u001b[1;32m      <a href='vscode-notebook-cell:/Users/kayadetunji/Downloads/HAALSI_work/workAWI.ipynb#X16sZmlsZQ%3D%3D?line=1'>2</a>\u001b[0m \u001b[39mdef\u001b[39;00m \u001b[39mcalculate_CVD_HT\u001b[39m(a,b,c,d):\n\u001b[1;32m      <a href='vscode-notebook-cell:/Users/kayadetunji/Downloads/HAALSI_work/workAWI.ipynb#X16sZmlsZQ%3D%3D?line=2'>3</a>\u001b[0m     col\u001b[39m=\u001b[39m\u001b[39m0\u001b[39m\n\u001b[0;32m----> <a href='vscode-notebook-cell:/Users/kayadetunji/Downloads/HAALSI_work/workAWI.ipynb#X16sZmlsZQ%3D%3D?line=3'>4</a>\u001b[0m     \u001b[39mif\u001b[39;00m (\u001b[39mint\u001b[39;49m(a)\u001b[39m==\u001b[39m\u001b[39m1\u001b[39m \u001b[39mand\u001b[39;00m \u001b[39mint\u001b[39m(b)\u001b[39m==\u001b[39m\u001b[39m1\u001b[39m):\n\u001b[1;32m      <a href='vscode-notebook-cell:/Users/kayadetunji/Downloads/HAALSI_work/workAWI.ipynb#X16sZmlsZQ%3D%3D?line=4'>5</a>\u001b[0m         col\u001b[39m=\u001b[39m\u001b[39m1\u001b[39m\n\u001b[1;32m      <a href='vscode-notebook-cell:/Users/kayadetunji/Downloads/HAALSI_work/workAWI.ipynb#X16sZmlsZQ%3D%3D?line=5'>6</a>\u001b[0m     \u001b[39melse\u001b[39;00m:\n",
      "\u001b[0;31mValueError\u001b[0m: cannot convert float NaN to integer"
     ]
    }
   ],
   "source": [
    "com=[]\n",
    "# y1.CVD.iloc[i]\n",
    "for i in range(urbanData.shape[0]):\n",
    "    com.append(calculate_CVD_HT(urbanData.cadiovascular_current.iloc[i], urbanData.htn_jnc7_qc.iloc[i], urbanData.ckd_c_qc.iloc[i], urbanData.diabetes_status_c_qc.iloc[i]))\n",
    "y2=pd.DataFrame(com, columns=['CVD_HT'])"
   ]
  },
  {
   "cell_type": "code",
   "execution_count": null,
   "metadata": {},
   "outputs": [],
   "source": []
  }
 ],
 "metadata": {
  "kernelspec": {
   "display_name": "kay",
   "language": "python",
   "name": "python3"
  },
  "language_info": {
   "codemirror_mode": {
    "name": "ipython",
    "version": 3
   },
   "file_extension": ".py",
   "mimetype": "text/x-python",
   "name": "python",
   "nbconvert_exporter": "python",
   "pygments_lexer": "ipython3",
   "version": "3.9.16"
  },
  "orig_nbformat": 4
 },
 "nbformat": 4,
 "nbformat_minor": 2
}
