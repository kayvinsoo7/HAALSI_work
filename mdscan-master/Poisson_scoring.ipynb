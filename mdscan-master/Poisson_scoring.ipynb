{
 "cells": [
  {
   "cell_type": "code",
   "execution_count": 569,
   "metadata": {},
   "outputs": [],
   "source": [
    "from mdss.ScoringFunctions.Bernoulli import Bernoulli\n",
    "from mdss.ScoringFunctions.Poisson import Poisson\n",
    "from mdss.MDSS import MDSS\n",
    "\n",
    "import numpy as np\n",
    "import pandas as pd\n",
    "from pandas.api.types import is_numeric_dtype\n",
    "\n",
    "import warnings\n",
    "\n",
    "warnings.filterwarnings('ignore')"
   ]
  },
  {
   "cell_type": "code",
   "execution_count": 583,
   "metadata": {},
   "outputs": [],
   "source": [
    "data = pd.read_csv('../project2_data_21_04_23.csv').drop(columns = \n",
    "       ['Unnamed: 0','study_id']).fillna(-999)\n",
    "# target_cols = ['htn_jnc7_qc', 'diabetes_status_c_qc', 'ckd_c_qc', 'cadiovascular_current']\n",
    "# target_cols = ['htn_jnc7_qc', 'diabetes_status_c_qc']\n",
    "target_cols = ['diabetes_status_c_qc']"
   ]
  },
  {
   "cell_type": "code",
   "execution_count": 584,
   "metadata": {},
   "outputs": [],
   "source": [
    "numeric_columns = [col for col in data.columns \\\n",
    "                     if (is_numeric_dtype(data[col])) \\\n",
    "                     & (col not in target_cols) \\\n",
    "                     & (data[col].nunique() > 10)]"
   ]
  },
  {
   "cell_type": "code",
   "execution_count": 587,
   "metadata": {},
   "outputs": [
    {
     "name": "stdout",
     "output_type": "stream",
     "text": [
      "Original size:  (1942, 25)\n",
      "Size after removing records with missing targets:  (1942, 25)\n"
     ]
    }
   ],
   "source": [
    "site_id = 3 # 1 - Agincourt, 3 - Nairobi\n",
    "\n",
    "# Choose the relevant site and age group\n",
    "dff = data[(data['site'] == site_id) & (data['age'] <= 60) & (data['age'] >= 40)].fillna(-999)\n",
    "\n",
    "print('Original size: ', dff.shape)\n",
    "dff = dff[(dff[target_cols] != -999).sum(axis = 1) == len(target_cols)].copy()\n",
    "print('Size after removing records with missing targets: ', dff.shape)"
   ]
  },
  {
   "cell_type": "code",
   "execution_count": 588,
   "metadata": {},
   "outputs": [],
   "source": [
    "dff.loc[:,'ckd_c_qc'] = dff.loc[:,'ckd_c_qc'].replace([-999], 0)\n",
    "dff1 = dff.replace([-999, -222, -111, 999], np.nan).copy()"
   ]
  },
  {
   "cell_type": "code",
   "execution_count": 589,
   "metadata": {},
   "outputs": [
    {
     "data": {
      "text/plain": [
       "<Axes: ylabel='Density'>"
      ]
     },
     "execution_count": 589,
     "metadata": {},
     "output_type": "execute_result"
    },
    {
     "data": {
      "image/png": "[encoded data removed]",
      "text/plain": [
       "<Figure size 640x480 with 1 Axes>"
      ]
     },
     "metadata": {},
     "output_type": "display_data"
    }
   ],
   "source": [
    "from sklearn.linear_model import BayesianRidge\n",
    "from sklearn.experimental import enable_iterative_imputer\n",
    "from sklearn.impute import IterativeImputer\n",
    "import matplotlib.pyplot as plt\n",
    "imputer_bayes = IterativeImputer(\n",
    "    estimator=BayesianRidge(),\n",
    "    max_iter=10,\n",
    "    random_state=42)\n",
    "\n",
    "# let's create a MICE imputer using Bayes as estimator\n",
    "\n",
    "imputer = IterativeImputer(\n",
    "    estimator=BayesianRidge(), # the estimator to predict the NA\n",
    "    initial_strategy='mean', # how will NA be imputed in step 1\n",
    "    max_iter=10, # number of cycles\n",
    "    imputation_order='ascending', # the order in which to impute the variables\n",
    "    n_nearest_features=None, # whether to limit the number of predictors\n",
    "    skip_complete=True, # whether to ignore variables without NA\n",
    "    random_state=0,\n",
    ")\n",
    "imputer.fit(dff1)\n",
    "train_t = imputer.transform(dff1)\n",
    "# train_x = imputer.transform(data.iloc[:,2:])\n",
    "treated = pd.DataFrame(train_t, columns=dff1.columns)\n",
    "# treated = treated.apply(np.ceil)\n",
    "treated.loc[:,['highest_level_of_education_qc','occupation_qc','smoking_status_c_qc']]\\\n",
    "      = np.round(treated.loc[:,['highest_level_of_education_qc','occupation_qc','smoking_status_c_qc']], decimals=0)\n",
    "\n",
    "fig = plt.figure()\n",
    "ax = fig.add_subplot(111)\n",
    "dff1['cimt_mean_max'].plot(kind='kde', ax=ax, color='blue')\n",
    "treated['cimt_mean_max'].plot(kind='kde', ax=ax, color='green')"
   ]
  },
  {
   "cell_type": "markdown",
   "metadata": {},
   "source": [
    "## Expected risks"
   ]
  },
  {
   "cell_type": "code",
   "execution_count": 590,
   "metadata": {},
   "outputs": [],
   "source": [
    "\n",
    "# target = 'MorbidityCount'\n",
    "\n",
    "# Specify the columns of interest\n",
    "columns_of_interest = ['htn_jnc7_qc', 'diabetes_status_c_qc', 'ckd_c_qc', 'cadiovascular_current'] \n",
    "\n",
    "# defining the outcome variable\n",
    "treated['MorbidityCount'] = (treated[columns_of_interest] == 1).sum(axis = 1) # *******CHECK**********\n",
    "\n",
    "# Min-Max Normalization\n",
    "treated['normalizedOutcome'] = (treated['MorbidityCount'] - treated['MorbidityCount'].min()) / (treated['MorbidityCount'].max() - treated['MorbidityCount'].min())\n",
    "\n",
    "\n",
    "# defining the expectations as mean of the target\n",
    "# treated['expectation'] = treated[target_col].mean()\n",
    "# treated['expectationPoisson'] = treated['normalizedOutcome'].mean()\n",
    "treated['expectationPoisson'] = treated['MorbidityCount'].mean()"
   ]
  },
  {
   "cell_type": "code",
   "execution_count": 576,
   "metadata": {},
   "outputs": [
    {
     "data": {
      "text/plain": [
       "(1465, 28)"
      ]
     },
     "execution_count": 576,
     "metadata": {},
     "output_type": "execute_result"
    }
   ],
   "source": [
    "treated.shape"
   ]
  },
  {
   "cell_type": "code",
   "execution_count": 591,
   "metadata": {},
   "outputs": [
    {
     "name": "stdout",
     "output_type": "stream",
     "text": [
      "1194 569 147 31 1\n"
     ]
    },
    {
     "data": {
      "text/plain": [
       "569"
      ]
     },
     "execution_count": 591,
     "metadata": {},
     "output_type": "execute_result"
    }
   ],
   "source": [
    "zeroCount = treated.loc[treated['MorbidityCount'] == 0]\n",
    "OneCount = treated.loc[treated['MorbidityCount'] == 1]\n",
    "twoCount = treated.loc[treated['MorbidityCount'] == 2]\n",
    "threeCount = treated.loc[treated['MorbidityCount'] == 3]\n",
    "fourCount = treated.loc[treated['MorbidityCount'] == 4]\n",
    "\n",
    "print(len(zeroCount['MorbidityCount']), len(OneCount['MorbidityCount']), len(twoCount['MorbidityCount']), len(threeCount['MorbidityCount']), len(fourCount['MorbidityCount']))\n",
    "len(OneCount['MorbidityCount'])"
   ]
  },
  {
   "cell_type": "code",
   "execution_count": 592,
   "metadata": {},
   "outputs": [
    {
     "data": {
      "image/png": "[encoded data removed]",
      "text/plain": [
       "<Figure size 800x400 with 1 Axes>"
      ]
     },
     "metadata": {},
     "output_type": "display_data"
    }
   ],
   "source": [
    "import matplotlib.pyplot as plt\n",
    "import numpy as np\n",
    "from scipy.stats import poisson\n",
    "\n",
    "# Example data\n",
    "poisData = treated['MorbidityCount']\n",
    "\n",
    "# Calculate lambda (λ) as the mean of the data\n",
    "lambda_ = np.mean(poisData)\n",
    "\n",
    "# Generate the range of possible count values (up to the max observed count)\n",
    "x = np.arange(0, max(poisData) + 1)\n",
    "\n",
    "# Calculate the Poisson probability mass function (PMF) for each count\n",
    "pmf = poisson.pmf(x, lambda_)\n",
    "\n",
    "# Plotting\n",
    "plt.figure(figsize=(8, 4))\n",
    "plt.hist(poisData, bins=np.arange(-0.5, max(poisData) + 1.5, 1), density=True, alpha=0.8, color='lightblue', label='Observed Data')\n",
    "plt.plot(x, pmf, 'o-', color='blue', label='Poisson PMF')\n",
    "plt.title('Histogram of Observed Data and Poisson PMF')\n",
    "plt.xlabel('Disease Count')\n",
    "plt.ylabel('Frequency')\n",
    "plt.xticks(x)\n",
    "plt.legend()\n",
    "plt.grid(True)\n",
    "plt.show()\n"
   ]
  },
  {
   "cell_type": "code",
   "execution_count": 10,
   "metadata": {},
   "outputs": [
    {
     "name": "stdout",
     "output_type": "stream",
     "text": [
      "Incidence Density: 1.0 events per person-time unit\n"
     ]
    }
   ],
   "source": [
    "\n",
    "poisData = treated['partnership_status_c_qc']\n",
    "\n",
    "number_of_participants = len(poisData)  # Total number of participants\n",
    "\n",
    "# Assuming each participant contributes an equal amount of time (e.g., 1 day)\n",
    "time_at_risk_per_participant = treated['partnership_status_c_qc'].mean()  # Adjust this value as per your study design\n",
    "\n",
    "# Total person-time at risk\n",
    "total_person_time = number_of_participants * time_at_risk_per_participant\n",
    "\n",
    "# Total number of events (sum of counts)\n",
    "total_events = np.sum(poisData)\n",
    "\n",
    "# Calculating incidence density\n",
    "incidence_density = total_events / total_person_time\n",
    "\n",
    "# Print the result\n",
    "print(\"Incidence Density:\", incidence_density, \"events per person-time unit\")\n"
   ]
  },
  {
   "cell_type": "code",
   "execution_count": 247,
   "metadata": {},
   "outputs": [
    {
     "data": {
      "text/plain": [
       "960"
      ]
     },
     "execution_count": 247,
     "metadata": {},
     "output_type": "execute_result"
    }
   ],
   "source": [
    "np.sum(poisData)"
   ]
  },
  {
   "cell_type": "code",
   "execution_count": 593,
   "metadata": {},
   "outputs": [
    {
     "data": {
      "image/png": "[encoded data removed]",
      "text/plain": [
       "<Figure size 800x400 with 1 Axes>"
      ]
     },
     "metadata": {},
     "output_type": "display_data"
    },
    {
     "data": {
      "text/plain": [
       "1.0181642636457031"
      ]
     },
     "execution_count": 593,
     "metadata": {},
     "output_type": "execute_result"
    }
   ],
   "source": [
    "import numpy as np\n",
    "import matplotlib.pyplot as plt\n",
    "from scipy.stats import poisson, nbinom\n",
    "\n",
    "# Poisson model\n",
    "lambda_poisson = np.mean(poisData)\n",
    "\n",
    "# Calculating the mean and variance for the Negative Binomial distribution\n",
    "mean_negbin = np.mean(poisData)\n",
    "variance_negbin = np.var(poisData)\n",
    "\n",
    "# The dispersion parameter (r) for the Negative Binomial distribution\n",
    "# r = mean^2 / (variance - mean) for overdispersed data\n",
    "r_negbin = mean_negbin**2 / (variance_negbin - mean_negbin) if variance_negbin > mean_negbin else 1\n",
    "\n",
    "# Probability of success (p) for the Negative Binomial distribution\n",
    "p_negbin = mean_negbin / variance_negbin if variance_negbin > mean_negbin else 0.5\n",
    "\n",
    "# Generate range for count values\n",
    "x = np.arange(0, max(poisData) + 1)\n",
    "\n",
    "# Poisson PMF\n",
    "pmf_poisson = poisson.pmf(x, lambda_poisson)\n",
    "\n",
    "# cp -i -a /Users/kayadetunji/Downloads/HAALSI_work/mdscan-master/Poisson_scoring.ipynb /Users/kayadetunji/.ssh/ kayode@cream-ce.core.wits.ac.za:/spaces/freedom/kay/HAALSI_Subset_DDI.pdf  \n",
    "# Negative Binomial PMF\n",
    "pmf_negbin = nbinom.pmf(x, r_negbin, p_negbin)\n",
    "\n",
    "# Plotting\n",
    "plt.figure(figsize=(8,4))\n",
    "plt.hist(poisData, bins=np.arange(-0.5, max(poisData) + 1.5, 1), density=True, alpha=0.9, color='lightblue', label='Observed Data')\n",
    "plt.plot(x, pmf_poisson, 'o-', color='blue', label='Poisson PMF')\n",
    "plt.plot(x, pmf_negbin, 'o-', color='brown', label='Negative Binomial PMF')\n",
    "plt.title('Comparison of Observed Data with Poisson and Negative Binomial PMFs')\n",
    "plt.xlabel('Morbidity Count')\n",
    "plt.ylabel('Frequency')\n",
    "plt.xticks(x)\n",
    "plt.legend()\n",
    "plt.grid(True)\n",
    "plt.show()\n",
    "\n",
    "# Calculate Dispersion Statistic\n",
    "dispersion_statistic = variance_negbin / mean_negbin\n",
    "dispersion_statistic\n",
    "\n"
   ]
  },
  {
   "cell_type": "code",
   "execution_count": 74,
   "metadata": {},
   "outputs": [
    {
     "name": "stdout",
     "output_type": "stream",
     "text": [
      "IDR: 0.35714285714285715\n",
      "95% Confidence Interval: [0.0469639552014967, 2.7159343769261235]\n",
      "The difference is not significant.\n"
     ]
    }
   ],
   "source": [
    "import scipy.stats as stats\n",
    "\n",
    "# Example data for Group 1 and Group 2\n",
    "# data_group1 = np.array([1, 0, 2, 1, 3, 0, 4, 1, 0, 2])\n",
    "# data_group2 = np.array([0, 1, 1,  0, 1, 1, 0])\n",
    "\n",
    "# Example data for Group 1 and Group 2\n",
    "data_group1 = np.array([1, 0])\n",
    "data_group2 = np.array([1, 0, 2, 1, 3, 0, 4, 1, 0, 2])\n",
    "\n",
    "# Min-Max Normalization\n",
    "dg_norm1 = (data_group1 - data_group1.min()) / (data_group1.max() - data_group1.min())\n",
    "dg_norm2 = (data_group2 - data_group2.min()) / (data_group2.max() - data_group2.min())\n",
    "\n",
    "person_time_group1 = np.mean(data_group1)\n",
    "person_time_group2 = np.mean(data_group2)\n",
    "\n",
    "# Calculate incidence densities\n",
    "incidence_density_group1 = np.sum(data_group1) / person_time_group1\n",
    "incidence_density_group2 = np.sum(data_group2) / person_time_group2\n",
    "# Calculate incidence densities\n",
    "# incidence_density_group1 = data_group1.size / person_time_group1\n",
    "# incidence_density_group2 = data_group2.size / person_time_group2\n",
    "\n",
    "# Calculate IDR\n",
    "# IDR = incidence_density_group1 / incidence_density_group2\n",
    "IDR = person_time_group1 / person_time_group2\n",
    "\n",
    "# Standard errors of the log incidence densities\n",
    "se_log_id1 = np.sqrt(1 / np.sum(data_group1))\n",
    "se_log_id2 = np.sqrt(1 / np.sum(data_group2))\n",
    "\n",
    "# Standard error of the log IDR\n",
    "se_log_idr = np.sqrt(se_log_id1**2 + se_log_id2**2)\n",
    "\n",
    "# Confidence interval\n",
    "z_score = stats.norm.ppf(0.975)  # For a 95% confidence interval\n",
    "ci_lower = np.exp(np.log(IDR) - z_score * se_log_idr)\n",
    "ci_upper = np.exp(np.log(IDR) + z_score * se_log_idr)\n",
    "\n",
    "# Statistical significance\n",
    "significance = \"not significant\" if ci_lower <= 1 <= ci_upper else \"significant\"\n",
    "\n",
    "print(f\"IDR: {IDR}\")\n",
    "print(f\"95% Confidence Interval: [{ci_lower}, {ci_upper}]\")\n",
    "print(f\"The difference is {significance}.\")\n"
   ]
  },
  {
   "cell_type": "code",
   "execution_count": 160,
   "metadata": {},
   "outputs": [
    {
     "data": {
      "text/plain": [
       "1"
      ]
     },
     "execution_count": 160,
     "metadata": {},
     "output_type": "execute_result"
    }
   ],
   "source": [
    "data_group1.size"
   ]
  },
  {
   "cell_type": "code",
   "execution_count": 103,
   "metadata": {},
   "outputs": [
    {
     "name": "stdout",
     "output_type": "stream",
     "text": [
      "Incidence Density Ratio (IDR): 1.4285714285714286\n",
      "95% Confidence Interval: 0.47022658405755985 4.340070076260934\n",
      "Z-score: 0.6291154670331937\n",
      "P-value: 0.5292734652386912\n"
     ]
    }
   ],
   "source": [
    "\n",
    "# Example data\n",
    "data_group1 = np.array([1, 0, 2, 1, 3, 0, 4, 1, 0, 2])\n",
    "data_group2 = np.array([0, 1, 1,  0, 1, 1, 0])\n",
    "\n",
    "# Min-Max Normalization\n",
    "dg_norm1 = (data_group1 - data_group1.min()) / (data_group1.max() - data_group1.min())\n",
    "dg_norm2 = (data_group2 - data_group2.min()) / (data_group2.max() - data_group2.min())\n",
    "\n",
    "# Total cases for each group\n",
    "cases_group1 = np.sum(data_group1)\n",
    "cases_group2 = np.sum(data_group2)\n",
    "\n",
    "# Assuming equal person-time for simplicity\n",
    "person_time_group1 = np.mean(data_group1)\n",
    "person_time_group2 = np.mean(data_group2)\n",
    "\n",
    "# Calculate Incidence Density for each group\n",
    "incidence_density_group1 = cases_group1 / person_time_group1\n",
    "incidence_density_group2 = cases_group2 / person_time_group2\n",
    "\n",
    "# Calculate IDR\n",
    "IDR = incidence_density_group1 / incidence_density_group2\n",
    "\n",
    "# Calculate Log-IDR and its standard error\n",
    "log_IDR = np.log(IDR)\n",
    "SE_log_IDR = np.sqrt((1/cases_group1) + (1/cases_group2))\n",
    "\n",
    "# Calculate 95% Confidence Interval for Log-IDR\n",
    "CI_lower_log = log_IDR - 1.96 * SE_log_IDR\n",
    "CI_upper_log = log_IDR + 1.96 * SE_log_IDR\n",
    "\n",
    "# Transform the CI back to the original scale\n",
    "CI_lower = np.exp(CI_lower_log)\n",
    "CI_upper = np.exp(CI_upper_log)\n",
    "\n",
    "# Z-test for significance\n",
    "Z_score = log_IDR / SE_log_IDR\n",
    "p_value = stats.norm.sf(abs(Z_score)) * 2  # Two-tail test\n",
    "\n",
    "print(\"Incidence Density Ratio (IDR):\", IDR)\n",
    "print(\"95% Confidence Interval:\", CI_lower, CI_upper)\n",
    "print(\"Z-score:\", Z_score)\n",
    "print(\"P-value:\", p_value)\n"
   ]
  },
  {
   "cell_type": "code",
   "execution_count": 594,
   "metadata": {},
   "outputs": [],
   "source": [
    "# Defining the search space to be all the features except site, study_id, \n",
    "# and our created target_col and expectations columns\n",
    "\n",
    "search_space = [col for col in treated.columns \\\n",
    "                if col not in \\\n",
    "                ['MorbidityCount', 'normalizedOutcome','site', 'study_id', 'expectationPoisson', \\\n",
    "                'htn_jnc7_qc', 'diabetes_status_c_qc', 'ckd_c_qc', 'cadiovascular_current']]"
   ]
  },
  {
   "cell_type": "code",
   "execution_count": 596,
   "metadata": {},
   "outputs": [],
   "source": [
    "def get_str(x):\n",
    "    # This function turns a pandas bin to a meaningful string\n",
    "    s = str(round(x.left, 2)) + ' - ' + str(round(x.right,2))\n",
    "    return s\n",
    "\n",
    "def custom_qcut(ser, contiguous = True):\n",
    "    # Get the rows that are actual numbers\n",
    "    sub_ser = ser[(ser != -111) \\\n",
    "                     & (ser != -222) \\\n",
    "                     & (ser != -555) \\\n",
    "                     & (ser != -999)]\n",
    "    \n",
    "    if contiguous:\n",
    "        # if contiguous, treat all the special numbers the same\n",
    "        ser = ser.replace(-111 , -999)\n",
    "        ser = ser.replace(-222 , -999)\n",
    "        ser = ser.replace(-555 , -999)\n",
    "\n",
    "    # Bin the actual numbers into 10 bins for scanning\n",
    "    sub_ser = pd.qcut(sub_ser, 10, duplicates='drop')\n",
    "    sub_ser = sub_ser.apply(get_str).astype(str)\n",
    "    ser[list(sub_ser.index)] = sub_ser\n",
    "    return ser\n",
    "            "
   ]
  },
  {
   "cell_type": "code",
   "execution_count": 597,
   "metadata": {},
   "outputs": [],
   "source": [
    "contiguous = {}\n",
    "dff_2 = treated.copy()\n",
    "\n",
    "# Create a new dataframe with the numeric columns bins     \n",
    "for col in numeric_columns:\n",
    "    if col in search_space:\n",
    "        dff_2[col] = custom_qcut(dff_2[col].copy())\n",
    "        \n",
    "        bins = list(dff_2[col].unique())\n",
    "        \n",
    "        if -999 in bins:\n",
    "            bins.remove(-999)\n",
    "        \n",
    "        bins = sorted(bins, key=lambda x : float(x.split(' - ')[0]))\n",
    "        \n",
    "        contiguous[col] = bins"
   ]
  },
  {
   "cell_type": "code",
   "execution_count": 598,
   "metadata": {},
   "outputs": [],
   "source": [
    "def compress_contiguous(subset, contiguous):\n",
    "    # Shorten a contiguous list e.g [0-9, 10-19] is converted to [0 - 19] \n",
    "    new = {}\n",
    "    \n",
    "    for col in subset:\n",
    "        if col in contiguous:\n",
    "            if isinstance(subset[col][0], (float,int)):\n",
    "                new[col] = [str(c) for c in subset[col]]\n",
    "                continue\n",
    "            i = -1 if isinstance(subset[col][-1], str) else -2\n",
    "            new[col] = [subset[col][0].split(' - ')[0] + ' - ' + subset[col][i].split(' - ')[-1]]\n",
    "            new[col] = new[col] if i == -1 else new[col] + [str(subset[col][-1])]\n",
    "        else:\n",
    "            new[col] = [str(c) for c in subset[col]]\n",
    "    return new\n",
    "\n",
    "def translate_subset_to_rule(subset):\n",
    "    # Print the subset as a rule for easier understanding\n",
    "    desc = ''\n",
    "    for key, value in subset.items():\n",
    "        # desc += key + ' = {' + ' OR '.join(value) + '} AND' + '\\n'\n",
    "        desc += key + '{' + ' OR '.join(value) + '} AND' + ' '\n",
    "\n",
    "    return desc[:-5].replace('_',' ').replace('{', '[').replace('}', ']')\n",
    "\n",
    "def count_conditions(subset):\n",
    "    # Split the string by 'AND' and 'OR'\n",
    "    conditions = subset.replace(\"AND\", \"OR\").split(\"OR\")\n",
    "    \n",
    "    # Count the number of conditions\n",
    "    condition_count = len(conditions)\n",
    "    \n",
    "    return condition_count"
   ]
  },
  {
   "cell_type": "code",
   "execution_count": 602,
   "metadata": {},
   "outputs": [
    {
     "name": "stdout",
     "output_type": "stream",
     "text": [
      "Penalty = 0.5: Subset = waist hip r c qc[0.85 - 9.02] AND age[48.0 - 60.0] AND sex[0.0] AND visceral fat qc[2.99 - 12.09] AND bmi c qc[25.77 - 62.8], \n",
      "LiteralsNumber = 5, \n",
      "Size = 226,           IDR = 0.116, Score = 36.287, Z_score = 1.959963984540054, Disease_counts = 217,           Size_percent = 11.64,Count_percent = 22.6,P_value = 4.278094775560074e-180\n",
      "Penalty = 1: Subset = bmi c qc[20.49 - 62.8] AND sex[0.0] AND triglycerides qc[0.73 - 11.8] AND visceral fat qc[3.49 - 12.09] AND waist hip r c qc[0.85 - 9.02] AND age[48.0 - 60.0] AND smoking status c qc[0.0], \n",
      "LiteralsNumber = 7, \n",
      "Size = 214,           IDR = 0.11, Score = 36.266, Z_score = 1.959963984540054, Disease_counts = 215,           Size_percent = 11.02,Count_percent = 22.4,P_value = 7.849272529268635e-188\n",
      "Penalty = 1.5: Subset = bmi c qc[18.95 - 62.8] AND sex[0.0] AND waist hip r c qc[0.87 - 9.02] AND age[48.0 - 60.0], \n",
      "LiteralsNumber = 4, \n",
      "Size = 280,           IDR = 0.144, Score = 34.453, Z_score = 1.959963984540054, Disease_counts = 257,           Size_percent = 14.42,Count_percent = 26.77,P_value = 2.2191758306180888e-167\n",
      "Penalty = 2: Subset = hdl qc[0.8 - 3.75] AND age[48.0 - 60.0] AND waist hip r c qc[0.87 - 9.02] AND sex[0.0], \n",
      "LiteralsNumber = 4, \n",
      "Size = 262,           IDR = 0.135, Score = 32.692, Z_score = 1.959963984540054, Disease_counts = 245,           Size_percent = 13.49,Count_percent = 25.52,P_value = 2.4350037392113427e-172\n",
      "Penalty = 2.5: Subset = sex[0.0] AND age[48.0 - 60.0] AND waist hip r c qc[0.87 - 9.02], \n",
      "LiteralsNumber = 3, \n",
      "Size = 289,           IDR = 0.149, Score = 31.05, Z_score = 1.959963984540054, Disease_counts = 260,           Size_percent = 14.88,Count_percent = 27.08,P_value = 1.715170888707703e-163\n",
      "Penalty = 3: Subset = waist hip r c qc[0.87 - 9.02] AND age[48.0 - 60.0] AND sex[0.0], \n",
      "LiteralsNumber = 3, \n",
      "Size = 289,           IDR = 0.149, Score = 29.55, Z_score = 1.959963984540054, Disease_counts = 260,           Size_percent = 14.88,Count_percent = 27.08,P_value = 1.715170888707703e-163\n",
      "Penalty = 3.5: Subset = age[48.0 - 60.0] AND waist hip r c qc[0.87 - 9.02] AND sex[0.0], \n",
      "LiteralsNumber = 3, \n",
      "Size = 289,           IDR = 0.149, Score = 28.05, Z_score = 1.959963984540054, Disease_counts = 260,           Size_percent = 14.88,Count_percent = 27.08,P_value = 1.715170888707703e-163\n",
      "Penalty = 4: Subset = age[50.0 - 60.0] AND waist hip r c qc[0.97 - 9.02], \n",
      "LiteralsNumber = 2, \n",
      "Size = 104,           IDR = 0.054, Score = 24.284, Z_score = 1.959963984540054, Disease_counts = 119,           Size_percent = 5.36,Count_percent = 12.4,P_value = 2.7740435373460812e-199\n",
      "Penalty = 4.5: Subset = age[50.0 - 60.0] AND waist hip r c qc[0.97 - 9.02], \n",
      "LiteralsNumber = 2, \n",
      "Size = 104,           IDR = 0.054, Score = 23.284, Z_score = 1.959963984540054, Disease_counts = 119,           Size_percent = 5.36,Count_percent = 12.4,P_value = 2.7740435373460812e-199\n",
      "Penalty = 5: Subset = age[50.0 - 60.0] AND waist hip r c qc[0.97 - 9.02], \n",
      "LiteralsNumber = 2, \n",
      "Size = 104,           IDR = 0.054, Score = 22.284, Z_score = 1.959963984540054, Disease_counts = 119,           Size_percent = 5.36,Count_percent = 12.4,P_value = 2.7740435373460812e-199\n"
     ]
    }
   ],
   "source": [
    "# %%time\n",
    "# Scan in the positive direction using defined penalties and num iters\n",
    "\n",
    "scoring_function = Poisson(direction='positive')\n",
    "scanner = MDSS(scoring_function)\n",
    "# Define a list of penalty values to loop through\n",
    "penalty_values = [0.5, 1, 1.5, 2, 2.5, 3, 3.5, 4, 4.5, 5]\n",
    "# penalty_values = [0.5, 0.8, 1.0, 1.3, 1.5]\n",
    "num_iters = 10\n",
    "# Initialize empty lists to store results\n",
    "subset_results = []\n",
    "subset_results1 = []\n",
    "score_results = []\n",
    "size_results = []\n",
    "IDR_results = []\n",
    "count_results = []\n",
    "z_scores = []\n",
    "p_values = []\n",
    "disease_counts = []\n",
    "counts_percent = []\n",
    "size_percent = []\n",
    "dataframes = {}\n",
    "\n",
    "# Loop through each penalty value\n",
    "for penalty in penalty_values:\n",
    "    # Perform the scan with the current penalty value\n",
    "    subset, score = scanner.scan(dff_2[search_space], dff_2['MorbidityCount'], dff_2['expectationPoisson'], cpu=0.95,\n",
    "                                 penalty=penalty, num_iters=num_iters, contiguous=contiguous.copy())\n",
    "    \n",
    "    to_choose = dff_2[subset.keys()].isin(subset).all(axis=1)\n",
    "    temp_df = dff_2.loc[to_choose]\n",
    "    size = len(temp_df)\n",
    "\n",
    "    # Store each DataFrame in the dictionary with a unique key\n",
    "    dataframes[f'df_{penalty}'] = temp_df\n",
    "\n",
    "    # \n",
    "    expected_risk_subset = temp_df['MorbidityCount'].mean()\n",
    "    expected_risk = dff_2['MorbidityCount'].mean()  \n",
    "    # Total person-time at risk\n",
    "    total_person_time_subset = len(temp_df) * expected_risk_subset\n",
    "    total_person_time = len(dff_2) * expected_risk\n",
    "\n",
    "    # Total number of events (sum of counts)\n",
    "    total_events_subset = temp_df['MorbidityCount'].sum()\n",
    "    total_events = dff_2['MorbidityCount'].sum()\n",
    "\n",
    "    # Calculating incidence density\n",
    "    # incidence_density_subset = total_events_subset / total_person_time_subset\n",
    "    # incidence_density = total_events / total_person_time\n",
    "    incidence_density_subset = total_events_subset / expected_risk_subset\n",
    "    incidence_density = total_events / expected_risk\n",
    "\n",
    "    #Calc IDR\n",
    "    IDR = incidence_density_subset/incidence_density\n",
    "    # IDR = expected_risk_subset/expected_risk\n",
    "\n",
    "    # Calculate Log-IDR and its standard error\n",
    "    log_IDR = np.log(IDR)\n",
    "    SE_log_IDR = np.sqrt((1/total_events_subset) + (1/total_events))\n",
    "\n",
    "    # Calculate 95% Confidence Interval for Log-IDR\n",
    "    CI_lower_log = log_IDR - 1.96 * SE_log_IDR\n",
    "    CI_upper_log = log_IDR + 1.96 * SE_log_IDR\n",
    "\n",
    "    # Transform the CI back to the original scale\n",
    "    CI_lower = np.exp(CI_lower_log)\n",
    "    CI_upper = np.exp(CI_upper_log)\n",
    "\n",
    "    # Z-test for significance\n",
    "    Z_score = log_IDR / SE_log_IDR\n",
    "    # Two-tail test\n",
    "    p_value = stats.norm.sf(abs(Z_score)) * 2 \n",
    "\n",
    "    counting = count_conditions(translate_subset_to_rule(compress_contiguous(subset, contiguous)))\n",
    "    \n",
    "    # Append the results to the respective lists\n",
    "\n",
    "    # subset_results.append(subset)\n",
    "    score_results.append(np.round(score, 3))\n",
    "    size_percent.append(np.round((len(temp_df)/len(dff_2)*100),2))\n",
    "    counts_percent.append(np.round((total_events_subset/total_events*100),2))\n",
    "    size_results.append(size)\n",
    "    IDR_results.append(np.round(IDR, 3))\n",
    "    subset_results1.append(translate_subset_to_rule(compress_contiguous(subset, contiguous)))\n",
    "    count_results.append(counting)\n",
    "    z_scores.append(z_score)\n",
    "    p_values.append(p_value)\n",
    "    disease_counts.append(total_events_subset)\n",
    "\n",
    "# Display the results for each penalty value\n",
    "for i, penalty in enumerate(penalty_values):\n",
    "    print(f\"Penalty = {penalty}: Subset = {subset_results1[i]}, \\nLiteralsNumber = {count_results[i]}, \\nSize = {size_results[i]}, \\\n",
    "          IDR = {IDR_results[i]}, Score = {score_results[i]}, Z_score = {z_scores[i]}, Disease_counts = {disease_counts[i]}, \\\n",
    "          Size_percent = {size_percent[i]},Count_percent = {counts_percent[i]},P_value = {p_values[i]}\")"
   ]
  },
  {
   "cell_type": "code",
   "execution_count": 106,
   "metadata": {},
   "outputs": [
    {
     "data": {
      "text/plain": [
       "7.598253275109171"
      ]
     },
     "execution_count": 106,
     "metadata": {},
     "output_type": "execute_result"
    }
   ],
   "source": [
    "temp_df['MorbidityCount'].sum()/dff_2['MorbidityCount'].sum()*100"
   ]
  },
  {
   "cell_type": "code",
   "execution_count": 511,
   "metadata": {},
   "outputs": [
    {
     "name": "stdout",
     "output_type": "stream",
     "text": [
      "cimt mean max[0.41 - 0.83] AND bmi c qc[14.53 - 22.99] AND triglycerides qc[0.25 - 1.12] AND visceral fat qc[-0.74 - 7.63] AND age[40.0 - 58.0] AND cholesterol 1 qc[0.3 - 4.46]\n"
     ]
    }
   ],
   "source": [
    "scoring_function = Poisson(direction='negative')\n",
    "scanner = MDSS(scoring_function)\n",
    "# Perform the scan with the current penalty value\n",
    "subset, score = scanner.scan(dff_2[search_space], dff_2['MorbidityCount'], dff_2['expectationPoisson'], cpu=0.95,\n",
    "                                penalty=1, num_iters=1, contiguous=contiguous.copy())\n",
    "print(translate_subset_to_rule(compress_contiguous(subset, contiguous)))\n",
    "\n",
    "to_choose = dff_2[subset.keys()].isin(subset).all(axis=1)\n",
    "temp_df = dff_2.loc[to_choose]"
   ]
  },
  {
   "cell_type": "code",
   "execution_count": 209,
   "metadata": {},
   "outputs": [
    {
     "data": {
      "text/plain": [
       "0    306\n",
       "1    189\n",
       "2     40\n",
       "3      1\n",
       "Name: MorbidityCount, dtype: int64"
      ]
     },
     "execution_count": 209,
     "metadata": {},
     "output_type": "execute_result"
    }
   ],
   "source": [
    "temp_df['MorbidityCount'].value_counts()"
   ]
  },
  {
   "cell_type": "code",
   "execution_count": 120,
   "metadata": {},
   "outputs": [
    {
     "name": "stdout",
     "output_type": "stream",
     "text": [
      "Central Limit Theorem applicability in Group 1: True\n",
      "Central Limit Theorem applicability in Group 2: True\n",
      "Meaningful confidence interval: True\n",
      "95% Confidence Interval: 3.1329777314480225 3.8834646885279103\n"
     ]
    }
   ],
   "source": [
    "import numpy as np\n",
    "import scipy.stats as stats\n",
    "\n",
    "# Example data\n",
    "data_group1 = dff_2['MorbidityCount']\n",
    "data_group2 = temp_df['MorbidityCount']\n",
    "\n",
    "# Total cases for each group\n",
    "cases_group1 = np.sum(data_group1)\n",
    "cases_group2 = np.sum(data_group2)\n",
    "\n",
    "# Check for the Central Limit Theorem applicability (point 1)\n",
    "# Rule of thumb: at least 5 to 10 events per group\n",
    "clt_applicable_group1 = cases_group1 >= 5\n",
    "clt_applicable_group2 = cases_group2 >= 5\n",
    "\n",
    "# Assuming equal person-time for simplicity\n",
    "person_time_group1 = dff_2['MorbidityCount'].mean()\n",
    "person_time_group2 = temp_df['MorbidityCount'].mean()\n",
    "\n",
    "# Calculate Incidence Density for each group\n",
    "incidence_density_group1 = cases_group1 / person_time_group1\n",
    "incidence_density_group2 = cases_group2 / person_time_group2\n",
    "\n",
    "# Calculate IDR\n",
    "IDR = incidence_density_group1 / incidence_density_group2\n",
    "\n",
    "# Calculate Log-IDR and its standard error\n",
    "log_IDR = np.log(IDR)\n",
    "SE_log_IDR = np.sqrt((1/cases_group1) + (1/cases_group2))\n",
    "\n",
    "# Calculate 95% Confidence Interval for Log-IDR\n",
    "CI_lower_log = log_IDR - 1.96 * SE_log_IDR\n",
    "CI_upper_log = log_IDR + 1.96 * SE_log_IDR\n",
    "\n",
    "# Transform the CI back to the original scale\n",
    "CI_lower = np.exp(CI_lower_log)\n",
    "CI_upper = np.exp(CI_upper_log)\n",
    "\n",
    "# Check for meaningful confidence intervals (point 3)\n",
    "# Confidence intervals should not include negative values or be excessively wide\n",
    "meaningful_ci = CI_lower > 0 and (CI_upper - CI_lower) < np.inf\n",
    "\n",
    "# Output the results\n",
    "print(\"Central Limit Theorem applicability in Group 1:\", clt_applicable_group1)\n",
    "print(\"Central Limit Theorem applicability in Group 2:\", clt_applicable_group2)\n",
    "print(\"Meaningful confidence interval:\", meaningful_ci)\n",
    "print(\"95% Confidence Interval:\", CI_lower, CI_upper)\n",
    "\n"
   ]
  },
  {
   "cell_type": "code",
   "execution_count": 122,
   "metadata": {},
   "outputs": [
    {
     "data": {
      "text/plain": [
       "388"
      ]
     },
     "execution_count": 122,
     "metadata": {},
     "output_type": "execute_result"
    }
   ],
   "source": [
    "temp_df.shape[0]"
   ]
  },
  {
   "cell_type": "code",
   "execution_count": 486,
   "metadata": {},
   "outputs": [
    {
     "data": {
      "image/png": "[encoded data removed]",
      "text/plain": [
       "<Figure size 1200x800 with 1 Axes>"
      ]
     },
     "metadata": {},
     "output_type": "display_data"
    }
   ],
   "source": [
    "import matplotlib.path as mpath\n",
    "datum = {'size': [36,250,333,418,418,536,467,439,315,315],\n",
    "'counts': [0,98,140,196,196,272,246,225,156,156],\n",
    "'IDR': [0,0.171,0.227,0.285,0.285,0.366,0.319,0.3,0.215,0.215],\n",
    "'scores': [25.136,23.768,25.956,24.557,23.057,20.45,14.935,15.171,14.517,14.017],\n",
    "'literals': [6,6,5,3,3,3,2,2,1,1],\n",
    "'penalty': [0.5,1.0,1.5,2.0,2.5,3.0,3.5,4.0,4.5,5.0]\n",
    "}\n",
    "\n",
    "df = pd.DataFrame(datum)\n",
    "df['count/size']=np.round(df['counts']/df['size'],2)\n",
    "\n",
    "# Plotting\n",
    "fig=plt.figure(figsize=(12, 8))\n",
    "ax = fig.add_subplot()\n",
    "\n",
    "# Plot Odds for Bernoulli\n",
    "# plt.scatter(df['penalty'], df['IDR'], s=df['size']*2, label='Size', alpha=0.7)\n",
    "\n",
    "# Plot size\n",
    "plt.scatter(df['penalty'], df['IDR'], s=df['size']*2, marker='8', label='Size', color='teal', alpha=0.6)\n",
    "# Plot counts\n",
    "plt.scatter(df['penalty'], df['IDR'], s=df['counts']*2, marker='o', label='Counts', color='red', alpha=0.5)\n",
    "# Plot Odds for Bernoulli\n",
    "# plt.plot(df['penalty'], df['IDR'], marker='*', label='Bernoulli')\n",
    "\n",
    "# Annotate the size values for Bernoulli\n",
    "for i, txt in enumerate(df['literals']):\n",
    "    plt.annotate(txt, (df['penalty'][i], df['IDR'][i]), textcoords=\"offset points\", xytext=(0,10), ha='center', fontname=\"Arial\", fontsize=12, color='blue')\n",
    "\n",
    "# Annotate the size values for Bernoulli\n",
    "for i, txt in enumerate(df['count/size']):\n",
    "    plt.annotate(txt, (df['penalty'][i], df['IDR'][i]), textcoords=\"offset points\", xytext=(0,-15), ha='center', fontname=\"Arial\",fontweight=\"bold\", color='darkblue')\n",
    "\n",
    "# Add labels and title\n",
    "plt.xlabel('Penalty', fontsize=14, fontname=\"Arial\")\n",
    "plt.ylabel('Incidence density ratio', fontsize=14, fontname=\"Arial\")\n",
    "plt.title('Plot for condition counts with number of literals (Agincourt)', fontname=\"Arial\", fontsize=14,fontweight=\"bold\")\n",
    "plt.legend(fontsize=\"14\")\n",
    "# plt.text(1, 2, 'Normal Font',  fontsize=16)\n",
    "ax.text(0.99, 0.82, 'Number of literals',verticalalignment='bottom', horizontalalignment='right',transform=ax.transAxes,color='blue', fontsize=13)\n",
    "ax.text(0.99, 0.85, 'Counts/size',verticalalignment='bottom', horizontalalignment='right',transform=ax.transAxes,color='darkblue', fontsize=13)\n",
    "plt.grid(color = 'green', linestyle = '--', linewidth = 0.3)\n",
    "# Show the plot\n",
    "plt.show()"
   ]
  },
  {
   "cell_type": "code",
   "execution_count": null,
   "metadata": {},
   "outputs": [],
   "source": [
    "datum = {'size': [36,250,333,418,418,536,467,439,315,315],\n",
    "'counts': [0,98,140,196,196,272,246,225,156,156],\n",
    "'IDR': [0,0.171,0.227,0.285,0.285,0.366,0.319,0.3,0.215,0.215],\n",
    "'scores': [25.136,23.768,25.956,24.557,23.057,20.45,14.935,15.171,14.517,14.017],\n",
    "'literals': [6,6,5,3,3,3,2,2,1,1],\n",
    "'penalty': [0.5,1.0,1.5,2.0,2.5,3.0,3.5,4.0,4.5,5.0]}\n",
    "\n",
    "df = pd.DataFrame(datum)\n",
    "\n",
    "# Plotting\n",
    "fig=plt.figure(figsize=(12, 8))\n",
    "ax = fig.add_subplot()\n",
    "\n",
    "# Plot Odds for Bernoulli\n",
    "# plt.scatter(df['penalty'], df['IDR'], s=df['size']*2, label='Size', alpha=0.7)\n",
    "\n",
    "# Plot Odds for Bernoulli\n",
    "plt.scatter(df['penalty'], df['IDR'], s=df['counts']*2, label='Counts', color='teal', alpha=0.6)\n",
    "# Plot Odds for Bernoulli\n",
    "# plt.plot(df['penalty'], df['IDR'], marker='*', label='Bernoulli')\n",
    "\n",
    "# Annotate the size values for literals\n",
    "for i, txt in enumerate(df['literals']):\n",
    "    plt.annotate(txt, (df['penalty'][i], df['IDR'][i]), textcoords=\"offset points\", xytext=(0,10), ha='center', fontname=\"Arial\", fontsize=12, color='brown')\n",
    "\n",
    "# Annotate the size values for counts\n",
    "for i, txt in enumerate(df['counts']):\n",
    "    plt.annotate(txt, (df['penalty'][i], df['IDR'][i]), textcoords=\"offset points\", xytext=(0,-4), ha='center', fontname=\"Arial\",fontweight=\"bold\")\n",
    "\n",
    "# Add labels and title\n",
    "plt.xlabel('Penalty', fontsize=14, fontname=\"Arial\")\n",
    "plt.ylabel('Incidence density ratio', fontsize=14, fontname=\"Arial\")\n",
    "plt.title('Plot for disease counts with number of literals', fontname=\"Arial\", fontsize=14,fontweight=\"bold\")\n",
    "plt.legend(fontsize=\"14\")\n",
    "# plt.text(1, 2, 'Normal Font',  fontsize=16)\n",
    "ax.text(0.99, 0.88, 'Number of literals',\n",
    "        verticalalignment='bottom', horizontalalignment='right',\n",
    "        transform=ax.transAxes,\n",
    "        color='brown', fontsize=13)\n",
    "plt.grid(color = 'green', linestyle = '--', linewidth = 0.3)\n",
    "# Show the plot\n",
    "plt.show()"
   ]
  },
  {
   "cell_type": "code",
   "execution_count": 485,
   "metadata": {},
   "outputs": [
    {
     "data": {
      "image/png": "[encoded data removed]",
      "text/plain": [
       "<Figure size 1200x800 with 1 Axes>"
      ]
     },
     "metadata": {},
     "output_type": "display_data"
    }
   ],
   "source": [
    "import matplotlib.path as mpath\n",
    "from matplotlib.lines import Line2D\n",
    "from matplotlib.markers import MarkerStyle\n",
    "from matplotlib.transforms import Affine2D\n",
    "\n",
    "datum = {'size': [321,270,276,445,227,227,420,227,420,420],\n",
    "'counts': [398,339,344,500,289,289,470,289,470,470],\n",
    "'IDR': [0.219,0.184,0.188,0.304,0.155,0.155,0.287,0.155,0.287,0.287],\n",
    "'scores': [32.546,28.72,26.255,23.291,24.427,23.427,19.956,21.427,17.956,16.956],\n",
    "'literals': [8,\t4,\t4,\t3,\t2,\t2,\t2,\t2,\t2,\t2],\n",
    "'penalty': [0.5,1.0,1.5,2.0,2.5,3.0,3.5,4.0,4.5,5.0]\n",
    "}\n",
    "\n",
    "# Marker\n",
    "# r'$\\clubsuit$'\n",
    "\n",
    "df = pd.DataFrame(datum)\n",
    "df['count/size']=np.round(df['counts']/df['size'],2)\n",
    "\n",
    "# Plotting\n",
    "fig=plt.figure(figsize=(12, 8))\n",
    "ax = fig.add_subplot()\n",
    "\n",
    "# Plot Odds for Bernoulli\n",
    "# plt.scatter(df['penalty'], df['IDR'], s=df['size']*2, label='Size', alpha=0.7)\n",
    "\n",
    "# Plot counts\n",
    "plt.scatter(df['penalty'], df['IDR'], s=df['counts']*2, marker='o', label='Counts', color='red', alpha=0.5)\n",
    "# Plot size\n",
    "plt.scatter(df['penalty'], df['IDR'], s=df['size']*2, marker='8', label='Size', color='teal', alpha=0.6)\n",
    "# Plot Odds for Bernoulli\n",
    "# plt.plot(df['penalty'], df['IDR'], marker='*', label='Bernoulli')\n",
    "\n",
    "# Annotate the size values for Bernoulli\n",
    "for i, txt in enumerate(df['literals']):\n",
    "    plt.annotate(txt, (df['penalty'][i], df['IDR'][i]), textcoords=\"offset points\", xytext=(0,10), ha='center', fontname=\"Arial\", fontsize=12, color='blue')\n",
    "\n",
    "# Annotate the size values for Bernoulli\n",
    "for i, txt in enumerate(df['count/size']):\n",
    "    plt.annotate(txt, (df['penalty'][i], df['IDR'][i]), textcoords=\"offset points\", xytext=(0,-17), ha='center', fontname=\"Arial\",fontweight=\"bold\", color='darkblue')\n",
    "\n",
    "# Add labels and title\n",
    "plt.xlabel('Penalty', fontsize=14, fontname=\"Arial\")\n",
    "plt.ylabel('Incidence density ratio', fontsize=14, fontname=\"Arial\")\n",
    "plt.title('Plot for disease counts with number of literals (Agincourt)', fontname=\"Arial\", fontsize=14,fontweight=\"bold\")\n",
    "plt.legend(fontsize=\"14\",loc='lower right')\n",
    "# plt.text(1, 2, 'Normal Font',  fontsize=16)\n",
    "ax.text(0.99, 0.13, 'Number of literals',verticalalignment='bottom', horizontalalignment='right',transform=ax.transAxes,color='blue', fontsize=13)\n",
    "ax.text(0.99, 0.16, 'Counts/size',verticalalignment='bottom', horizontalalignment='right',transform=ax.transAxes,color='darkblue', fontsize=13)\n",
    "plt.grid(color = 'green', linestyle = '--', linewidth = 0.3)\n",
    "# Show the plot\n",
    "plt.show()"
   ]
  },
  {
   "cell_type": "code",
   "execution_count": 603,
   "metadata": {},
   "outputs": [
    {
     "data": {
      "text/html": [
       "<div>\n",
       "<style scoped>\n",
       "    .dataframe tbody tr th:only-of-type {\n",
       "        vertical-align: middle;\n",
       "    }\n",
       "\n",
       "    .dataframe tbody tr th {\n",
       "        vertical-align: top;\n",
       "    }\n",
       "\n",
       "    .dataframe thead th {\n",
       "        text-align: right;\n",
       "    }\n",
       "</style>\n",
       "<table border=\"1\" class=\"dataframe\">\n",
       "  <thead>\n",
       "    <tr style=\"text-align: right;\">\n",
       "      <th></th>\n",
       "      <th>Penalty</th>\n",
       "      <th>No of literals</th>\n",
       "      <th>Subset</th>\n",
       "      <th>Size</th>\n",
       "      <th>Counts</th>\n",
       "      <th>IDR</th>\n",
       "      <th>Size (%)</th>\n",
       "      <th>Count (%)</th>\n",
       "      <th>P value</th>\n",
       "    </tr>\n",
       "  </thead>\n",
       "  <tbody>\n",
       "    <tr>\n",
       "      <th>0</th>\n",
       "      <td>0.5</td>\n",
       "      <td>5</td>\n",
       "      <td>waist hip r c qc[0.85 - 9.02] AND age[48.0 - 6...</td>\n",
       "      <td>226</td>\n",
       "      <td>217</td>\n",
       "      <td>0.116</td>\n",
       "      <td>11.64</td>\n",
       "      <td>22.60</td>\n",
       "      <td>4.278095e-180</td>\n",
       "    </tr>\n",
       "    <tr>\n",
       "      <th>1</th>\n",
       "      <td>1.0</td>\n",
       "      <td>7</td>\n",
       "      <td>bmi c qc[20.49 - 62.8] AND sex[0.0] AND trigly...</td>\n",
       "      <td>214</td>\n",
       "      <td>215</td>\n",
       "      <td>0.110</td>\n",
       "      <td>11.02</td>\n",
       "      <td>22.40</td>\n",
       "      <td>7.849273e-188</td>\n",
       "    </tr>\n",
       "    <tr>\n",
       "      <th>2</th>\n",
       "      <td>1.5</td>\n",
       "      <td>4</td>\n",
       "      <td>bmi c qc[18.95 - 62.8] AND sex[0.0] AND waist ...</td>\n",
       "      <td>280</td>\n",
       "      <td>257</td>\n",
       "      <td>0.144</td>\n",
       "      <td>14.42</td>\n",
       "      <td>26.77</td>\n",
       "      <td>2.219176e-167</td>\n",
       "    </tr>\n",
       "    <tr>\n",
       "      <th>3</th>\n",
       "      <td>2.0</td>\n",
       "      <td>4</td>\n",
       "      <td>hdl qc[0.8 - 3.75] AND age[48.0 - 60.0] AND wa...</td>\n",
       "      <td>262</td>\n",
       "      <td>245</td>\n",
       "      <td>0.135</td>\n",
       "      <td>13.49</td>\n",
       "      <td>25.52</td>\n",
       "      <td>2.435004e-172</td>\n",
       "    </tr>\n",
       "    <tr>\n",
       "      <th>4</th>\n",
       "      <td>2.5</td>\n",
       "      <td>3</td>\n",
       "      <td>sex[0.0] AND age[48.0 - 60.0] AND waist hip r ...</td>\n",
       "      <td>289</td>\n",
       "      <td>260</td>\n",
       "      <td>0.149</td>\n",
       "      <td>14.88</td>\n",
       "      <td>27.08</td>\n",
       "      <td>1.715171e-163</td>\n",
       "    </tr>\n",
       "    <tr>\n",
       "      <th>5</th>\n",
       "      <td>3.0</td>\n",
       "      <td>3</td>\n",
       "      <td>waist hip r c qc[0.87 - 9.02] AND age[48.0 - 6...</td>\n",
       "      <td>289</td>\n",
       "      <td>260</td>\n",
       "      <td>0.149</td>\n",
       "      <td>14.88</td>\n",
       "      <td>27.08</td>\n",
       "      <td>1.715171e-163</td>\n",
       "    </tr>\n",
       "    <tr>\n",
       "      <th>6</th>\n",
       "      <td>3.5</td>\n",
       "      <td>3</td>\n",
       "      <td>age[48.0 - 60.0] AND waist hip r c qc[0.87 - 9...</td>\n",
       "      <td>289</td>\n",
       "      <td>260</td>\n",
       "      <td>0.149</td>\n",
       "      <td>14.88</td>\n",
       "      <td>27.08</td>\n",
       "      <td>1.715171e-163</td>\n",
       "    </tr>\n",
       "    <tr>\n",
       "      <th>7</th>\n",
       "      <td>4.0</td>\n",
       "      <td>2</td>\n",
       "      <td>age[50.0 - 60.0] AND waist hip r c qc[0.97 - 9...</td>\n",
       "      <td>104</td>\n",
       "      <td>119</td>\n",
       "      <td>0.054</td>\n",
       "      <td>5.36</td>\n",
       "      <td>12.40</td>\n",
       "      <td>2.774044e-199</td>\n",
       "    </tr>\n",
       "    <tr>\n",
       "      <th>8</th>\n",
       "      <td>4.5</td>\n",
       "      <td>2</td>\n",
       "      <td>age[50.0 - 60.0] AND waist hip r c qc[0.97 - 9...</td>\n",
       "      <td>104</td>\n",
       "      <td>119</td>\n",
       "      <td>0.054</td>\n",
       "      <td>5.36</td>\n",
       "      <td>12.40</td>\n",
       "      <td>2.774044e-199</td>\n",
       "    </tr>\n",
       "    <tr>\n",
       "      <th>9</th>\n",
       "      <td>5.0</td>\n",
       "      <td>2</td>\n",
       "      <td>age[50.0 - 60.0] AND waist hip r c qc[0.97 - 9...</td>\n",
       "      <td>104</td>\n",
       "      <td>119</td>\n",
       "      <td>0.054</td>\n",
       "      <td>5.36</td>\n",
       "      <td>12.40</td>\n",
       "      <td>2.774044e-199</td>\n",
       "    </tr>\n",
       "  </tbody>\n",
       "</table>\n",
       "</div>"
      ],
      "text/plain": [
       "   Penalty  No of literals                                             Subset  \\\n",
       "0      0.5               5  waist hip r c qc[0.85 - 9.02] AND age[48.0 - 6...   \n",
       "1      1.0               7  bmi c qc[20.49 - 62.8] AND sex[0.0] AND trigly...   \n",
       "2      1.5               4  bmi c qc[18.95 - 62.8] AND sex[0.0] AND waist ...   \n",
       "3      2.0               4  hdl qc[0.8 - 3.75] AND age[48.0 - 60.0] AND wa...   \n",
       "4      2.5               3  sex[0.0] AND age[48.0 - 60.0] AND waist hip r ...   \n",
       "5      3.0               3  waist hip r c qc[0.87 - 9.02] AND age[48.0 - 6...   \n",
       "6      3.5               3  age[48.0 - 60.0] AND waist hip r c qc[0.87 - 9...   \n",
       "7      4.0               2  age[50.0 - 60.0] AND waist hip r c qc[0.97 - 9...   \n",
       "8      4.5               2  age[50.0 - 60.0] AND waist hip r c qc[0.97 - 9...   \n",
       "9      5.0               2  age[50.0 - 60.0] AND waist hip r c qc[0.97 - 9...   \n",
       "\n",
       "   Size  Counts    IDR  Size (%)  Count (%)        P value  \n",
       "0   226     217  0.116     11.64      22.60  4.278095e-180  \n",
       "1   214     215  0.110     11.02      22.40  7.849273e-188  \n",
       "2   280     257  0.144     14.42      26.77  2.219176e-167  \n",
       "3   262     245  0.135     13.49      25.52  2.435004e-172  \n",
       "4   289     260  0.149     14.88      27.08  1.715171e-163  \n",
       "5   289     260  0.149     14.88      27.08  1.715171e-163  \n",
       "6   289     260  0.149     14.88      27.08  1.715171e-163  \n",
       "7   104     119  0.054      5.36      12.40  2.774044e-199  \n",
       "8   104     119  0.054      5.36      12.40  2.774044e-199  \n",
       "9   104     119  0.054      5.36      12.40  2.774044e-199  "
      ]
     },
     "execution_count": 603,
     "metadata": {},
     "output_type": "execute_result"
    }
   ],
   "source": [
    "results_df = pd.DataFrame({\n",
    "    'Penalty': penalty_values,\n",
    "    'No of literals': count_results,\n",
    "    'Subset': subset_results1,\n",
    "    'Size': size_results,\n",
    "    'Counts': disease_counts,\n",
    "    'IDR': IDR_results,\n",
    "    'Size (%)': size_percent,\n",
    "    'Count (%)': counts_percent,\n",
    "    'P value': p_values,\n",
    "})\n",
    "\n",
    "# Display the DataFrame\n",
    "results_df\n"
   ]
  },
  {
   "cell_type": "code",
   "execution_count": 601,
   "metadata": {},
   "outputs": [],
   "source": [
    "results_df.to_csv('Poisson_norm_counts_pos1_NAI.csv', index=False)"
   ]
  },
  {
   "cell_type": "code",
   "execution_count": 543,
   "metadata": {},
   "outputs": [
    {
     "data": {
      "text/plain": [
       "(array([0, 1, 2, 3, 4]), array([ 45, 176,  80,  18,   2]))"
      ]
     },
     "execution_count": 543,
     "metadata": {},
     "output_type": "execute_result"
    }
   ],
   "source": [
    "np.unique(dataframes['df_0.5'].MorbidityCount, return_counts=True)"
   ]
  },
  {
   "cell_type": "code",
   "execution_count": 461,
   "metadata": {},
   "outputs": [
    {
     "data": {
      "text/plain": [
       "10"
      ]
     },
     "execution_count": 461,
     "metadata": {},
     "output_type": "execute_result"
    }
   ],
   "source": [
    "dataframes['df_1.5'].iloc[1:9,-3].sum()\n",
    "# np.unique(dataframes['df_1.5'].iloc[1:8,-3], return_counts=True)"
   ]
  },
  {
   "cell_type": "code",
   "execution_count": 534,
   "metadata": {},
   "outputs": [
    {
     "data": {
      "text/plain": [
       "array([177, 121,  16,   1])"
      ]
     },
     "execution_count": 534,
     "metadata": {},
     "output_type": "execute_result"
    }
   ],
   "source": [
    "dataframes['df_4.5']['MorbidityCount'].value_counts().values"
   ]
  },
  {
   "cell_type": "code",
   "execution_count": 544,
   "metadata": {},
   "outputs": [
    {
     "data": {
      "text/plain": [
       "1    210\n",
       "2     99\n",
       "0     91\n",
       "3     18\n",
       "4      2\n",
       "Name: MorbidityCount, dtype: int64"
      ]
     },
     "execution_count": 544,
     "metadata": {},
     "output_type": "execute_result"
    }
   ],
   "source": [
    "dataframes['df_4.5']['MorbidityCount'].value_counts()"
   ]
  },
  {
   "cell_type": "code",
   "execution_count": 545,
   "metadata": {},
   "outputs": [
    {
     "data": {
      "image/png": "[encoded data removed]",
      "text/plain": [
       "<Figure size 920x500 with 1 Axes>"
      ]
     },
     "metadata": {},
     "output_type": "display_data"
    }
   ],
   "source": [
    "category_names = ['0 condition', '1 condition',\n",
    "                  '2 conditions', '3 conditions', '4 conditions']\n",
    "# results1 = {\n",
    "#     '6 literals': [36, 0, 0, 0, 0],\n",
    "#     '6 literals(v2)': [162,  78,  10, 0, 0],\n",
    "#     '5 literals': [215,  96,  22, 0, 0],\n",
    "#     '3 literals': [250, 140,  28, 1, 1],\n",
    "#     '3 literals(v2)': [306, 189,  40,   1, 0],\n",
    "#     '2 literals': [265, 160,  40,   2, 0],\n",
    "#     '2 literals(v2)': [247, 161,  29,   2, 0],\n",
    "#     '1 literals': [177, 121,  16,   1, 0], \n",
    "# }\n",
    "\n",
    "results1 = {\n",
    "    '8 literals': dataframes['df_0.5']['MorbidityCount'].value_counts().values,\n",
    "    '4 literals': dataframes['df_1']['MorbidityCount'].value_counts().values,\n",
    "    '4 literals(v2)': dataframes['df_1.5']['MorbidityCount'].value_counts().values,\n",
    "    '3 literals': dataframes['df_2']['MorbidityCount'].value_counts().values,\n",
    "    '2 literals': dataframes['df_2.5']['MorbidityCount'].value_counts().values, \n",
    "    '2 literals(v2)': dataframes['df_3.5']['MorbidityCount'].value_counts().values,   \n",
    "}\n",
    "\n",
    "\n",
    "def survey(results1, category_names):\n",
    "    \"\"\"\n",
    "    Parameters\n",
    "    ----------\n",
    "    results : dict\n",
    "        A mapping from question labels to a list of answers per category.\n",
    "        It is assumed all lists contain the same number of entries and that\n",
    "        it matches the length of *category_names*.\n",
    "    category_names : list of str\n",
    "        The category labels.\n",
    "    \"\"\"\n",
    "    labels = list(results1.keys())\n",
    "    data = np.array(list(results1.values()))\n",
    "    data_cum = data.cumsum(axis=1)\n",
    "    category_colors = plt.colormaps['Reds'](\n",
    "        np.linspace(0.15, 0.85, data.shape[1]))\n",
    "\n",
    "    fig, ax = plt.subplots(figsize=(9.2, 5))\n",
    "    ax.invert_yaxis()\n",
    "    ax.xaxis.set_visible(False)\n",
    "    ax.set_xlim(0, np.sum(data, axis=1).max())\n",
    "\n",
    "    for i, (colname, color) in enumerate(zip(category_names, category_colors)):\n",
    "        widths = data[:, i]\n",
    "        starts = data_cum[:, i] - widths\n",
    "        rects = ax.barh(labels, widths, left=starts, height=0.9,\n",
    "                        label=colname, color=color)\n",
    "\n",
    "        r, g, b, _ = color\n",
    "        text_color = 'white' if r * g * b < 0.5 else 'brown'\n",
    "        ax.bar_label(rects, label_type='center', color=text_color)\n",
    "    ax.legend(ncols=len(category_names), bbox_to_anchor=(0, 1),\n",
    "              loc='lower left', fontsize='small')\n",
    "\n",
    "    return fig, ax\n",
    "\n",
    "\n",
    "survey(results1, category_names)\n",
    "plt.show()"
   ]
  },
  {
   "cell_type": "code",
   "execution_count": 32,
   "metadata": {},
   "outputs": [
    {
     "name": "stdout",
     "output_type": "stream",
     "text": [
      "      3_literals  2_literals  1_literal\n",
      "1              1           1          1\n",
      "2              0           0          1\n",
      "3              1           0          0\n",
      "6              1           1          1\n",
      "7              1           0          0\n",
      "...          ...         ...        ...\n",
      "1458           1           1          1\n",
      "1459           0           1          1\n",
      "1460           0           1          1\n",
      "1461           1           0          0\n",
      "1462           1           1          1\n",
      "\n",
      "[684 rows x 3 columns]\n"
     ]
    }
   ],
   "source": [
    "# Identify unique observations from the datasets\n",
    "unique_ids = np.unique(np.concatenate([dataframes['df_0.5'].index, dataframes['df_1'].index, dataframes['df_2.5'].index,]))\n",
    "\n",
    "# Create a DataFrame with values of 1 in the baseline column and 0 or 1 in the other columns\n",
    "final_df = pd.DataFrame(index=unique_ids, columns=['3_literals', '2_literals', '1_literal'])\n",
    "\n",
    "# Set values based on the presence of IDs in the datasets\n",
    "# final_df['Baseline'] = 1\n",
    "final_df['3_literals'] = final_df.index.isin(dataframes['df_0.5'].index).astype(int)\n",
    "final_df['2_literals'] = final_df.index.isin(dataframes['df_1'].index).astype(int)\n",
    "final_df['1_literal'] = final_df.index.isin(dataframes['df_2.5'].index).astype(int)\n",
    "\n",
    "# Display the final DataFrame\n",
    "print(final_df)"
   ]
  },
  {
   "cell_type": "code",
   "execution_count": 33,
   "metadata": {},
   "outputs": [
    {
     "data": {
      "text/plain": [
       "rows\n",
       "679    [0, 1, 2]\n",
       "680       [1, 2]\n",
       "681       [1, 2]\n",
       "682          [0]\n",
       "683    [0, 1, 2]\n",
       "dtype: object"
      ]
     },
     "execution_count": 33,
     "metadata": {},
     "output_type": "execute_result"
    }
   ],
   "source": [
    "# get coordinates where event occurs (value=1)\n",
    "row_paths, col_paths = np.where(final_df.eq(1))\n",
    "mask = pd.DataFrame(data= {'rows':row_paths, 'cols':col_paths})\n",
    "\n",
    "# aggregate by row to get application's path\n",
    "agg_mask = mask.groupby('rows').apply(lambda x: [x for x in x.cols])\n",
    "agg_mask.tail()"
   ]
  },
  {
   "cell_type": "code",
   "execution_count": 34,
   "metadata": {},
   "outputs": [
    {
     "data": {
      "text/html": [
       "<div>\n",
       "<style scoped>\n",
       "    .dataframe tbody tr th:only-of-type {\n",
       "        vertical-align: middle;\n",
       "    }\n",
       "\n",
       "    .dataframe tbody tr th {\n",
       "        vertical-align: top;\n",
       "    }\n",
       "\n",
       "    .dataframe thead th {\n",
       "        text-align: right;\n",
       "    }\n",
       "</style>\n",
       "<table border=\"1\" class=\"dataframe\">\n",
       "  <thead>\n",
       "    <tr style=\"text-align: right;\">\n",
       "      <th></th>\n",
       "      <th>source</th>\n",
       "      <th>target</th>\n",
       "      <th>value</th>\n",
       "    </tr>\n",
       "  </thead>\n",
       "  <tbody>\n",
       "    <tr>\n",
       "      <th>0</th>\n",
       "      <td>1</td>\n",
       "      <td>2</td>\n",
       "      <td>227</td>\n",
       "    </tr>\n",
       "    <tr>\n",
       "      <th>1</th>\n",
       "      <td>0</td>\n",
       "      <td>1</td>\n",
       "      <td>152</td>\n",
       "    </tr>\n",
       "    <tr>\n",
       "      <th>2</th>\n",
       "      <td>0</td>\n",
       "      <td>2</td>\n",
       "      <td>43</td>\n",
       "    </tr>\n",
       "  </tbody>\n",
       "</table>\n",
       "</div>"
      ],
      "text/plain": [
       "   source  target  value\n",
       "0       1       2    227\n",
       "1       0       1    152\n",
       "2       0       2     43"
      ]
     },
     "execution_count": 34,
     "metadata": {},
     "output_type": "execute_result"
    }
   ],
   "source": [
    "all_events = []\n",
    "\n",
    "# get pair of source and target\n",
    "for row in agg_mask:\n",
    "    for index in range(len(row)-1):\n",
    "        all_events.append([row[index], row[index+1]])\n",
    "        \n",
    "# create df for aggregation        \n",
    "sankey_ST = pd.DataFrame(data=all_events)\n",
    "sankey_ST = sankey_ST.rename(columns={0:'source', 1:'target'})\n",
    "sankey_ST = sankey_ST.value_counts().reset_index()\n",
    "sankey_ST = sankey_ST.rename(columns={0:'value'})\n",
    "\n",
    "sankey_ST.head()"
   ]
  },
  {
   "cell_type": "code",
   "execution_count": 35,
   "metadata": {},
   "outputs": [
    {
     "data": {
      "application/vnd.plotly.v1+json": {
       "config": {
        "plotlyServerURL": "https://plot.ly"
       },
       "data": [
        {
         "link": {
          "source": [
           1,
           0,
           0
          ],
          "target": [
           2,
           1,
           2
          ],
          "value": [
           227,
           152,
           43
          ]
         },
         "node": {
          "label": [
           "3_literals: 445",
           "2_literals: 227",
           "1_literal: 434"
          ],
          "pad": 15,
          "thickness": 20
         },
         "textfont": {
          "size": 12
         },
         "type": "sankey"
        }
       ],
       "layout": {
        "font": {
         "size": 10
        },
        "template": {
         "data": {
          "bar": [
           {
            "error_x": {
             "color": "#2a3f5f"
            },
            "error_y": {
             "color": "#2a3f5f"
            },
            "marker": {
             "line": {
              "color": "#E5ECF6",
              "width": 0.5
             },
             "pattern": {
              "fillmode": "overlay",
              "size": 10,
              "solidity": 0.2
             }
            },
            "type": "bar"
           }
          ],
          "barpolar": [
           {
            "marker": {
             "line": {
              "color": "#E5ECF6",
              "width": 0.5
             },
             "pattern": {
              "fillmode": "overlay",
              "size": 10,
              "solidity": 0.2
             }
            },
            "type": "barpolar"
           }
          ],
          "carpet": [
           {
            "aaxis": {
             "endlinecolor": "#2a3f5f",
             "gridcolor": "white",
             "linecolor": "white",
             "minorgridcolor": "white",
             "startlinecolor": "#2a3f5f"
            },
            "baxis": {
             "endlinecolor": "#2a3f5f",
             "gridcolor": "white",
             "linecolor": "white",
             "minorgridcolor": "white",
             "startlinecolor": "#2a3f5f"
            },
            "type": "carpet"
           }
          ],
          "choropleth": [
           {
            "colorbar": {
             "outlinewidth": 0,
             "ticks": ""
            },
            "type": "choropleth"
           }
          ],
          "contour": [
           {
            "colorbar": {
             "outlinewidth": 0,
             "ticks": ""
            },
            "colorscale": [
             [
              0,
              "#0d0887"
             ],
             [
              0.1111111111111111,
              "#46039f"
             ],
             [
              0.2222222222222222,
              "#7201a8"
             ],
             [
              0.3333333333333333,
              "#9c179e"
             ],
             [
              0.4444444444444444,
              "#bd3786"
             ],
             [
              0.5555555555555556,
              "#d8576b"
             ],
             [
              0.6666666666666666,
              "#ed7953"
             ],
             [
              0.7777777777777778,
              "#fb9f3a"
             ],
             [
              0.8888888888888888,
              "#fdca26"
             ],
             [
              1,
              "#f0f921"
             ]
            ],
            "type": "contour"
           }
          ],
          "contourcarpet": [
           {
            "colorbar": {
             "outlinewidth": 0,
             "ticks": ""
            },
            "type": "contourcarpet"
           }
          ],
          "heatmap": [
           {
            "colorbar": {
             "outlinewidth": 0,
             "ticks": ""
            },
            "colorscale": [
             [
              0,
              "#0d0887"
             ],
             [
              0.1111111111111111,
              "#46039f"
             ],
             [
              0.2222222222222222,
              "#7201a8"
             ],
             [
              0.3333333333333333,
              "#9c179e"
             ],
             [
              0.4444444444444444,
              "#bd3786"
             ],
             [
              0.5555555555555556,
              "#d8576b"
             ],
             [
              0.6666666666666666,
              "#ed7953"
             ],
             [
              0.7777777777777778,
              "#fb9f3a"
             ],
             [
              0.8888888888888888,
              "#fdca26"
             ],
             [
              1,
              "#f0f921"
             ]
            ],
            "type": "heatmap"
           }
          ],
          "heatmapgl": [
           {
            "colorbar": {
             "outlinewidth": 0,
             "ticks": ""
            },
            "colorscale": [
             [
              0,
              "#0d0887"
             ],
             [
              0.1111111111111111,
              "#46039f"
             ],
             [
              0.2222222222222222,
              "#7201a8"
             ],
             [
              0.3333333333333333,
              "#9c179e"
             ],
             [
              0.4444444444444444,
              "#bd3786"
             ],
             [
              0.5555555555555556,
              "#d8576b"
             ],
             [
              0.6666666666666666,
              "#ed7953"
             ],
             [
              0.7777777777777778,
              "#fb9f3a"
             ],
             [
              0.8888888888888888,
              "#fdca26"
             ],
             [
              1,
              "#f0f921"
             ]
            ],
            "type": "heatmapgl"
           }
          ],
          "histogram": [
           {
            "marker": {
             "pattern": {
              "fillmode": "overlay",
              "size": 10,
              "solidity": 0.2
             }
            },
            "type": "histogram"
           }
          ],
          "histogram2d": [
           {
            "colorbar": {
             "outlinewidth": 0,
             "ticks": ""
            },
            "colorscale": [
             [
              0,
              "#0d0887"
             ],
             [
              0.1111111111111111,
              "#46039f"
             ],
             [
              0.2222222222222222,
              "#7201a8"
             ],
             [
              0.3333333333333333,
              "#9c179e"
             ],
             [
              0.4444444444444444,
              "#bd3786"
             ],
             [
              0.5555555555555556,
              "#d8576b"
             ],
             [
              0.6666666666666666,
              "#ed7953"
             ],
             [
              0.7777777777777778,
              "#fb9f3a"
             ],
             [
              0.8888888888888888,
              "#fdca26"
             ],
             [
              1,
              "#f0f921"
             ]
            ],
            "type": "histogram2d"
           }
          ],
          "histogram2dcontour": [
           {
            "colorbar": {
             "outlinewidth": 0,
             "ticks": ""
            },
            "colorscale": [
             [
              0,
              "#0d0887"
             ],
             [
              0.1111111111111111,
              "#46039f"
             ],
             [
              0.2222222222222222,
              "#7201a8"
             ],
             [
              0.3333333333333333,
              "#9c179e"
             ],
             [
              0.4444444444444444,
              "#bd3786"
             ],
             [
              0.5555555555555556,
              "#d8576b"
             ],
             [
              0.6666666666666666,
              "#ed7953"
             ],
             [
              0.7777777777777778,
              "#fb9f3a"
             ],
             [
              0.8888888888888888,
              "#fdca26"
             ],
             [
              1,
              "#f0f921"
             ]
            ],
            "type": "histogram2dcontour"
           }
          ],
          "mesh3d": [
           {
            "colorbar": {
             "outlinewidth": 0,
             "ticks": ""
            },
            "type": "mesh3d"
           }
          ],
          "parcoords": [
           {
            "line": {
             "colorbar": {
              "outlinewidth": 0,
              "ticks": ""
             }
            },
            "type": "parcoords"
           }
          ],
          "pie": [
           {
            "automargin": true,
            "type": "pie"
           }
          ],
          "scatter": [
           {
            "fillpattern": {
             "fillmode": "overlay",
             "size": 10,
             "solidity": 0.2
            },
            "type": "scatter"
           }
          ],
          "scatter3d": [
           {
            "line": {
             "colorbar": {
              "outlinewidth": 0,
              "ticks": ""
             }
            },
            "marker": {
             "colorbar": {
              "outlinewidth": 0,
              "ticks": ""
             }
            },
            "type": "scatter3d"
           }
          ],
          "scattercarpet": [
           {
            "marker": {
             "colorbar": {
              "outlinewidth": 0,
              "ticks": ""
             }
            },
            "type": "scattercarpet"
           }
          ],
          "scattergeo": [
           {
            "marker": {
             "colorbar": {
              "outlinewidth": 0,
              "ticks": ""
             }
            },
            "type": "scattergeo"
           }
          ],
          "scattergl": [
           {
            "marker": {
             "colorbar": {
              "outlinewidth": 0,
              "ticks": ""
             }
            },
            "type": "scattergl"
           }
          ],
          "scattermapbox": [
           {
            "marker": {
             "colorbar": {
              "outlinewidth": 0,
              "ticks": ""
             }
            },
            "type": "scattermapbox"
           }
          ],
          "scatterpolar": [
           {
            "marker": {
             "colorbar": {
              "outlinewidth": 0,
              "ticks": ""
             }
            },
            "type": "scatterpolar"
           }
          ],
          "scatterpolargl": [
           {
            "marker": {
             "colorbar": {
              "outlinewidth": 0,
              "ticks": ""
             }
            },
            "type": "scatterpolargl"
           }
          ],
          "scatterternary": [
           {
            "marker": {
             "colorbar": {
              "outlinewidth": 0,
              "ticks": ""
             }
            },
            "type": "scatterternary"
           }
          ],
          "surface": [
           {
            "colorbar": {
             "outlinewidth": 0,
             "ticks": ""
            },
            "colorscale": [
             [
              0,
              "#0d0887"
             ],
             [
              0.1111111111111111,
              "#46039f"
             ],
             [
              0.2222222222222222,
              "#7201a8"
             ],
             [
              0.3333333333333333,
              "#9c179e"
             ],
             [
              0.4444444444444444,
              "#bd3786"
             ],
             [
              0.5555555555555556,
              "#d8576b"
             ],
             [
              0.6666666666666666,
              "#ed7953"
             ],
             [
              0.7777777777777778,
              "#fb9f3a"
             ],
             [
              0.8888888888888888,
              "#fdca26"
             ],
             [
              1,
              "#f0f921"
             ]
            ],
            "type": "surface"
           }
          ],
          "table": [
           {
            "cells": {
             "fill": {
              "color": "#EBF0F8"
             },
             "line": {
              "color": "white"
             }
            },
            "header": {
             "fill": {
              "color": "#C8D4E3"
             },
             "line": {
              "color": "white"
             }
            },
            "type": "table"
           }
          ]
         },
         "layout": {
          "annotationdefaults": {
           "arrowcolor": "#2a3f5f",
           "arrowhead": 0,
           "arrowwidth": 1
          },
          "autotypenumbers": "strict",
          "coloraxis": {
           "colorbar": {
            "outlinewidth": 0,
            "ticks": ""
           }
          },
          "colorscale": {
           "diverging": [
            [
             0,
             "#8e0152"
            ],
            [
             0.1,
             "#c51b7d"
            ],
            [
             0.2,
             "#de77ae"
            ],
            [
             0.3,
             "#f1b6da"
            ],
            [
             0.4,
             "#fde0ef"
            ],
            [
             0.5,
             "#f7f7f7"
            ],
            [
             0.6,
             "#e6f5d0"
            ],
            [
             0.7,
             "#b8e186"
            ],
            [
             0.8,
             "#7fbc41"
            ],
            [
             0.9,
             "#4d9221"
            ],
            [
             1,
             "#276419"
            ]
           ],
           "sequential": [
            [
             0,
             "#0d0887"
            ],
            [
             0.1111111111111111,
             "#46039f"
            ],
            [
             0.2222222222222222,
             "#7201a8"
            ],
            [
             0.3333333333333333,
             "#9c179e"
            ],
            [
             0.4444444444444444,
             "#bd3786"
            ],
            [
             0.5555555555555556,
             "#d8576b"
            ],
            [
             0.6666666666666666,
             "#ed7953"
            ],
            [
             0.7777777777777778,
             "#fb9f3a"
            ],
            [
             0.8888888888888888,
             "#fdca26"
            ],
            [
             1,
             "#f0f921"
            ]
           ],
           "sequentialminus": [
            [
             0,
             "#0d0887"
            ],
            [
             0.1111111111111111,
             "#46039f"
            ],
            [
             0.2222222222222222,
             "#7201a8"
            ],
            [
             0.3333333333333333,
             "#9c179e"
            ],
            [
             0.4444444444444444,
             "#bd3786"
            ],
            [
             0.5555555555555556,
             "#d8576b"
            ],
            [
             0.6666666666666666,
             "#ed7953"
            ],
            [
             0.7777777777777778,
             "#fb9f3a"
            ],
            [
             0.8888888888888888,
             "#fdca26"
            ],
            [
             1,
             "#f0f921"
            ]
           ]
          },
          "colorway": [
           "#636efa",
           "#EF553B",
           "#00cc96",
           "#ab63fa",
           "#FFA15A",
           "#19d3f3",
           "#FF6692",
           "#B6E880",
           "#FF97FF",
           "#FECB52"
          ],
          "font": {
           "color": "#2a3f5f"
          },
          "geo": {
           "bgcolor": "white",
           "lakecolor": "white",
           "landcolor": "#E5ECF6",
           "showlakes": true,
           "showland": true,
           "subunitcolor": "white"
          },
          "hoverlabel": {
           "align": "left"
          },
          "hovermode": "closest",
          "mapbox": {
           "style": "light"
          },
          "paper_bgcolor": "white",
          "plot_bgcolor": "#E5ECF6",
          "polar": {
           "angularaxis": {
            "gridcolor": "white",
            "linecolor": "white",
            "ticks": ""
           },
           "bgcolor": "#E5ECF6",
           "radialaxis": {
            "gridcolor": "white",
            "linecolor": "white",
            "ticks": ""
           }
          },
          "scene": {
           "xaxis": {
            "backgroundcolor": "#E5ECF6",
            "gridcolor": "white",
            "gridwidth": 2,
            "linecolor": "white",
            "showbackground": true,
            "ticks": "",
            "zerolinecolor": "white"
           },
           "yaxis": {
            "backgroundcolor": "#E5ECF6",
            "gridcolor": "white",
            "gridwidth": 2,
            "linecolor": "white",
            "showbackground": true,
            "ticks": "",
            "zerolinecolor": "white"
           },
           "zaxis": {
            "backgroundcolor": "#E5ECF6",
            "gridcolor": "white",
            "gridwidth": 2,
            "linecolor": "white",
            "showbackground": true,
            "ticks": "",
            "zerolinecolor": "white"
           }
          },
          "shapedefaults": {
           "line": {
            "color": "#2a3f5f"
           }
          },
          "ternary": {
           "aaxis": {
            "gridcolor": "white",
            "linecolor": "white",
            "ticks": ""
           },
           "baxis": {
            "gridcolor": "white",
            "linecolor": "white",
            "ticks": ""
           },
           "bgcolor": "#E5ECF6",
           "caxis": {
            "gridcolor": "white",
            "linecolor": "white",
            "ticks": ""
           }
          },
          "title": {
           "x": 0.05
          },
          "xaxis": {
           "automargin": true,
           "gridcolor": "white",
           "linecolor": "white",
           "ticks": "",
           "title": {
            "standoff": 15
           },
           "zerolinecolor": "white",
           "zerolinewidth": 2
          },
          "yaxis": {
           "automargin": true,
           "gridcolor": "white",
           "linecolor": "white",
           "ticks": "",
           "title": {
            "standoff": 15
           },
           "zerolinecolor": "white",
           "zerolinewidth": 2
          }
         }
        },
        "title": {
         "text": "Sankey plot for flow of literals"
        }
       }
      }
     },
     "metadata": {},
     "output_type": "display_data"
    }
   ],
   "source": [
    "import plotly.graph_objects as go\n",
    "fig = go.Figure(data=[go.Sankey(\n",
    "    node = dict(\n",
    "        pad = 15,\n",
    "        thickness = 20,\n",
    "        label = [f'{x}: {final_df[x].sum()}' for x in final_df.columns]\n",
    "    ),\n",
    "    link=dict(\n",
    "        source = sankey_ST['source'],\n",
    "        target = sankey_ST['target'],\n",
    "        value = sankey_ST['value']\n",
    "    ),\n",
    ")])\n",
    "\n",
    "\n",
    "fig.update_layout(title_text='Sankey plot for flow of literals', font_size=10)\n",
    "fig.update_traces(textfont_size=12)\n",
    "fig.show()"
   ]
  },
  {
   "cell_type": "code",
   "execution_count": 36,
   "metadata": {},
   "outputs": [],
   "source": [
    "ang1_up = final_df.mask(final_df == 1, np.nan)"
   ]
  },
  {
   "cell_type": "code",
   "execution_count": 37,
   "metadata": {},
   "outputs": [
    {
     "data": {
      "text/plain": [
       "<upsetplot.plotting.UpSet at 0x7f9070022400>"
      ]
     },
     "execution_count": 37,
     "metadata": {},
     "output_type": "execute_result"
    },
    {
     "data": {
      "image/png": "[encoded data removed]",
      "text/plain": [
       "<Figure size 444.444x400 with 4 Axes>"
      ]
     },
     "metadata": {},
     "output_type": "display_data"
    }
   ],
   "source": [
    "import upsetplot\n",
    "from upsetplot import UpSet, plot, from_indicators\n",
    "from upsetplot import from_contents\n",
    "# angpain.values\n",
    "\n",
    "# ang1 = angpain.set_index(angpain.pain_qc == True).set_index(angpain.pain2_qc == 1, append=True).set_index(angpain.pain_location_12_qc == 1, append=True)\n",
    "# UpSet(ang1)\n",
    "UpSet(from_indicators(pd.isna, data=ang1_up.iloc[:,0:]), show_counts=True, sort_by= 'cardinality', max_subset_size=1000, facecolor='dimgrey')\n",
    "# upsetplot.query(ang1)\n",
    "# upset = UpSet(angpain,element_size=32)"
   ]
  },
  {
   "cell_type": "code",
   "execution_count": null,
   "metadata": {},
   "outputs": [],
   "source": [
    "# %%time\n",
    "# Scan in the positive direction using defined penalties and num iters\n",
    "\n",
    "scoring_function = Poisson(direction='negative')\n",
    "scanner = MDSS(scoring_function)\n",
    "# Define a list of penalty values to loop through\n",
    "penalty_values = [0.5, 1, 1.5, 2, 2.5, 3, 3.5, 4, 4.5, 5]\n",
    "# penalty_values = [0.5, 0.8, 1.0, 1.3, 1.5]\n",
    "num_iters = 5\n",
    "# Initialize empty lists to store results\n",
    "subset_results = []\n",
    "subset_results1 = []\n",
    "score_results = []\n",
    "size_results = []\n",
    "IDR_results = []\n",
    "count_results = []\n",
    "z_scores = []\n",
    "p_values = []\n",
    "disease_counts = []\n",
    "size_percent = []\n",
    "dataframes = {}\n",
    "\n",
    "# Loop through each penalty value\n",
    "for penalty in penalty_values:\n",
    "    # Perform the scan with the current penalty value\n",
    "    subset, score = scanner.scan(dff_2[search_space], dff_2['MorbidityCount'], dff_2['expectationPoisson'], cpu=0.95,\n",
    "                                 penalty=penalty, num_iters=num_iters, contiguous=contiguous.copy())\n",
    "    \n",
    "    to_choose = dff_2[subset.keys()].isin(subset).all(axis=1)\n",
    "    temp_df = dff_2.loc[to_choose]\n",
    "    size = len(temp_df)\n",
    "\n",
    "    # Store each DataFrame in the dictionary with a unique key\n",
    "    dataframes[f'df_{penalty}'] = temp_df\n",
    "\n",
    "    # \n",
    "    expected_risk_subset = temp_df['MorbidityCount'].mean()\n",
    "    expected_risk = dff_2['MorbidityCount'].mean()  \n",
    "    # Total person-time at risk\n",
    "    total_person_time_subset = len(temp_df) * expected_risk_subset\n",
    "    total_person_time = len(dff_2) * expected_risk\n",
    "\n",
    "    # Total number of events (sum of counts)\n",
    "    total_events_subset = temp_df['MorbidityCount'].sum()\n",
    "    total_events = dff_2['MorbidityCount'].sum()\n",
    "\n",
    "    # Calculating incidence density\n",
    "    # incidence_density_subset = total_events_subset / total_person_time_subset\n",
    "    # incidence_density = total_events / total_person_time\n",
    "    incidence_density_subset = total_events_subset / expected_risk_subset\n",
    "    incidence_density = total_events / expected_risk\n",
    "\n",
    "    #Calc IDR\n",
    "    IDR = incidence_density_subset/incidence_density\n",
    "    # IDR = expected_risk_subset/expected_risk\n",
    "\n",
    "    # Calculate Log-IDR and its standard error\n",
    "    log_IDR = np.log(IDR)\n",
    "    SE_log_IDR = np.sqrt((1/total_events_subset) + (1/total_events))\n",
    "\n",
    "    # Calculate 95% Confidence Interval for Log-IDR\n",
    "    CI_lower_log = log_IDR - 1.96 * SE_log_IDR\n",
    "    CI_upper_log = log_IDR + 1.96 * SE_log_IDR\n",
    "\n",
    "    # Transform the CI back to the original scale\n",
    "    CI_lower = np.exp(CI_lower_log)\n",
    "    CI_upper = np.exp(CI_upper_log)\n",
    "\n",
    "    # Z-test for significance\n",
    "    Z_score = log_IDR / SE_log_IDR\n",
    "    # Two-tail test\n",
    "    p_value = stats.norm.sf(abs(Z_score)) * 2 \n",
    "\n",
    "\n",
    "\n",
    "    counting = count_conditions(translate_subset_to_rule(compress_contiguous(subset, contiguous)))\n",
    "    \n",
    "    # Append the results to the respective lists\n",
    "\n",
    "    # subset_results.append(subset)\n",
    "    score_results.append(np.round(score, 3))\n",
    "    size_percent.append(np.round((len(temp_df)/len(dff_2)*100),2))\n",
    "    size_results.append(size)\n",
    "    IDR_results.append(np.round(IDR, 3))\n",
    "    subset_results1.append(translate_subset_to_rule(compress_contiguous(subset, contiguous)))\n",
    "    count_results.append(counting)\n",
    "    z_scores.append(z_score)\n",
    "    p_values.append(p_value)\n",
    "    disease_counts.append(total_events_subset)\n",
    "\n",
    "# Display the results for each penalty value\n",
    "for i, penalty in enumerate(penalty_values):\n",
    "    for i, penalty in enumerate(penalty_values):\n",
    "        print(f\"Penalty = {penalty}: Subset = {subset_results1[i]}, \\nLiteralsNumber = {count_results[i]}, \\nSize = {size_results[i]}, \\\n",
    "            IDR = {IDR_results[i]}, Score = {score_results[i]}, Z_score = {z_scores[i]}, Disease_counts = {disease_counts[i]}, \\\n",
    "            Size_percent = {size_percent[i]},P_value = {p_values[i]}\")"
   ]
  }
 ],
 "metadata": {
  "kernelspec": {
   "display_name": "kay",
   "language": "python",
   "name": "python3"
  },
  "language_info": {
   "codemirror_mode": {
    "name": "ipython",
    "version": 3
   },
   "file_extension": ".py",
   "mimetype": "text/x-python",
   "name": "python",
   "nbconvert_exporter": "python",
   "pygments_lexer": "ipython3",
   "version": "3.9.16"
  }
 },
 "nbformat": 4,
 "nbformat_minor": 2
}
