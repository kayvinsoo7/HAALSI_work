{
 "cells": [
  {
   "cell_type": "markdown",
   "metadata": {},
   "source": [
    "# **MDSS API and parameters**"
   ]
  },
  {
   "cell_type": "markdown",
   "metadata": {},
   "source": [
    "- The `direction` specifies whether we want to scan for a subgroup with higher than expected outcomes or lower than expected outcomes  \n",
    "- The `penalty` co-efficient allows us to adjust the complexity of the highest scoring subset. It can be thought of a regularization constant.\n",
    "In each iteration, we optimize over subsets of all the attributes and randomly initialize the values of each attribute.      \n",
    "- The `num_iters` specifies the number of iterations and thus random initializations  \n",
    "- The `use_not_direction` specifies whether we want to include complements(nots)in our subsets along with the ands and ors in order to reduce our anomalous subset's description/no. of literals.\n",
    "- The `cpu` specifices whether or not we'll leverage multicore performance when scanning."
   ]
  },
  {
   "cell_type": "markdown",
   "metadata": {},
   "source": [
    "Import the MDSS module and Bernoulli modules"
   ]
  },
  {
   "cell_type": "code",
   "execution_count": 1,
   "metadata": {},
   "outputs": [],
   "source": [
    "from mdss.ScoringFunctions.Bernoulli import Bernoulli\n",
    "from mdss.MDSS import MDSS\n",
    "import pandas as pd\n",
    "import numpy as np"
   ]
  },
  {
   "cell_type": "code",
   "execution_count": 2,
   "metadata": {},
   "outputs": [],
   "source": [
    "import ssl\n",
    "ssl._create_default_https_context= ssl._create_unverified_context"
   ]
  },
  {
   "cell_type": "code",
   "execution_count": 3,
   "metadata": {},
   "outputs": [],
   "source": [
    "import warnings\n",
    "warnings.filterwarnings('ignore')"
   ]
  },
  {
   "cell_type": "markdown",
   "metadata": {},
   "source": [
    "## Data"
   ]
  },
  {
   "cell_type": "code",
   "execution_count": 4,
   "metadata": {},
   "outputs": [
    {
     "data": {
      "text/html": [
       "<div>\n",
       "<style scoped>\n",
       "    .dataframe tbody tr th:only-of-type {\n",
       "        vertical-align: middle;\n",
       "    }\n",
       "\n",
       "    .dataframe tbody tr th {\n",
       "        vertical-align: top;\n",
       "    }\n",
       "\n",
       "    .dataframe thead th {\n",
       "        text-align: right;\n",
       "    }\n",
       "</style>\n",
       "<table border=\"1\" class=\"dataframe\">\n",
       "  <thead>\n",
       "    <tr style=\"text-align: right;\">\n",
       "      <th></th>\n",
       "      <th>workclass</th>\n",
       "      <th>education</th>\n",
       "      <th>marital_status</th>\n",
       "      <th>occupation</th>\n",
       "      <th>relationship</th>\n",
       "      <th>race</th>\n",
       "      <th>sex</th>\n",
       "      <th>native_country</th>\n",
       "      <th>age_bin</th>\n",
       "      <th>education_num_bin</th>\n",
       "      <th>hours_per_week_bin</th>\n",
       "      <th>capital_gain_bin</th>\n",
       "      <th>capital_loss_bin</th>\n",
       "      <th>observed</th>\n",
       "      <th>expectation</th>\n",
       "    </tr>\n",
       "  </thead>\n",
       "  <tbody>\n",
       "    <tr>\n",
       "      <th>0</th>\n",
       "      <td>Private</td>\n",
       "      <td>11th</td>\n",
       "      <td>Never-married</td>\n",
       "      <td>Machine-op-inspct</td>\n",
       "      <td>Own-child</td>\n",
       "      <td>Black</td>\n",
       "      <td>Male</td>\n",
       "      <td>United-States</td>\n",
       "      <td>17-27</td>\n",
       "      <td>1-8</td>\n",
       "      <td>40-44</td>\n",
       "      <td>0</td>\n",
       "      <td>0</td>\n",
       "      <td>0</td>\n",
       "      <td>0.236226</td>\n",
       "    </tr>\n",
       "    <tr>\n",
       "      <th>1</th>\n",
       "      <td>Private</td>\n",
       "      <td>HS-grad</td>\n",
       "      <td>Married-civ-spouse</td>\n",
       "      <td>Farming-fishing</td>\n",
       "      <td>Husband</td>\n",
       "      <td>White</td>\n",
       "      <td>Male</td>\n",
       "      <td>United-States</td>\n",
       "      <td>37-47</td>\n",
       "      <td>9</td>\n",
       "      <td>45-99</td>\n",
       "      <td>0</td>\n",
       "      <td>0</td>\n",
       "      <td>0</td>\n",
       "      <td>0.236226</td>\n",
       "    </tr>\n",
       "    <tr>\n",
       "      <th>2</th>\n",
       "      <td>Local-gov</td>\n",
       "      <td>Assoc-acdm</td>\n",
       "      <td>Married-civ-spouse</td>\n",
       "      <td>Protective-serv</td>\n",
       "      <td>Husband</td>\n",
       "      <td>White</td>\n",
       "      <td>Male</td>\n",
       "      <td>United-States</td>\n",
       "      <td>28-36</td>\n",
       "      <td>12-16</td>\n",
       "      <td>40-44</td>\n",
       "      <td>0</td>\n",
       "      <td>0</td>\n",
       "      <td>1</td>\n",
       "      <td>0.236226</td>\n",
       "    </tr>\n",
       "    <tr>\n",
       "      <th>3</th>\n",
       "      <td>Private</td>\n",
       "      <td>Some-college</td>\n",
       "      <td>Married-civ-spouse</td>\n",
       "      <td>Machine-op-inspct</td>\n",
       "      <td>Husband</td>\n",
       "      <td>Black</td>\n",
       "      <td>Male</td>\n",
       "      <td>United-States</td>\n",
       "      <td>37-47</td>\n",
       "      <td>10-11</td>\n",
       "      <td>40-44</td>\n",
       "      <td>7298-7978</td>\n",
       "      <td>0</td>\n",
       "      <td>1</td>\n",
       "      <td>0.236226</td>\n",
       "    </tr>\n",
       "    <tr>\n",
       "      <th>4</th>\n",
       "      <td>?</td>\n",
       "      <td>Some-college</td>\n",
       "      <td>Never-married</td>\n",
       "      <td>?</td>\n",
       "      <td>Own-child</td>\n",
       "      <td>White</td>\n",
       "      <td>Female</td>\n",
       "      <td>United-States</td>\n",
       "      <td>17-27</td>\n",
       "      <td>10-11</td>\n",
       "      <td>1-39</td>\n",
       "      <td>0</td>\n",
       "      <td>0</td>\n",
       "      <td>0</td>\n",
       "      <td>0.236226</td>\n",
       "    </tr>\n",
       "  </tbody>\n",
       "</table>\n",
       "</div>"
      ],
      "text/plain": [
       "    workclass      education       marital_status          occupation  \\\n",
       "0     Private           11th        Never-married   Machine-op-inspct   \n",
       "1     Private        HS-grad   Married-civ-spouse     Farming-fishing   \n",
       "2   Local-gov     Assoc-acdm   Married-civ-spouse     Protective-serv   \n",
       "3     Private   Some-college   Married-civ-spouse   Machine-op-inspct   \n",
       "4           ?   Some-college        Never-married                   ?   \n",
       "\n",
       "  relationship    race      sex  native_country age_bin education_num_bin  \\\n",
       "0    Own-child   Black     Male   United-States   17-27               1-8   \n",
       "1      Husband   White     Male   United-States   37-47                 9   \n",
       "2      Husband   White     Male   United-States   28-36             12-16   \n",
       "3      Husband   Black     Male   United-States   37-47             10-11   \n",
       "4    Own-child   White   Female   United-States   17-27             10-11   \n",
       "\n",
       "  hours_per_week_bin capital_gain_bin capital_loss_bin  observed  expectation  \n",
       "0              40-44                0                0         0     0.236226  \n",
       "1              45-99                0                0         0     0.236226  \n",
       "2              40-44                0                0         1     0.236226  \n",
       "3              40-44        7298-7978                0         1     0.236226  \n",
       "4               1-39                0                0         0     0.236226  "
      ]
     },
     "execution_count": 4,
     "metadata": {},
     "output_type": "execute_result"
    }
   ],
   "source": [
    "adult = pd.read_csv('https://gist.githubusercontent.com/Viktour19/b690679802c431646d36f7e2dd117b9e/raw/d8f17bf25664bd2d9fa010750b9e451c4155dd61/adult_autostrat.csv')\n",
    "adult.head()"
   ]
  },
  {
   "cell_type": "code",
   "execution_count": 5,
   "metadata": {},
   "outputs": [],
   "source": [
    "scoring_function = Bernoulli(direction=\"positive\")\n",
    "scanner = MDSS(scoring_function)"
   ]
  },
  {
   "cell_type": "markdown",
   "metadata": {},
   "source": [
    "### 1. Direction"
   ]
  },
  {
   "cell_type": "markdown",
   "metadata": {},
   "source": [
    "In the positive direction, we look for sub-groups that are most favoured by our outcome i.e most likely to earn above 50k"
   ]
  },
  {
   "cell_type": "code",
   "execution_count": 6,
   "metadata": {},
   "outputs": [
    {
     "name": "stdout",
     "output_type": "stream",
     "text": [
      "Group most likely to earn above 50k: \n",
      "{'marital_status': [' Married-civ-spouse'], 'age_bin': ['28-36', '37-47', '48-90'], 'education': [' Assoc-acdm', ' Bachelors', ' Doctorate', ' Masters', ' Prof-school', ' Some-college']} 1065.8355262262485\n"
     ]
    }
   ],
   "source": [
    "scoring_function = Bernoulli(direction=\"positive\")\n",
    "scanner = MDSS(scoring_function)\n",
    "\n",
    "subset,score = scanner.scan( adult[adult.columns[:-2]] , adult['observed'] , adult['expectation'] , \n",
    "    penalty=20 , num_iters=1 , use_not_direction=False , num_of_subsets=1 , verbose=False , cpu=0)\n",
    "    \n",
    "print(\"Group most likely to earn above 50k: \\n{}\".format(subset), score)"
   ]
  },
  {
   "cell_type": "markdown",
   "metadata": {},
   "source": [
    "In the negative direction, we look for sub-groups that are least favoured by our outcome i.e most likely to earn below 50k"
   ]
  },
  {
   "cell_type": "code",
   "execution_count": 7,
   "metadata": {},
   "outputs": [
    {
     "name": "stdout",
     "output_type": "stream",
     "text": [
      "Group most likely to earn below 50k: \n",
      "{'capital_gain_bin': ['0', '114-2354'], 'marital_status': [' Divorced', ' Never-married', ' Separated', ' Widowed'], 'education_num_bin': ['1-8', '10-11', '9']} 1068.4273492510838\n"
     ]
    }
   ],
   "source": [
    "scoring_function = Bernoulli(direction=\"negative\")\n",
    "scanner = MDSS(scoring_function)\n",
    "\n",
    "subset,score = scanner.scan( adult[adult.columns[:-2]] , adult['observed'] , adult['expectation'] , penalty=20 , num_iters=1 , use_not_direction=False , num_of_subsets=1 , verbose=False , cpu=0)\n",
    "print(\"Group most likely to earn below 50k: \\n{}\".format(subset), score)"
   ]
  },
  {
   "cell_type": "markdown",
   "metadata": {},
   "source": [
    "### 2. Penalty"
   ]
  },
  {
   "cell_type": "markdown",
   "metadata": {},
   "source": [
    "The `penalty` co-efficient allows us to adjust the complexity of the highest scoring subset i.e reduce no. of literals "
   ]
  },
  {
   "cell_type": "markdown",
   "metadata": {},
   "source": [
    "If we don't penalize i.e `penalty=0`, we get a very large anomalous subset description"
   ]
  },
  {
   "cell_type": "code",
   "execution_count": 8,
   "metadata": {},
   "outputs": [
    {
     "name": "stdout",
     "output_type": "stream",
     "text": [
      "Non-penalized Subset: \n",
      "{'capital_gain_bin': ['0', '114-2354', '2407-3273', '3325-4416'], 'marital_status': [' Divorced', ' Married-civ-spouse', ' Married-spouse-absent', ' Never-married', ' Separated', ' Widowed'], 'workclass': [' ?', ' Federal-gov', ' Local-gov', ' Never-worked', ' Private', ' Self-emp-inc', ' Self-emp-not-inc', ' State-gov', ' Without-pay'], 'occupation': [' ?', ' Adm-clerical', ' Armed-Forces', ' Craft-repair', ' Exec-managerial', ' Farming-fishing', ' Handlers-cleaners', ' Machine-op-inspct', ' Other-service', ' Priv-house-serv', ' Prof-specialty', ' Protective-serv', ' Sales', ' Tech-support', ' Transport-moving'], 'race': [' Amer-Indian-Eskimo', ' Asian-Pac-Islander', ' Black', ' Other', ' White'], 'capital_loss_bin': ['0', '1672-1876', '213-1669'], 'education_num_bin': ['1-8', '10-11', '9'], 'hours_per_week_bin': ['1-39', '40-44', '45-99'], 'relationship': [' Not-in-family', ' Other-relative', ' Own-child', ' Unmarried'], 'sex': [' Female', ' Male'], 'age_bin': ['17-27', '28-36', '37-47', '48-90'], 'native_country': [' ?', ' Cambodia', ' Canada', ' Columbia', ' Cuba', ' Dominican-Republic', ' Ecuador', ' El-Salvador', ' England', ' France', ' Germany', ' Greece', ' Guatemala', ' Haiti', ' Honduras', ' Hong', ' Iran', ' Italy', ' Jamaica', ' Japan', ' Laos', ' Mexico', ' Nicaragua', ' Outlying-US(Guam-USVI-etc)', ' Peru', ' Philippines', ' Poland', ' Puerto-Rico', ' Scotland', ' South', ' Taiwan', ' Thailand', ' Trinadad&Tobago', ' United-States', ' Vietnam', ' Yugoslavia'], 'education': [' 10th', ' 11th', ' 12th', ' 1st-4th', ' 5th-6th', ' 7th-8th', ' 9th', ' Assoc-voc', ' HS-grad', ' Preschool', ' Some-college']}\n"
     ]
    }
   ],
   "source": [
    "subset,score = scanner.scan( adult[adult.columns[:-2]] , adult['observed'] , adult['expectation'] , penalty=0 , num_iters=1 , use_not_direction=False , num_of_subsets=1 , verbose=False , cpu=0)\n",
    "print(\"Non-penalized Subset: \\n{}\".format(subset))"
   ]
  },
  {
   "cell_type": "markdown",
   "metadata": {},
   "source": [
    "Increasing the penalty to 30 i.e `penalty = 30`, significantly reduces the number of literals in our subset"
   ]
  },
  {
   "cell_type": "code",
   "execution_count": 9,
   "metadata": {},
   "outputs": [
    {
     "name": "stdout",
     "output_type": "stream",
     "text": [
      "Penalized Subset: \n",
      "{'capital_gain_bin': ['0'], 'marital_status': [' Divorced', ' Never-married', ' Separated', ' Widowed']}\n"
     ]
    }
   ],
   "source": [
    "subset,score = scanner.scan( adult[adult.columns[:-2]] , adult['observed'] , adult['expectation'] , penalty=30 , num_iters=1 , use_not_direction=False , num_of_subsets=1 , verbose=False , cpu=0)\n",
    "print(\"Penalized Subset: \\n{}\".format(subset))"
   ]
  },
  {
   "cell_type": "markdown",
   "metadata": {},
   "source": [
    "### 3. NOT/ Complement"
   ]
  },
  {
   "cell_type": "markdown",
   "metadata": {},
   "source": [
    "Goal is to reduce number of literals in our anomalous subset"
   ]
  },
  {
   "cell_type": "code",
   "execution_count": 10,
   "metadata": {},
   "outputs": [],
   "source": [
    "scoring_function = Bernoulli(direction=\"positive\")\n",
    "scanner = MDSS(scoring_function)"
   ]
  },
  {
   "cell_type": "markdown",
   "metadata": {},
   "source": [
    "Scan in the prime direction"
   ]
  },
  {
   "cell_type": "code",
   "execution_count": 11,
   "metadata": {},
   "outputs": [
    {
     "name": "stdout",
     "output_type": "stream",
     "text": [
      "Prime Subset: \n",
      "{'marital_status': [' Married-civ-spouse'], 'age_bin': ['28-36', '37-47', '48-90'], 'education': [' Assoc-acdm', ' Bachelors', ' Doctorate', ' Masters', ' Prof-school', ' Some-college']}\n",
      "Score: 1115.8355262262485\n",
      "No. of literals in PRIME: 10\n"
     ]
    }
   ],
   "source": [
    "subset,score = scanner.scan( adult[adult.columns[:-2]] , adult['observed'] , adult['expectation'] , penalty=15 , num_iters=1 , use_not_direction=False , num_of_subsets=1 , verbose=False , cpu=0)\n",
    "print(\"Prime Subset: \\n{}\".format(subset))\n",
    "print(\"Score: {}\".format(score))\n",
    "print(\"No. of literals in PRIME: {}\".format(sum([len(val) for key, val in subset.items()])))"
   ]
  },
  {
   "cell_type": "markdown",
   "metadata": {},
   "source": [
    "Our complement subset has 2x less literals while being more anomalous than our prime"
   ]
  },
  {
   "cell_type": "code",
   "execution_count": 12,
   "metadata": {},
   "outputs": [
    {
     "name": "stdout",
     "output_type": "stream",
     "text": [
      "Not/Complement Subset: \n",
      "{'occupation': {' Other-service'}, 'marital_status': [' Married-civ-spouse'], 'age_bin': {'17-27'}, 'education': {' HS-grad'}, 'education_num_bin': {'1-8'}}\n",
      "Score: 1231.0251383988543\n",
      "No. of literals in COMPLEMENT: 5\n"
     ]
    }
   ],
   "source": [
    "subset_,score_ = scanner.scan( adult[adult.columns[:-2]] , adult['observed'] , adult['expectation'] , penalty=15 , num_iters=1 , use_not_direction=True , num_of_subsets=1 , verbose=False , cpu=0)\n",
    "print(\"Not/Complement Subset: \\n{}\".format(subset_))\n",
    "print(\"Score: {}\".format(score_))\n",
    "print(\"No. of literals in COMPLEMENT: {}\".format(sum([len(val) for key, val in subset_.items()])))"
   ]
  },
  {
   "cell_type": "markdown",
   "metadata": {},
   "source": [
    "Translate our subset back to its prime version"
   ]
  },
  {
   "cell_type": "code",
   "execution_count": 13,
   "metadata": {},
   "outputs": [],
   "source": [
    "def translate_subset(coordinates,subset):\n",
    "    translated_subset = {}\n",
    "    for key, value in subset.items():\n",
    "        if isinstance(value, list):\n",
    "            translated_subset[key] = value\n",
    "        elif isinstance(value, set):\n",
    "            all_categories = coordinates[key].unique()\n",
    "            value = [i for i in all_categories if i not in value]\n",
    "            translated_subset[key] = value\n",
    "        else:\n",
    "            assert False, \"Should be list or set\"\n",
    "    return translated_subset"
   ]
  },
  {
   "cell_type": "code",
   "execution_count": 14,
   "metadata": {},
   "outputs": [],
   "source": [
    "translated = translate_subset( adult[adult.columns[:-2]],subset_)"
   ]
  },
  {
   "cell_type": "code",
   "execution_count": 15,
   "metadata": {},
   "outputs": [
    {
     "data": {
      "text/plain": [
       "'Our detected sub-group has a size of 3771, which is 23.16196793808734% of our data. We observe 0.628 as the probability of earning >50k in this sub-group, but our population mean is 0.2362'"
      ]
     },
     "execution_count": 15,
     "metadata": {},
     "output_type": "execute_result"
    }
   ],
   "source": [
    "to_choose = adult[translated.keys()].isin(translated).all(axis=1)\n",
    "temp_df = adult.loc[to_choose]\n",
    "subset_size = len(temp_df)/len(adult) * 100\n",
    "\"Our detected sub-group has a size of {}, which is {}% of our data. We observe {} as the probability of earning >50k in this sub-group, but our population mean is {}\"\\\n",
    ".format(len(temp_df), subset_size,np.round(temp_df['observed'].mean(),4), np.round(temp_df['expectation'].mean(),4))"
   ]
  },
  {
   "cell_type": "code",
   "execution_count": 16,
   "metadata": {},
   "outputs": [
    {
     "data": {
      "text/plain": [
       "'Our detected sub-group has a size of 3577, which is 21.970394938885818% of our data. We observe 0.6324 as the probability of earning >50k in this sub-group, but our population mean is 0.2362'"
      ]
     },
     "execution_count": 16,
     "metadata": {},
     "output_type": "execute_result"
    }
   ],
   "source": [
    "to_choose = adult[subset.keys()].isin(subset).all(axis=1)\n",
    "temp_df = adult.loc[to_choose]\n",
    "subset_size = len(temp_df)/len(adult) * 100\n",
    "\"Our detected sub-group has a size of {}, which is {}% of our data. We observe {} as the probability of earning >50k in this sub-group, but our population mean is {}\"\\\n",
    ".format(len(temp_df), subset_size,np.round(temp_df['observed'].mean(),4), np.round(temp_df['expectation'].mean(),4))"
   ]
  },
  {
   "cell_type": "markdown",
   "metadata": {},
   "source": [
    "### 4. CPU"
   ]
  },
  {
   "cell_type": "markdown",
   "metadata": {},
   "source": [
    "**Same subset and score**. No difference in results, just runtime. Advantage is gained when we have multiple tests running at the same time"
   ]
  },
  {
   "cell_type": "code",
   "execution_count": 17,
   "metadata": {},
   "outputs": [
    {
     "name": "stdout",
     "output_type": "stream",
     "text": [
      "Single-core subset: \n",
      "{'occupation': [' Adm-clerical', ' Exec-managerial', ' Prof-specialty', ' Protective-serv', ' Sales', ' Tech-support'], 'marital_status': [' Married-civ-spouse'], 'age_bin': ['28-36', '37-47', '48-90'], 'education': [' Assoc-acdm', ' Assoc-voc', ' Bachelors', ' Doctorate', ' Masters', ' Prof-school', ' Some-college']}\n",
      "Score: 1179.6330771061198\n"
     ]
    }
   ],
   "source": [
    "subset,score = scanner.scan( adult[adult.columns[:-2]] , adult['observed'] , adult['expectation'] , penalty=10 , num_iters=1 , use_not_direction=False , num_of_subsets=1 , verbose=False , cpu=0)\n",
    "print(\"Single-core subset: \\n{}\".format(subset))\n",
    "print(\"Score: {}\".format(score))"
   ]
  },
  {
   "cell_type": "code",
   "execution_count": 18,
   "metadata": {},
   "outputs": [
    {
     "name": "stdout",
     "output_type": "stream",
     "text": [
      "Multi-core subset: \n",
      "{'occupation': [' Adm-clerical', ' Exec-managerial', ' Prof-specialty', ' Protective-serv', ' Sales', ' Tech-support'], 'marital_status': [' Married-civ-spouse'], 'age_bin': ['28-36', '37-47', '48-90'], 'education': [' Assoc-acdm', ' Assoc-voc', ' Bachelors', ' Doctorate', ' Masters', ' Prof-school', ' Some-college']}\n",
      "Score: 1179.6330771061198\n"
     ]
    }
   ],
   "source": [
    "subset,score = scanner.scan( adult[adult.columns[:-2]] , adult['observed'] , adult['expectation'] , penalty=10 , num_iters=1 , use_not_direction=False , num_of_subsets=1 , verbose=False , cpu=0.5)\n",
    "print(\"Multi-core subset: \\n{}\".format(subset))\n",
    "print(\"Score: {}\".format(score))"
   ]
  },
  {
   "cell_type": "markdown",
   "metadata": {},
   "source": [
    "### 5. Num-iters"
   ]
  },
  {
   "cell_type": "markdown",
   "metadata": {},
   "source": [
    "Run only one iteration i.e `num-iters=1`"
   ]
  },
  {
   "cell_type": "code",
   "execution_count": 19,
   "metadata": {},
   "outputs": [
    {
     "name": "stdout",
     "output_type": "stream",
     "text": [
      "Subset: \n",
      "{'relationship': [' Husband', ' Wife'], 'occupation': [' Adm-clerical', ' Armed-Forces', ' Craft-repair', ' Exec-managerial', ' Prof-specialty', ' Protective-serv', ' Sales', ' Tech-support', ' Transport-moving'], 'capital_loss_bin': ['0', '1887-1974', '1977-3770'], 'age_bin': ['28-36', '37-47', '48-90'], 'education': [' Assoc-acdm', ' Assoc-voc', ' Bachelors', ' Doctorate', ' Masters', ' Prof-school', ' Some-college']}\n",
      "Score: 1345.3017616977104\n",
      "No. of literals: 24\n"
     ]
    }
   ],
   "source": [
    "subset_,score_ = scanner.scan( adult[adult.columns[:-2]] , adult['observed'] , adult['expectation'] , penalty=1 , num_iters=1 , use_not_direction=False , num_of_subsets=1 , verbose=False , cpu=0)\n",
    "print(\"Subset: \\n{}\".format(subset_))\n",
    "print(\"Score: {}\".format(score_))\n",
    "print(\"No. of literals: {}\".format(sum([len(val) for key, val in subset_.items()])))"
   ]
  },
  {
   "cell_type": "markdown",
   "metadata": {},
   "source": [
    "When we run 10 iterations i.e `num-iters=10`, we get a more anomalous subset compared to the subset scanned in one iteration."
   ]
  },
  {
   "cell_type": "code",
   "execution_count": 20,
   "metadata": {},
   "outputs": [
    {
     "name": "stdout",
     "output_type": "stream",
     "text": [
      "Subset: \n",
      "{'occupation': [' Adm-clerical', ' Armed-Forces', ' Craft-repair', ' Exec-managerial', ' Prof-specialty', ' Protective-serv', ' Sales', ' Tech-support', ' Transport-moving'], 'capital_loss_bin': ['0', '1887-1974', '1977-3770'], 'education_num_bin': ['10-11', '12-16'], 'marital_status': [' Married-AF-spouse', ' Married-civ-spouse'], 'age_bin': ['28-36', '37-47', '48-90']}\n",
      "Score: 1355.3185519323251\n",
      "No. of literals: 19\n"
     ]
    }
   ],
   "source": [
    "subset_,score_ = scanner.scan( adult[adult.columns[:-2]] , adult['observed'] , adult['expectation'] , penalty=1 , num_iters=10 , use_not_direction=False , num_of_subsets=1 , verbose=False , cpu=0)\n",
    "print(\"Subset: \\n{}\".format(subset_))\n",
    "print(\"Score: {}\".format(score_))\n",
    "print(\"No. of literals: {}\".format(sum([len(val) for key, val in subset_.items()])))"
   ]
  },
  {
   "cell_type": "markdown",
   "metadata": {},
   "source": [
    "### Max Literals"
   ]
  },
  {
   "cell_type": "markdown",
   "metadata": {},
   "source": [
    "We can set MDSS to automatically return a subset that has a maximum number of `max_literals` literals. This can be done by passing in penalty = None and max_literals = k. Default k, if max_literals parameter is not passed in, is 5."
   ]
  },
  {
   "cell_type": "code",
   "execution_count": 21,
   "metadata": {},
   "outputs": [
    {
     "name": "stdout",
     "output_type": "stream",
     "text": [
      "Subset: \n",
      "{'education_num_bin': ['12-16'], 'marital_status': [' Married-civ-spouse']}\n",
      "Score: 781.3349029018855\n",
      "No. of literals: 2\n"
     ]
    }
   ],
   "source": [
    "subset_,score_ = scanner.scan( adult[adult.columns[:-2]] , adult['observed'] , adult['expectation'] , penalty=None,\n",
    "                    num_iters=10,  use_not_direction=False , num_of_subsets=1 , verbose=False , cpu=0)\n",
    "print(\"Subset: \\n{}\".format(subset_))\n",
    "print(\"Score: {}\".format(score_))\n",
    "print(\"No. of literals: {}\".format(sum([len(val) for key, val in subset_.items()])))"
   ]
  },
  {
   "cell_type": "code",
   "execution_count": 22,
   "metadata": {},
   "outputs": [
    {
     "name": "stdout",
     "output_type": "stream",
     "text": [
      "Subset: \n",
      "{'age_bin': ['28-36', '37-47', '48-90'], 'marital_status': [' Married-civ-spouse'], 'education_num_bin': ['10-11', '12-16']}\n",
      "Score: 1149.5470882071652\n",
      "No. of literals: 6\n"
     ]
    }
   ],
   "source": [
    "subset_,score_ = scanner.scan( adult[adult.columns[:-2]] , adult['observed'] , adult['expectation'] , penalty=None, max_literals = 10,\n",
    "                    num_iters=10,  use_not_direction=False , num_of_subsets=1 , verbose=False , cpu=0)\n",
    "print(\"Subset: \\n{}\".format(subset_))\n",
    "print(\"Score: {}\".format(score_))\n",
    "print(\"No. of literals: {}\".format(sum([len(val) for key, val in subset_.items()])))"
   ]
  },
  {
   "cell_type": "code",
   "execution_count": null,
   "metadata": {},
   "outputs": [],
   "source": []
  }
 ],
 "metadata": {
  "kernelspec": {
   "display_name": "Python 3.10.5 ('virtual': venv)",
   "language": "python",
   "name": "python3"
  },
  "language_info": {
   "codemirror_mode": {
    "name": "ipython",
    "version": 3
   },
   "file_extension": ".py",
   "mimetype": "text/x-python",
   "name": "python",
   "nbconvert_exporter": "python",
   "pygments_lexer": "ipython3",
   "version": "3.9.7"
  },
  "orig_nbformat": 4,
  "vscode": {
   "interpreter": {
    "hash": "2429e81074a35d28bbe814fa1e9f84a94dfe04d627b1076d90a8eda216d4319d"
   }
  }
 },
 "nbformat": 4,
 "nbformat_minor": 2
}
